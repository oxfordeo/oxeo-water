{
 "cells": [
  {
   "cell_type": "code",
   "execution_count": null,
   "id": "0b3a7f22",
   "metadata": {},
   "outputs": [],
   "source": [
    "%load_ext autoreload\n",
    "\n",
    "%autoreload 2\n",
    "\n",
    "import zarr\n",
    "from oxeo.water.models.pekel import utils\n",
    "from oxeo.water.models.pekel import masks\n",
    "from oxeo.water.models.pekel.pekel import PekelPredictor\n",
    "import attr\n",
    "import matplotlib.pyplot as plt\n",
    "import dask.array as da\n",
    "\n",
    "import gcsfs\n",
    "fs = gcsfs.GCSFileSystem(project='oxeo-main')\n"
   ]
  },
  {
   "cell_type": "code",
   "execution_count": null,
   "id": "2e606058",
   "metadata": {},
   "outputs": [],
   "source": [
    "patches_paths = fs.ls('oxeo-water/eo/hoover')\n",
    "patches_paths"
   ]
  },
  {
   "cell_type": "code",
   "execution_count": null,
   "id": "de15d0c5",
   "metadata": {},
   "outputs": [],
   "source": [
    "predictor = PekelPredictor()"
   ]
  },
  {
   "cell_type": "code",
   "execution_count": null,
   "id": "4a715dd8",
   "metadata": {},
   "outputs": [],
   "source": [
    "for p_path in patches_paths:\n",
    "    arr = zarr.open(f\"gs://{p_path}/sentinel-2/data\", 'r')\n",
    "    masks = predictor.predict(arr,bands_indexes={\n",
    "                \"red\": 3,\n",
    "                \"green\": 2,\n",
    "                \"blue\": 1,\n",
    "                \"nir\": 7,\n",
    "                \"swir1\": 11,\n",
    "                \"swir2\": 12,\n",
    "            }, compute=False)\n",
    "    masks = np.array(masks)\n",
    "    mask_arr = zarr.open_array(\n",
    "                f\"gs://{p_path}/sentinel-2/weak_labels\",\n",
    "                \"w\",\n",
    "                shape=masks.shape,\n",
    "                chunks=(1, 1000, 1000),\n",
    "                dtype=np.uint8,\n",
    "            )\n",
    "    mask_arr[:] = masks"
   ]
  },
  {
   "cell_type": "code",
   "execution_count": null,
   "id": "0241704b",
   "metadata": {},
   "outputs": [],
   "source": [
    "\n",
    "for mask in m_arr[:10]:\n",
    "    plt.imshow(mask==1)\n",
    "    plt.show()"
   ]
  }
 ],
 "metadata": {
  "kernelspec": {
   "display_name": "Python 3",
   "language": "python",
   "name": "python3"
  },
  "language_info": {
   "codemirror_mode": {
    "name": "ipython",
    "version": 3
   },
   "file_extension": ".py",
   "mimetype": "text/x-python",
   "name": "python",
   "nbconvert_exporter": "python",
   "pygments_lexer": "ipython3",
   "version": "3.9.7"
  }
 },
 "nbformat": 4,
 "nbformat_minor": 5
}
