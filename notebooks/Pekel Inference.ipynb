{
 "cells": [
  {
   "cell_type": "code",
   "execution_count": null,
   "id": "0b3a7f22",
   "metadata": {},
   "outputs": [],
   "source": [
    "%load_ext autoreload\n",
    "\n",
    "%autoreload 2\n",
    "\n",
    "import zarr\n",
    "from oxeo.water.models.pekel.pekel import PekelPredictor\n",
    "from oxeo.core.models.tile import tile_from_id, TilePath\n",
    "import matplotlib.pyplot as plt\n",
    "\n",
    "import gcsfs\n",
    "from oxeo.core.logging import logger\n",
    "import zarr\n",
    "fs = gcsfs.GCSFileSystem(project='oxeo-main')\n"
   ]
  },
  {
   "cell_type": "code",
   "execution_count": null,
   "id": "2e606058",
   "metadata": {},
   "outputs": [],
   "source": [
    "tile = tile_from_id(\"19_J_10000_73_697\")\n",
    "constellation = \"landsat-8\"\n",
    "tile_path = TilePath(tile, constellation)"
   ]
  },
  {
   "cell_type": "code",
   "execution_count": null,
   "id": "de15d0c5",
   "metadata": {},
   "outputs": [],
   "source": [
    "predictor = PekelPredictor(fs, extra_not_used_arg=\"testing_extra_arg\")"
   ]
  },
  {
   "cell_type": "code",
   "execution_count": null,
   "id": "ee9c004e",
   "metadata": {},
   "outputs": [],
   "source": [
    "import numpy as np\n",
    "shape = zarr.open(fs.get_mapper(tile_path.data_path), \"r\").shape\n",
    "print(shape[0])\n",
    "masks = []\n",
    "cnn_revisit_chunk_size = 10\n",
    "for i in range(0, shape[0], cnn_revisit_chunk_size):\n",
    "    logger.info(\n",
    "        f\"creating mask for {tile_path.path}, revisits {i} to {i + cnn_revisit_chunk_size}\"\n",
    "    )\n",
    "    revisit_masks = predictor.predict(\n",
    "        tile_path,\n",
    "        revisit=slice(i, i + cnn_revisit_chunk_size),\n",
    "    )\n",
    "    masks.append(revisit_masks)\n",
    "masks = np.vstack(masks)"
   ]
  }
 ],
 "metadata": {
  "kernelspec": {
   "display_name": "Python 3",
   "language": "python",
   "name": "python3"
  },
  "language_info": {
   "codemirror_mode": {
    "name": "ipython",
    "version": 3
   },
   "file_extension": ".py",
   "mimetype": "text/x-python",
   "name": "python",
   "nbconvert_exporter": "python",
   "pygments_lexer": "ipython3",
   "version": "3.9.7"
  }
 },
 "nbformat": 4,
 "nbformat_minor": 5
}
