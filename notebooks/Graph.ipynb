{
 "cells": [
  {
   "cell_type": "code",
   "execution_count": null,
   "id": "28e8298f",
   "metadata": {},
   "outputs": [],
   "source": [
    "import networkx as nx\n",
    "import numpy as np\n",
    "\n",
    "import pystac_client\n",
    "from oxeo.water.models.segmentation import Segmentation2DPredictor\n",
    "from oxeo.core.models.tile import load_tile_from_stac_as_dict, load_aoi_from_stac_as_dict, tile_from_id, TilePath, tile_to_geom\n",
    "from oxeo.core.models import data\n",
    "URL = \"https://earth-search.aws.element84.com/v0\"\n",
    "catalog = pystac_client.Client.open(URL)\n",
    "import matplotlib.pyplot as plt"
   ]
  },
  {
   "cell_type": "code",
   "execution_count": null,
   "id": "3faea2bb",
   "metadata": {},
   "outputs": [],
   "source": [
    "predictor = Segmentation2DPredictor(ckpt_path=\"../data/semseg_epoch_012.ckpt\", fs=None,\n",
    "                                    bands=[\"B08\", \"B04\", \"B03\", \"B02\", \"B11\", \"B12\"])"
   ]
  },
  {
   "cell_type": "code",
   "execution_count": null,
   "id": "19fd8a9a",
   "metadata": {},
   "outputs": [],
   "source": [
    "tile_id = \"35_K_10000_56_758\"\n",
    "tile = tile_from_id(tile_id)\n",
    "tile_path = TilePath(tile, \"sentinel-2\", URL)"
   ]
  },
  {
   "cell_type": "code",
   "execution_count": null,
   "id": "ee6b4ba2",
   "metadata": {},
   "outputs": [],
   "source": [
    "\n",
    "search_params = {\n",
    "                 \"bbox\":tile_path.tile.bbox_wgs84, #min_x, min_y, max_x, max_y\n",
    "                 \"collections\":[\"sentinel-s2-l2a-cogs\"],\n",
    "                 #\"datetime\":\"2020-04-01/2020-05-01\"\n",
    "                 }\n",
    "\n",
    "sample = load_aoi_from_stac_as_dict(URL, search_params,\n",
    "                          bands=[\"B08\", \"B04\", \"B03\", \"B02\", \"B11\", \"B12\"],\n",
    "                           revisit=slice(0,2), \n",
    "                           chunk_aligned=True,median=True)"
   ]
  },
  {
   "cell_type": "code",
   "execution_count": null,
   "id": "7be6c295",
   "metadata": {},
   "outputs": [],
   "source": [
    "plt.imshow(sample[\"image\"][[1,2,3]].transpose(1,2,0)/10000)"
   ]
  },
  {
   "cell_type": "code",
   "execution_count": null,
   "id": "6801d0f4",
   "metadata": {},
   "outputs": [],
   "source": [
    "# we can predict a stac aoi\n",
    "pred = predictor.predict_stac_aoi(catalog_url=URL, \n",
    "                                  collections=[\"sentinel-s2-l2a-cogs\"], \n",
    "                                  constellation=\"sentinel-2\", \n",
    "                                  bbox=tile_path.tile.bbox_wgs84,\n",
    "                                  revisit=slice(0,2),\n",
    "                                  chunk_aligned=True)"
   ]
  },
  {
   "cell_type": "code",
   "execution_count": null,
   "id": "9a60e4bc",
   "metadata": {},
   "outputs": [],
   "source": [
    "plt.imshow(pred[0])"
   ]
  },
  {
   "cell_type": "code",
   "execution_count": null,
   "id": "3cc81f38",
   "metadata": {},
   "outputs": [],
   "source": [
    "# We can also predict a tile directly using stac\n",
    "pred = predictor.predict(tile_path, slice(0,2),\n",
    "                  use_stac=True, \n",
    "                  stac_kwargs= {\"catalog_url\": URL,\n",
    "                                \"collections\":[\"sentinel-s2-l2a-cogs\"]})"
   ]
  },
  {
   "cell_type": "code",
   "execution_count": null,
   "id": "6448e8ec",
   "metadata": {},
   "outputs": [],
   "source": [
    "# Let's get an AOI to work with\n",
    "\n",
    "search_params = {\n",
    "                 \"bbox\":tile_path.tile.bbox_wgs84, #min_x, min_y, max_x, max_y\n",
    "                 \"collections\":[\"sentinel-s2-l2a-cogs\"],\n",
    "                 \"datetime\":\"2020-04-01/2020-05-01\"\n",
    "                 }\n",
    "aoi = data.get_aoi_from_stac_catalog(catalog_url=URL, \n",
    "                                     search_params=search_params,\n",
    "                                     chunk_aligned=True)\n",
    "coords = aoi.isel(time=0).sel(band=[\"B04\", \"B03\", \"B02\"]).coords\n"
   ]
  },
  {
   "cell_type": "code",
   "execution_count": null,
   "id": "f2daefbc",
   "metadata": {},
   "outputs": [],
   "source": [
    "from oxeo.core.models import graph "
   ]
  },
  {
   "cell_type": "code",
   "execution_count": null,
   "id": "ffdb2235",
   "metadata": {},
   "outputs": [],
   "source": [
    "G = nx.Graph()\n",
    "# Create graph with empty schema\n",
    "G.add_nodes_from([\n",
    "    (\"tile_1\", graph.NODE_SCHEMA),\n",
    "    (\"tile_2\", graph.NODE_SCHEMA),\n",
    "    (\"wb_1\", {\"name\": \"Victoria\"})\n",
    "])\n",
    "G.add_edge(\"tile_1\", \"wb_1\", rel=\"isin\")\n",
    "G.add_edge(\"tile_2\", \"wb_1\", rel=\"isin\")"
   ]
  },
  {
   "cell_type": "code",
   "execution_count": null,
   "id": "4e20bddf",
   "metadata": {},
   "outputs": [],
   "source": [
    "# Append stackstac xa attrs to graph nodes\n",
    "coords_dict = graph.stackstac_xa_coords_to_dict(coords)\n",
    "graph.append_attrs(G, 'tile_1', attrs=coords_dict, appendable_attrs=[\"time\", \"res_level\"])\n",
    "graph.append_attrs(G, 'tile_2', attrs=coords_dict, appendable_attrs=[\"time\", \"res_level\"])\n",
    "\n",
    "# append res_level attrs to wb_1\n",
    "graph.append_attrs(G, 'tile_1', attrs={\"res_level\":2}, appendable_attrs=[\"time\", \"res_level\"])\n",
    "graph.append_attrs(G, 'tile_1', attrs={\"res_level\":10}, appendable_attrs=[\"time\", \"res_level\"])\n",
    "\n",
    "# append res_level attrs to wb_2\n",
    "graph.append_attrs(G, 'tile_2', attrs={\"res_level\":2}, appendable_attrs=[\"time\", \"res_level\"])\n",
    "graph.append_attrs(G, 'tile_2', attrs={\"res_level\":3}, appendable_attrs=[\"time\", \"res_level\"])"
   ]
  },
  {
   "cell_type": "code",
   "execution_count": null,
   "id": "c0a9ec22",
   "metadata": {},
   "outputs": [],
   "source": [
    "# Get the avg \n",
    "asset_avg_res_levels = []\n",
    "for wb in list(G.neighbors(\"wb_1\")):\n",
    "    asset_avg_res_levels.append(np.mean(G.nodes[wb][\"res_level\"]))\n",
    "    \n",
    "asset_avg_res_levels"
   ]
  }
 ],
 "metadata": {
  "kernelspec": {
   "display_name": "Python 3 (ipykernel)",
   "language": "python",
   "name": "python3"
  },
  "language_info": {
   "codemirror_mode": {
    "name": "ipython",
    "version": 3
   },
   "file_extension": ".py",
   "mimetype": "text/x-python",
   "name": "python",
   "nbconvert_exporter": "python",
   "pygments_lexer": "ipython3",
   "version": "3.9.12"
  }
 },
 "nbformat": 4,
 "nbformat_minor": 5
}
