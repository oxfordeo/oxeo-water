{
 "cells": [
  {
   "cell_type": "code",
   "execution_count": null,
   "id": "28e8298f",
   "metadata": {},
   "outputs": [],
   "source": [
    "import networkx as nx\n",
    "import numpy as np\n",
    "\n",
    "import pystac_client\n",
    "from oxeo.core.models.tile import load_tile_from_stac_as_dict, tile_from_id\n",
    "from oxeo.core.models import data\n",
    "URL = \"https://earth-search.aws.element84.com/v0\"\n",
    "catalog = pystac_client.Client.open(URL)"
   ]
  },
  {
   "cell_type": "code",
   "execution_count": null,
   "id": "6448e8ec",
   "metadata": {},
   "outputs": [],
   "source": [
    "# Let's get an AOI to work with\n",
    "\n",
    "search_params = {\n",
    "                 \"bbox\":[-66.9235610961914, \n",
    "                         -39.76210275375138, \n",
    "                         -66.75533294677734, \n",
    "                         -39.64865819884837], #min_x, min_y, max_x, max_y\n",
    "                 \"collections\":[\"sentinel-s2-l2a-cogs\"],\n",
    "                 \"datetime\":\"2020-04-01/2020-05-01\"\n",
    "                 }\n",
    "aoi = data.get_aoi_from_stac_catalog(catalog_url=URL, \n",
    "                                     search_params=search_params,\n",
    "                                     chunk_aligned=True)\n",
    "coords = aoi.isel(time=0).sel(band=[\"B04\", \"B03\", \"B02\"]).coords\n"
   ]
  },
  {
   "cell_type": "code",
   "execution_count": null,
   "id": "f2daefbc",
   "metadata": {},
   "outputs": [],
   "source": [
    "from oxeo.core.models import graph "
   ]
  },
  {
   "cell_type": "code",
   "execution_count": null,
   "id": "ffdb2235",
   "metadata": {},
   "outputs": [],
   "source": [
    "G = nx.Graph()\n",
    "# Create graph with empty schema\n",
    "G.add_nodes_from([\n",
    "    (\"wb_1\", graph.NODE_SCHEMA),\n",
    "    (\"wb_2\", graph.NODE_SCHEMA),\n",
    "    (\"asset_1\", {\"name\": \"ARegion\"})\n",
    "])\n",
    "G.add_edge(\"wb_1\", \"asset_1\", rel=\"isin\")\n",
    "G.add_edge(\"wb_2\", \"asset_1\", rel=\"isin\")"
   ]
  },
  {
   "cell_type": "code",
   "execution_count": null,
   "id": "4e20bddf",
   "metadata": {},
   "outputs": [],
   "source": [
    "# Append stackstac xa attrs to graph nodes\n",
    "coords_dict = graph.stackstac_xa_coords_to_dict(coords)\n",
    "graph.append_attrs(G, 'wb_1', attrs=coords_dict, appendable_attrs=[\"time\", \"res_level\"])\n",
    "graph.append_attrs(G, 'wb_2', attrs=coords_dict, appendable_attrs=[\"time\", \"res_level\"])\n",
    "\n",
    "# append res_level attrs to wb_1\n",
    "graph.append_attrs(G, 'wb_1', attrs={\"res_level\":2}, appendable_attrs=[\"time\", \"res_level\"])\n",
    "graph.append_attrs(G, 'wb_1', attrs={\"res_level\":10}, appendable_attrs=[\"time\", \"res_level\"])\n",
    "\n",
    "# append res_level attrs to wb_2\n",
    "graph.append_attrs(G, 'wb_2', attrs={\"res_level\":2}, appendable_attrs=[\"time\", \"res_level\"])\n",
    "graph.append_attrs(G, 'wb_2', attrs={\"res_level\":3}, appendable_attrs=[\"time\", \"res_level\"])"
   ]
  },
  {
   "cell_type": "code",
   "execution_count": null,
   "id": "c0a9ec22",
   "metadata": {},
   "outputs": [],
   "source": [
    "# Get the avg \n",
    "asset_avg_res_levels = []\n",
    "for wb in list(G.neighbors(\"asset_1\")):\n",
    "    asset_avg_res_levels.append(np.mean(G.nodes[wb][\"res_level\"]))\n",
    "    \n",
    "asset_avg_res_levels"
   ]
  }
 ],
 "metadata": {
  "kernelspec": {
   "display_name": "Python 3 (ipykernel)",
   "language": "python",
   "name": "python3"
  },
  "language_info": {
   "codemirror_mode": {
    "name": "ipython",
    "version": 3
   },
   "file_extension": ".py",
   "mimetype": "text/x-python",
   "name": "python",
   "nbconvert_exporter": "python",
   "pygments_lexer": "ipython3",
   "version": "3.9.12"
  }
 },
 "nbformat": 4,
 "nbformat_minor": 5
}
