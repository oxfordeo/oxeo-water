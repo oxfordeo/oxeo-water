{
 "cells": [
  {
   "cell_type": "code",
   "execution_count": null,
   "id": "082eb894",
   "metadata": {},
   "outputs": [],
   "source": [
    "\n",
    "import numpy as np\n",
    "\n",
    "%load_ext autoreload\n",
    "\n",
    "%autoreload 2\n",
    "import matplotlib.pyplot as plt\n",
    "import numpy as np\n",
    "from skimage.exposure import rescale_intensity\n",
    "import dask\n",
    "from sentinelhub import CRS, BBox, DataCollection, SHConfig\n",
    "from sentinelhub import SentinelHubCatalog\n",
    "from sentinelhub import SHConfig\n",
    "from oxeo.core.stac import landsat\n",
    "from oxeo.core.stac.constants import USWEST_URL ,ELEMENT84_URL\n",
    "uswest_config = SHConfig()\n",
    "uswest_config.sh_base_url = USWEST_URL\n",
    "\n",
    "uswest_catalog = SentinelHubCatalog(config=uswest_config)\n",
    "eu_catalog = SentinelHubCatalog(SHConfig())\n",
    "from oxeo.core.data import get_aoi_from_landsat_shub_catalog, get_aoi_from_stac_catalog\n",
    "import os\n",
    "os.environ[\"AWS_REQUEST_PAYER\"] = \"requester\"\n",
    "\n",
    "from oxeo.core.utils import get_bounding_box\n",
    "\n",
    "from oxeo.water.models.segmentation import Segmentation2DPredictor, DaskSegmentationPredictor, reconstruct_image_from_patches\n",
    "from oxeo.core.models.tile import load_tile_from_stac_as_dict, load_aoi_from_stac_as_dict, tile_from_id, TilePath, tile_to_geom\n",
    "from oxeo.core import data\n",
    "import matplotlib.pyplot as plt\n",
    "\n",
    "box = get_bounding_box({\"geometry\": {\n",
    "        \"type\": \"Polygon\",\n",
    "        \"coordinates\": [\n",
    "          [\n",
    "            [\n",
    "              14.911966323852539,\n",
    "              37.30573714593416\n",
    "            ],\n",
    "            [\n",
    "              14.987583160400392,\n",
    "              37.30573714593416\n",
    "            ],\n",
    "            [\n",
    "              14.987583160400392,\n",
    "              37.345050859282736\n",
    "            ],\n",
    "            [\n",
    "              14.911966323852539,\n",
    "              37.345050859282736\n",
    "            ],\n",
    "            [\n",
    "              14.911966323852539,\n",
    "              37.30573714593416\n",
    "            ]\n",
    "          ]\n",
    "        ]\n",
    "      }})\n",
    "      \n",
    "bbox = BBox(box, crs=CRS.WGS84)#BBox([49.9604, 44.7176, 51.0481, 45.2324], crs=CRS.WGS84) #BBox((-71.40254974365233, -46.9537775782648, -71.26213073730467, -46.89163931213445), crs=CRS.WGS84)#\n",
    "time_interval = \"2020-12-10\", \"2021-02-01\" #\"1994-12-10\", \"1995-02-01\"\n",
    "search_params = {\n",
    "}\n"
   ]
  },
  {
   "cell_type": "code",
   "execution_count": null,
   "id": "cee25be4",
   "metadata": {},
   "outputs": [],
   "source": [
    "import toolz"
   ]
  },
  {
   "cell_type": "code",
   "execution_count": null,
   "id": "e69101dc",
   "metadata": {},
   "outputs": [],
   "source": [
    "from distributed import Client\n",
    "\n",
    "client = Client(n_workers=4, threads_per_worker=1, memory_limit='16GB')\n",
    "client"
   ]
  },
  {
   "cell_type": "code",
   "execution_count": null,
   "id": "5025d7de",
   "metadata": {},
   "outputs": [],
   "source": [
    "s2_aoi = get_aoi_from_stac_catalog(catalog=ELEMENT84_URL,\n",
    "                                   data_collection=\"sentinel-s2-l2a-cogs\",\n",
    "                                   bbox=bbox,\n",
    "                                   time_interval=time_interval,\n",
    "                                   search_params={})\n"
   ]
  },
  {
   "cell_type": "code",
   "execution_count": null,
   "id": "c9946276",
   "metadata": {},
   "outputs": [],
   "source": [
    "s2_aoi"
   ]
  },
  {
   "cell_type": "code",
   "execution_count": null,
   "id": "566ddacb",
   "metadata": {},
   "outputs": [],
   "source": [
    "def pad_xarray_to(arr, pad_to):\n",
    "    pad_top = abs(arr.shape[-2] % -pad_to)\n",
    "    pad_right = abs(arr.shape[-1] % -pad_to)\n",
    "    \n",
    "    return arr.pad(x=(0, pad_right), y=(0, pad_top))\n",
    "    \n",
    "def create_patches_from_xarray(arr, patch_size):\n",
    "        \"\"\"\n",
    "        Creates patches from a matrix.\n",
    "        :param m: matrix\n",
    "        :param patch_size: patch size\n",
    "        :return: list of patches\n",
    "        \"\"\"\n",
    "        patches = []\n",
    "        for t in range(0, arr.shape[0]):\n",
    "            for i in range(0, arr.shape[-2], patch_size):\n",
    "                for j in range(0, arr.shape[-1], patch_size):\n",
    "                    patches.append(arr[t, :, i : i + patch_size, j : j + patch_size])\n",
    "        return patches"
   ]
  },
  {
   "cell_type": "code",
   "execution_count": null,
   "id": "63c4ba4c",
   "metadata": {},
   "outputs": [],
   "source": [
    "from oxeo.core.constants import BAND_PREDICTOR_ORDER\n",
    "s2_predictor = DaskSegmentationPredictor(ckpt_path=\"../data/semseg_epoch_012.ckpt\", fs=None,\n",
    "                                    bands=BAND_PREDICTOR_ORDER[\"sentinel-2\"])"
   ]
  },
  {
   "cell_type": "code",
   "execution_count": null,
   "id": "88ddf724",
   "metadata": {},
   "outputs": [],
   "source": [
    "preds, aoi = s2_predictor.predict_stac_aoi(constellation=\"sentinel-2\", catalog=ELEMENT84_URL,\n",
    "                                   data_collection=\"sentinel-s2-l2a-cogs\",\n",
    "                                   bbox=bbox,\n",
    "                                   time_interval=time_interval,\n",
    "                                   search_params={})"
   ]
  },
  {
   "cell_type": "code",
   "execution_count": null,
   "id": "466593da",
   "metadata": {},
   "outputs": [],
   "source": [
    "aoi"
   ]
  },
  {
   "cell_type": "code",
   "execution_count": null,
   "id": "7d8072fd",
   "metadata": {},
   "outputs": [],
   "source": [
    "res = client.compute(preds)"
   ]
  },
  {
   "cell_type": "code",
   "execution_count": null,
   "id": "f97f41d0",
   "metadata": {},
   "outputs": [],
   "source": [
    "stack = np.vstack([e.result() for e in res])\n",
    "mask = reconstruct_image_from_patches(stack, aoi.shape[0], aoi.shape[-2], aoi.shape[-1], patch_size=250 )"
   ]
  },
  {
   "cell_type": "code",
   "execution_count": null,
   "id": "fe9d17e7",
   "metadata": {},
   "outputs": [],
   "source": [
    "img = aoi[1,[3,2,1],:,:].values.transpose(1,2,0)\n",
    "plt.imshow(rescale_intensity(img,(np.nanmin(img), np.nanmax(img))))"
   ]
  },
  {
   "cell_type": "code",
   "execution_count": null,
   "id": "2ea1428b",
   "metadata": {},
   "outputs": [],
   "source": [
    "plt.imshow(mask[1,:,:])"
   ]
  }
 ],
 "metadata": {
  "kernelspec": {
   "display_name": "Python 3 (ipykernel)",
   "language": "python",
   "name": "python3"
  },
  "language_info": {
   "codemirror_mode": {
    "name": "ipython",
    "version": 3
   },
   "file_extension": ".py",
   "mimetype": "text/x-python",
   "name": "python",
   "nbconvert_exporter": "python",
   "pygments_lexer": "ipython3",
   "version": "3.9.13"
  }
 },
 "nbformat": 4,
 "nbformat_minor": 5
}
