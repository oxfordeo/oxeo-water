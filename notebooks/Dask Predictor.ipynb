{
 "cells": [
  {
   "cell_type": "code",
   "execution_count": null,
   "id": "59e4e5c6-6027-49ab-a621-c48091742596",
   "metadata": {},
   "outputs": [],
   "source": [
    "%load_ext autoreload\n",
    "%autoreload 2"
   ]
  },
  {
   "cell_type": "code",
   "execution_count": null,
   "id": "042afb6f-62c9-4f0a-ae09-6d45f6d21d10",
   "metadata": {},
   "outputs": [],
   "source": [
    "import os\n",
    "\n",
    "import numpy as np\n",
    "from skimage.exposure import rescale_intensity\n",
    "import matplotlib.pyplot as plt\n",
    "\n",
    "from sentinelhub import CRS, BBox, DataCollection, SHConfig\n",
    "from sentinelhub import SentinelHubCatalog\n",
    "from sentinelhub import SHConfig\n",
    "\n",
    "import dask\n",
    "from dask_kubernetes import make_pod_spec, KubeCluster\n",
    "from distributed import Client"
   ]
  },
  {
   "cell_type": "code",
   "execution_count": null,
   "id": "9b63cd30-80d9-42c5-af22-515a31d20910",
   "metadata": {},
   "outputs": [],
   "source": [
    "from oxeo.core.utils import get_bounding_box\n",
    "from oxeo.core.stac import landsat\n",
    "from oxeo.core.stac.constants import USWEST_URL, ELEMENT84_URL\n",
    "from oxeo.core.data import get_aoi_from_landsat_shub_catalog, get_aoi_from_stac_catalog\n",
    "from oxeo.water.models.segmentation import (\n",
    "    Segmentation2DPredictor,\n",
    "    DaskSegmentationPredictor,\n",
    "    reconstruct_image_from_patches,\n",
    ")\n",
    "from oxeo.core.models.tile import (\n",
    "    load_tile_from_stac_as_dict,\n",
    "    load_aoi_from_stac_as_dict,\n",
    "    tile_from_id,\n",
    "    TilePath,\n",
    "    tile_to_geom,\n",
    ")\n",
    "from oxeo.core import data\n",
    "from oxeo.core.constants import BAND_PREDICTOR_ORDER"
   ]
  },
  {
   "cell_type": "code",
   "execution_count": null,
   "id": "ed6d8066-b27c-4f06-abd8-e20493d34317",
   "metadata": {},
   "outputs": [],
   "source": [
    "os.environ[\"AWS_REQUEST_PAYER\"] = \"requester\"\n",
    "uswest_config = SHConfig()\n",
    "uswest_config.sh_base_url = USWEST_URL\n",
    "\n",
    "uswest_catalog = SentinelHubCatalog(config=uswest_config)\n",
    "eu_catalog = SentinelHubCatalog(SHConfig())"
   ]
  },
  {
   "cell_type": "markdown",
   "id": "5cf4ebd4-296c-46e6-8eb2-b53451d18b15",
   "metadata": {},
   "source": [
    "# Dask setup"
   ]
  },
  {
   "cell_type": "code",
   "execution_count": null,
   "id": "d65d2d3b-d837-4289-bc56-de78f1594640",
   "metadata": {},
   "outputs": [],
   "source": [
    "def kube_cluster(workers=3, memory=\"32G\", cpu=4):\n",
    "    image = \"413730540186.dkr.ecr.eu-central-1.amazonaws.com/flows:latest\"\n",
    "    pod_spec = make_pod_spec(\n",
    "        image=image,\n",
    "        cpu_request=cpu,\n",
    "        cpu_limit=cpu,\n",
    "        memory_request=memory,\n",
    "        memory_limit=memory,\n",
    "    )\n",
    "    root_spec = make_pod_spec(image=image)\n",
    "    return KubeCluster(\n",
    "        n_workers=workers,\n",
    "        pod_template=pod_spec,\n",
    "        scheduler_pod_template=root_spec,\n",
    "    )"
   ]
  },
  {
   "cell_type": "code",
   "execution_count": null,
   "id": "07bb4eb7-75a1-4f98-a237-38951755b30e",
   "metadata": {},
   "outputs": [],
   "source": [
    "cluster = kube_cluster()"
   ]
  },
  {
   "cell_type": "code",
   "execution_count": null,
   "id": "b16cfa62-6f4e-4900-bc34-09cdd3fb0291",
   "metadata": {},
   "outputs": [],
   "source": [
    "cluster"
   ]
  },
  {
   "cell_type": "code",
   "execution_count": null,
   "id": "e69101dc",
   "metadata": {},
   "outputs": [],
   "source": [
    "# client = Client(n_workers=4, threads_per_worker=1, memory_limit=\"16GB\")\n",
    "client = Client(cluster)\n",
    "client"
   ]
  },
  {
   "cell_type": "markdown",
   "id": "38e6adc4-147c-4766-8d09-5e6ed75268dc",
   "metadata": {},
   "source": [
    "# Create and run predictor"
   ]
  },
  {
   "cell_type": "code",
   "execution_count": null,
   "id": "d1dc1b3c-f260-42ed-9b1a-10d665ff8cdf",
   "metadata": {},
   "outputs": [],
   "source": [
    "box = (14.9119, 37.3057, 14.9875, 37.3450)\n",
    "bbox = BBox(box, crs=CRS.WGS84)\n",
    "time_interval = \"2020-12-10\", \"2021-02-01\""
   ]
  },
  {
   "cell_type": "code",
   "execution_count": null,
   "id": "63c4ba4c",
   "metadata": {},
   "outputs": [],
   "source": [
    "s2_predictor = DaskSegmentationPredictor(\n",
    "    ckpt_path=\"../data/semseg_epoch_012.ckpt\",\n",
    "    fs=None,\n",
    "    bands=BAND_PREDICTOR_ORDER[\"sentinel-2\"],\n",
    ")"
   ]
  },
  {
   "cell_type": "code",
   "execution_count": null,
   "id": "88ddf724",
   "metadata": {},
   "outputs": [],
   "source": [
    "preds, aoi = s2_predictor.predict_stac_aoi(\n",
    "    constellation=\"sentinel-2\",\n",
    "    catalog=ELEMENT84_URL,\n",
    "    data_collection=\"sentinel-s2-l2a-cogs\",\n",
    "    bbox=bbox,\n",
    "    time_interval=time_interval,\n",
    "    search_params={},\n",
    ")"
   ]
  },
  {
   "cell_type": "code",
   "execution_count": null,
   "id": "466593da",
   "metadata": {},
   "outputs": [],
   "source": [
    "aoi"
   ]
  },
  {
   "cell_type": "code",
   "execution_count": null,
   "id": "7d8072fd",
   "metadata": {},
   "outputs": [],
   "source": [
    "res = client.compute(preds)"
   ]
  },
  {
   "cell_type": "code",
   "execution_count": null,
   "id": "144c13a3-3721-4102-85ac-c831c9486456",
   "metadata": {},
   "outputs": [],
   "source": [
    "res"
   ]
  },
  {
   "cell_type": "code",
   "execution_count": null,
   "id": "f97f41d0",
   "metadata": {},
   "outputs": [],
   "source": [
    "stack = np.vstack([e.result() for e in res])\n",
    "mask = reconstruct_image_from_patches(\n",
    "    stack, aoi.shape[0], aoi.shape[-2], aoi.shape[-1], patch_size=250\n",
    ")"
   ]
  },
  {
   "cell_type": "code",
   "execution_count": null,
   "id": "fe9d17e7",
   "metadata": {},
   "outputs": [],
   "source": [
    "img = aoi[1, [3, 2, 1], :, :].values.transpose(1, 2, 0)\n",
    "plt.imshow(rescale_intensity(img, (np.nanmin(img), np.nanmax(img))))"
   ]
  },
  {
   "cell_type": "code",
   "execution_count": null,
   "id": "2ea1428b",
   "metadata": {},
   "outputs": [],
   "source": [
    "plt.imshow(mask[1, :, :])"
   ]
  },
  {
   "cell_type": "markdown",
   "id": "ad2ccc9a-bcd0-4c79-af72-0b356ce8db18",
   "metadata": {},
   "source": [
    "# Don't forget to CLOSE the cluster!"
   ]
  },
  {
   "cell_type": "code",
   "execution_count": null,
   "id": "5746a4fa-0fae-4ab9-88e3-6b2324f3d375",
   "metadata": {},
   "outputs": [],
   "source": [
    "cluster.close()"
   ]
  },
  {
   "cell_type": "code",
   "execution_count": null,
   "id": "f911ce54-a85c-4f0b-8c7b-008150788c2f",
   "metadata": {},
   "outputs": [],
   "source": []
  }
 ],
 "metadata": {
  "kernelspec": {
   "display_name": "ox39",
   "language": "python",
   "name": "ox39"
  },
  "language_info": {
   "codemirror_mode": {
    "name": "ipython",
    "version": 3
   },
   "file_extension": ".py",
   "mimetype": "text/x-python",
   "name": "python",
   "nbconvert_exporter": "python",
   "pygments_lexer": "ipython3",
   "version": "3.9.13"
  }
 },
 "nbformat": 4,
 "nbformat_minor": 5
}
