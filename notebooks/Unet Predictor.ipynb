{
 "cells": [
  {
   "cell_type": "code",
   "execution_count": null,
   "id": "d557a390",
   "metadata": {},
   "outputs": [],
   "source": [
    "%load_ext autoreload\n",
    "\n",
    "%autoreload 2\n",
    "import gcsfs\n",
    "import numpy as np\n",
    "from skimage.morphology import (\n",
    "    closing,\n",
    "    label,\n",
    "    remove_small_holes,\n",
    "    remove_small_objects,\n",
    "    square,\n",
    ")\n",
    "fs = gcsfs.GCSFileSystem()\n"
   ]
  },
  {
   "cell_type": "code",
   "execution_count": null,
   "id": "24f320f9",
   "metadata": {},
   "outputs": [],
   "source": [
    "from oxeo.core.models.tile import load_tile, TilePath, tile_from_id\n",
    "from oxeo.water.models.segmentation import Segmentation2DPredictor\n",
    "\n",
    "tile_path = TilePath(tile_from_id(\"19_J_10000_73_697\"), \"sentinel-2\")\n",
    "revisit_slice = slice(0,5)\n",
    "res = 10\n",
    "\n",
    "seg_predictor = Segmentation2DPredictor(\n",
    "    batch_size=16,\n",
    "    ckpt_path=\"gs://oxeo-models/semseg/epoch_012.ckpt\",\n",
    "    input_channels=6,\n",
    "    num_classes=3,\n",
    "    chip_size=250,\n",
    "    fs=fs,\n",
    ")\n"
   ]
  },
  {
   "cell_type": "code",
   "execution_count": null,
   "id": "ffce71b4",
   "metadata": {},
   "outputs": [],
   "source": [
    "revisit_slice = slice(0,5)\n",
    "res = seg_predictor.predict(\n",
    "    tile_path,\n",
    "    revisit=revisit_slice,\n",
    ")"
   ]
  },
  {
   "cell_type": "code",
   "execution_count": null,
   "id": "df4dd966",
   "metadata": {},
   "outputs": [],
   "source": [
    "tile = load_tile(\n",
    "            fs_mapper=fs.get_mapper,\n",
    "            tile_path=tile_path,\n",
    "            masks=(\"pekel\",\"cnn\"),\n",
    "            revisit=revisit_slice,\n",
    "    bands=[\"nir\", \"red\", \"green\", \"blue\", \"swir1\", \"swir2\"],\n",
    "        )"
   ]
  },
  {
   "cell_type": "code",
   "execution_count": null,
   "id": "760576c9",
   "metadata": {},
   "outputs": [],
   "source": [
    "def plot_imgs_in_row(imgs, labels=[\"img\", \"pekel\", \"cnn\"], figsize=(8,5)):\n",
    "    rows = 1\n",
    "    cols = len(imgs)\n",
    "    fig, ax = plt.subplots(rows, cols, figsize=figsize)\n",
    "    # axes are in a two-dimensional array, indexed by [row, col]\n",
    "   # fig.tight_layout(pad=0.4, w_pad=0.5, h_pad=1.0)\n",
    "\n",
    "    for i in range(cols):\n",
    "        ax[i].set_title(labels[i])\n",
    "        img = imgs[i]\n",
    "        ax[i].imshow(img, vmin=0.0, vmax=1.0, interpolation=None)  \n",
    "        ax[i].axis('off')\n",
    "    fig"
   ]
  },
  {
   "cell_type": "code",
   "execution_count": null,
   "id": "f809c6df",
   "metadata": {},
   "outputs": [],
   "source": [
    "import matplotlib.pyplot as plt\n",
    "from skimage.exposure import rescale_intensity\n",
    "from oxeo.water.metrics import segmentation_area\n",
    "import os\n",
    "os.environ[\"LOGURU_LEVEL\"] = \"INFO\"\n",
    "areas_diff = []\n",
    "\n",
    "for i in range(0,5):\n",
    "    cnn = tile[\"cnn\"].numpy().squeeze()[i]\n",
    "\n",
    "    cnn[cnn!=1] = 0\n",
    "    cnn = cnn.astype(bool)\n",
    "    cnn = closing(cnn, square(3))\n",
    "    cnn = remove_small_holes(cnn, area_threshold=50, connectivity=2)\n",
    "    cnn = remove_small_objects(cnn, min_size=50, connectivity=2)\n",
    "    cnn = label(cnn, background=0, connectivity=2)\n",
    "    \n",
    "    \n",
    "    pekel = tile[\"pekel\"].numpy().squeeze()[i]\n",
    "    pekel = pekel.astype(bool)\n",
    "    pekel = closing(pekel, square(3))\n",
    "    pekel = remove_small_holes(pekel, area_threshold=50, connectivity=2)\n",
    "    pekel = remove_small_objects(pekel, min_size=50, connectivity=2)\n",
    "    pekel = label(pekel, background=0, connectivity=2)\n",
    "    \n",
    "    img = tile[\"image\"].numpy()[i][[1, 2, 3]].transpose(1, 2, 0)\n",
    "    area_cnn = segmentation_area(cnn,\"meter\", res)\n",
    "    area_pekel = segmentation_area(pekel,\"meter\", res)\n",
    "    areas_diff.append(area_pekel/area_cnn)\n",
    "    print(\"Seg area: \", area_cnn/1e8, area_pekel/1e8, area_pekel/area_cnn)\n",
    "\n",
    "\n",
    "\n",
    "    vmin, vmax = np.percentile(img, q=(2, 98))\n",
    "    img = rescale_intensity(img, in_range=(vmin, vmax), out_range=(0, 1))\n",
    "    plot_imgs_in_row([img, pekel, cnn])\n",
    "    plt.show()"
   ]
  }
 ],
 "metadata": {
  "kernelspec": {
   "display_name": "Python 3 (ipykernel)",
   "language": "python",
   "name": "python3"
  },
  "language_info": {
   "codemirror_mode": {
    "name": "ipython",
    "version": 3
   },
   "file_extension": ".py",
   "mimetype": "text/x-python",
   "name": "python",
   "nbconvert_exporter": "python",
   "pygments_lexer": "ipython3",
   "version": "3.9.7"
  }
 },
 "nbformat": 4,
 "nbformat_minor": 5
}
