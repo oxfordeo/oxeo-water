{
 "cells": [
  {
   "cell_type": "code",
   "execution_count": null,
   "id": "d557a390",
   "metadata": {},
   "outputs": [],
   "source": [
    "%load_ext autoreload\n",
    "\n",
    "%autoreload 2\n",
    "import gcsfs\n",
    "import numpy as np\n",
    "import zarr\n",
    "fs = gcsfs.GCSFileSystem()\n"
   ]
  },
  {
   "cell_type": "code",
   "execution_count": null,
   "id": "24f320f9",
   "metadata": {},
   "outputs": [],
   "source": [
    "from oxeo.water.models.utils import load_tile, TilePath, tile_from_id, resize_sample\n",
    "from oxeo.water.models.segmentation import Segmentation2DPredictor\n",
    "from oxeo.water.models.segmentation.segmentation_2d import reconstruct_from_patches\n",
    "\n",
    "\n",
    "tile_path = TilePath(tile_from_id(\"43_P_10000_65_137\"), \"landsat-8\")\n",
    "\n",
    "seg_predictor = Segmentation2DPredictor(\n",
    "    batch_size=16,\n",
    "    ckpt_path=\"gs://oxeo-models/semseg/epoch_011.ckpt\",\n",
    "    input_channels=6,\n",
    "    num_classes=3,\n",
    "    chip_size=250,\n",
    "    fs=fs,\n",
    ")\n"
   ]
  },
  {
   "cell_type": "code",
   "execution_count": null,
   "id": "ffce71b4",
   "metadata": {},
   "outputs": [],
   "source": [
    "tile = load_tile(\n",
    "    fs.get_mapper,\n",
    "    tile_path,\n",
    "    revisit=slice(4, 6),\n",
    "    bands=[\"nir\", \"red\", \"green\", \"blue\", \"swir1\", \"swir2\"],\n",
    ")\n"
   ]
  },
  {
   "cell_type": "code",
   "execution_count": null,
   "id": "db3282d9",
   "metadata": {},
   "outputs": [],
   "source": [
    "res = seg_predictor.predict(tile, target_size=1000)\n"
   ]
  },
  {
   "cell_type": "code",
   "execution_count": null,
   "id": "afa18821",
   "metadata": {},
   "outputs": [],
   "source": [
    "res.shape\n"
   ]
  },
  {
   "cell_type": "code",
   "execution_count": null,
   "id": "f809c6df",
   "metadata": {},
   "outputs": [],
   "source": [
    "import matplotlib.pyplot as plt\n",
    "from skimage.exposure import equalize_adapthist, rescale_intensity\n",
    "\n",
    "i = 1\n",
    "plt.imshow(res[i])\n",
    "plt.show()\n",
    "img = tile[\"image\"].numpy()[i][[1, 2, 3]].transpose(1, 2, 0)\n",
    "vmin, vmax = np.percentile(img, q=(2, 98))\n",
    "img = rescale_intensity(img, in_range=(vmin, vmax), out_range=(0, 1))\n",
    "plt.imshow(img)\n"
   ]
  }
 ],
 "metadata": {
  "kernelspec": {
   "display_name": "Python 3 (ipykernel)",
   "language": "python",
   "name": "python3"
  },
  "language_info": {
   "codemirror_mode": {
    "name": "ipython",
    "version": 3
   },
   "file_extension": ".py",
   "mimetype": "text/x-python",
   "name": "python",
   "nbconvert_exporter": "python",
   "pygments_lexer": "ipython3",
   "version": "3.9.7"
  }
 },
 "nbformat": 4,
 "nbformat_minor": 5
}
