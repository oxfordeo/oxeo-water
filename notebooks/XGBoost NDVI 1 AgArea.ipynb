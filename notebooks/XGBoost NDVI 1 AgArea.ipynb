{
 "cells": [
  {
   "cell_type": "markdown",
   "id": "6b90527a",
   "metadata": {},
   "source": [
    "# Timeseries and met data based on paper that uses XGBoost\n",
    "\n",
    "https://www.mdpi.com/2072-4292/13/6/1147/pdf"
   ]
  },
  {
   "cell_type": "markdown",
   "id": "e033c56a",
   "metadata": {},
   "source": [
    "The date of this record can be truncated to the month, i.e. this record is for 2015-05. For this month;\n",
    "- **CHIRPS_SPI_actual** is the actual SPI for the month 2015-05 relative to all May months 1984 through 2021.\n",
    "- **MIXED_SPI** is the SPI for the month 2015-05 using the first **12 days from CHIRPS and the rest of the month from the mean seasonal forecast**; taking a weighted mean of the respective SPIs. The idea is this is the value we'd be able to use in production if we ran production at the end of each month\n",
    "- **FORECAST_SPI_{ii}** is the SPI based on the ensemble mean for 1 through six months in advance, i.e., in this case, for 2015-06, ..., 2015-11 (e: and this forecast was made on 2015-05-13. So each record has the next 6 months)\n",
    "- the **FORECAST_SPI** values are relative to all May forecasts 1993-2021, so the May forecast for July is relative all May forecasts for July, but not the June forecasts for July\n",
    "- there are sometimes when the SPI is inf  because all forecast data is 0. But inf can't into JSON so **I've filled in with the value 999. - so we'll need to do a data cleaning step before prediction**\n",
    "- **NDVI** is the mean of the whole months. If it says 2015-05-01 it means that it is the mean ndvi for the month 2015-05\n"
   ]
  },
  {
   "cell_type": "markdown",
   "id": "e2a6d51c",
   "metadata": {},
   "source": [
    "To be sure I don't have a data leakeage, let's study each feature:\n",
    "For each date time d (for example d is August) I assume d is truncated by month and ignore the day.\n",
    "Actually a better day would be to put last day of the month:\n",
    "- d is August (xxxx-08-01)\n",
    "- month_ndvi_mean: is the mean of whole August NDVI\n",
    "- mixed_spi: first 12 days of chirps, rest of forecast for all August\n",
    "- forecast_spi: mean for 1..6 months in advance (sept, oct, nov...)\n",
    "- chirps_actual: i cannot use this for training, because I don't have this info in production (or I can use it but it is not the same as mixed_spi)\n",
    "\n",
    "- If we run in production at the end of each month I'm using current month forecasted_spi so I cannot precit 7 months, but only 6 months\n",
    "\n",
    "### Missing values:\n",
    "Gotta take care of missing values, because otherwise the targets are not going to be realistic. If I shift after droping NaNs I can have a target that is for N months ahead but it shouldn't\n",
    "\n",
    "\n",
    "### Test set\n",
    "\n",
    "I'm leaving 21 points for the test set. So I can have 21-7 total predictions for each of the 7 models (one per month)\n",
    "\n",
    "\n",
    "### Model Types\n",
    "- We can train 7 models for the same input row\n",
    "- Or we can train 7 models but based on data predicted by previous model (it's like using one single model)\n",
    "    - The train can be done only for real data (current_ndiv, mixed_spi)\n",
    "    - But the the prediction I can use for current_ndvi the pred for previous month and instead of mixed spi the forecast_spi_1...7"
   ]
  },
  {
   "cell_type": "code",
   "execution_count": null,
   "id": "efe77766",
   "metadata": {},
   "outputs": [],
   "source": [
    "import xgboost as xgb"
   ]
  },
  {
   "cell_type": "code",
   "execution_count": null,
   "id": "869418c2-1a03-4808-82b3-b977defc87ba",
   "metadata": {},
   "outputs": [],
   "source": [
    "import json\n",
    "import seaborn as sns\n",
    "import altair as alt\n",
    "import httpx\n",
    "import matplotlib.pyplot as plt\n",
    "import pandas as pd\n",
    "import seaborn as sns\n",
    "from shapely import geometry\n",
    "from shapely.ops import unary_union\n",
    "import os\n",
    "from dotenv import load_dotenv\n",
    "\n",
    "load_dotenv()  # take environment variables from .env."
   ]
  },
  {
   "cell_type": "code",
   "execution_count": null,
   "id": "21562853",
   "metadata": {},
   "outputs": [],
   "source": [
    "tete_aga = 2179"
   ]
  },
  {
   "cell_type": "markdown",
   "id": "2b910999-3ab4-4edc-9d5a-8c24601e38eb",
   "metadata": {},
   "source": [
    "# API Auth"
   ]
  },
  {
   "cell_type": "code",
   "execution_count": null,
   "id": "ac181a62-5d07-46b6-bd8d-f56419f7ff69",
   "metadata": {},
   "outputs": [],
   "source": [
    "base_url = \"http://localhost:8081/\""
   ]
  },
  {
   "cell_type": "code",
   "execution_count": null,
   "id": "9fc3c618-8765-4366-a420-315d4b13b327",
   "metadata": {},
   "outputs": [],
   "source": [
    "client = httpx.Client(base_url=base_url)"
   ]
  },
  {
   "cell_type": "code",
   "execution_count": null,
   "id": "15a4fdee-e8f9-4652-82fa-65cc85ec548b",
   "metadata": {},
   "outputs": [],
   "source": [
    "r = client.post(\n",
    "    \"auth/token\",\n",
    "    data={\"username\": \"fran.dorr@gmail.com\", \"password\": \"fran123\"},\n",
    ")"
   ]
  },
  {
   "cell_type": "code",
   "execution_count": null,
   "id": "86d8579a-1e8f-44ef-9f64-57d97d2b8294",
   "metadata": {},
   "outputs": [],
   "source": [
    "token = json.loads(r.text)[\"access_token\"]\n",
    "headers = {\"Authorization\": f\"Bearer {token}\"}"
   ]
  },
  {
   "cell_type": "markdown",
   "id": "d3989414-2d25-4d8b-aa9f-07426b36bf91",
   "metadata": {},
   "source": [
    "# Get agricultural areas geoms from the API"
   ]
  },
  {
   "cell_type": "code",
   "execution_count": null,
   "id": "298df819-d44f-4b43-a7f2-b9c67c003113",
   "metadata": {},
   "outputs": [],
   "source": [
    "\n",
    "r = client.get(\"aoi/\", params=dict(id=tete_aga), headers=headers)\n",
    "res = json.loads(r.text)\n",
    "polygons = geometry.shape(res[\"features\"][0][\"geometry\"])\n"
   ]
  },
  {
   "cell_type": "code",
   "execution_count": null,
   "id": "80a134e3",
   "metadata": {},
   "outputs": [],
   "source": []
  },
  {
   "cell_type": "code",
   "execution_count": null,
   "id": "4aff7ed3",
   "metadata": {},
   "outputs": [],
   "source": [
    "# get the bbox for all the ag areas\n",
    "box = polygons.bounds\n"
   ]
  },
  {
   "cell_type": "markdown",
   "id": "d5293bd6-f5d3-4758-8735-7e80074335d0",
   "metadata": {},
   "source": [
    "# Get Events from DB \n",
    "- Date range from 2019 to 2022"
   ]
  },
  {
   "cell_type": "code",
   "execution_count": null,
   "id": "b7722d23-d787-42b5-b9fa-34260117ca73",
   "metadata": {},
   "outputs": [],
   "source": [
    "start_datetime = \"1985-01-02\"\n",
    "end_datetime = \"2022-08-31\""
   ]
  },
  {
   "cell_type": "code",
   "execution_count": null,
   "id": "fdf13b5f",
   "metadata": {},
   "outputs": [],
   "source": [
    "r = client.get(\n",
    "        \"events/\",\n",
    "        params=dict(\n",
    "            aoi_id=tete_aga,\n",
    "            start_datetime=start_datetime,\n",
    "            end_datetime=end_datetime,\n",
    "            limit=10000,\n",
    "        ),\n",
    "        headers=headers,\n",
    "        timeout=60,\n",
    "    )\n",
    "    \n",
    "    "
   ]
  },
  {
   "cell_type": "code",
   "execution_count": null,
   "id": "6f6cc6f9",
   "metadata": {},
   "outputs": [],
   "source": [
    "aga_results = json.loads(r.text)[\"events\"]"
   ]
  },
  {
   "cell_type": "code",
   "execution_count": null,
   "id": "4a833948",
   "metadata": {},
   "outputs": [],
   "source": [
    "from dateutil.relativedelta import relativedelta\n",
    "def get_keyed_values(results, keyed_value, new_col):\n",
    "    df = pd.DataFrame(results)\n",
    "    df.labels = df.labels.map(lambda x: x[0])\n",
    "    df[new_col] = df.keyed_values.apply(lambda x: x.get(keyed_value))\n",
    "    df = df.drop_duplicates(subset=[\"aoi_id\", \"datetime\"]).dropna()\n",
    "    df.datetime = pd.to_datetime(df.datetime)\n",
    "    \n",
    "    \n",
    "    if keyed_value == \"FORECAST_SPI\":\n",
    "        months_df = df[new_col].apply(pd.Series)\n",
    "        months_df.columns = [f\"{new_col}_1\", f\"{new_col}_2\",\n",
    "                             f\"{new_col}_3\", f\"{new_col}_4\",\n",
    "                             f\"{new_col}_5\", f\"{new_col}_6\"]\n",
    "        df = pd.concat([df.drop([new_col], axis=1), months_df], axis=1)\n",
    "    \n",
    "        df.index = df[\"datetime\"]\n",
    "        \n",
    "    elif keyed_value == \"mean_value\":\n",
    "        df = df.groupby([\"datetime\"]).mean().resample(\"M\").mean()\n",
    "        df.index = df.index.map(lambda x: x.replace(day=1))\n",
    "      \n",
    "    else:\n",
    "        df.index = df[\"datetime\"]\n",
    "        \n",
    "        \n",
    "    return df\n",
    "    "
   ]
  },
  {
   "cell_type": "code",
   "execution_count": null,
   "id": "bac228ac",
   "metadata": {},
   "outputs": [],
   "source": [
    "keyed_values ={\"mean_value\":\"ndvi_mean\", \"MIXED_SPI\":\"mixed_spi\", \"FORECAST_SPI\":\"forecast_spi\",\n",
    "            \"CHIRPS_SPI_actual\":\"chirps_spi_actual\"\n",
    "                }"
   ]
  },
  {
   "cell_type": "code",
   "execution_count": null,
   "id": "d327f5af",
   "metadata": {},
   "outputs": [],
   "source": [
    "ndvi = get_keyed_values(aga_results, \"mean_value\", \"month_ndvi_mean\")"
   ]
  },
  {
   "cell_type": "code",
   "execution_count": null,
   "id": "5492e5d8",
   "metadata": {},
   "outputs": [],
   "source": [
    "forecast_spi = get_keyed_values(aga_results, \"FORECAST_SPI\", \"forecast_spi\")\n",
    "mixed_spi = get_keyed_values(aga_results, \"MIXED_SPI\", \"mixed_spi\")\n",
    "chirps_actual = get_keyed_values(aga_results, \"CHIRPS_SPI_actual\", \"chirps_actual\")"
   ]
  },
  {
   "cell_type": "code",
   "execution_count": null,
   "id": "fb3f898d",
   "metadata": {},
   "outputs": [],
   "source": [
    "cols_to_use = ['aoi_id', 'month_ndvi_mean', 'forecast_spi_1',\n",
    "       'forecast_spi_2', 'forecast_spi_3', 'forecast_spi_4', 'forecast_spi_5',\n",
    "       'forecast_spi_6','mixed_spi','chirps_actual']"
   ]
  },
  {
   "cell_type": "code",
   "execution_count": null,
   "id": "eb0d17c0",
   "metadata": {},
   "outputs": [],
   "source": [
    "final_df = ndvi.join(forecast_spi, lsuffix=\"\", rsuffix=\"_r\")\n",
    "final_df = final_df.join(mixed_spi, lsuffix=\"\", rsuffix=\"_r\")\n",
    "final_df = final_df.join(chirps_actual, lsuffix=\"\", rsuffix=\"_r\")[cols_to_use]"
   ]
  },
  {
   "cell_type": "code",
   "execution_count": null,
   "id": "1c44f9e5",
   "metadata": {},
   "outputs": [],
   "source": [
    "# interpolate to fill values\n",
    "#final_df[\"month_ndvi_mean\"] = final_df[\"month_ndvi_mean\"].interpolate(\"time\") "
   ]
  },
  {
   "cell_type": "code",
   "execution_count": null,
   "id": "d614b89d",
   "metadata": {},
   "outputs": [],
   "source": [
    "final_df[\"mixed_spi_cumsum_2\"] = final_df.mixed_spi.rolling(min_periods=1, window=2).sum()\n",
    "final_df[\"mixed_spi_cumsum_3\"] = final_df.mixed_spi.rolling(min_periods=1, window=3).sum()\n",
    "\n",
    "for i in range(1,7):\n",
    "    if i == 1:        \n",
    "        final_df[f\"forecast_spi_{i}_cumsum_2\"] = final_df[f\"mixed_spi\"] + final_df[f\"forecast_spi_1\"] \n",
    "        final_df[f\"forecast_spi_{i}_cumsum_3\"] = final_df[f\"mixed_spi_cumsum_2\"] + final_df[f\"forecast_spi_1\"]\n",
    "    elif i == 2:\n",
    "        final_df[f\"forecast_spi_{i}_cumsum_2\"] = final_df[f\"forecast_spi_1\"] + final_df[f\"forecast_spi_2\"] \n",
    "        final_df[f\"forecast_spi_{i}_cumsum_3\"] = final_df[f\"mixed_spi\"] + final_df[f\"forecast_spi_{i}_cumsum_2\"]\n",
    "    else:\n",
    "        final_df[f\"forecast_spi_{i}_cumsum_2\"] = final_df[f\"forecast_spi_{i-1}\"] + final_df[f\"forecast_spi_{i}\"] \n",
    "        final_df[f\"forecast_spi_{i}_cumsum_3\"] = final_df[f\"forecast_spi_{i-2}\"] + final_df[f\"forecast_spi_{i}_cumsum_2\"] \n",
    "        \n",
    "final_df[\"month_ndvi_mean_cumsum_2\"] = final_df.month_ndvi_mean.rolling(min_periods=1, window=2).sum()\n",
    "final_df[\"month_ndvi_mean_cumsum_3\"] = final_df.month_ndvi_mean.rolling(min_periods=1, window=3).sum()\n"
   ]
  },
  {
   "cell_type": "code",
   "execution_count": null,
   "id": "3bf1c3eb",
   "metadata": {},
   "outputs": [],
   "source": [
    "for i in range(1,8):\n",
    "    final_df[f\"target_ndvi_{i}\"] = final_df.month_ndvi_mean.shift(-i)\n",
    "\n",
    "\n"
   ]
  },
  {
   "cell_type": "markdown",
   "id": "4165d81e",
   "metadata": {},
   "source": [
    "# Models training"
   ]
  },
  {
   "cell_type": "code",
   "execution_count": null,
   "id": "e2b7fdfd",
   "metadata": {},
   "outputs": [],
   "source": [
    "from sklearn.model_selection import GridSearchCV\n",
    "from sklearn.model_selection import TimeSeriesSplit\n",
    "from tqdm import tqdm\n",
    "from collections import defaultdict\n",
    "\n",
    "models = []\n",
    "\n",
    "test_size = 20 # percentage\n",
    "for i in tqdm(range(7)):\n",
    "\n",
    "    if i == 0:\n",
    "        cols_to_use = ['month_ndvi_mean', 'mixed_spi', 'mixed_spi_cumsum_2', 'mixed_spi_cumsum_3']\n",
    "    else:\n",
    "        cols_to_use = ['month_ndvi_mean', \n",
    "                    f'forecast_spi_{i}', f'forecast_spi_{i}_cumsum_2', f'forecast_spi_{i}_cumsum_3']\n",
    "        \n",
    "    print(f\"Using features: {cols_to_use}\")\n",
    "    target_col = f\"target_ndvi_{i+1}\"\n",
    "    model_df = final_df[cols_to_use + [target_col]].dropna()\n",
    "    model_df = model_df[2:] # to remove repeated cumsums\n",
    "    train = model_df[:-test_size]\n",
    "    test = model_df[-test_size:]\n",
    "    \n",
    "    y_train = train[[target_col]]\n",
    "    y_test = test[[target_col]]\n",
    "\n",
    "    xg_reg = xgb.XGBRegressor()\n",
    "\n",
    "    params = {'objective':['reg:squarederror'],\n",
    "              'learning_rate': [0.1,0.3,0.5], #so called `eta` value\n",
    "              'max_depth': [4, 6,8,10,12],\n",
    "              'n_estimators': [100,200,1000]}\n",
    "\n",
    "\n",
    "    xgb_grid = GridSearchCV(xg_reg,\n",
    "                            params,\n",
    "                            cv = TimeSeriesSplit(n_splits=3),\n",
    "                            n_jobs = -1,\n",
    "                            verbose=True)\n",
    "\n",
    "    xgb_grid.fit(train[cols_to_use],\n",
    "             y_train)\n",
    "    print(xgb_grid.best_params_)\n",
    "    #xg_reg.fit(X_train.values,y_train)\n",
    "    models.append(xgb_grid.best_estimator_)\n",
    "    \n",
    "    \n",
    "    \n",
    "    "
   ]
  },
  {
   "cell_type": "code",
   "execution_count": null,
   "id": "f2d6ea1c",
   "metadata": {},
   "outputs": [],
   "source": [
    "preds = {}\n",
    "y_true = {}\n",
    "\n",
    "r2_scores = []\n",
    "for i in range(7):\n",
    "    if i == 0:\n",
    "        cols_to_use = ['month_ndvi_mean', 'mixed_spi', 'mixed_spi_cumsum_2', 'mixed_spi_cumsum_3']\n",
    "    else:\n",
    "        cols_to_use = ['month_ndvi_mean', \n",
    "                    f'forecast_spi_{i}', f'forecast_spi_{i}_cumsum_2', f'forecast_spi_{i}_cumsum_3']\n",
    "        \n",
    "\n",
    "    target_col = f\"target_ndvi_{i+1}\"\n",
    "    model_df = final_df[cols_to_use + [target_col]].dropna()\n",
    "    \n",
    "    train = model_df[:-test_size]\n",
    "    test = model_df[-test_size:]\n",
    "    preds[i] = models[i].predict(test[cols_to_use])\n",
    "    y_true[i] = test[[f\"target_ndvi_{i+1}\"]].values[:,0]\n",
    "    \n",
    "    r2_scores.append(r2_score(y_true[i], preds[i]))\n",
    "\n",
    "    sns.lineplot(data=pd.DataFrame({\"y_true\":y_true[i],\"y_pred\":preds[i]}))\n",
    "    plt.show()"
   ]
  },
  {
   "cell_type": "code",
   "execution_count": null,
   "id": "48b969d3",
   "metadata": {},
   "outputs": [],
   "source": [
    "str(instance.name)"
   ]
  },
  {
   "cell_type": "code",
   "execution_count": null,
   "id": "4e46fe43",
   "metadata": {},
   "outputs": [],
   "source": [
    "fig, axs = plt.subplots(2, 5, figsize=(20, 10), sharey=True)\n",
    "for j in range(0,10):\n",
    "    instance = final_df.dropna().iloc[-10+j]\n",
    "    instances_preds = []\n",
    "    for i in range(7):\n",
    "        if i == 0:\n",
    "            cols_to_use = ['month_ndvi_mean', 'mixed_spi', 'mixed_spi_cumsum_2', 'mixed_spi_cumsum_3']\n",
    "        else:\n",
    "            cols_to_use = ['month_ndvi_mean', \n",
    "                        f'forecast_spi_{i}', f'forecast_spi_{i}_cumsum_2', f'forecast_spi_{i}_cumsum_3']\n",
    "\n",
    "\n",
    "        instances_preds.append(models[i].predict(instance[cols_to_use].values.reshape(1,-1))[0])\n",
    "    axs[(j//5),j%5].plot(instance.values[-7:],label=f\"y_true {str(instance.name)}\")\n",
    "    axs[(j//5),j%5].plot(instances_preds, label=\"y_pred\")\n",
    "    axs[(j//5),j%5].legend()\n",
    "plt.legend(loc='best')\n",
    "plt.show()"
   ]
  }
 ],
 "metadata": {
  "kernelspec": {
   "display_name": "Python 3 (ipykernel)",
   "language": "python",
   "name": "python3"
  },
  "language_info": {
   "codemirror_mode": {
    "name": "ipython",
    "version": 3
   },
   "file_extension": ".py",
   "mimetype": "text/x-python",
   "name": "python",
   "nbconvert_exporter": "python",
   "pygments_lexer": "ipython3",
   "version": "3.9.13"
  }
 },
 "nbformat": 4,
 "nbformat_minor": 5
}
