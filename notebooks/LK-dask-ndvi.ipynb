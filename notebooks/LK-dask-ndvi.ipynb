{
 "cells": [
  {
   "cell_type": "code",
   "execution_count": null,
   "id": "50455058-eee2-4e8a-be2c-5da176b0ede6",
   "metadata": {},
   "outputs": [],
   "source": [
    "import os\n",
    "root = os.path.abspath(os.path.join(os.getcwd(),'..'))"
   ]
  },
  {
   "cell_type": "markdown",
   "id": "d9bdf398-69c7-40a5-bed7-d62c3a39fb09",
   "metadata": {},
   "source": [
    "# Demo:\n",
    "- Create a spatial-semantic graph for a geography and features of interest\n",
    "- Reduce an indicator-of-interest for features (e.g. NDVI, CHIRPS precip) and ingest to graph\n",
    "- Query the graph as in an API route"
   ]
  },
  {
   "cell_type": "markdown",
   "id": "9a48059b-6c18-4a43-9382-29a0c2ff55d8",
   "metadata": {},
   "source": [
    "## 1. Create a spatial-semantic graph for a geography and features of interest"
   ]
  },
  {
   "cell_type": "code",
   "execution_count": null,
   "id": "455f4074-7212-4d56-8820-4d5bee2f50a4",
   "metadata": {},
   "outputs": [],
   "source": [
    "import rasterio\n",
    "from rasterio import features\n",
    "from rasterio.windows import Window\n",
    "from rasterio.windows import transform as windows_transform\n",
    "import numpy as np\n",
    "import matplotlib.pyplot as plt\n",
    "from scipy.ndimage import gaussian_filter, label\n",
    "from itertools import product\n",
    "import geopandas as gpd\n",
    "from geojson import Feature\n",
    "from area import area\n",
    "from shapely import geometry"
   ]
  },
  {
   "cell_type": "markdown",
   "id": "09714d7a-c3ad-4f4c-9696-14878c8f62d1",
   "metadata": {},
   "source": [
    "### 1a. Collect our geographic features of interest"
   ]
  },
  {
   "cell_type": "code",
   "execution_count": null,
   "id": "5fff570f-ad9e-481f-99ed-074d792f66ac",
   "metadata": {},
   "outputs": [],
   "source": [
    "admin_1 = gpd.read_file(os.path.join(root,'data','admin_1.geojson')).set_index('iso_3166_2')"
   ]
  },
  {
   "cell_type": "code",
   "execution_count": null,
   "id": "0a7b2967-f4ba-4067-983e-71a1e8a3f134",
   "metadata": {},
   "outputs": [],
   "source": [
    "# get a landcover raster for our geography of interest \n",
    "# Gaza, MOZ land cover reduced from Google's Dynamic World\n",
    "im = rasterio.open(os.path.join(root,'data','moz_gaza.tif'))\n",
    "lc_data = np.squeeze(im.read())"
   ]
  },
  {
   "cell_type": "code",
   "execution_count": null,
   "id": "388c90c3-a8be-49af-9623-a5b3b9b0fb54",
   "metadata": {},
   "outputs": [],
   "source": [
    "plt.imshow(lc_data[10000:15000, 10000:15000], cmap='tab10')"
   ]
  },
  {
   "cell_type": "code",
   "execution_count": null,
   "id": "6e7bda38-9c21-44ee-9c75-03eea5a082b7",
   "metadata": {},
   "outputs": [],
   "source": [
    "# get ag areas\n",
    "lc_ag_mask = (lc_data==4).astype(np.float32)"
   ]
  },
  {
   "cell_type": "code",
   "execution_count": null,
   "id": "057814bc-763c-4e3e-b135-433f0b0ea2bb",
   "metadata": {},
   "outputs": [],
   "source": [
    "# convolve a gaussian kernel to get large ag areas\n",
    "lc_ag_mask = gaussian_filter(lc_ag_mask, 15)"
   ]
  },
  {
   "cell_type": "code",
   "execution_count": null,
   "id": "d3ebad49-f85a-4ff5-9537-3433eb56ffda",
   "metadata": {},
   "outputs": [],
   "source": [
    "# ... big raster, let's vectorise in chunks.\n",
    "chunk_size=5000\n",
    "row_chunks = [slice(ii*chunk_size,(ii+1)*chunk_size,None) for ii in range(im.shape[0]//chunk_size+1)]\n",
    "col_chunks = [slice(ii*chunk_size,(ii+1)*chunk_size,None) for ii in range(im.shape[1]//chunk_size+1)]\n",
    "all_windows = list(product(row_chunks,col_chunks))"
   ]
  },
  {
   "cell_type": "code",
   "execution_count": null,
   "id": "03de956b-40fa-4433-b720-8e97be83f7b9",
   "metadata": {
    "tags": []
   },
   "outputs": [],
   "source": [
    "# vectorise in chunks\n",
    "ag_areas = []\n",
    "for row_chunk, col_chunk in all_windows:\n",
    "    win = Window.from_slices(row_chunk, col_chunk)\n",
    "    win_trans = windows_transform(win, im.transform)\n",
    "    \n",
    "    shape_gen = features.shapes(\n",
    "        source=(lc_data[row_chunk, col_chunk]==4).astype(np.uint8), \n",
    "        mask=lc_ag_mask[row_chunk, col_chunk]>0.8, \n",
    "        connectivity=8, \n",
    "        transform=win_trans\n",
    "    )\n",
    "    \n",
    "    ag_areas += [Feature(geometry=ft[0]) for ft in shape_gen]"
   ]
  },
  {
   "cell_type": "code",
   "execution_count": null,
   "id": "9728f4bb-e0e5-4ceb-8d70-a1b4496be5c5",
   "metadata": {},
   "outputs": [],
   "source": [
    "# cast to geodataframe\n",
    "gdf = gpd.GeoDataFrame.from_features(ag_areas)"
   ]
  },
  {
   "cell_type": "code",
   "execution_count": null,
   "id": "f8dba6fb-8c17-47bc-95ea-43ea35bf158a",
   "metadata": {},
   "outputs": [],
   "source": [
    "# buffer back a bit to undo the gaussian filter then dissolve to intersect geometries\n",
    "gdf = gpd.GeoDataFrame(geometry=gdf.buffer(0.025)).dissolve().explode(index_parts=False)"
   ]
  },
  {
   "cell_type": "code",
   "execution_count": null,
   "id": "714a3867-11c7-43ac-84b7-ef4b28bd369b",
   "metadata": {},
   "outputs": [],
   "source": [
    "# apply an area filter\n",
    "gdf['area'] = gdf['geometry'].apply(lambda geom: area(geometry.mapping(geom)))"
   ]
  },
  {
   "cell_type": "code",
   "execution_count": null,
   "id": "cd25f5f2-a663-41f3-a505-1ec11832363c",
   "metadata": {},
   "outputs": [],
   "source": [
    "# and set an index\n",
    "gdf['idx'] = range(len(gdf))"
   ]
  },
  {
   "cell_type": "code",
   "execution_count": null,
   "id": "491d4a51-6b62-4abe-bac8-4df3883572ee",
   "metadata": {},
   "outputs": [],
   "source": [
    "gdf = gdf.set_index('idx')"
   ]
  },
  {
   "cell_type": "code",
   "execution_count": null,
   "id": "3b839cd7-f2cc-4666-be43-d1b7dc0f7c7a",
   "metadata": {},
   "outputs": [],
   "source": [
    "fig, ax = plt.subplots(1,1,figsize=(8,8))\n",
    "admin_1.loc[(admin_1['iso_a2']=='MZ')&(admin_1['name']=='Gaza')].boundary.plot(ax=ax, color='g')\n",
    "gdf.loc[gdf['area']>1e8].plot(ax=ax, color='b')"
   ]
  },
  {
   "cell_type": "code",
   "execution_count": null,
   "id": "480f13ee-9a59-4f4a-addd-ffddad9fd3ca",
   "metadata": {},
   "outputs": [],
   "source": [
    "# save for some quick loading later\n",
    "# gdf.loc[gdf['area']>1e8].to_file(os.path.join(root,'data','ag_areas_gaza.geojson'),driver='GeoJSON')\n",
    "# gdf = gpd.read_file(os.path.join(root,'data','ag_areas_gaza.geojson'))"
   ]
  },
  {
   "cell_type": "markdown",
   "id": "18f36ee3-851d-4fd4-a2d3-3df5eda1d6d5",
   "metadata": {},
   "source": [
    "### 1b. Write our geographic features to a graph db"
   ]
  },
  {
   "cell_type": "code",
   "execution_count": null,
   "id": "4cb195d3-4511-47bf-a39f-a706c5df110f",
   "metadata": {},
   "outputs": [],
   "source": [
    "from gremlin_python.driver.driver_remote_connection import DriverRemoteConnection\n",
    "from gremlin_python.structure.graph import Graph\n",
    "from gremlin_python.process.anonymous_traversal import traversal\n",
    "from gremlin_python.process.traversal import T\n",
    "import json"
   ]
  },
  {
   "cell_type": "code",
   "execution_count": null,
   "id": "f963df20-489b-4882-9668-58bbf48f8547",
   "metadata": {},
   "outputs": [],
   "source": [
    "# fix to send queries\n",
    "import nest_asyncio\n",
    "nest_asyncio.apply()"
   ]
  },
  {
   "cell_type": "code",
   "execution_count": null,
   "id": "f697d120-f165-4916-a5e9-42b80c438937",
   "metadata": {},
   "outputs": [],
   "source": [
    "remoteConn = DriverRemoteConnection('wss://lk-prototype.cluster-cstqmhnp1nqd.eu-central-1.neptune.amazonaws.com:8182/gremlin','g')"
   ]
  },
  {
   "cell_type": "code",
   "execution_count": null,
   "id": "c0e54b19-d146-4fdb-bcde-ee6f614e3817",
   "metadata": {},
   "outputs": [],
   "source": [
    "graph = Graph()"
   ]
  },
  {
   "cell_type": "code",
   "execution_count": null,
   "id": "c69e9dfd-0869-4f4b-96a6-6cbe690f6017",
   "metadata": {},
   "outputs": [],
   "source": [
    "g = graph.traversal().withRemote(remoteConn)"
   ]
  },
  {
   "cell_type": "code",
   "execution_count": null,
   "id": "a05cf136-e9f1-481a-8342-be90afe28c27",
   "metadata": {
    "tags": []
   },
   "outputs": [],
   "source": [
    "# clear the graph for the demo\n",
    "g.V().drop().iterate()"
   ]
  },
  {
   "cell_type": "code",
   "execution_count": null,
   "id": "c20aa7a5-e127-48a3-a0dd-3e663419d77e",
   "metadata": {},
   "outputs": [],
   "source": [
    "id = T.id"
   ]
  },
  {
   "cell_type": "code",
   "execution_count": null,
   "id": "40225031-aba9-49df-a75c-3b4ef254d6f7",
   "metadata": {},
   "outputs": [],
   "source": [
    "def create_vertex(vid, vtype, properties):\n",
    "\n",
    "    task = g.addV(vtype).property(id, vid)\n",
    "    \n",
    "    for key, value in properties.items():\n",
    "        task = task.property(key,value)\n",
    "        \n",
    "    task.next()\n",
    "    \n",
    "    return 1"
   ]
  },
  {
   "cell_type": "code",
   "execution_count": null,
   "id": "9bd2ae1d-e123-49b8-b0e2-318763e234cd",
   "metadata": {},
   "outputs": [],
   "source": [
    "#g.V('0').addE('foo').to(g.V('MZ-G').next()).next()"
   ]
  },
  {
   "cell_type": "code",
   "execution_count": null,
   "id": "7fb0e978-63fd-4f32-b9d3-099ac7776246",
   "metadata": {},
   "outputs": [],
   "source": [
    "def create_edge(vid_1, vid_2, e_type, properties):\n",
    "    \n",
    "    task = g.V(vid_1).addE(e_type).to(g.V(vid_2).next())\n",
    "    \n",
    "    for key, value in properties.items():\n",
    "        task = task.property(key,value)\n",
    "        \n",
    "    task.next()\n",
    "    \n",
    "    return 1"
   ]
  },
  {
   "cell_type": "code",
   "execution_count": null,
   "id": "7fca4c3d-fd6e-4b39-8b3f-ee733764b974",
   "metadata": {},
   "outputs": [],
   "source": [
    "for idx, row in admin_1.loc[(admin_1['iso_a2']=='MZ')&(admin_1['name']=='Gaza')].iterrows():\n",
    "    \n",
    "    props = {kk:vv for kk,vv in row.to_dict().items() if kk not in ['geometry']}\n",
    "    props['geometry'] = json.dumps(geometry.mapping(row['geometry']))\n",
    "    \n",
    "    create_vertex(idx, 'admin-1', props)"
   ]
  },
  {
   "cell_type": "code",
   "execution_count": null,
   "id": "202cd1a6-c859-4121-98bd-05827ae9a9f1",
   "metadata": {},
   "outputs": [],
   "source": [
    "gaza_idx = 'MZ-G'"
   ]
  },
  {
   "cell_type": "code",
   "execution_count": null,
   "id": "f850ddbd-82e5-4a0c-9a75-fa1e46b00ed1",
   "metadata": {},
   "outputs": [],
   "source": [
    "for idx, row in gdf.loc[gdf['area']>1e8].iterrows():\n",
    "    props = {kk:vv for kk,vv in row.to_dict().items() if kk not in ['geometry']}\n",
    "    props['geometry'] = json.dumps(geometry.mapping(row['geometry']))\n",
    "    \n",
    "    create_vertex(str(idx), 'agriculture-area', props)\n",
    "    \n",
    "    create_edge(str(idx), gaza_idx, 'isIn', {})"
   ]
  },
  {
   "cell_type": "code",
   "execution_count": null,
   "id": "86f8576a-d7c8-4dab-b936-f159ce6804e7",
   "metadata": {},
   "outputs": [],
   "source": [
    "# todo: visualise GRaph"
   ]
  },
  {
   "cell_type": "markdown",
   "id": "3a9a2c7d-1e96-4255-8011-1f097bf5a74d",
   "metadata": {},
   "source": [
    "## 2. Reduce an ndvi for each feature"
   ]
  },
  {
   "cell_type": "code",
   "execution_count": null,
   "id": "c6cd8a50-f4e2-48fb-808e-d6f1be68a608",
   "metadata": {},
   "outputs": [],
   "source": [
    "import pystac_client\n",
    "import stackstac\n",
    "from rasterio.enums import Resampling\n",
    "from dask_cloudprovider.aws import FargateCluster, ECSCluster\n",
    "from rasterio.errors import RasterioIOError\n",
    "from distributed import Client\n",
    "from pyproj import CRS, Transformer\n",
    "from shapely.ops import transform"
   ]
  },
  {
   "cell_type": "markdown",
   "id": "07588ba0-b8df-4e01-9f8c-030cf2a28f9d",
   "metadata": {},
   "source": [
    "### 2a. Set up our dask cluster for highly parallelised operation on AWS CoG"
   ]
  },
  {
   "cell_type": "code",
   "execution_count": null,
   "id": "5e84bef2-6d6c-4c87-abed-facc9de83804",
   "metadata": {},
   "outputs": [],
   "source": [
    "# call up a cluster on AWS Fargate\n",
    "cluster = FargateCluster(\n",
    "    #cluster_arn=\"arn:aws:ecs:eu-central-1:413730540186:cluster/LK-dask-test-6\",\n",
    "    #execution_role_arn=\"arn:aws:iam::413730540186:role/LK-dask-test-6-execution-role\",\n",
    "    #task_role_arn=\"arn:aws:iam::413730540186:role/LK-dask-test-6-task-role\",\n",
    "    #security_groups=[\"sg-0f2acfe8a150834ed\"],\n",
    "    cluster_name_template='LK-dask-test-7', # <- if creating new cluster\n",
    "    region_name=\"eu-central-1\",\n",
    "    image=\"daskdev/dask:latest\",\n",
    "    environment={'EXTRA_PIP_PACKAGES':'stackstac'},\n",
    "    scheduler_cpu=1024*4,\n",
    "    scheduler_mem=2048*12,\n",
    "    worker_cpu=2048,\n",
    "    worker_mem=2048*4,\n",
    "    #skip_cleanup = True,\n",
    "    n_workers=20,\n",
    "    fargate_use_private_ip=False,\n",
    "    scheduler_timeout=\"60 minutes\"\n",
    ")"
   ]
  },
  {
   "cell_type": "code",
   "execution_count": null,
   "id": "b414c549-4e3e-490c-ab21-60bdb52d3482",
   "metadata": {},
   "outputs": [],
   "source": [
    "# ... or call up an existing cluster\n",
    "#cluster = ECSCluster(\n",
    "#    cluster_arn='arn:aws:ecs:eu-central-1:413730540186:cluster/LK-dask-test-3',\n",
    "#    execution_role_arn=\"arn:aws:iam::413730540186:role/LK-dask-test-3-execution-role\",\n",
    "#    task_role_arn=\"arn:aws:iam::413730540186:role/LK-dask-test-3-task-role\",\n",
    " #   security_groups = [\"sg-06788c6c48e842ea4\"],\n",
    " #   image=\"daskdev/dask:latest\",\n",
    "#    environment={'EXTRA_PIP_PACKAGES':'stackstac'},\n",
    "#    n_workers=4,\n",
    "#)"
   ]
  },
  {
   "cell_type": "code",
   "execution_count": null,
   "id": "31d66048-b404-49f8-a1a0-77cd44c78e85",
   "metadata": {},
   "outputs": [],
   "source": [
    "# keep an eye on our workers\n",
    "cluster.dashboard_link"
   ]
  },
  {
   "cell_type": "code",
   "execution_count": null,
   "id": "fcb96fd2-dd87-4f01-aadf-0fffde0f6062",
   "metadata": {},
   "outputs": [],
   "source": [
    "# Use it as our Dask cluster\n",
    "client = Client(cluster)"
   ]
  },
  {
   "cell_type": "markdown",
   "id": "47257e80-5102-49a8-aeb4-c541575953d0",
   "metadata": {},
   "source": [
    "### 2b. Query the STAC catalog to get COG for our AOI"
   ]
  },
  {
   "cell_type": "code",
   "execution_count": null,
   "id": "083f4caf-befe-49b7-becc-8edfeb72898e",
   "metadata": {},
   "outputs": [],
   "source": [
    "URL = \"https://earth-search.aws.element84.com/v0\"\n",
    "catalog = pystac_client.Client.open(URL)"
   ]
  },
  {
   "cell_type": "code",
   "execution_count": null,
   "id": "6613c712-069c-4c16-8310-5e151bdb83d9",
   "metadata": {},
   "outputs": [],
   "source": [
    "gaza_geom = admin_1.loc['MZ-G','geometry']"
   ]
  },
  {
   "cell_type": "code",
   "execution_count": null,
   "id": "0acc9982-27a8-4b86-8df3-694fda91f71f",
   "metadata": {},
   "outputs": [],
   "source": [
    "items = catalog.search(\n",
    "    intersects=geometry.mapping(geometry.box(*gaza_geom.bounds)),\n",
    "    collections=[\"sentinel-s2-l2a-cogs\"],\n",
    "    datetime=\"2019-01-01/2019-07-01\",\n",
    ").get_all_items()\n",
    "len(items)"
   ]
  },
  {
   "cell_type": "markdown",
   "id": "63577b4f-7fb3-4a05-bc0e-e325aeeba61b",
   "metadata": {},
   "source": [
    "### 2c. For each geom reduce our stackstac as ECS-dask-backended XArray"
   ]
  },
  {
   "cell_type": "code",
   "execution_count": null,
   "id": "0401c98b-62ac-4e5d-91d1-ad712ca3ea0c",
   "metadata": {},
   "outputs": [],
   "source": [
    "cluster.close()"
   ]
  },
  {
   "cell_type": "code",
   "execution_count": null,
   "id": "48863f43-9399-4216-a689-d7826f329a97",
   "metadata": {
    "tags": []
   },
   "outputs": [],
   "source": [
    "dfs = []\n",
    "\n",
    "for idx, row in gdf.loc[gdf['area']>1e8].iloc[6:].iterrows():\n",
    "    \n",
    "    print (idx)\n",
    "    client.wait_for_workers(20)\n",
    "    \n",
    "    geom = row['geometry']\n",
    "    \n",
    "    xr_stack = stackstac.stack(\n",
    "        items,\n",
    "        resolution=10,\n",
    "        bounds_latlon=geom.bounds,\n",
    "        resampling=Resampling.bilinear,\n",
    "        errors_as_nodata=(\n",
    "            IOError(r\"HTTP response code: \\d\\d\\d\"),\n",
    "            RasterioIOError(\".*\"),\n",
    "        ),\n",
    "    )\n",
    "    \n",
    "    # swap geom to utm\n",
    "    crs_wgs84 = CRS('EPSG:4326')\n",
    "    crs_utm = CRS(xr_stack.crs)\n",
    "    wgs2utm = Transformer.from_crs(crs_wgs84, crs_utm, always_xy=True).transform\n",
    "    utm_geom = transform(wgs2utm, geom)\n",
    "    \n",
    "    out_shp = (xr_stack.coords['y'].shape[0], xr_stack.coords['x'].shape[0])\n",
    "    \n",
    "    # burn in mask\n",
    "    mask_arr = features.rasterize(\n",
    "        [utm_geom], \n",
    "        out_shape=out_shp, \n",
    "        fill=0, \n",
    "        transform=xr_stack.transform, \n",
    "        all_touched=False, \n",
    "        default_value=1, \n",
    "        dtype=None\n",
    "    )\n",
    "    \n",
    "    # build computation graph for NDVI: (NIR-red) / (NIR+RED)\n",
    "    xr_stack.coords['mask'] = (('y', 'x'), mask_arr)\n",
    "    \n",
    "    xr_stack = xr_stack.where(xr_stack.mask==1)\n",
    "    \n",
    "    xr_ndvi = (xr_stack.sel({'band':'B08'}) - xr_stack.sel({'band':'B04'})) / (xr_stack.sel({'band':'B08'}) + xr_stack.sel({'band':'B04'})) \n",
    "    xr_ndvi = xr_ndvi.mean(dim=['x','y'])\n",
    "    \n",
    "    # call the compute with the dask backend\n",
    "    result = xr_ndvi.compute()\n",
    "    \n",
    "    # cast to pandas\n",
    "    df = result.to_pandas()\n",
    "    df.index = df.index.date\n",
    "    \n",
    "    dfs.append(df)"
   ]
  },
  {
   "cell_type": "code",
   "execution_count": null,
   "id": "cbd7244f-092d-41f8-9d92-1ad3a546095f",
   "metadata": {},
   "outputs": [],
   "source": [
    "dfs"
   ]
  },
  {
   "cell_type": "code",
   "execution_count": null,
   "id": "0d08ae7c-4195-4719-9c26-d66aec39078e",
   "metadata": {},
   "outputs": [],
   "source": [
    "import pickle"
   ]
  },
  {
   "cell_type": "code",
   "execution_count": null,
   "id": "717421e3-830f-48f2-ade4-fb09e19ee95e",
   "metadata": {},
   "outputs": [],
   "source": [
    "pickle.dump(dfs, open(os.path.join(root,'data','dfs_pickle_6:.pkl'),'wb'))"
   ]
  },
  {
   "cell_type": "code",
   "execution_count": null,
   "id": "5417d55f-d098-4caf-98c4-80c722678b0e",
   "metadata": {},
   "outputs": [],
   "source": []
  },
  {
   "cell_type": "markdown",
   "id": "6fdf761d-7f10-434f-95a3-671fe5d0ea50",
   "metadata": {},
   "source": [
    "### 2d. Populate graph with revisits"
   ]
  },
  {
   "cell_type": "code",
   "execution_count": null,
   "id": "6bae8ab7-ab94-4c31-826e-4f2b4bdc8b1f",
   "metadata": {},
   "outputs": [],
   "source": []
  },
  {
   "cell_type": "markdown",
   "id": "c6bc5987-40a8-43c8-a795-19c7a9a88a6f",
   "metadata": {},
   "source": [
    "## 3. Demo graph queries"
   ]
  },
  {
   "cell_type": "code",
   "execution_count": null,
   "id": "32fa6c54-1dfe-4d41-bd0e-5923405fc483",
   "metadata": {},
   "outputs": [],
   "source": []
  },
  {
   "cell_type": "code",
   "execution_count": null,
   "id": "9454274a-0d56-44ff-afae-be2c5cd85232",
   "metadata": {},
   "outputs": [],
   "source": []
  },
  {
   "cell_type": "code",
   "execution_count": null,
   "id": "d0ef31b4-f223-4410-a3e0-4f453a030817",
   "metadata": {},
   "outputs": [],
   "source": []
  },
  {
   "cell_type": "markdown",
   "id": "e714747f-9439-4d75-928b-302fe3ecfe8c",
   "metadata": {},
   "source": [
    "##### archive"
   ]
  },
  {
   "cell_type": "code",
   "execution_count": null,
   "id": "0991ae88-d792-4975-89e3-769836d737e6",
   "metadata": {
    "tags": []
   },
   "outputs": [],
   "source": [
    "cluster = ECSCluster(\n",
    "    cluster_arn=\"arn:aws:ecs:eu-central-1:413730540186:cluster/LK-dask-test-2\",\n",
    "    image=\"daskdev/dask:latest\",\n",
    "    environment={'EXTRA_PIP_PACKAGES':'stackstac'},\n",
    "    scheduler_cpu=1024,\n",
    "    scheduler_mem=4096,\n",
    "    worker_cpu=2048,\n",
    "    worker_mem=8192,\n",
    "    n_workers=4,\n",
    "    #fargate_use_private_ip=False,\n",
    "    #scheduler_timeout=\"15 minutes\"\n",
    ")"
   ]
  },
  {
   "cell_type": "code",
   "execution_count": null,
   "id": "5dd28e7e-e400-4019-9567-561d9eea90da",
   "metadata": {
    "tags": []
   },
   "outputs": [],
   "source": [
    "cluster = FargateCluster(region_name=\"eu-central-1\")"
   ]
  },
  {
   "cell_type": "code",
   "execution_count": null,
   "id": "f6720cf8-050e-4913-b4df-98ed4a2cd34f",
   "metadata": {},
   "outputs": [],
   "source": []
  },
  {
   "cell_type": "code",
   "execution_count": null,
   "id": "cef4f8f1-3a6d-4a02-a7c8-0d74c9e72c0f",
   "metadata": {},
   "outputs": [],
   "source": [
    "xr_stack = stackstac.stack(\n",
    "    items,\n",
    "    resolution=10,\n",
    "    bounds_latlon=(35.15, -18.32, 35.17, -18.34),\n",
    "    resampling=Resampling.bilinear\n",
    ")"
   ]
  },
  {
   "cell_type": "code",
   "execution_count": null,
   "id": "29842bce-e872-41a3-99f4-56eb7ee58975",
   "metadata": {},
   "outputs": [],
   "source": [
    "result"
   ]
  },
  {
   "cell_type": "code",
   "execution_count": null,
   "id": "16378490-6cee-4225-894e-baf078bdaa44",
   "metadata": {},
   "outputs": [],
   "source": [
    "cluster.close()"
   ]
  },
  {
   "cell_type": "code",
   "execution_count": null,
   "id": "d3bb4cc1-2cb0-4104-a665-6c8665fca13f",
   "metadata": {},
   "outputs": [],
   "source": [
    "cluster = FargateCluster(\n",
    "    cluster_name_template='LK-dask-test-2',\n",
    "    region_name=\"eu-central-1\",\n",
    "    image=\"daskdev/dask:latest\",\n",
    "    environment={'EXTRA_PIP_PACKAGES':'stackstac'},\n",
    "    scheduler_cpu=1024,\n",
    "    scheduler_mem=4096,\n",
    "    worker_cpu=2048,\n",
    "    worker_mem=8192,\n",
    "    #execution_role_arn=\"arn:aws:iam::260849320:role/dask-fargate-execution\", #UPDATED\n",
    "    #task_role_arn='arn:aws:iam::260849720:role/dask-fargate-task', #UPDATED\n",
    "    #task_role_policies=[]\n",
    "    #vpc='vpc-0280b92031b9f010c',\n",
    "    #subnets=[\n",
    "    #    'subnet-06cc237e',\n",
    "    #    'subnet-2a505861',\n",
    "    #    'subnet-cf04f2',\n",
    "    #    'subnet-3a2756',\n",
    "    #    'subnet-08ba9c01b59b6'\n",
    "    #], # updated\n",
    "    #security_groups=['sg-02fe57ad943901'], #updated\n",
    "    #skip_cleanup = True,\n",
    "    n_workers=4,\n",
    "    fargate_use_private_ip=False,\n",
    "    scheduler_timeout=\"15 minutes\"\n",
    ")"
   ]
  },
  {
   "cell_type": "code",
   "execution_count": null,
   "id": "61d91da6-24b5-4443-a8da-a8d06bb93868",
   "metadata": {},
   "outputs": [],
   "source": []
  }
 ],
 "metadata": {
  "kernelspec": {
   "display_name": "Python 3",
   "language": "python",
   "name": "python3"
  },
  "language_info": {
   "codemirror_mode": {
    "name": "ipython",
    "version": 3
   },
   "file_extension": ".py",
   "mimetype": "text/x-python",
   "name": "python",
   "nbconvert_exporter": "python",
   "pygments_lexer": "ipython3",
   "version": "3.8.13"
  }
 },
 "nbformat": 4,
 "nbformat_minor": 5
}
