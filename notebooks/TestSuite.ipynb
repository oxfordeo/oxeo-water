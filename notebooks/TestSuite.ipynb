{
 "cells": [
  {
   "cell_type": "code",
   "execution_count": 1,
   "metadata": {},
   "outputs": [],
   "source": [
    "%load_ext autoreload\n",
    "%autoreload 2\n",
    "\n",
    "import os \n",
    "os.environ[\"LOGURU_LEVEL\"] = \"INFO\"\n",
    "\n",
    "from oxeo.core.models.data import data2gdf, fetch_water_list\n",
    "from oxeo.core.models.tile import get_all_paths\n",
    "from oxeo.core.models.waterbody import get_waterbodies\n",
    "from oxeo.water.testsuite.testsuite import PixelTestWaterBody, TrainingPixelTestWaterBody\n",
    "from oxeo.water.models.waterbody_predictor import WaterBodyPredictor"
   ]
  },
  {
   "cell_type": "code",
   "execution_count": 2,
   "metadata": {},
   "outputs": [],
   "source": [
    "DB_USER = os.environ.get('DB_USER')\n",
    "DB_PASSWORD = os.environ.get('DB_PASSWORD')\n",
    "DB_HOST = os.environ.get('DB_HOST')\n"
   ]
  },
  {
   "cell_type": "code",
   "execution_count": 3,
   "metadata": {},
   "outputs": [],
   "source": [
    "from sqlalchemy import create_engine\n",
    "engine = create_engine(f'postgresql+psycopg2://{DB_USER}:{DB_PASSWORD}@{DB_HOST}:5432/geom')\n",
    "data = fetch_water_list([25906117, -2939785], engine)\n",
    "gdf = data2gdf(data)"
   ]
  },
  {
   "cell_type": "code",
   "execution_count": 4,
   "metadata": {},
   "outputs": [
    {
     "name": "stderr",
     "output_type": "stream",
     "text": [
      "/home/fran/miniconda3/envs/oxeo/lib/python3.9/site-packages/sentinelhub/areas.py:105: ShapelyDeprecationWarning: The 'cascaded_union()' function is deprecated. Use 'unary_union()' instead.\n",
      "  return shapely.ops.cascaded_union(shape_list)\n",
      "2022-03-02 13:58:45,093 |     INFO | tile:get_all_paths:128 - All tiles for the supplied geometry: ['/home/fran/tiles/34_H_10000_26_623/sentinel-2', '/home/fran/tiles/34_H_10000_26_623/landsat-8']\n"
     ]
    }
   ],
   "source": [
    "\n",
    "constellations=[\"sentinel-2\", \"landsat-8\"]\n",
    "root_dir=\"/home/fran/tiles\"\n",
    "all_paths = get_all_paths(gdf, constellations, root_dir)"
   ]
  },
  {
   "cell_type": "code",
   "execution_count": 5,
   "metadata": {},
   "outputs": [
    {
     "name": "stderr",
     "output_type": "stream",
     "text": [
      "/home/fran/miniconda3/envs/oxeo/lib/python3.9/site-packages/sentinelhub/areas.py:105: ShapelyDeprecationWarning: The 'cascaded_union()' function is deprecated. Use 'unary_union()' instead.\n",
      "  return shapely.ops.cascaded_union(shape_list)\n"
     ]
    }
   ],
   "source": [
    "waterbodies = get_waterbodies(gdf, constellations, root_dir)"
   ]
  },
  {
   "cell_type": "code",
   "execution_count": 6,
   "metadata": {},
   "outputs": [
    {
     "data": {
      "text/plain": [
       "'/home/fran/tiles/34_H_10000_26_623/sentinel-2/mask'"
      ]
     },
     "execution_count": 6,
     "metadata": {},
     "output_type": "execute_result"
    }
   ],
   "source": [
    "waterbodies[1].paths[0].mask_path"
   ]
  },
  {
   "cell_type": "code",
   "execution_count": 7,
   "metadata": {},
   "outputs": [],
   "source": [
    "# This Test just load waterbody masks from bucket or local. \n",
    "# It doesn't perform the prediction.\n",
    "ptwb = PixelTestWaterBody(y_true_mask_name = \"cnn\",\n",
    "                          y_pred_mask_name = \"cnn\",\n",
    "                          waterbody=waterbodies[1], \n",
    "                          start_date='2019-01-01', \n",
    "                          end_date='2019-01-30', \n",
    "                          metrics= {\"metric_1\": lambda x,y: [1]*len(x),\n",
    "                                    \"metric_2\": lambda x,y: [2]*len(x)},\n",
    "                          fs=None)"
   ]
  },
  {
   "cell_type": "code",
   "execution_count": null,
   "metadata": {},
   "outputs": [],
   "source": [
    "ptwb.calculate_metrics()"
   ]
  },
  {
   "cell_type": "code",
   "execution_count": 8,
   "metadata": {},
   "outputs": [
    {
     "name": "stderr",
     "output_type": "stream",
     "text": [
      "2022-03-02 13:59:00,467 |     INFO | timeseries:merge_masks_all_constellations:35 - merge_masks_all_constellations; constellation='sentinel-2'; waterbody.area_id=25906117: merging\n",
      "2022-03-02 13:59:00,468 |     INFO | timeseries:merge_masks_one_constellation:59 - merge_masks_one_constellation; constellation='sentinel-2'; 25906117: get details\n",
      "2022-03-02 13:59:00,469 |     INFO | tile:get_patch_size:84 - Loading to check size arr_path='/home/fran/tiles/34_H_10000_26_623/sentinel-2/data'\n",
      "2022-03-02 13:59:00,472 |     INFO | timeseries:merge_masks_one_constellation:71 - paths ['/home/fran/tiles/34_H_10000_26_623']\n",
      "2022-03-02 13:59:00,473 |     INFO | timeseries:merge_masks_one_constellation:74 - merge_masks_one_constellation; constellation='sentinel-2'; 25906117: create dataarray\n",
      "2022-03-02 13:59:00,520 |     INFO | timeseries:merge_masks_all_constellations:35 - merge_masks_all_constellations; constellation='landsat-8'; waterbody.area_id=25906117: merging\n",
      "2022-03-02 13:59:00,521 |     INFO | timeseries:merge_masks_one_constellation:59 - merge_masks_one_constellation; constellation='landsat-8'; 25906117: get details\n",
      "2022-03-02 13:59:00,522 |     INFO | tile:get_patch_size:84 - Loading to check size arr_path='/home/fran/tiles/34_H_10000_26_623/landsat-8/data'\n",
      "2022-03-02 13:59:00,524 |     INFO | timeseries:merge_masks_one_constellation:71 - paths ['/home/fran/tiles/34_H_10000_26_623']\n",
      "2022-03-02 13:59:00,525 |     INFO | timeseries:merge_masks_one_constellation:74 - merge_masks_one_constellation; constellation='landsat-8'; 25906117: create dataarray\n",
      "2022-03-02 13:59:00,549 |     INFO | tile:predict_tile:244 - From overlap with imagery and dates entered: min_idx=332, max_idx=343\n",
      "2022-03-02 13:59:00,551 |  WARNING | tile:predict_tile:254 - Found prev_max_idx=343, set min_idx=344\n",
      "2022-03-02 13:59:00,552 |  WARNING | tile:predict_tile:263 - min_idx is >= max_idx: nothing to do, skipping\n",
      "2022-03-02 13:59:00,555 |     INFO | tile:predict_tile:244 - From overlap with imagery and dates entered: min_idx=280, max_idx=284\n",
      "2022-03-02 13:59:00,556 |  WARNING | tile:predict_tile:254 - Found prev_max_idx=284, set min_idx=285\n",
      "2022-03-02 13:59:00,557 |  WARNING | tile:predict_tile:263 - min_idx is >= max_idx: nothing to do, skipping\n",
      "2022-03-02 13:59:00,559 |     INFO | timeseries:merge_masks_all_constellations:35 - merge_masks_all_constellations; constellation='sentinel-2'; waterbody.area_id=25906117: merging\n",
      "2022-03-02 13:59:00,559 |     INFO | timeseries:merge_masks_one_constellation:59 - merge_masks_one_constellation; constellation='sentinel-2'; 25906117: get details\n",
      "2022-03-02 13:59:00,560 |     INFO | tile:get_patch_size:84 - Loading to check size arr_path='/home/fran/tiles/34_H_10000_26_623/sentinel-2/data'\n",
      "2022-03-02 13:59:00,562 |     INFO | timeseries:merge_masks_one_constellation:71 - paths ['/home/fran/tiles/34_H_10000_26_623']\n",
      "2022-03-02 13:59:00,562 |     INFO | timeseries:merge_masks_one_constellation:74 - merge_masks_one_constellation; constellation='sentinel-2'; 25906117: create dataarray\n",
      "2022-03-02 13:59:00,605 |     INFO | timeseries:merge_masks_all_constellations:35 - merge_masks_all_constellations; constellation='landsat-8'; waterbody.area_id=25906117: merging\n",
      "2022-03-02 13:59:00,606 |     INFO | timeseries:merge_masks_one_constellation:59 - merge_masks_one_constellation; constellation='landsat-8'; 25906117: get details\n",
      "2022-03-02 13:59:00,607 |     INFO | tile:get_patch_size:84 - Loading to check size arr_path='/home/fran/tiles/34_H_10000_26_623/landsat-8/data'\n",
      "2022-03-02 13:59:00,608 |     INFO | timeseries:merge_masks_one_constellation:71 - paths ['/home/fran/tiles/34_H_10000_26_623']\n",
      "2022-03-02 13:59:00,609 |     INFO | timeseries:merge_masks_one_constellation:74 - merge_masks_one_constellation; constellation='landsat-8'; 25906117: create dataarray\n"
     ]
    },
    {
     "data": {
      "text/html": [
       "<div>\n",
       "<style scoped>\n",
       "    .dataframe tbody tr th:only-of-type {\n",
       "        vertical-align: middle;\n",
       "    }\n",
       "\n",
       "    .dataframe tbody tr th {\n",
       "        vertical-align: top;\n",
       "    }\n",
       "\n",
       "    .dataframe thead th {\n",
       "        text-align: right;\n",
       "    }\n",
       "</style>\n",
       "<table border=\"1\" class=\"dataframe\">\n",
       "  <thead>\n",
       "    <tr style=\"text-align: right;\">\n",
       "      <th></th>\n",
       "      <th>metric_1</th>\n",
       "      <th>metric_2</th>\n",
       "      <th>constellation</th>\n",
       "      <th>timestamp</th>\n",
       "    </tr>\n",
       "  </thead>\n",
       "  <tbody>\n",
       "    <tr>\n",
       "      <th>0</th>\n",
       "      <td>1</td>\n",
       "      <td>2</td>\n",
       "      <td>sentinel-2</td>\n",
       "      <td>2019-01-04 08:59:17.000000</td>\n",
       "    </tr>\n",
       "    <tr>\n",
       "      <th>1</th>\n",
       "      <td>1</td>\n",
       "      <td>2</td>\n",
       "      <td>sentinel-2</td>\n",
       "      <td>2019-01-05 08:59:17.000000</td>\n",
       "    </tr>\n",
       "    <tr>\n",
       "      <th>2</th>\n",
       "      <td>1</td>\n",
       "      <td>2</td>\n",
       "      <td>sentinel-2</td>\n",
       "      <td>2019-01-09 08:59:17.000000</td>\n",
       "    </tr>\n",
       "    <tr>\n",
       "      <th>3</th>\n",
       "      <td>1</td>\n",
       "      <td>2</td>\n",
       "      <td>sentinel-2</td>\n",
       "      <td>2019-01-10 08:59:17.000000</td>\n",
       "    </tr>\n",
       "    <tr>\n",
       "      <th>4</th>\n",
       "      <td>1</td>\n",
       "      <td>2</td>\n",
       "      <td>sentinel-2</td>\n",
       "      <td>2019-01-14 08:59:17.000000</td>\n",
       "    </tr>\n",
       "    <tr>\n",
       "      <th>5</th>\n",
       "      <td>1</td>\n",
       "      <td>2</td>\n",
       "      <td>sentinel-2</td>\n",
       "      <td>2019-01-15 08:59:17.000000</td>\n",
       "    </tr>\n",
       "    <tr>\n",
       "      <th>6</th>\n",
       "      <td>1</td>\n",
       "      <td>2</td>\n",
       "      <td>sentinel-2</td>\n",
       "      <td>2019-01-19 08:59:17.000000</td>\n",
       "    </tr>\n",
       "    <tr>\n",
       "      <th>7</th>\n",
       "      <td>1</td>\n",
       "      <td>2</td>\n",
       "      <td>sentinel-2</td>\n",
       "      <td>2019-01-20 08:59:17.000000</td>\n",
       "    </tr>\n",
       "    <tr>\n",
       "      <th>8</th>\n",
       "      <td>1</td>\n",
       "      <td>2</td>\n",
       "      <td>sentinel-2</td>\n",
       "      <td>2019-01-24 08:59:17.000000</td>\n",
       "    </tr>\n",
       "    <tr>\n",
       "      <th>9</th>\n",
       "      <td>1</td>\n",
       "      <td>2</td>\n",
       "      <td>sentinel-2</td>\n",
       "      <td>2019-01-25 08:59:17.000000</td>\n",
       "    </tr>\n",
       "    <tr>\n",
       "      <th>10</th>\n",
       "      <td>1</td>\n",
       "      <td>2</td>\n",
       "      <td>sentinel-2</td>\n",
       "      <td>2019-01-29 08:59:17.000000</td>\n",
       "    </tr>\n",
       "    <tr>\n",
       "      <th>11</th>\n",
       "      <td>1</td>\n",
       "      <td>2</td>\n",
       "      <td>landsat-8</td>\n",
       "      <td>2019-01-01 08:35:28.179508</td>\n",
       "    </tr>\n",
       "    <tr>\n",
       "      <th>12</th>\n",
       "      <td>1</td>\n",
       "      <td>2</td>\n",
       "      <td>landsat-8</td>\n",
       "      <td>2019-01-08 08:35:28.179508</td>\n",
       "    </tr>\n",
       "    <tr>\n",
       "      <th>13</th>\n",
       "      <td>1</td>\n",
       "      <td>2</td>\n",
       "      <td>landsat-8</td>\n",
       "      <td>2019-01-16 08:35:28.179508</td>\n",
       "    </tr>\n",
       "    <tr>\n",
       "      <th>14</th>\n",
       "      <td>1</td>\n",
       "      <td>2</td>\n",
       "      <td>landsat-8</td>\n",
       "      <td>2019-01-24 08:35:28.179508</td>\n",
       "    </tr>\n",
       "  </tbody>\n",
       "</table>\n",
       "</div>"
      ],
      "text/plain": [
       "    metric_1  metric_2 constellation                  timestamp\n",
       "0          1         2    sentinel-2 2019-01-04 08:59:17.000000\n",
       "1          1         2    sentinel-2 2019-01-05 08:59:17.000000\n",
       "2          1         2    sentinel-2 2019-01-09 08:59:17.000000\n",
       "3          1         2    sentinel-2 2019-01-10 08:59:17.000000\n",
       "4          1         2    sentinel-2 2019-01-14 08:59:17.000000\n",
       "5          1         2    sentinel-2 2019-01-15 08:59:17.000000\n",
       "6          1         2    sentinel-2 2019-01-19 08:59:17.000000\n",
       "7          1         2    sentinel-2 2019-01-20 08:59:17.000000\n",
       "8          1         2    sentinel-2 2019-01-24 08:59:17.000000\n",
       "9          1         2    sentinel-2 2019-01-25 08:59:17.000000\n",
       "10         1         2    sentinel-2 2019-01-29 08:59:17.000000\n",
       "11         1         2     landsat-8 2019-01-01 08:35:28.179508\n",
       "12         1         2     landsat-8 2019-01-08 08:35:28.179508\n",
       "13         1         2     landsat-8 2019-01-16 08:35:28.179508\n",
       "14         1         2     landsat-8 2019-01-24 08:35:28.179508"
      ]
     },
     "execution_count": 8,
     "metadata": {},
     "output_type": "execute_result"
    }
   ],
   "source": [
    "# This Test load a waterbody mask for the y_true from bucket or local. \n",
    "# It performs a prediction using a given predictor\n",
    "\n",
    "import gcsfs\n",
    "fs = gcsfs.GCSFileSystem()\n",
    "wbp = WaterBodyPredictor(fs, \"cnn\", revisit_chunk_size=5, \n",
    "                         ckpt_path=\"gs://oxeo-models/semseg/epoch_012.ckpt\",\n",
    "                         batch_size=4,\n",
    "                         bands=[\"nir\", \"red\", \"green\", \"blue\", \"swir1\", \"swir2\"],\n",
    "                         target_size=1000\n",
    "                         )\n",
    "\n",
    "ttwb = TrainingPixelTestWaterBody(predictor=wbp, y_true_mask_name = \"cnn\",\n",
    "                          waterbody=waterbodies[1], \n",
    "                          start_date='2019-01-01', \n",
    "                          end_date='2019-01-30', \n",
    "                          metrics= {\"metric_1\": lambda x,y: [1]*len(x),\n",
    "                                    \"metric_2\": lambda x,y: [2]*len(x)},\n",
    "                          fs=None)\n",
    "\n",
    "ttwb.calculate_metrics()"
   ]
  },
  {
   "cell_type": "code",
   "execution_count": null,
   "metadata": {},
   "outputs": [],
   "source": []
  }
 ],
 "metadata": {
  "interpreter": {
   "hash": "ab01ea4b194ce8e6e97af4420441949dd3a4d832737e254dc128b4494a544218"
  },
  "kernelspec": {
   "display_name": "Python 3.9.7 ('oxeo')",
   "language": "python",
   "name": "python3"
  },
  "language_info": {
   "codemirror_mode": {
    "name": "ipython",
    "version": 3
   },
   "file_extension": ".py",
   "mimetype": "text/x-python",
   "name": "python",
   "nbconvert_exporter": "python",
   "pygments_lexer": "ipython3",
   "version": "3.9.7"
  },
  "orig_nbformat": 4
 },
 "nbformat": 4,
 "nbformat_minor": 2
}
