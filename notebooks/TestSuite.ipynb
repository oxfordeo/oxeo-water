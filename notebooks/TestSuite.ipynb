{
 "cells": [
  {
   "cell_type": "code",
   "execution_count": null,
   "metadata": {},
   "outputs": [],
   "source": [
    "%load_ext autoreload\n",
    "%autoreload 2\n",
    "\n",
    "import os \n",
    "os.environ[\"LOGURU_LEVEL\"] = \"INFO\"\n",
    "\n",
    "from oxeo.water.models.utils import data2gdf, fetch_water_list, get_all_paths, get_waterbodies\n",
    "from oxeo.water.testsuite.testsuite import PixelTestWaterBody, TrainingPixelTestWaterBody\n",
    "from oxeo.water.models.waterbody_predictor import WaterBodyPredictor"
   ]
  },
  {
   "cell_type": "code",
   "execution_count": null,
   "metadata": {},
   "outputs": [],
   "source": [
    "DB_USER = os.environ.get('DB_USER')\n",
    "DB_PASSWORD = os.environ.get('DB_PASSWORD')\n",
    "DB_HOST = os.environ.get('DB_HOST')"
   ]
  },
  {
   "cell_type": "code",
   "execution_count": null,
   "metadata": {},
   "outputs": [],
   "source": [
    "from sqlalchemy import create_engine\n",
    "engine = create_engine(f'postgresql+psycopg2://{DB_USER}:{DB_PASSWORD}@{DB_HOST}:5432/geom')\n",
    "data = fetch_water_list([25906117, -2939785], engine)\n",
    "gdf = data2gdf(data)"
   ]
  },
  {
   "cell_type": "code",
   "execution_count": null,
   "metadata": {},
   "outputs": [],
   "source": [
    "\n",
    "constellations=[\"sentinel-2\", \"landsat-8\"]\n",
    "root_dir=\"/home/fran/tiles\"\n",
    "all_paths = get_all_paths(gdf, constellations, root_dir)"
   ]
  },
  {
   "cell_type": "code",
   "execution_count": null,
   "metadata": {},
   "outputs": [],
   "source": [
    "waterbodies = get_waterbodies(gdf, constellations, root_dir)"
   ]
  },
  {
   "cell_type": "code",
   "execution_count": null,
   "metadata": {},
   "outputs": [],
   "source": [
    "waterbodies[1].paths[0].mask_path"
   ]
  },
  {
   "cell_type": "code",
   "execution_count": null,
   "metadata": {},
   "outputs": [],
   "source": [
    "# This Test just load waterbody masks from bucket or local. \n",
    "# It doesn't perform the prediction.\n",
    "ptwb = PixelTestWaterBody(y_true_mask_name = \"cnn\",\n",
    "                          y_pred_mask_name = \"cnn\",\n",
    "                          waterbody=waterbodies[1], \n",
    "                          start_date='2019-01-01', \n",
    "                          end_date='2019-01-30', \n",
    "                          metrics= {\"metric_1\": lambda x,y: [1]*len(x),\n",
    "                                    \"metric_2\": lambda x,y: [2]*len(x)},\n",
    "                          fs=None)"
   ]
  },
  {
   "cell_type": "code",
   "execution_count": null,
   "metadata": {},
   "outputs": [],
   "source": [
    "ptwb.calculate_metrics()"
   ]
  },
  {
   "cell_type": "code",
   "execution_count": null,
   "metadata": {},
   "outputs": [],
   "source": [
    "# This Test load a waterbody mask for the y_true from bucket or local. \n",
    "# It performs a prediction using a given predictor\n",
    "\n",
    "import gcsfs\n",
    "fs = gcsfs.GCSFileSystem()\n",
    "wbp = WaterBodyPredictor(fs, \"cnn\", revisit_chunk_size=5, \n",
    "                         ckpt_path=\"gs://oxeo-models/semseg/epoch_012.ckpt\",\n",
    "                         batch_size=4,\n",
    "                         bands=[\"nir\", \"red\", \"green\", \"blue\", \"swir1\", \"swir2\"],\n",
    "                         target_size=1000\n",
    "                         )\n",
    "\n",
    "ttwb = TrainingPixelTestWaterBody(predictor=wbp, y_true_mask_name = \"cnn\",\n",
    "                          waterbody=waterbodies[1], \n",
    "                          start_date='2019-01-01', \n",
    "                          end_date='2019-01-30', \n",
    "                          metrics= {\"metric_1\": lambda x,y: [1]*len(x),\n",
    "                                    \"metric_2\": lambda x,y: [2]*len(x)},\n",
    "                          fs=None)\n",
    "\n",
    "ttwb.calculate_metrics()"
   ]
  },
  {
   "cell_type": "code",
   "execution_count": null,
   "metadata": {},
   "outputs": [],
   "source": [
    "ttwb.calculate_metrics()"
   ]
  }
 ],
 "metadata": {
  "interpreter": {
   "hash": "ab01ea4b194ce8e6e97af4420441949dd3a4d832737e254dc128b4494a544218"
  },
  "kernelspec": {
   "display_name": "Python 3.9.7 ('oxeo')",
   "language": "python",
   "name": "python3"
  },
  "language_info": {
   "codemirror_mode": {
    "name": "ipython",
    "version": 3
   },
   "file_extension": ".py",
   "mimetype": "text/x-python",
   "name": "python",
   "nbconvert_exporter": "python",
   "pygments_lexer": "ipython3",
   "version": "3.9.7"
  },
  "orig_nbformat": 4
 },
 "nbformat": 4,
 "nbformat_minor": 2
}
