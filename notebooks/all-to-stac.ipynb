{
 "cells": [
  {
   "cell_type": "code",
   "execution_count": null,
   "id": "21376a16",
   "metadata": {},
   "outputs": [],
   "source": [
    "%load_ext autoreload\n",
    "\n",
    "%autoreload 2\n",
    "import matplotlib.pyplot as plt\n",
    "import numpy as np\n",
    "from skimage.exposure import rescale_intensity\n",
    "\n",
    "from sentinelhub import CRS, BBox, DataCollection, SHConfig\n",
    "from sentinelhub import SentinelHubCatalog\n",
    "from sentinelhub import SHConfig\n",
    "from oxeo.core.stac import landsat\n",
    "from oxeo.core.stac.constants import USWEST_URL ,ELEMENT84_URL\n",
    "uswest_config = SHConfig()\n",
    "uswest_config.sh_base_url = USWEST_URL\n",
    "\n",
    "uswest_catalog = SentinelHubCatalog(config=uswest_config)\n",
    "eu_catalog = SentinelHubCatalog(SHConfig())\n",
    "from oxeo.core.data import get_aoi_from_landsat_shub_catalog, get_aoi_from_stac_catalog\n",
    "import os\n",
    "os.environ[\"AWS_REQUEST_PAYER\"] = \"requester\"\n",
    "\n",
    "from oxeo.core.utils import get_bounding_box"
   ]
  },
  {
   "cell_type": "code",
   "execution_count": null,
   "id": "cde120f4",
   "metadata": {},
   "outputs": [],
   "source": [
    "box = get_bounding_box({\"geometry\": {\n",
    "        \"type\": \"Polygon\",\n",
    "        \"coordinates\": [\n",
    "          [\n",
    "            [\n",
    "              14.911966323852539,\n",
    "              37.30573714593416\n",
    "            ],\n",
    "            [\n",
    "              14.987583160400392,\n",
    "              37.30573714593416\n",
    "            ],\n",
    "            [\n",
    "              14.987583160400392,\n",
    "              37.345050859282736\n",
    "            ],\n",
    "            [\n",
    "              14.911966323852539,\n",
    "              37.345050859282736\n",
    "            ],\n",
    "            [\n",
    "              14.911966323852539,\n",
    "              37.30573714593416\n",
    "            ]\n",
    "          ]\n",
    "        ]\n",
    "      }})"
   ]
  },
  {
   "cell_type": "code",
   "execution_count": null,
   "id": "a59176a7",
   "metadata": {},
   "outputs": [],
   "source": [
    "bbox = BBox(box, crs=CRS.WGS84)#BBox([49.9604, 44.7176, 51.0481, 45.2324], crs=CRS.WGS84) #BBox((-71.40254974365233, -46.9537775782648, -71.26213073730467, -46.89163931213445), crs=CRS.WGS84)#\n",
    "time_interval = \"2020-12-10\", \"2021-02-01\" #\"1994-12-10\", \"1995-02-01\"\n",
    "search_params = {\n",
    "}\n"
   ]
  },
  {
   "cell_type": "code",
   "execution_count": null,
   "id": "40a0e303",
   "metadata": {},
   "outputs": [],
   "source": [
    "s1_aoi = get_aoi_from_stac_catalog(catalog=eu_catalog,\n",
    "                                   data_collection=DataCollection.SENTINEL1,\n",
    "                                   bbox=bbox,\n",
    "                                   time_interval=time_interval,\n",
    "                                   search_params={})\n",
    "\n",
    "\n",
    "                                        \n"
   ]
  },
  {
   "cell_type": "code",
   "execution_count": null,
   "id": "e1a74793",
   "metadata": {},
   "outputs": [],
   "source": [
    "s1_aoi\n"
   ]
  },
  {
   "cell_type": "code",
   "execution_count": null,
   "id": "4d1bac9a",
   "metadata": {},
   "outputs": [],
   "source": [
    "vv = s1_aoi.sel(band=\"vv\").mean(axis=0).compute()\n",
    "vh = s1_aoi.sel(band=\"vh\").mean(axis=0).compute()\n"
   ]
  },
  {
   "cell_type": "code",
   "execution_count": null,
   "id": "c003437b",
   "metadata": {},
   "outputs": [],
   "source": [
    "vv_thresh = 80\n",
    "rgb = np.where(\n",
    "    vv < vv_thresh,\n",
    "    [vv, 8 * vv, 0.5 + 3 * vv + 2000 * vh],\n",
    "    [3 * vv, 1.1 * vv + 8.75 * vh, 1.75 * vh],\n",
    ").transpose(1, 2, 0)\n",
    "\n",
    "cutoff = 2000\n",
    "dis = rescale_intensity(rgb, in_range=(0, cutoff), out_range=(0, 1))\n",
    "\n",
    "plt.imshow(dis)"
   ]
  },
  {
   "cell_type": "code",
   "execution_count": null,
   "id": "a5b77e35",
   "metadata": {},
   "outputs": [],
   "source": [
    "s2_aoi = get_aoi_from_stac_catalog(catalog=ELEMENT84_URL,\n",
    "                                   data_collection=\"sentinel-s2-l2a-cogs\",\n",
    "                                   bbox=bbox,\n",
    "                                   time_interval=time_interval,\n",
    "                                   search_params={})\n",
    "\n",
    "img = s2_aoi.sel(band=[\"B04\",\"B03\",\"B02\"])[:5].mean(axis=0)[:,:,:].values.transpose(1,2,0)\n",
    "plt.imshow(rescale_intensity(img,(np.nanmin(img), np.nanmax(img))))"
   ]
  },
  {
   "cell_type": "code",
   "execution_count": null,
   "id": "ca13feff",
   "metadata": {},
   "outputs": [],
   "source": [
    "landsat_aoi = get_aoi_from_stac_catalog(catalog=uswest_catalog,\n",
    "                                        data_collection=DataCollection.LANDSAT_OT_L2,\n",
    "                                        bbox=bbox,\n",
    "                                        time_interval=time_interval,\n",
    "                                        search_params={},\n",
    "                                        category=\"T1\")\n",
    "                                        \n",
    "\n",
    "img = landsat_aoi.sel(band=['SR_B4', 'SR_B3', 'SR_B2'])[:5].mean(axis=0)[:,:,:].values.transpose(1,2,0)\n",
    "plt.imshow(rescale_intensity(img,(np.nanmin(img), np.nanmax(img))))\n"
   ]
  },
  {
   "cell_type": "code",
   "execution_count": null,
   "id": "0cb64233",
   "metadata": {},
   "outputs": [],
   "source": [
    "landsat_aoi = get_aoi_from_stac_catalog(catalog=uswest_catalog,\n",
    "                                        data_collection=DataCollection.LANDSAT_ETM_L2,\n",
    "                                        bbox=bbox,\n",
    "                                        time_interval=time_interval,\n",
    "                                        search_params={},\n",
    "                                        category=\"T1\")\n",
    "                                        \n",
    "\n",
    "img = landsat_aoi.sel(band=['red', 'green', 'blue'])[:5].median(axis=0)[:,:,:].values.transpose(1,2,0)\n",
    "plt.imshow(rescale_intensity(img,(np.nanmin(img), np.nanmax(img))))\n"
   ]
  },
  {
   "cell_type": "code",
   "execution_count": null,
   "id": "a5a7a32a",
   "metadata": {},
   "outputs": [],
   "source": [
    "landsat_aoi = get_aoi_from_stac_catalog(catalog=uswest_catalog,\n",
    "                                        data_collection=DataCollection.LANDSAT_TM_L2,\n",
    "                                        bbox=bbox,\n",
    "                                        time_interval= (\"1994-12-10\", \"1995-02-01\"),\n",
    "                                        search_params={},\n",
    "                                        category=\"T1\")\n",
    "                                        \n",
    "\n",
    "img = landsat_aoi.sel(band=['red', 'green', 'blue'])[:5].median(axis=0)[:,:,:].values.transpose(1,2,0)\n",
    "plt.imshow(rescale_intensity(img,(np.nanmin(img), np.nanmax(img))))\n"
   ]
  },
  {
   "cell_type": "markdown",
   "id": "a34ada49",
   "metadata": {},
   "source": [
    "# Prediction"
   ]
  },
  {
   "cell_type": "code",
   "execution_count": null,
   "id": "1277fd05",
   "metadata": {},
   "outputs": [],
   "source": [
    "\n",
    "import numpy as np\n",
    "\n",
    "\n",
    "from oxeo.water.models.segmentation import Segmentation2DPredictor\n",
    "from oxeo.core.models.tile import load_tile_from_stac_as_dict, load_aoi_from_stac_as_dict, tile_from_id, TilePath, tile_to_geom\n",
    "from oxeo.core import data\n",
    "import matplotlib.pyplot as plt"
   ]
  },
  {
   "cell_type": "code",
   "execution_count": null,
   "id": "7d1c0f11",
   "metadata": {},
   "outputs": [],
   "source": [
    "from oxeo.core.constants import BAND_PREDICTOR_ORDER\n",
    "\n"
   ]
  },
  {
   "cell_type": "code",
   "execution_count": null,
   "id": "bb6783e5",
   "metadata": {
    "scrolled": true
   },
   "outputs": [],
   "source": [
    "s2_predictor = Segmentation2DPredictor(ckpt_path=\"../data/semseg_epoch_012.ckpt\", fs=None,\n",
    "                                    bands=BAND_PREDICTOR_ORDER[\"sentinel-2\"])\n",
    "preds = s2_predictor.predict_stac_aoi(constellation=\"sentinel-2\",\n",
    "                           catalog=ELEMENT84_URL,\n",
    "                           data_collection=\"sentinel-s2-l2a-cogs\",\n",
    "                           bbox=bbox,\n",
    "                           time_interval=time_interval,\n",
    "                           search_params={},\n",
    "                           revisit=slice(0,2))\n",
    "                           \n",
    "plt.imshow(preds[0])"
   ]
  },
  {
   "cell_type": "code",
   "execution_count": null,
   "id": "d3c744bb",
   "metadata": {},
   "outputs": [],
   "source": [
    "l8_predictor = Segmentation2DPredictor(ckpt_path=\"../data/semseg_epoch_012.ckpt\", fs=None,\n",
    "                                    bands=BAND_PREDICTOR_ORDER[\"landsat-8\"],\n",
    "                                    target_resolution=30)\n",
    "\n",
    "preds = l8_predictor.predict_stac_aoi(constellation=\"landsat-8\",\n",
    "                           catalog=uswest_catalog,\n",
    "                           data_collection=DataCollection.LANDSAT_OT_L2,\n",
    "                           bbox=bbox,\n",
    "                           time_interval=time_interval,\n",
    "                           search_params={},\n",
    "                           revisit=slice(0,2))\n",
    "plt.imshow(preds[0])"
   ]
  },
  {
   "cell_type": "code",
   "execution_count": null,
   "id": "c4401342",
   "metadata": {},
   "outputs": [],
   "source": [
    "l7_predictor = Segmentation2DPredictor(ckpt_path=\"../data/semseg_epoch_012.ckpt\", fs=None,\n",
    "                                    bands=BAND_PREDICTOR_ORDER[\"landsat-7\"],\n",
    "                                    target_resolution=30)\n",
    "\n",
    "preds = l7_predictor.predict_stac_aoi(constellation=\"landsat-7\",\n",
    "                           catalog=uswest_catalog,\n",
    "                           data_collection=DataCollection.LANDSAT_ETM_L2,\n",
    "                           bbox=bbox,\n",
    "                           time_interval=time_interval,\n",
    "                           search_params={},\n",
    "                           revisit=slice(0,2))\n",
    "plt.imshow(preds[0])"
   ]
  },
  {
   "cell_type": "code",
   "execution_count": null,
   "id": "0735f8e1",
   "metadata": {},
   "outputs": [],
   "source": [
    "l5_predictor = Segmentation2DPredictor(ckpt_path=\"../data/semseg_epoch_012.ckpt\", fs=None,\n",
    "                                    bands=BAND_PREDICTOR_ORDER[\"landsat-5\"],\n",
    "                                    target_resolution=60)\n",
    "\n",
    "preds = l5_predictor.predict_stac_aoi(constellation=\"landsat-5\",\n",
    "                           catalog=uswest_catalog,\n",
    "                           data_collection=DataCollection.LANDSAT_TM_L2,\n",
    "                           bbox=bbox,\n",
    "                           time_interval=(\"1994-12-10\", \"1995-02-01\"),\n",
    "                           search_params={},\n",
    "                           revisit=slice(0,2))\n",
    "plt.imshow(preds[0])"
   ]
  },
  {
   "cell_type": "code",
   "execution_count": null,
   "id": "1be47ec3",
   "metadata": {},
   "outputs": [],
   "source": []
  }
 ],
 "metadata": {
  "kernelspec": {
   "display_name": "Python 3 (ipykernel)",
   "language": "python",
   "name": "python3"
  },
  "language_info": {
   "codemirror_mode": {
    "name": "ipython",
    "version": 3
   },
   "file_extension": ".py",
   "mimetype": "text/x-python",
   "name": "python",
   "nbconvert_exporter": "python",
   "pygments_lexer": "ipython3",
   "version": "3.9.13"
  }
 },
 "nbformat": 4,
 "nbformat_minor": 5
}
