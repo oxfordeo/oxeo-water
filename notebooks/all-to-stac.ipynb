{
 "cells": [
  {
   "cell_type": "code",
   "execution_count": null,
   "id": "21376a16",
   "metadata": {},
   "outputs": [],
   "source": [
    "%load_ext autoreload\n",
    "\n",
    "%autoreload 2\n",
    "\n",
    "\n",
    "from sentinelhub import CRS, BBox, DataCollection, SHConfig\n",
    "from sentinelhub import SentinelHubCatalog\n",
    "from sentinelhub import SHConfig\n",
    "from oxeo.core.stac import landsat\n",
    "from oxeo.core.stac.constants import USWEST_URL ,ELEMENT84_URL\n",
    "uswest_config = SHConfig()\n",
    "uswest_config.sh_base_url = USWEST_URL\n",
    "\n",
    "uswest_catalog = SentinelHubCatalog(config=uswest_config)\n",
    "eu_catalog = SentinelHubCatalog(SHConfig())\n",
    "from oxeo.core.data import get_aoi_from_landsat_shub_catalog, get_aoi_from_stac_catalog\n",
    "import os\n",
    "os.environ[\"AWS_REQUEST_PAYER\"] = \"requester\"\n",
    "\n",
    "from oxeo.core.utils import get_bounding_box"
   ]
  },
  {
   "cell_type": "code",
   "execution_count": null,
   "id": "cde120f4",
   "metadata": {},
   "outputs": [],
   "source": [
    "box = [49.9604, 44.7176, 51.0481, 45.2324]"
   ]
  },
  {
   "cell_type": "code",
   "execution_count": null,
   "id": "a59176a7",
   "metadata": {},
   "outputs": [],
   "source": [
    "bbox = BBox(box, crs=CRS.WGS84)#BBox([49.9604, 44.7176, 51.0481, 45.2324], crs=CRS.WGS84) #BBox((-71.40254974365233, -46.9537775782648, -71.26213073730467, -46.89163931213445), crs=CRS.WGS84)#\n",
    "time_interval = \"2020-12-10\", \"2021-02-01\" #\"1994-12-10\", \"1995-02-01\"\n",
    "search_params = {\n",
    "}\n"
   ]
  },
  {
   "cell_type": "code",
   "execution_count": null,
   "id": "40a0e303",
   "metadata": {},
   "outputs": [],
   "source": [
    "s1_aoi = get_aoi_from_stac_catalog(catalog=eu_catalog,\n",
    "                                   data_collection=DataCollection.SENTINEL1,\n",
    "                                   bbox=bbox,\n",
    "                                   time_interval=time_interval,\n",
    "                                   search_params={})\n",
    "\n",
    "\n",
    "                                        \n"
   ]
  },
  {
   "cell_type": "code",
   "execution_count": null,
   "id": "e86c125b",
   "metadata": {},
   "outputs": [],
   "source": [
    "s1_aoi"
   ]
  },
  {
   "cell_type": "code",
   "execution_count": null,
   "id": "a5b77e35",
   "metadata": {},
   "outputs": [],
   "source": [
    "s2_aoi = get_aoi_from_stac_catalog(catalog=ELEMENT84_URL,\n",
    "                                   data_collection=\"sentinel-s2-l2a-cogs\",\n",
    "                                   bbox=bbox,\n",
    "                                   time_interval=time_interval,\n",
    "                                   search_params={})\n",
    "\n",
    "s2_aoi"
   ]
  },
  {
   "cell_type": "code",
   "execution_count": null,
   "id": "ca13feff",
   "metadata": {},
   "outputs": [],
   "source": [
    "landsat_aoi = get_aoi_from_stac_catalog(catalog=uswest_catalog,\n",
    "                                        data_collection=DataCollection.LANDSAT_OT_L2,\n",
    "                                        bbox=bbox,\n",
    "                                        time_interval=time_interval,\n",
    "                                        search_params={},\n",
    "                                        category=\"T1\")\n",
    "                                        \n",
    "\n",
    "landsat_aoi"
   ]
  },
  {
   "cell_type": "code",
   "execution_count": null,
   "id": "fd0a971a",
   "metadata": {},
   "outputs": [],
   "source": [
    "import matplotlib.pyplot as plt\n",
    "import numpy as np\n",
    "from skimage.exposure import rescale_intensity\n",
    "img = s1_aoi.sel(band=[\"vh\",\"vv\"])[:3].median(axis=0)[0,:,:].compute()\n",
    "plt.imshow(img)"
   ]
  },
  {
   "cell_type": "code",
   "execution_count": null,
   "id": "69daeb32",
   "metadata": {},
   "outputs": [],
   "source": [
    "img = s2_aoi.sel(band=[\"B04\",\"B03\",\"B02\"])[:3].median(axis=0)[:,:1000,:1000].values.transpose(1,2,0)\n",
    "plt.imshow(rescale_intensity(img,(np.nanmin(img), np.nanmax(img))))"
   ]
  },
  {
   "cell_type": "code",
   "execution_count": null,
   "id": "94794da3",
   "metadata": {},
   "outputs": [],
   "source": [
    "img = landsat_aoi.sel(band=['SR_B4', 'SR_B3', 'SR_B2'])[:3].median(axis=0)[:,:333,:333].values.transpose(1,2,0)\n",
    "plt.imshow(rescale_intensity(img,(np.nanmin(img), np.nanmax(img))))"
   ]
  }
 ],
 "metadata": {
  "kernelspec": {
   "display_name": "Python 3 (ipykernel)",
   "language": "python",
   "name": "python3"
  },
  "language_info": {
   "codemirror_mode": {
    "name": "ipython",
    "version": 3
   },
   "file_extension": ".py",
   "mimetype": "text/x-python",
   "name": "python",
   "nbconvert_exporter": "python",
   "pygments_lexer": "ipython3",
   "version": "3.9.13"
  }
 },
 "nbformat": 4,
 "nbformat_minor": 5
}
