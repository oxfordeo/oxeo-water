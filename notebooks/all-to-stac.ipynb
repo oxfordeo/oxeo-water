{
 "cells": [
  {
   "cell_type": "code",
   "execution_count": null,
   "id": "21376a16",
   "metadata": {},
   "outputs": [],
   "source": [
    "%load_ext autoreload\n",
    "\n",
    "%autoreload 2\n",
    "import matplotlib.pyplot as plt\n",
    "import numpy as np\n",
    "from skimage.exposure import rescale_intensity\n",
    "\n",
    "from sentinelhub import CRS, BBox, DataCollection, SHConfig\n",
    "from sentinelhub import SentinelHubCatalog\n",
    "from sentinelhub import SHConfig\n",
    "from oxeo.core.stac import landsat\n",
    "from oxeo.core.stac.constants import USWEST_URL ,ELEMENT84_URL\n",
    "uswest_config = SHConfig()\n",
    "uswest_config.sh_base_url = USWEST_URL\n",
    "\n",
    "uswest_catalog = SentinelHubCatalog(config=uswest_config)\n",
    "eu_catalog = SentinelHubCatalog(SHConfig())\n",
    "from oxeo.core.data import get_aoi_from_landsat_shub_catalog, get_aoi_from_stac_catalog\n",
    "import os\n",
    "os.environ[\"AWS_REQUEST_PAYER\"] = \"requester\"\n",
    "\n",
    "from oxeo.core.utils import get_bounding_box"
   ]
  },
  {
   "cell_type": "code",
   "execution_count": null,
   "id": "cde120f4",
   "metadata": {},
   "outputs": [],
   "source": [
    "box = get_bounding_box({\"geometry\": {\n",
    "        \"type\": \"Polygon\",\n",
    "        \"coordinates\": [\n",
    "          [\n",
    "            [\n",
    "              -107.96882629394531,\n",
    "              29.209713225868185\n",
    "            ],\n",
    "            [\n",
    "              -107.70927429199219,\n",
    "              29.209713225868185\n",
    "            ],\n",
    "            [\n",
    "              -107.70927429199219,\n",
    "              29.482643134466617\n",
    "            ],\n",
    "            [\n",
    "              -107.96882629394531,\n",
    "              29.482643134466617\n",
    "            ],\n",
    "            [\n",
    "              -107.96882629394531,\n",
    "              29.209713225868185\n",
    "            ]\n",
    "          ]\n",
    "        ]\n",
    "      }})"
   ]
  },
  {
   "cell_type": "code",
   "execution_count": null,
   "id": "a59176a7",
   "metadata": {},
   "outputs": [],
   "source": [
    "bbox = BBox(box, crs=CRS.WGS84)#BBox([49.9604, 44.7176, 51.0481, 45.2324], crs=CRS.WGS84) #BBox((-71.40254974365233, -46.9537775782648, -71.26213073730467, -46.89163931213445), crs=CRS.WGS84)#\n",
    "time_interval = \"2020-12-10\", \"2021-02-01\" #\"1994-12-10\", \"1995-02-01\"\n",
    "search_params = {\n",
    "}\n"
   ]
  },
  {
   "cell_type": "code",
   "execution_count": null,
   "id": "40a0e303",
   "metadata": {},
   "outputs": [],
   "source": [
    "s1_aoi = get_aoi_from_stac_catalog(catalog=eu_catalog,\n",
    "                                   data_collection=DataCollection.SENTINEL1,\n",
    "                                   bbox=bbox,\n",
    "                                   time_interval=time_interval,\n",
    "                                   search_params={})\n",
    "\n",
    "\n",
    "                                        \n"
   ]
  },
  {
   "cell_type": "code",
   "execution_count": null,
   "id": "047c0a0f",
   "metadata": {},
   "outputs": [],
   "source": [
    "img = s1_aoi.sel(band=\"vv\").mean(axis=0)\n"
   ]
  },
  {
   "cell_type": "code",
   "execution_count": null,
   "id": "aa9feeda",
   "metadata": {},
   "outputs": [],
   "source": [
    "db = 10*np.log10(img)\n",
    "plt.imshow(db)"
   ]
  },
  {
   "cell_type": "code",
   "execution_count": null,
   "id": "a5b77e35",
   "metadata": {},
   "outputs": [],
   "source": [
    "s2_aoi = get_aoi_from_stac_catalog(catalog=ELEMENT84_URL,\n",
    "                                   data_collection=\"sentinel-s2-l2a-cogs\",\n",
    "                                   bbox=bbox,\n",
    "                                   time_interval=time_interval,\n",
    "                                   search_params={})\n",
    "\n",
    "img = s2_aoi.sel(band=[\"B04\",\"B03\",\"B02\"])[:5].mean(axis=0)[:,:,:].values.transpose(1,2,0)\n",
    "plt.imshow(rescale_intensity(img,(np.nanmin(img), np.nanmax(img))))"
   ]
  },
  {
   "cell_type": "code",
   "execution_count": null,
   "id": "ca13feff",
   "metadata": {},
   "outputs": [],
   "source": [
    "landsat_aoi = get_aoi_from_stac_catalog(catalog=uswest_catalog,\n",
    "                                        data_collection=DataCollection.LANDSAT_OT_L2,\n",
    "                                        bbox=bbox,\n",
    "                                        time_interval=time_interval,\n",
    "                                        search_params={},\n",
    "                                        category=\"T1\")\n",
    "                                        \n",
    "\n",
    "img = landsat_aoi.sel(band=['SR_B4', 'SR_B3', 'SR_B2'])[:5].mean(axis=0)[:,:,:].values.transpose(1,2,0)\n",
    "plt.imshow(rescale_intensity(img,(np.nanmin(img), np.nanmax(img))))\n"
   ]
  }
 ],
 "metadata": {
  "kernelspec": {
   "display_name": "Python 3 (ipykernel)",
   "language": "python",
   "name": "python3"
  },
  "language_info": {
   "codemirror_mode": {
    "name": "ipython",
    "version": 3
   },
   "file_extension": ".py",
   "mimetype": "text/x-python",
   "name": "python",
   "nbconvert_exporter": "python",
   "pygments_lexer": "ipython3",
   "version": "3.9.13"
  }
 },
 "nbformat": 4,
 "nbformat_minor": 5
}
