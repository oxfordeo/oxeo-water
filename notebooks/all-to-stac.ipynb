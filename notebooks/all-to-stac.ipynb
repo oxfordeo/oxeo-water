{
 "cells": [
  {
   "cell_type": "code",
   "execution_count": null,
   "id": "21376a16",
   "metadata": {},
   "outputs": [],
   "source": [
    "%load_ext autoreload\n",
    "\n",
    "%autoreload 2\n",
    "import matplotlib.pyplot as plt\n",
    "import numpy as np\n",
    "from skimage.exposure import rescale_intensity\n",
    "\n",
    "from sentinelhub import CRS, BBox, DataCollection, SHConfig\n",
    "from sentinelhub import SentinelHubCatalog\n",
    "from sentinelhub import SHConfig\n",
    "from oxeo.core.stac import landsat\n",
    "from oxeo.core.stac.constants import USWEST_URL ,ELEMENT84_URL\n",
    "uswest_config = SHConfig()\n",
    "uswest_config.sh_base_url = USWEST_URL\n",
    "from oxeo.core.stac.constants import USWEST_URL ,ELEMENT84_URL, LANDSATLOOK_URL, LANDSAT_SEARCH_PARAMS\n",
    "\n",
    "uswest_catalog = SentinelHubCatalog(config=uswest_config)\n",
    "eu_catalog = SentinelHubCatalog(SHConfig())\n",
    "from oxeo.core.data import get_aoi_from_stac_catalog\n",
    "import os\n",
    "os.environ[\"AWS_REQUEST_PAYER\"] = \"requester\"\n",
    "\n",
    "from oxeo.core.utils import get_bounding_box\n",
    "\n",
    "import matplotlib.pyplot as plt\n",
    "plt.rcParams['figure.figsize'] = [10, 8]"
   ]
  },
  {
   "cell_type": "markdown",
   "id": "a4c73e5a",
   "metadata": {},
   "source": [
    "# Example bbox"
   ]
  },
  {
   "cell_type": "code",
   "execution_count": null,
   "id": "cde120f4",
   "metadata": {},
   "outputs": [],
   "source": [
    "box = get_bounding_box({\"geometry\": {\n",
    "        \"type\": \"Polygon\",\n",
    "        \"coordinates\": [\n",
    "          [\n",
    "            [\n",
    "              14.911966323852539,\n",
    "              37.30573714593416\n",
    "            ],\n",
    "            [\n",
    "              14.987583160400392,\n",
    "              37.30573714593416\n",
    "            ],\n",
    "            [\n",
    "              14.987583160400392,\n",
    "              37.345050859282736\n",
    "            ],\n",
    "            [\n",
    "              14.911966323852539,\n",
    "              37.345050859282736\n",
    "            ],\n",
    "            [\n",
    "              14.911966323852539,\n",
    "              37.30573714593416\n",
    "            ]\n",
    "          ]\n",
    "        ]\n",
    "      }})"
   ]
  },
  {
   "cell_type": "code",
   "execution_count": null,
   "id": "a59176a7",
   "metadata": {},
   "outputs": [],
   "source": [
    "bbox = BBox(box, crs=CRS.WGS84)#BBox([49.9604, 44.7176, 51.0481, 45.2324], crs=CRS.WGS84) #BBox((-71.40254974365233, -46.9537775782648, -71.26213073730467, -46.89163931213445), crs=CRS.WGS84)#\n",
    "landsat_time_interval = \"1999-01-01\", \"2002-03-01\" \n",
    "s1_s2_time_interval = \"2020-01-01\", \"2020-03-01\" \n",
    "\n",
    "# Filter clouds\n",
    "search_params = {\"query\":{\"eo:cloud_cover\": {\n",
    "                                                              \"gte\": 0,\n",
    "                                                              \"lte\": 20\n",
    "                                                    },}}\n"
   ]
  },
  {
   "cell_type": "code",
   "execution_count": null,
   "id": "57deb772",
   "metadata": {},
   "outputs": [],
   "source": [
    "s2_aoi = get_aoi_from_stac_catalog(catalog=ELEMENT84_URL,\n",
    "                                   data_collection=\"sentinel-s2-l2a-cogs\",\n",
    "                                   bbox=bbox,\n",
    "                                   time_interval=s1_s2_time_interval,\n",
    "                                   search_params=search_params)"
   ]
  },
  {
   "cell_type": "code",
   "execution_count": null,
   "id": "93662a4d",
   "metadata": {},
   "outputs": [],
   "source": [
    "s2_aoi"
   ]
  },
  {
   "cell_type": "code",
   "execution_count": null,
   "id": "7e4d4688",
   "metadata": {},
   "outputs": [],
   "source": [
    "x_min = None\n",
    "x_max = 3000\n",
    "y_min = None\n",
    "y_max = 3000"
   ]
  },
  {
   "cell_type": "code",
   "execution_count": null,
   "id": "59cc8b72",
   "metadata": {},
   "outputs": [],
   "source": [
    "plt.figure(figsize=(10,10))\n",
    "img = s2_aoi.sel(band=[\"B04\",\"B03\",\"B02\"])[:5].median(axis=0)[:, x_min:x_max, y_min:y_max].values.transpose(1,2,0)\n",
    "plt.imshow(rescale_intensity(img,(np.nanmin(img), np.nanmax(img))))"
   ]
  },
  {
   "cell_type": "code",
   "execution_count": null,
   "id": "40a0e303",
   "metadata": {},
   "outputs": [],
   "source": [
    "s1_aoi = get_aoi_from_stac_catalog(catalog=eu_catalog,\n",
    "                                   data_collection=DataCollection.SENTINEL1,\n",
    "                                   bbox=bbox,\n",
    "                                   time_interval=s1_s2_time_interval,\n",
    "                                   search_params={}, resolution=10, orbit_state=\"descending\")\n",
    "\n",
    "\n",
    "                                        \n"
   ]
  },
  {
   "cell_type": "code",
   "execution_count": null,
   "id": "9d5a8c2d",
   "metadata": {},
   "outputs": [],
   "source": [
    "s1_aoi"
   ]
  },
  {
   "cell_type": "code",
   "execution_count": null,
   "id": "4d1bac9a",
   "metadata": {},
   "outputs": [],
   "source": [
    "vv = s1_aoi.sel(band=\"vv\")[:5].mean(axis=0)[x_min:x_max, y_min:y_max].compute()\n",
    "vh = s1_aoi.sel(band=\"vh\")[:5].mean(axis=0)[x_min:x_max, y_min:y_max].compute()\n"
   ]
  },
  {
   "cell_type": "code",
   "execution_count": null,
   "id": "ea614df0",
   "metadata": {},
   "outputs": [],
   "source": [
    "vv.shape"
   ]
  },
  {
   "cell_type": "code",
   "execution_count": null,
   "id": "c003437b",
   "metadata": {},
   "outputs": [],
   "source": [
    "plt.figure(figsize=(10,10))\n",
    "vv_thresh = 80\n",
    "rgb = np.where(\n",
    "    vv < vv_thresh,\n",
    "    [vv, 8 * vv, 0.5 + 3 * vv + 2000 * vh],\n",
    "    [3 * vv, 1.1 * vv + 8.75 * vh, 1.75 * vh],\n",
    ").transpose(1, 2, 0)\n",
    "\n",
    "cutoff = 2000\n",
    "dis = rescale_intensity(rgb, in_range=(0, cutoff), out_range=(0, 1))\n",
    "\n",
    "plt.imshow(dis)"
   ]
  },
  {
   "cell_type": "code",
   "execution_count": null,
   "id": "a5b77e35",
   "metadata": {},
   "outputs": [],
   "source": [
    "plt.figure(figsize=(10,10))\n",
    "landsat_aoi = get_aoi_from_stac_catalog(catalog=\"https://landsatlook.usgs.gov/stac-server\",\n",
    "                                   data_collection=\"landsat-c2l2-sr\",\n",
    "                                   bbox=bbox,\n",
    "                                   time_interval=landsat_time_interval,\n",
    "                                   search_params={\"query\":{\"eo:cloud_cover\": {\n",
    "                                                              \"gte\": 0,\n",
    "                                                              \"lte\": 10\n",
    "                                                    },}},\n",
    "                                   resolution=10)\n",
    "\n",
    "img = landsat_aoi.sel(band=[\"red\",\"green\",\"blue\"])[:5].min(axis=0)[:,x_min:x_max, y_min:y_max].values.transpose(1,2,0)\n",
    "plt.imshow(rescale_intensity(img,(np.nanmin(img), np.nanmax(img))))"
   ]
  },
  {
   "cell_type": "markdown",
   "id": "a34ada49",
   "metadata": {},
   "source": [
    "# Prediction"
   ]
  },
  {
   "cell_type": "code",
   "execution_count": null,
   "id": "1277fd05",
   "metadata": {},
   "outputs": [],
   "source": [
    "\n",
    "import numpy as np\n",
    "\n",
    "\n",
    "import dask\n",
    "from distributed import Client\n",
    "\n",
    "\n",
    "from oxeo.water.models.segmentation import Segmentation2DPredictor, DaskSegmentationPredictor\n",
    "from oxeo.water.models.segmentation import reconstruct_image_from_patches,stack_preds,reduce_to_timeseries\n",
    "from oxeo.core.models.tile import load_tile_from_stac_as_dict, load_aoi_from_stac_as_dict, tile_from_id, TilePath, tile_to_geom\n",
    "from oxeo.core import data\n",
    "import matplotlib.pyplot as plt\n",
    "from oxeo.core.constants import BAND_PREDICTOR_ORDER"
   ]
  },
  {
   "cell_type": "code",
   "execution_count": null,
   "id": "ed6f413e",
   "metadata": {},
   "outputs": [],
   "source": [
    "predictor = DaskSegmentationPredictor(\n",
    "    ckpt_path=\"../data/semseg_epoch_012.ckpt\",\n",
    "    fs=None,\n",
    ")"
   ]
  },
  {
   "cell_type": "code",
   "execution_count": null,
   "id": "63ea0223",
   "metadata": {},
   "outputs": [],
   "source": [
    "preds, aoi = predictor.predict_stac_aoi(\n",
    "    constellation=\"sentinel-2\",\n",
    "    catalog=ELEMENT84_URL,\n",
    "    data_collection=\"sentinel-s2-l2a-cogs\",\n",
    "    bbox=bbox,\n",
    "    time_interval=s1_s2_time_interval,\n",
    "    search_params={\"query\":{\"eo:cloud_cover\": {\n",
    "                                                              \"gte\": 0,\n",
    "                                                              \"lte\": 10\n",
    "                                                    },}},\n",
    "    resolution=10\n",
    ")"
   ]
  },
  {
   "cell_type": "code",
   "execution_count": null,
   "id": "3004f816",
   "metadata": {},
   "outputs": [],
   "source": [
    "stack = stack_preds(preds)\n",
    "revisits, _, target_h, target_w = aoi.shape\n",
    "mask = reconstruct_image_from_patches(stack, revisits, target_h, target_w, patch_size=250)"
   ]
  },
  {
   "cell_type": "code",
   "execution_count": null,
   "id": "8ca4f382",
   "metadata": {},
   "outputs": [],
   "source": [
    "#client =  Client(n_workers=4, threads_per_worker=1, memory_limit=\"16GB\") \n",
    "\n",
    "mask_out = mask[:4, :, :].compute()\n",
    "plt.imshow(mask_out[0])"
   ]
  },
  {
   "cell_type": "code",
   "execution_count": null,
   "id": "581f643b",
   "metadata": {},
   "outputs": [],
   "source": [
    "ts = reduce_to_timeseries(mask_out)\n",
    "ts_out = ts.compute()\n",
    "print(ts_out)"
   ]
  },
  {
   "cell_type": "code",
   "execution_count": null,
   "id": "c4c318dc",
   "metadata": {},
   "outputs": [],
   "source": [
    "preds, aoi = predictor.predict_stac_aoi(\n",
    "    constellation=\"landsat\",\n",
    "    catalog=LANDSATLOOK_URL,\n",
    "    data_collection=\"landsat-c2l2-sr\",\n",
    "    bbox=bbox,\n",
    "    time_interval=landsat_time_interval,\n",
    "    search_params={\"query\":{\"platform\": {\n",
    "                                  \"in\": [\"LANDSAT_7\"]\n",
    "                                },\n",
    "\n",
    "                             \n",
    "                                \"eo:cloud_cover\": {\n",
    "                                                              \"gte\": 0,\n",
    "                                                              \"lte\": 10\n",
    "                                                    },}},\n",
    "    resolution=10\n",
    ")"
   ]
  },
  {
   "cell_type": "code",
   "execution_count": null,
   "id": "b22d7e5a",
   "metadata": {},
   "outputs": [],
   "source": [
    "img = aoi.sel(band=[\"red\",\"green\",\"blue\"])[1][:,x_min:x_max, y_min:y_max].values.transpose(1,2,0)\n",
    "plt.imshow(rescale_intensity(img,(np.nanmin(img), np.nanmax(img))))"
   ]
  },
  {
   "cell_type": "code",
   "execution_count": null,
   "id": "bb6783e5",
   "metadata": {
    "scrolled": true
   },
   "outputs": [],
   "source": [
    "stack = stack_preds(preds)\n",
    "revisits, _, target_h, target_w = aoi.shape\n",
    "mask = reconstruct_image_from_patches(stack, revisits, target_h, target_w, patch_size=250)"
   ]
  },
  {
   "cell_type": "code",
   "execution_count": null,
   "id": "ad4837f7",
   "metadata": {},
   "outputs": [],
   "source": [
    "#client =  Client(n_workers=4, threads_per_worker=1, memory_limit=\"16GB\") \n",
    "\n",
    "mask_out = mask[:2].compute()\n",
    "plt.imshow(mask_out[0])"
   ]
  },
  {
   "cell_type": "markdown",
   "id": "8bdf89cd",
   "metadata": {},
   "source": [
    "# NVDI"
   ]
  },
  {
   "cell_type": "code",
   "execution_count": null,
   "id": "6a67c4e6",
   "metadata": {},
   "outputs": [],
   "source": [
    "from oxeo.water.models.ndvi import NDVIPredictor"
   ]
  },
  {
   "cell_type": "code",
   "execution_count": null,
   "id": "a59af51d",
   "metadata": {},
   "outputs": [],
   "source": [
    "ndvi_predictor = NDVIPredictor()\n",
    "\n",
    "aoi = ndvi_predictor.predict_stac_aoi(\n",
    "    catalog=ELEMENT84_URL,\n",
    "    data_collection=\"sentinel-s2-l2a-cogs\",\n",
    "    bbox=BBox(box, crs=CRS.WGS84),\n",
    "    time_interval=s1_s2_time_interval,\n",
    "    search_params={},\n",
    "    resolution=10\n",
    ")"
   ]
  },
  {
   "cell_type": "code",
   "execution_count": null,
   "id": "13428bb5",
   "metadata": {},
   "outputs": [],
   "source": [
    "plt.imshow(aoi[:5].median(axis=0).compute())"
   ]
  },
  {
   "cell_type": "code",
   "execution_count": null,
   "id": "eb6a9229",
   "metadata": {},
   "outputs": [],
   "source": [
    "aoi = ndvi_predictor.predict_stac_aoi(\n",
    "    catalog=LANDSATLOOK_URL,\n",
    "    data_collection=\"landsat-c2l2-sr\",\n",
    "    bbox=BBox(box, crs=CRS.WGS84),\n",
    "    time_interval=landsat_time_interval,\n",
    "    search_params={},\n",
    "    resolution=10\n",
    ")\n",
    "\n",
    "plt.imshow(aoi[:5].median(axis=0).compute())"
   ]
  },
  {
   "cell_type": "code",
   "execution_count": null,
   "id": "9da4e577",
   "metadata": {},
   "outputs": [],
   "source": [
    "aoi.shape"
   ]
  },
  {
   "cell_type": "markdown",
   "id": "37632630",
   "metadata": {},
   "source": [
    "# Soil Moisture"
   ]
  },
  {
   "cell_type": "code",
   "execution_count": null,
   "id": "b5368416",
   "metadata": {},
   "outputs": [],
   "source": [
    "from oxeo.water.models.soil_moisture import SoilMoisturePredictor\n",
    "soil_predictor = SoilMoisturePredictor()\n",
    "aoi = soil_predictor.predict_stac_aoi(\n",
    "    catalog=eu_catalog,\n",
    "    data_collection=DataCollection.SENTINEL1,\n",
    "    bbox=BBox(box, crs=CRS.WGS84),\n",
    "    time_interval=s1_s2_time_interval,\n",
    "    search_params={},\n",
    "    resolution=10\n",
    ")\n",
    "\n",
    "plt.imshow(aoi[:5].median(axis=0).compute(),cmap=\"jet\")"
   ]
  },
  {
   "cell_type": "code",
   "execution_count": null,
   "id": "00b51370",
   "metadata": {},
   "outputs": [],
   "source": []
  }
 ],
 "metadata": {
  "kernelspec": {
   "display_name": "Python 3 (ipykernel)",
   "language": "python",
   "name": "python3"
  },
  "language_info": {
   "codemirror_mode": {
    "name": "ipython",
    "version": 3
   },
   "file_extension": ".py",
   "mimetype": "text/x-python",
   "name": "python",
   "nbconvert_exporter": "python",
   "pygments_lexer": "ipython3",
   "version": "3.9.13"
  }
 },
 "nbformat": 4,
 "nbformat_minor": 5
}
