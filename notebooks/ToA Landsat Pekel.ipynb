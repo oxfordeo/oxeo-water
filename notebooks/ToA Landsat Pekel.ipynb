{
 "cells": [
  {
   "cell_type": "code",
   "execution_count": null,
   "id": "42a1b11b",
   "metadata": {},
   "outputs": [],
   "source": [
    "%load_ext autoreload\n",
    "%autoreload 2\n",
    "from skimage.exposure import equalize_adapthist, rescale_intensity\n",
    "from skimage.color import label2rgb\n",
    "from matplotlib import cm, colors\n",
    "from skimage import exposure\n",
    "from skimage import img_as_float"
   ]
  },
  {
   "cell_type": "code",
   "execution_count": null,
   "id": "716d4fe1",
   "metadata": {},
   "outputs": [],
   "source": [
    "\n",
    "import matplotlib.pyplot as plt\n",
    "\n",
    "from oxeo.water.datamodules.datasets import VirtualDataset\n",
    "from oxeo.water.datamodules import ConstellationDataModule\n",
    "from oxeo.water.datamodules import transforms as oxtransforms\n",
    "from torchvision.transforms import Compose\n",
    "from oxeo.satools.io import ConstellationData,create_index_map,  load_virtual_datasets\n",
    "from oxeo.satools.processing import to_toa_reflectance, parsemeta, to_toa_radiance\n",
    "from oxeo.water.models.pekel import PekelPredictor\n",
    "from satextractor.models import constellation_info\n",
    "\n",
    "\n",
    "import dask.array as da\n",
    "import numpy as np\n",
    "import xarray as xr\n",
    "import pandas as pd\n",
    "\n",
    "import gcsfs\n",
    "fs = gcsfs.GCSFileSystem()\n",
    "\n",
    "\n",
    "paths = [\n",
    "         #'oxeo-water/prod/54_K_10000_34_772',\n",
    "         'oxeo-water/india_wri/43_P_10000_63_132',\n",
    "         'oxeo-water/india_wri/43_P_10000_64_131',\n",
    "         'oxeo-water/india_wri/43_P_10000_64_132',\n",
    "        ]\n",
    "\n",
    "constellations = [\"landsat-7\",\"landsat-8\", \"sentinel-2\"]\n",
    "all_paths = {kk:[f\"gs://{path}\" for path in paths] for kk in constellations}\n",
    "\n",
    "data_landsat_7 = ConstellationData(\"landsat-7\",bands=list(constellation_info.LANDSAT7_BAND_INFO.keys()),\n",
    "                             paths=all_paths[\"landsat-7\"])\n",
    "\n",
    "\n",
    "data_landsat_8 = ConstellationData(\"landsat-8\",bands=list(constellation_info.LANDSAT8_BAND_INFO.keys()),\n",
    "                             paths=all_paths[\"landsat-8\"])\n",
    "\n",
    "data_sen2 = ConstellationData(\"sentinel-2\",bands=list(constellation_info.SENTINEL2_BAND_INFO.keys()),\n",
    "                             paths=all_paths[\"sentinel-2\"])\n",
    "\n",
    "\n",
    "\n",
    "\n",
    "train_constellation_regions={\"data\":[[data_landsat_7], [data_landsat_8], [data_sen2], ]}\n",
    "ds = load_virtual_datasets(train_constellation_regions, \n",
    "                           date_range=(\"2018-01-01\",\"2018-05-01\"), \n",
    "                           fs_mapper=fs.get_mapper)\n",
    "#index_map = create_index_map(train_constellation_regions, (\"2018-01-01\",\"2019-02-01\"),100, \"train_2.csv\")\n"
   ]
  },
  {
   "cell_type": "code",
   "execution_count": null,
   "id": "85612abe",
   "metadata": {},
   "outputs": [],
   "source": [
    "ds[0][0]"
   ]
  },
  {
   "cell_type": "code",
   "execution_count": null,
   "id": "06462af9",
   "metadata": {},
   "outputs": [],
   "source": [
    "predictor = PekelPredictor()"
   ]
  },
  {
   "cell_type": "code",
   "execution_count": null,
   "id": "e4d76e84",
   "metadata": {},
   "outputs": [],
   "source": [
    "masks = predictor.predict(ds[0][0],\"landsat-7\",verbose=11)"
   ]
  },
  {
   "cell_type": "code",
   "execution_count": null,
   "id": "d2733ddc",
   "metadata": {},
   "outputs": [],
   "source": [
    "plt.imshow(masks[1])"
   ]
  },
  {
   "cell_type": "code",
   "execution_count": null,
   "id": "fe273354",
   "metadata": {},
   "outputs": [],
   "source": [
    "zarr_arr = zarr.open_array(\"gs://oxeo-water/india_wri/43_P_10000_64_132/landsat-8/data\")"
   ]
  },
  {
   "cell_type": "code",
   "execution_count": null,
   "id": "cb216fff",
   "metadata": {},
   "outputs": [],
   "source": [
    "ds[0][1][\"landsat-8\"].revisits"
   ]
  },
  {
   "cell_type": "code",
   "execution_count": null,
   "id": "3071a6cd",
   "metadata": {},
   "outputs": [],
   "source": [
    "\n",
    "img = zarr_arr[0][[0]].transpose(1,2,0)\n",
    "\n",
    "vmin, vmax = np.percentile(img, q=(2, 98))\n",
    "img = exposure.rescale_intensity(img,in_range=(vmin,vmax))\n",
    "plt.imshow(img)\n"
   ]
  },
  {
   "cell_type": "code",
   "execution_count": null,
   "id": "6501fbbf",
   "metadata": {},
   "outputs": [],
   "source": [
    "def plot_bands(arr, band_names):\n",
    "    rows = arr.shape[0]\n",
    "    cols = arr.shape[1]\n",
    "    fig, ax = plt.subplots(rows, cols, figsize=(14,rows))\n",
    "    # axes are in a two-dimensional array, indexed by [row, col]\n",
    "   # fig.tight_layout(pad=0.4, w_pad=0.5, h_pad=1.0)\n",
    "    for i in range(rows):\n",
    "        for j in range(cols):\n",
    "            if i == 0:\n",
    "                ax[i, j].set_title('Band ' + band_names[j])\n",
    "            img = arr[i,j]\n",
    "            vmin, vmax = np.percentile(img, q=(2, 98))\n",
    "            img = exposure.rescale_intensity(img,in_range=(vmin,vmax))\n",
    "\n",
    "            ax[i, j].imshow(img)  \n",
    "            ax[i,j].axis('off')\n",
    "    fig"
   ]
  },
  {
   "cell_type": "code",
   "execution_count": null,
   "id": "7255faea",
   "metadata": {},
   "outputs": [],
   "source": [
    "img = zarr_arr[1]"
   ]
  },
  {
   "cell_type": "code",
   "execution_count": null,
   "id": "b5c34dda",
   "metadata": {},
   "outputs": [],
   "source": [
    "img = img[[3,2,1]].transpose(1,2,0)/10000\n",
    "vmin, vmax = np.percentile(img, q=(2, 98))\n",
    "img = exposure.rescale_intensity(img,in_range=(vmin,vmax))\n",
    "plt.imshow(img)"
   ]
  },
  {
   "cell_type": "code",
   "execution_count": null,
   "id": "7f2d8a99",
   "metadata": {},
   "outputs": [],
   "source": [
    "bands = list(constellation_info.LANDSAT8_BAND_INFO.keys())\n",
    "plot_bands(zarr_arr[:20], bands)"
   ]
  },
  {
   "cell_type": "code",
   "execution_count": null,
   "id": "5674d731",
   "metadata": {},
   "outputs": [],
   "source": [
    "#fmask_cloud = ((b7/b7.max()) > 0.03) & (ndsi<0.8) & (ndvi<0.8)"
   ]
  }
 ],
 "metadata": {
  "kernelspec": {
   "display_name": "Python 3 (ipykernel)",
   "language": "python",
   "name": "python3"
  },
  "language_info": {
   "codemirror_mode": {
    "name": "ipython",
    "version": 3
   },
   "file_extension": ".py",
   "mimetype": "text/x-python",
   "name": "python",
   "nbconvert_exporter": "python",
   "pygments_lexer": "ipython3",
   "version": "3.9.7"
  }
 },
 "nbformat": 4,
 "nbformat_minor": 5
}
