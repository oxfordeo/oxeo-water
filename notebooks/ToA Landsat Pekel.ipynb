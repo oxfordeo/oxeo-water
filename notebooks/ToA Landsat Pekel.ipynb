{
 "cells": [
  {
   "cell_type": "code",
   "execution_count": null,
   "id": "42a1b11b",
   "metadata": {},
   "outputs": [],
   "source": [
    "%load_ext autoreload\n",
    "%autoreload 2\n",
    "from skimage.exposure import equalize_adapthist, rescale_intensity\n",
    "from skimage.color import label2rgb\n",
    "from matplotlib import cm, colors\n",
    "from skimage import exposure\n",
    "from skimage import img_as_float\n",
    "from oxeo.water.models.pekel import PekelPredictor\n",
    "import zarr\n",
    "import numpy as np\n",
    "from satextractor.models import constellation_info\n",
    "import matplotlib.pyplot as plt"
   ]
  },
  {
   "cell_type": "code",
   "execution_count": null,
   "id": "06462af9",
   "metadata": {},
   "outputs": [],
   "source": [
    "predictor = PekelPredictor()"
   ]
  },
  {
   "cell_type": "code",
   "execution_count": null,
   "id": "fe273354",
   "metadata": {},
   "outputs": [],
   "source": [
    "\n",
    "\n",
    "zarr_arr = zarr.open_array(\"gs://oxeo-water/india_wri/43_P_10000_64_132/landsat-8/data\")\n",
    "zarr_arr.store.fs"
   ]
  },
  {
   "cell_type": "code",
   "execution_count": null,
   "id": "e4d76e84",
   "metadata": {},
   "outputs": [],
   "source": [
    "masks = predictor.predict(zarr_arr,\"landsat-8\")"
   ]
  },
  {
   "cell_type": "code",
   "execution_count": null,
   "id": "3071a6cd",
   "metadata": {},
   "outputs": [],
   "source": [
    "\n",
    "img = zarr_arr[0][[3,2,1]].transpose(1,2,0)\n",
    "\n",
    "img = img_as_float(img)\n",
    "vmin, vmax = np.percentile(img, q=(2, 98))\n",
    "img = exposure.rescale_intensity(img,in_range=(vmin,vmax))\n",
    "plt.imshow(img)\n",
    "plt.show()\n",
    "plt.imshow(masks[0])\n"
   ]
  },
  {
   "cell_type": "code",
   "execution_count": null,
   "id": "6501fbbf",
   "metadata": {},
   "outputs": [],
   "source": [
    "def plot_bands(arr, band_names):\n",
    "    rows = arr.shape[0]\n",
    "    cols = arr.shape[1]\n",
    "    fig, ax = plt.subplots(rows, cols, figsize=(14,rows))\n",
    "    # axes are in a two-dimensional array, indexed by [row, col]\n",
    "   # fig.tight_layout(pad=0.4, w_pad=0.5, h_pad=1.0)\n",
    "    for i in range(rows):\n",
    "        for j in range(cols):\n",
    "            if i == 0:\n",
    "                ax[i, j].set_title('Band ' + band_names[j])\n",
    "            img = arr[i,j]\n",
    "            vmin, vmax = np.percentile(img, q=(2, 98))\n",
    "            img = exposure.rescale_intensity(img,in_range=(vmin,vmax))\n",
    "\n",
    "            ax[i, j].imshow(img)  \n",
    "            ax[i,j].axis('off')\n",
    "    fig"
   ]
  },
  {
   "cell_type": "code",
   "execution_count": null,
   "id": "7255faea",
   "metadata": {},
   "outputs": [],
   "source": [
    "img = zarr_arr[1]"
   ]
  },
  {
   "cell_type": "code",
   "execution_count": null,
   "id": "b5c34dda",
   "metadata": {},
   "outputs": [],
   "source": [
    "img = img[[3,2,1]].transpose(1,2,0)/10000\n",
    "vmin, vmax = np.percentile(img, q=(2, 98))\n",
    "img = exposure.rescale_intensity(img,in_range=(vmin,vmax))\n",
    "plt.imshow(img)"
   ]
  },
  {
   "cell_type": "code",
   "execution_count": null,
   "id": "7f2d8a99",
   "metadata": {},
   "outputs": [],
   "source": [
    "bands = list(constellation_info.LANDSAT8_BAND_INFO.keys())\n",
    "plot_bands(zarr_arr[:20], bands)"
   ]
  },
  {
   "cell_type": "code",
   "execution_count": null,
   "id": "5674d731",
   "metadata": {},
   "outputs": [],
   "source": [
    "#fmask_cloud = ((b7/b7.max()) > 0.03) & (ndsi<0.8) & (ndvi<0.8)"
   ]
  }
 ],
 "metadata": {
  "kernelspec": {
   "display_name": "Python 3 (ipykernel)",
   "language": "python",
   "name": "python3"
  },
  "language_info": {
   "codemirror_mode": {
    "name": "ipython",
    "version": 3
   },
   "file_extension": ".py",
   "mimetype": "text/x-python",
   "name": "python",
   "nbconvert_exporter": "python",
   "pygments_lexer": "ipython3",
   "version": "3.9.7"
  }
 },
 "nbformat": 4,
 "nbformat_minor": 5
}
