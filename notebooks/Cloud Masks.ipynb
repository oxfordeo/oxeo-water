{
 "cells": [
  {
   "cell_type": "code",
   "execution_count": null,
   "id": "42a1b11b",
   "metadata": {},
   "outputs": [],
   "source": [
    "%load_ext autoreload\n",
    "%autoreload 2\n",
    "from skimage.exposure import equalize_adapthist, rescale_intensity\n",
    "from skimage.color import label2rgb\n",
    "from matplotlib import cm, colors\n",
    "from skimage import exposure\n",
    "from skimage import img_as_float\n",
    "from oxeo.water.models.cloud_mask import CloudMaskPredictor\n",
    "import zarr\n",
    "import numpy as np\n",
    "from satextractor.models import constellation_info\n",
    "import matplotlib.pyplot as plt\n",
    "import gcsfs\n"
   ]
  },
  {
   "cell_type": "code",
   "execution_count": null,
   "id": "fe273354",
   "metadata": {},
   "outputs": [],
   "source": [
    "fs = gcsfs.GCSFileSystem()\n",
    "\n",
    "zarr_arr = zarr.open_array(fs.get_mapper(\"gs://oxeo-water/india_wri/43_P_10000_64_132/landsat-7/data\"))\n"
   ]
  },
  {
   "cell_type": "code",
   "execution_count": null,
   "id": "6fa3df0b",
   "metadata": {},
   "outputs": [],
   "source": [
    "predictor = CloudMaskPredictor()"
   ]
  },
  {
   "cell_type": "code",
   "execution_count": null,
   "id": "e4d76e84",
   "metadata": {},
   "outputs": [],
   "source": [
    "masks = predictor.predict(zarr_arr,\"landsat-7\")"
   ]
  },
  {
   "cell_type": "code",
   "execution_count": null,
   "id": "3071a6cd",
   "metadata": {},
   "outputs": [],
   "source": [
    "for i in range (zarr_arr.shape[0]):\n",
    "    img = zarr_arr[i][[3,2,1]].transpose(1,2,0)\n",
    "\n",
    "    img = img_as_float(img)\n",
    "    vmin, vmax = np.percentile(img, q=(2, 98))\n",
    "    img = exposure.rescale_intensity(img,in_range=(vmin,vmax))\n",
    "    plt.imshow(img)\n",
    "    plt.show()\n",
    "    plt.imshow(masks[i])\n",
    "    plt.show()\n"
   ]
  }
 ],
 "metadata": {
  "kernelspec": {
   "display_name": "Python 3 (ipykernel)",
   "language": "python",
   "name": "python3"
  },
  "language_info": {
   "codemirror_mode": {
    "name": "ipython",
    "version": 3
   },
   "file_extension": ".py",
   "mimetype": "text/x-python",
   "name": "python",
   "nbconvert_exporter": "python",
   "pygments_lexer": "ipython3",
   "version": "3.9.7"
  }
 },
 "nbformat": 4,
 "nbformat_minor": 5
}
