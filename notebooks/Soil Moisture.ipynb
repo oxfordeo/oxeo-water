{
 "cells": [
  {
   "cell_type": "code",
   "execution_count": null,
   "id": "6c9da084",
   "metadata": {},
   "outputs": [],
   "source": [
    "%load_ext autoreload\n",
    "%autoreload 2"
   ]
  },
  {
   "cell_type": "code",
   "execution_count": null,
   "id": "3918c35a",
   "metadata": {},
   "outputs": [],
   "source": [
    "import matplotlib.pyplot as plt\n",
    "import numpy as np\n",
    "from distributed import Client\n",
    "from skimage.exposure import rescale_intensity\n",
    "\n",
    "from sentinelhub import CRS, BBox, DataCollection, SHConfig\n",
    "from sentinelhub import SentinelHubCatalog\n",
    "from sentinelhub import SHConfig\n",
    "from oxeo.core.stac import landsat\n",
    "from oxeo.core.stac.constants import USWEST_URL ,ELEMENT84_URL\n",
    "\n",
    "uswest_config = SHConfig()\n",
    "\n",
    "#uswest_config.instance_id = instance_id\n",
    "#uswest_config.sh_client_id = user_id\n",
    "#uswest_config.sh_client_secret = secret\n",
    "#uswest_config.save()\n",
    "\n",
    "uswest_config.sh_base_url = USWEST_URL\n",
    "\n",
    "uswest_catalog = SentinelHubCatalog(config=uswest_config)\n",
    "eu_catalog = SentinelHubCatalog(SHConfig())\n",
    "from oxeo.core.data import get_aoi_from_landsat_shub_catalog, get_aoi_from_stac_catalog\n",
    "import os\n",
    "os.environ[\"AWS_REQUEST_PAYER\"] = \"requester\"\n",
    "\n",
    "from oxeo.core.utils import get_bounding_box\n",
    "\n",
    "from oxeo.water.models.soil_moisture import SoilMoisturePredictor"
   ]
  },
  {
   "cell_type": "code",
   "execution_count": null,
   "id": "16eceb87",
   "metadata": {},
   "outputs": [],
   "source": [
    "box = get_bounding_box({\"geometry\": {\n",
    "        \"type\": \"Polygon\",\n",
    "        \"coordinates\": [\n",
    "          [\n",
    "            [\n",
    "              14.911966323852539,\n",
    "              37.30573714593416\n",
    "            ],\n",
    "            [\n",
    "              14.987583160400392,\n",
    "              37.30573714593416\n",
    "            ],\n",
    "            [\n",
    "              14.987583160400392,\n",
    "              37.345050859282736\n",
    "            ],\n",
    "            [\n",
    "              14.911966323852539,\n",
    "              37.345050859282736\n",
    "            ],\n",
    "            [\n",
    "              14.911966323852539,\n",
    "              37.30573714593416\n",
    "            ]\n",
    "          ]\n",
    "        ]\n",
    "      }})"
   ]
  },
  {
   "cell_type": "code",
   "execution_count": null,
   "id": "aacd3f39",
   "metadata": {},
   "outputs": [],
   "source": [
    "bbox = BBox(box, crs=CRS.WGS84)#BBox([49.9604, 44.7176, 51.0481, 45.2324], crs=CRS.WGS84) #BBox((-71.40254974365233, -46.9537775782648, -71.26213073730467, -46.89163931213445), crs=CRS.WGS84)#\n",
    "time_interval = \"2016-08-15\", \"2016-09-30\" #\"1994-12-10\", \"1995-02-01\"\n",
    "search_params = {\n",
    "}\n"
   ]
  },
  {
   "cell_type": "code",
   "execution_count": null,
   "id": "d4fa9cc2",
   "metadata": {},
   "outputs": [],
   "source": [
    "predictor = SoilMoisturePredictor()\n",
    "DpRVIc = predictor.predict_stac_aoi(catalog=eu_catalog, data_collection=DataCollection.SENTINEL1,\n",
    "                                    bbox=bbox, time_interval=time_interval, search_params={})"
   ]
  },
  {
   "cell_type": "code",
   "execution_count": null,
   "id": "83e23026",
   "metadata": {},
   "outputs": [],
   "source": [
    "DpRVIc"
   ]
  },
  {
   "cell_type": "code",
   "execution_count": null,
   "id": "00a6b31b",
   "metadata": {},
   "outputs": [],
   "source": [
    "from matplotlib.colors import ListedColormap"
   ]
  },
  {
   "cell_type": "code",
   "execution_count": null,
   "id": "bcb9a0c8",
   "metadata": {},
   "outputs": [],
   "source": [
    "plt.figure(figsize=(10,10))\n",
    "cmap = ListedColormap(['#000080', '#0000bd', '#0000fa', '#0022ff', '#0057ff', '#008dff',\n",
    "'#00c3ff', '#0ff8e8', '#3affbc', '#66ff91', '#91ff66', '#bcff3a', '#e8ff0f', '#ffd500',\n",
    "'#ffa400', '#ff7200', '#ff4000', '#fa0e00', '#bd0000', '#800000',])\n",
    "#img = rescale_intensity(DpRVIc[0:100,:200], out_range=(0, 1))\n",
    "plt.imshow(DpRVIc[0], cmap=cmap, vmin=0, vmax=1)"
   ]
  }
 ],
 "metadata": {
  "kernelspec": {
   "display_name": "Python 3 (ipykernel)",
   "language": "python",
   "name": "python3"
  },
  "language_info": {
   "codemirror_mode": {
    "name": "ipython",
    "version": 3
   },
   "file_extension": ".py",
   "mimetype": "text/x-python",
   "name": "python",
   "nbconvert_exporter": "python",
   "pygments_lexer": "ipython3",
   "version": "3.9.13"
  }
 },
 "nbformat": 4,
 "nbformat_minor": 5
}
