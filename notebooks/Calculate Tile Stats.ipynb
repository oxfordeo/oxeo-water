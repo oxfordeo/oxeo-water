{
 "cells": [
  {
   "cell_type": "code",
   "execution_count": null,
   "id": "d557a390",
   "metadata": {},
   "outputs": [],
   "source": [
    "%load_ext autoreload\n",
    "\n",
    "%autoreload 2\n",
    "import gcsfs\n",
    "import numpy as np\n",
    "import zarr\n",
    "fs = gcsfs.GCSFileSystem()\n"
   ]
  },
  {
   "cell_type": "code",
   "execution_count": null,
   "id": "e16b6418",
   "metadata": {},
   "outputs": [],
   "source": [
    "from oxeo.water.metrics import tile_stat_per_band\n",
    "import numpy as np"
   ]
  },
  {
   "cell_type": "code",
   "execution_count": null,
   "id": "f402768f",
   "metadata": {},
   "outputs": [],
   "source": [
    "res = tile_stat_per_band(fs.get_mapper, [\"43_P_10000_65_137\"],\n",
    "                         [\"red\",\"blue\"],\n",
    "                         constellations=[\"landsat-5\", \"landsat-8\",\"landsat-7\", \"sentinel-2\"],\n",
    "                         stat=np.mean)"
   ]
  },
  {
   "cell_type": "code",
   "execution_count": null,
   "id": "48ce9e31",
   "metadata": {},
   "outputs": [],
   "source": [
    "res['landsat-5']"
   ]
  }
 ],
 "metadata": {
  "kernelspec": {
   "display_name": "Python 3 (ipykernel)",
   "language": "python",
   "name": "python3"
  },
  "language_info": {
   "codemirror_mode": {
    "name": "ipython",
    "version": 3
   },
   "file_extension": ".py",
   "mimetype": "text/x-python",
   "name": "python",
   "nbconvert_exporter": "python",
   "pygments_lexer": "ipython3",
   "version": "3.9.7"
  }
 },
 "nbformat": 4,
 "nbformat_minor": 5
}
