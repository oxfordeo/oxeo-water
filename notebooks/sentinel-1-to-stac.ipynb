{
 "cells": [
  {
   "cell_type": "markdown",
   "id": "ccdba246",
   "metadata": {},
   "source": [
    "# Query Sentinel 1 scene from SHUB and load it with stackstac\n",
    "- Query shub\n",
    "- Get aws url\n",
    "- Convert to stack Item\n",
    "- Load with stackstac"
   ]
  },
  {
   "cell_type": "code",
   "execution_count": null,
   "id": "0d2b2e11",
   "metadata": {},
   "outputs": [],
   "source": [
    "from sentinelhub import CRS, BBox, DataCollection, SHConfig\n",
    "from oxeo.core.data import get_aoi_from_s1_shub_catalog\n",
    "\n",
    "from sentinelhub import SHConfig\n",
    "\n",
    "config = SHConfig()\n",
    "config"
   ]
  },
  {
   "cell_type": "code",
   "execution_count": null,
   "id": "8e332c49",
   "metadata": {},
   "outputs": [],
   "source": [
    "from sentinelhub import SentinelHubCatalog\n",
    "\n",
    "catalog = SentinelHubCatalog(config=config)\n"
   ]
  },
  {
   "cell_type": "code",
   "execution_count": null,
   "id": "c5738dd9",
   "metadata": {},
   "outputs": [],
   "source": [
    "caspian_sea_bbox = BBox([49.9604, 44.7176, 51.0481, 45.2324], crs=CRS.WGS84)\n",
    "time_interval = \"2020-12-10\", \"2021-02-01\"\n",
    "\n",
    "search_params = {\n",
    " \"bbox\": caspian_sea_bbox,\n",
    " \"time\": time_interval\n",
    "}\n",
    "\n",
    "aoi = get_aoi_from_s1_shub_catalog(catalog,search_params)\n",
    "\n"
   ]
  },
  {
   "cell_type": "markdown",
   "id": "2e40232c-27cd-4a50-8b99-12e0d70a7991",
   "metadata": {},
   "source": [
    "# Query Sentinel 1 scene from ASF and load it with stackstac\n",
    "- Query asf\n",
    "- Convert asf granule to aws url\n",
    "- Convert to stack Item\n",
    "- Load with stackstac"
   ]
  },
  {
   "cell_type": "code",
   "execution_count": null,
   "id": "e71a3f19",
   "metadata": {},
   "outputs": [],
   "source": [
    "%load_ext autoreload\n",
    "\n",
    "%autoreload 2\n",
    "\n",
    "\n",
    "import requests\n",
    "import os\n",
    "from oxeo.core.data import query_asf, asf_granule_to_aws, CusotomSentinel1Reader\n",
    "from oxeo.core.stac import sentinel1\n",
    "import stackstac\n",
    "os.environ[\"AWS_REQUEST_PAYER\"] = \"requester\""
   ]
  },
  {
   "cell_type": "code",
   "execution_count": null,
   "id": "5795872a",
   "metadata": {},
   "outputs": [],
   "source": [
    "item = sentinel1.create_item(results[0][\"assets\"][\"s3\"][\"href\"])"
   ]
  },
  {
   "cell_type": "code",
   "execution_count": null,
   "id": "6e8732d1",
   "metadata": {},
   "outputs": [],
   "source": [
    "stack = stackstac.stack(item)\n",
    "stack"
   ]
  },
  {
   "cell_type": "code",
   "execution_count": null,
   "id": "1e6f81bc",
   "metadata": {},
   "outputs": [],
   "source": [
    "import pyproj\n",
    "bbox = [49.9604, 44.7176, 51.0481, 45.2324]\n",
    "\n",
    "min_x_utm, min_y_utm = pyproj.Proj(stack.crs)(\n",
    "        bbox[0], bbox[1]\n",
    "    )\n",
    "max_x_utm, max_y_utm = pyproj.Proj(stack.crs)(\n",
    "        bbox[2], bbox[3]\n",
    "    )"
   ]
  },
  {
   "cell_type": "code",
   "execution_count": null,
   "id": "b79ed77e",
   "metadata": {},
   "outputs": [],
   "source": [
    "aoi = stack.loc[..., max_y_utm:min_y_utm, min_x_utm:max_x_utm]\n",
    "aoi"
   ]
  },
  {
   "cell_type": "code",
   "execution_count": null,
   "id": "cdcdfd54",
   "metadata": {},
   "outputs": [],
   "source": [
    "from shapely.geometry import shape\n",
    "from shapely.geometry.polygon import Polygon\n",
    "\n",
    "geo: dict = {'type': 'Polygon',\n",
    "   'coordinates': [\n",
    "          [\n",
    "            [\n",
    "              -3.14208984375,\n",
    "              37.470498470798724\n",
    "            ],\n",
    "            [\n",
    "              -2.7960205078125,\n",
    "              37.330856613297144\n",
    "            ],\n",
    "            [\n",
    "              -2.61474609375,\n",
    "              37.49229399862877\n",
    "            ],\n",
    "            [\n",
    "              -2.6751708984375,\n",
    "              37.6968609874419\n",
    "            ],\n",
    "            [\n",
    "              -3.0267333984375,\n",
    "              37.640334898059486\n",
    "            ],\n",
    "            [\n",
    "              -3.14208984375,\n",
    "              37.470498470798724\n",
    "            ]\n",
    "          ]]}\n",
    "polygon = shape(geo)"
   ]
  },
  {
   "cell_type": "code",
   "execution_count": null,
   "id": "51ac75a1",
   "metadata": {},
   "outputs": [],
   "source": [
    "df = query_asf(platform=\"Sentinel-1A,Sentinel-1B\",\n",
    "               processing_level=\"GRD_HD\",\n",
    "               beam_mode=\"IW\",\n",
    "               intersects_with_wkt=polygon.wkt,\n",
    "               start=\"2020-04-05T00:00:00UTC\",\n",
    "               end=\"2020-05-05T00:00:00UTC\")"
   ]
  },
  {
   "cell_type": "code",
   "execution_count": null,
   "id": "dfb13565",
   "metadata": {},
   "outputs": [],
   "source": [
    "asf_granule_to_aws(df.iloc[0])"
   ]
  },
  {
   "cell_type": "code",
   "execution_count": null,
   "id": "e1dd40ca",
   "metadata": {},
   "outputs": [],
   "source": [
    "s3_url = asf_granule_to_aws(df.iloc[0])\n",
    "item = sentinel1.create_item(s3_url)"
   ]
  },
  {
   "cell_type": "code",
   "execution_count": null,
   "id": "f67da350",
   "metadata": {},
   "outputs": [],
   "source": [
    "\n",
    "arr = stackstac.stack(item,reader=CusotomSentinel1Reader)"
   ]
  }
 ],
 "metadata": {
  "kernelspec": {
   "display_name": "Python 3 (ipykernel)",
   "language": "python",
   "name": "python3"
  },
  "language_info": {
   "codemirror_mode": {
    "name": "ipython",
    "version": 3
   },
   "file_extension": ".py",
   "mimetype": "text/x-python",
   "name": "python",
   "nbconvert_exporter": "python",
   "pygments_lexer": "ipython3",
   "version": "3.9.13"
  }
 },
 "nbformat": 4,
 "nbformat_minor": 5
}
