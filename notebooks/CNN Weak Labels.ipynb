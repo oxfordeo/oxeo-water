{
 "cells": [
  {
   "cell_type": "code",
   "execution_count": null,
   "id": "e5d2d345",
   "metadata": {},
   "outputs": [],
   "source": [
    "import gcsfs\n",
    "import zarr\n",
    "from datetime import datetime\n",
    "import matplotlib.pyplot as plt\n",
    "import numpy as np\n",
    "import rasterio as rio\n",
    "from rasterio.features import rasterize\n",
    "from skimage.measure import block_reduce\n",
    "import time\n",
    "import pandas as pd\n",
    "from tqdm import tqdm\n",
    "from joblib import Parallel, delayed\n",
    "from satextractor.utils import tqdm_joblib\n",
    "import pandas as pd\n",
    "import geopandas as gpd\n",
    "from oxeo.water.metrics import metrics\n",
    "import gcsfs\n",
    "fs = gcsfs.GCSFileSystem(project='oxeo-main')\n",
    "from joblib import Parallel, delayed\n",
    "from satextractor.utils import tqdm_joblib\n",
    "\n",
    "#import fsspec\n",
    "#fsspec.asyn.iothread[0] = None\n",
    "#fsspec.asyn.loop[0] = None"
   ]
  },
  {
   "cell_type": "code",
   "execution_count": null,
   "id": "5e212672",
   "metadata": {},
   "outputs": [],
   "source": [
    "# Create datset \n",
    "# dam \n",
    "#   | patch 1\n",
    "#      | data , labels\n",
    "#   | patch 2\n",
    "\n",
    "# Lo que tengo que hacer es descargar un tile completo e recorrerlo sacando patches\n",
    "# o directamente con zarr ir descargando los parches con slices"
   ]
  },
  {
   "cell_type": "code",
   "execution_count": null,
   "id": "bb1c561e",
   "metadata": {},
   "outputs": [],
   "source": [
    "dams = [\"harangi\", \"hemavathy\", \"kabini\", \"krishnaraja_sagar\"]\n",
    "patches = []\n",
    "for d in dams:\n",
    "    patches.extend(fs.ls(f'oxeo-water/eo/{d}/'))\n",
    "patches"
   ]
  },
  {
   "cell_type": "code",
   "execution_count": null,
   "id": "24bc8c21",
   "metadata": {},
   "outputs": [],
   "source": [
    "import os\n",
    "def store_revisit_patches(z_arr, revisit,patch_size, output, source_arr='data'):\n",
    "    ori_arr = z_arr[revisit]\n",
    "    \n",
    "    for i in range(ori_arr.shape[-2]//patch_size):\n",
    "        for j in range(ori_arr.shape[-1]//patch_size):\n",
    "            patch_start_i = i*patch_size\n",
    "            patch_end_i = patch_start_i + patch_size\n",
    "            patch_start_j = j*patch_size\n",
    "            patch_end_j = patch_start_j + patch_size\n",
    "           \n",
    "            patch_arr = ori_arr[..., patch_start_i:patch_end_i, patch_start_j:patch_end_j]\n",
    "            out_dir = f\"{output}/patch_{revisit}_{patch_start_i}_{patch_start_j}\"\n",
    "            os.makedirs(out_dir, exist_ok=True)\n",
    "            np.save(f\"{out_dir}/{source_arr}\",patch_arr, allow_pickle=False)\n",
    "         "
   ]
  },
  {
   "cell_type": "code",
   "execution_count": null,
   "id": "dc4007fd",
   "metadata": {},
   "outputs": [],
   "source": [
    "from multiprocessing import Pool\n",
    "from itertools import repeat\n",
    "\n",
    "def split_in_patches(tile_path, patch_size=100, dst_dir=\"../data\", source_arr=\"data\"):\n",
    "\n",
    "    if source_arr == \"data\":\n",
    "        data_type = np.uint16\n",
    "    else:\n",
    "        data_type = np.int8\n",
    "    z_arr = zarr.open_array(f\"gs://{tile_path}/sentinel-2/{source_arr}\", dtype=data_type)\n",
    "    \n",
    "    with tqdm_joblib(\n",
    "            tqdm(\n",
    "                desc=\"parallel getting patches.\",\n",
    "                total=z_arr.shape[0],\n",
    "            ),\n",
    "        ):\n",
    "            masks = Parallel(n_jobs=-1, verbose=0, prefer=\"threads\")(\n",
    "                [\n",
    "                    delayed(store_revisit_patches)(z_arr, revisit, 100, \n",
    "                        f\"{dst_dir}/{tile_path}\", source_arr\n",
    "                    )\n",
    "                    for revisit in range(z_arr.shape[0])\n",
    "                ],\n",
    "            )\n",
    "\n",
    "    "
   ]
  },
  {
   "cell_type": "code",
   "execution_count": null,
   "id": "72a25ef1",
   "metadata": {},
   "outputs": [],
   "source": [
    "#for p in patches:\n",
    "#    split_in_patches(p, source_arr=\"data\")\n",
    "    \n",
    "#for p in patches:\n",
    "#    split_in_patches(p, source_arr=\"weak_labels\")"
   ]
  },
  {
   "cell_type": "code",
   "execution_count": null,
   "id": "3fa28864",
   "metadata": {},
   "outputs": [],
   "source": [
    "from oxeo.water.datamodules.segmentation_datamodule import SegmentationDataModule"
   ]
  },
  {
   "cell_type": "code",
   "execution_count": null,
   "id": "44b0f470",
   "metadata": {},
   "outputs": [],
   "source": [
    "train_dams = [\"harangi\",\"hemavathy\",\"krishnaraja_sagar\"]\n",
    "val_dams = [\"kabini\"]"
   ]
  },
  {
   "cell_type": "code",
   "execution_count": null,
   "id": "ddc18e32",
   "metadata": {},
   "outputs": [],
   "source": [
    "\n",
    "import glob\n",
    "train_dams = [\"harangi\",\"hemavathy\",\"krishnaraja_sagar\"]\n",
    "val_dams = [\"kabini\"]\n",
    "train_paths = []\n",
    "for d in train_dams:\n",
    "    train_paths.extend(glob.glob(f\"/home/fran/repos/oxeo-water/data/oxeo-water/eo/{d}/*/*\"))\n",
    "val_paths = glob.glob(f\"/home/fran/repos/oxeo-water/data/oxeo-water/eo/kabini/*/*\")"
   ]
  },
  {
   "cell_type": "code",
   "execution_count": null,
   "id": "a55e7c6b",
   "metadata": {},
   "outputs": [],
   "source": [
    "'/home/fran/repos/oxeo-water/data/oxeo-water/eo/harangi/32643_0_0/patch_30_0_100/'"
   ]
  },
  {
   "cell_type": "code",
   "execution_count": null,
   "id": "fc74c97b",
   "metadata": {},
   "outputs": [],
   "source": [
    "dm = SegmentationDataModule(num_workers=8, batch_size=256, train_paths=train_paths, val_paths=val_paths)"
   ]
  },
  {
   "cell_type": "code",
   "execution_count": null,
   "id": "80dee209",
   "metadata": {},
   "outputs": [],
   "source": [
    "dm.setup()"
   ]
  },
  {
   "cell_type": "code",
   "execution_count": null,
   "id": "bf69b722",
   "metadata": {},
   "outputs": [],
   "source": [
    "np.load(f\"{train_paths[0]}/data.npy\").shape"
   ]
  },
  {
   "cell_type": "code",
   "execution_count": null,
   "id": "bfaf1f5c",
   "metadata": {},
   "outputs": [],
   "source": [
    "t = next(iter(dm.train_dataloader()))"
   ]
  },
  {
   "cell_type": "code",
   "execution_count": null,
   "id": "c4acff36",
   "metadata": {},
   "outputs": [],
   "source": [
    "t['label'].shape"
   ]
  },
  {
   "cell_type": "code",
   "execution_count": null,
   "id": "683d27ea",
   "metadata": {},
   "outputs": [],
   "source": [
    "for t in iter(dm.train_dataloader()):\n",
    "    print(t['data'].shape)"
   ]
  },
  {
   "cell_type": "code",
   "execution_count": null,
   "id": "131eb7bc",
   "metadata": {},
   "outputs": [],
   "source": [
    "split_in_patches('gs://oxeo-water/eo/kabini/32643_0_0/sentinel-2', source_arr=\"weak_labels\")"
   ]
  },
  {
   "cell_type": "code",
   "execution_count": null,
   "id": "b5dab81d",
   "metadata": {},
   "outputs": [],
   "source": [
    "!pip install lightning-bolts"
   ]
  }
 ],
 "metadata": {
  "kernelspec": {
   "display_name": "Python 3 (ipykernel)",
   "language": "python",
   "name": "python3"
  },
  "language_info": {
   "codemirror_mode": {
    "name": "ipython",
    "version": 3
   },
   "file_extension": ".py",
   "mimetype": "text/x-python",
   "name": "python",
   "nbconvert_exporter": "python",
   "pygments_lexer": "ipython3",
   "version": "3.9.7"
  }
 },
 "nbformat": 4,
 "nbformat_minor": 5
}
