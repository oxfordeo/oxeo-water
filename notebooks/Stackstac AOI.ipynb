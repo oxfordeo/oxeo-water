{
 "cells": [
  {
   "cell_type": "code",
   "execution_count": null,
   "metadata": {},
   "outputs": [],
   "source": [
    "import pystac_client\n",
    "from oxeo.core.models.tile import load_tile_from_stac_as_dict, tile_from_id\n",
    "from oxeo.core.models import data\n",
    "URL = \"https://earth-search.aws.element84.com/v0\"\n",
    "catalog = pystac_client.Client.open(URL)"
   ]
  },
  {
   "cell_type": "code",
   "execution_count": null,
   "metadata": {},
   "outputs": [],
   "source": [
    "# It is possible to load a tile from a catalog and \n",
    "# return the selected slices and bands.  \n",
    "# It uses tile.bbox_wgs84 to perform the search\n",
    "# If chunkaligned is set to True then \n",
    "# if the tile aoi is bigger than one chunk it will bring another complete chunk\n",
    "# It you find a rasterio/gdal error about PROJ. Run in you terminal:\n",
    "# unset PROJ_LIB and relaunch your notebook\n",
    "tile_id = \"35_K_10000_56_758\"\n",
    "tile = tile_from_id(tile_id)\n",
    "sample = load_tile_from_stac_as_dict(URL,[\"sentinel-s2-l2a-cogs\"],\n",
    "                                     tile, slice(0,6),\n",
    "                                     [\"B04\", \"B03\", \"B02\"], \n",
    "                                     chunk_aligned=False, resolution=10)"
   ]
  },
  {
   "cell_type": "code",
   "execution_count": null,
   "metadata": {},
   "outputs": [],
   "source": [
    "import matplotlib.pyplot as plt\n",
    "import numpy as np\n",
    "\n",
    "\n",
    "plt.imshow(np.median(sample[\"image\"],axis=0).transpose(1,2,0)/10000)\n",
    "plt.show()"
   ]
  },
  {
   "cell_type": "code",
   "execution_count": null,
   "metadata": {},
   "outputs": [],
   "source": [
    "\n",
    "# We can also create a search_params dict \n",
    "# and get a dask aoi that is, this time, chunkaligned with the original data source\n",
    "\n",
    "search_params = {\n",
    "                 \"bbox\":[-66.9235610961914, \n",
    "                         -39.76210275375138, \n",
    "                         -66.75533294677734, \n",
    "                         -39.64865819884837], #min_x, min_y, max_x, max_y\n",
    "                 \"collections\":[\"sentinel-s2-l2a-cogs\"],\n",
    "                 \"datetime\":\"2020-04-01/2020-05-01\"\n",
    "                 }\n",
    "aoi = data.get_aoi_from_stac_catalog(catalog_url=URL, \n",
    "                                     search_params=search_params,\n",
    "                                     chunk_aligned=True)\n",
    "aoi\n"
   ]
  },
  {
   "cell_type": "code",
   "execution_count": null,
   "metadata": {},
   "outputs": [],
   "source": [
    "# and perform selections on the aoi\n",
    "aoi = aoi.sel(band=[\"B04\", \"B03\", \"B02\"])\n",
    "aoi = aoi.isel(time=[1,2,6])\n",
    "aoi = aoi.median(\"time\", keep_attrs=True)\n",
    "aoi"
   ]
  },
  {
   "cell_type": "code",
   "execution_count": null,
   "metadata": {},
   "outputs": [],
   "source": [
    "import matplotlib.pyplot as plt\n",
    "\n",
    "plt.imshow(aoi.values.transpose(1,2,0)/10000)\n",
    "plt.show()"
   ]
  }
 ],
 "metadata": {
  "interpreter": {
   "hash": "ab01ea4b194ce8e6e97af4420441949dd3a4d832737e254dc128b4494a544218"
  },
  "kernelspec": {
   "display_name": "Python 3 (ipykernel)",
   "language": "python",
   "name": "python3"
  },
  "language_info": {
   "codemirror_mode": {
    "name": "ipython",
    "version": 3
   },
   "file_extension": ".py",
   "mimetype": "text/x-python",
   "name": "python",
   "nbconvert_exporter": "python",
   "pygments_lexer": "ipython3",
   "version": "3.9.12"
  }
 },
 "nbformat": 4,
 "nbformat_minor": 2
}
