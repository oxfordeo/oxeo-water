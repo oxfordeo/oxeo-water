{
 "cells": [
  {
   "cell_type": "markdown",
   "id": "ea1e8ca9",
   "metadata": {},
   "source": [
    "# Connecting to oxeo-graph Neptune DB\n",
    "## Create EC2 instance\n",
    "Create an EC2 instance and add the security group `db-sg1` to it. Otherwise, it won't work.\n",
    "\n",
    "## Install Java and Gremlin\n",
    "Follow this aws guide to install Java and Gremlin https://docs.amazonaws.cn/en_us/neptune/latest/userguide/get-started-graph-gremlin.html.\n",
    "\n",
    "If you don't find java `cacerts` in the dir it says there, you can find it in `/etc/ssl/certs/java/cacerts`.\n",
    "## Install Graph Visualization\n",
    "Follow instructions in https://github.com/aws/graph-notebook\n",
    "\n"
   ]
  },
  {
   "cell_type": "code",
   "execution_count": null,
   "id": "219e0965",
   "metadata": {},
   "outputs": [],
   "source": [
    "%load_ext autoreload\n",
    "\n",
    "%autoreload 2\n",
    "from oxeo.core.models import graph \n",
    "from gremlin_python.process.anonymous_traversal import traversal\n",
    "from gremlin_python.driver.driver_remote_connection import DriverRemoteConnection\n",
    "import nest_asyncio\n",
    "nest_asyncio.apply()\n"
   ]
  },
  {
   "cell_type": "code",
   "execution_count": null,
   "id": "9fe685d3",
   "metadata": {},
   "outputs": [],
   "source": [
    "%reload_ext graph_notebook.magics"
   ]
  },
  {
   "cell_type": "code",
   "execution_count": null,
   "id": "f614c124",
   "metadata": {},
   "outputs": [],
   "source": [
    "%%graph_notebook_config\n",
    "{\n",
    "  \"host\": \"oxeo-graph.cluster-cstqmhnp1nqd.eu-central-1.neptune.amazonaws.com\",\n",
    "  \"port\": 8182,\n",
    "  \"auth_mode\": \"DEFAULT\",\n",
    "  \"load_from_s3_arn\": \"\",\n",
    "  \"ssl\": true,\n",
    "  \"aws_region\": \"eu-central-1\"\n",
    "}"
   ]
  },
  {
   "cell_type": "code",
   "execution_count": null,
   "id": "76706b2e",
   "metadata": {},
   "outputs": [],
   "source": [
    "# Reset hraph if needed ()\n",
    "res = %db_reset --generate-token\n",
    "token = res[\"payload\"][\"token\"]\n",
    "!curl -X POST -H 'Content-Type: application/x-www-form-urlencoded' https://oxeo-graph.cluster-cstqmhnp1nqd.eu-central-1.neptune.amazonaws.com:8182/system -d 'action=performDatabaseReset&token='{token}"
   ]
  },
  {
   "cell_type": "markdown",
   "id": "6c854259",
   "metadata": {},
   "source": [
    "# Predict AOI and append to graph using STAC catalog\n",
    "\n",
    "If a PROJ error appears unset env var PROJ_LIB (`unset PROJ_LIB`) and re-run notebook from terminal"
   ]
  },
  {
   "cell_type": "code",
   "execution_count": null,
   "id": "aaf49277",
   "metadata": {},
   "outputs": [],
   "source": [
    "import pystac_client\n",
    "from oxeo.water.models.segmentation import Segmentation2DPredictor\n",
    "from oxeo.core.models.tile import load_tile_from_stac_as_dict \n",
    "from oxeo.core.models.tile import load_aoi_from_stac_as_dict, tile_from_id, TilePath, tile_to_geom\n",
    "from oxeo.core.models import data\n",
    "from oxeo.core.utils import get_bounding_box\n",
    "\n",
    "import matplotlib.pyplot as plt\n",
    "\n",
    "URL = \"https://earth-search.aws.element84.com/v0\"\n",
    "catalog = pystac_client.Client.open(URL)"
   ]
  },
  {
   "cell_type": "code",
   "execution_count": null,
   "id": "e48c431a",
   "metadata": {},
   "outputs": [],
   "source": [
    "predictor = Segmentation2DPredictor(ckpt_path=\"../data/deeplab_epoch_004.ckpt\",model_name=\"deeplab\", \n",
    "                                    bands=[\"B08\", \"B04\", \"B03\", \"B02\", \"B11\", \"B12\"],chip_size=256)"
   ]
  },
  {
   "cell_type": "markdown",
   "id": "5cc5adeb",
   "metadata": {},
   "source": [
    "## Define waterbodies AOIs"
   ]
  },
  {
   "cell_type": "code",
   "execution_count": null,
   "id": "5e3d23db",
   "metadata": {},
   "outputs": [],
   "source": [
    "# wb1\n",
    "geom_1 = {\n",
    "        \"type\": \"Polygon\",\n",
    "        \"coordinates\": [\n",
    "          [\n",
    "            [\n",
    "              -58.19595336914062,\n",
    "              -36.44586592744573\n",
    "            ],\n",
    "            [\n",
    "              -58.1425666809082,\n",
    "              -36.44586592744573\n",
    "            ],\n",
    "            [\n",
    "              -58.1425666809082,\n",
    "              -36.409402240706655\n",
    "            ],\n",
    "            [\n",
    "              -58.19595336914062,\n",
    "              -36.409402240706655\n",
    "            ],\n",
    "            [\n",
    "              -58.19595336914062,\n",
    "              -36.44586592744573\n",
    "            ]\n",
    "          ]\n",
    "        ]\n",
    "      }\n",
    "# wb2     \n",
    "geom_2 = {\n",
    "        \"type\": \"Polygon\",\n",
    "        \"coordinates\": [\n",
    "          [\n",
    "            [\n",
    "              -418.98722648620605,\n",
    "              -36.1316359508978\n",
    "            ],\n",
    "            [\n",
    "              -418.9591598510742,\n",
    "              -36.1316359508978\n",
    "            ],\n",
    "            [\n",
    "              -418.9591598510742,\n",
    "              -36.120959576074895\n",
    "            ],\n",
    "            [\n",
    "              -418.98722648620605,\n",
    "              -36.120959576074895\n",
    "            ],\n",
    "            [\n",
    "              -418.98722648620605,\n",
    "              -36.1316359508978\n",
    "            ]\n",
    "          ]\n",
    "        ]\n",
    "      }     \n",
    "aoi_bbox_1 = get_bounding_box(geom_1)\n",
    "aoi_bbox_2 = get_bounding_box(geom_2)\n"
   ]
  },
  {
   "cell_type": "markdown",
   "id": "2ba35b8b",
   "metadata": {},
   "source": [
    "## Load slices from waterbody for visualization"
   ]
  },
  {
   "cell_type": "code",
   "execution_count": null,
   "id": "c0c52df7",
   "metadata": {},
   "outputs": [],
   "source": [
    "from skimage import exposure, img_as_float\n",
    "import numpy as np\n",
    "\n",
    "search_params_1 = {\n",
    "                 \"bbox\":aoi_bbox_1, #min_x, min_y, max_x, max_y\n",
    "                 \"collections\":[\"sentinel-s2-l2a-cogs\"],\n",
    "                 \"datetime\":\"2020-04-01/2020-06-01\"\n",
    "                 }\n",
    "                 \n",
    "search_params_2 = {\n",
    "                 \"bbox\":aoi_bbox_2, #min_x, min_y, max_x, max_y\n",
    "                 \"collections\":[\"sentinel-s2-l2a-cogs\"],\n",
    "                 \"datetime\":\"2020-04-01/2020-06-01\"\n",
    "                 }\n",
    "\n",
    "\n",
    "# Get waterbody 1\n",
    "\n",
    "\n",
    "sample_1 = load_aoi_from_stac_as_dict(URL, search_params_1,\n",
    "                          bands=[\"B08\", \"B04\", \"B03\", \"B02\", \"B11\", \"B12\"],\n",
    "                          revisit = slice(None),\n",
    "                          chunk_aligned=False,median=False)\n",
    "\n",
    "# Get waterbody 2\n",
    "\n",
    "sample_2 = load_aoi_from_stac_as_dict(URL, search_params_2,\n",
    "                          bands=[\"B08\", \"B04\", \"B03\", \"B02\", \"B11\", \"B12\"],\n",
    "                          revisit = slice(None),\n",
    "                          chunk_aligned=False,median=False)\n",
    "\n",
    "\n"
   ]
  },
  {
   "cell_type": "code",
   "execution_count": null,
   "id": "4bb15dd8",
   "metadata": {},
   "outputs": [],
   "source": [
    "i = 6\n",
    "# Sample 1\n",
    "img = img_as_float(sample_1[\"image\"][i][[1,2,3]].transpose(1,2,0))\n",
    "vmin, vmax = np.nanmin(img),np.nanmax(img)\n",
    "img = exposure.rescale_intensity(img,in_range=(vmin,vmax))\n",
    "plt.imshow(img)\n",
    "plt.show()\n",
    "\n",
    "# Sample 2\n",
    "img = img_as_float(sample_2[\"image\"][i][[1,2,3]].transpose(1,2,0))\n",
    "vmin, vmax = np.nanmin(img),np.nanmax(img)\n",
    "img = exposure.rescale_intensity(img,in_range=(vmin,vmax))\n",
    "plt.imshow(img)"
   ]
  },
  {
   "cell_type": "markdown",
   "id": "64c9b82b",
   "metadata": {},
   "source": [
    "## Water and Cloud predictions"
   ]
  },
  {
   "cell_type": "code",
   "execution_count": null,
   "id": "8fe6abbd",
   "metadata": {},
   "outputs": [],
   "source": [
    "\n",
    "pred_1 = predictor.predict_stac_aoi(catalog_url=URL, \n",
    "                                  collections=[\"sentinel-s2-l2a-cogs\"], \n",
    "                                  datetime=\"2020-04-01/2020-06-01\",\n",
    "                                  constellation=\"sentinel-2\", \n",
    "                                  bbox=aoi_bbox_1,\n",
    "                                  revisit=slice(None),\n",
    "                                  chunk_aligned=False)\n",
    "                                  \n",
    "\n",
    "pred_2 = predictor.predict_stac_aoi(catalog_url=URL, \n",
    "                                  collections=[\"sentinel-s2-l2a-cogs\"], \n",
    "                                  datetime=\"2020-04-01/2020-06-01\",\n",
    "                                  constellation=\"sentinel-2\", \n",
    "                                  bbox=aoi_bbox_2,\n",
    "                                  revisit=slice(None),\n",
    "                                  chunk_aligned=False)"
   ]
  },
  {
   "cell_type": "code",
   "execution_count": null,
   "id": "3fd8957b",
   "metadata": {},
   "outputs": [],
   "source": [
    "# Sample 1 prediction\n",
    "plt.imshow(pred_1[i])\n",
    "plt.show()\n",
    "\n",
    "# Sample 2 prediction\n",
    "plt.imshow(pred_2[i])\n",
    "plt.show()"
   ]
  },
  {
   "cell_type": "markdown",
   "id": "0a71ce8e",
   "metadata": {},
   "source": [
    "## Add waterbody and asset nodes to knoledge graph"
   ]
  },
  {
   "cell_type": "code",
   "execution_count": null,
   "id": "1970e68f",
   "metadata": {},
   "outputs": [],
   "source": [
    "# Waterbody 1\n",
    "aoi_1 = data.get_aoi_from_stac_catalog(catalog_url=URL, \n",
    "                                     search_params=search_params_1,\n",
    "                                     chunk_aligned=True)\n",
    "coords = aoi_1.isel(time=0).sel(band=[\"B08\", \"B04\", \"B03\", \"B02\", \"B11\", \"B12\"]).coords\n",
    "coords_dict_1 = graph.stackstac_xa_coords_to_dict(coords)\n",
    "\n",
    "# Waterbody 2\n",
    "aoi_2 = data.get_aoi_from_stac_catalog(catalog_url=URL, \n",
    "                                     search_params=search_params_2,\n",
    "                                     chunk_aligned=True)\n",
    "coords = aoi_2.isel(time=0).sel(band=[\"B08\", \"B04\", \"B03\", \"B02\", \"B11\", \"B12\"]).coords\n",
    "coords_dict_2 = graph.stackstac_xa_coords_to_dict(coords)\n",
    "\n"
   ]
  },
  {
   "cell_type": "code",
   "execution_count": null,
   "id": "c2ba153f",
   "metadata": {},
   "outputs": [],
   "source": [
    "# Connecto to graph db and add nodes\n",
    "g = traversal().withRemote(DriverRemoteConnection('wss://oxeo-graph.cluster-cstqmhnp1nqd.eu-central-1.neptune.amazonaws.com:8182/gremlin','g'))\n",
    "\n",
    "# Add asset node\n",
    "graph.add_node_to_graph(g, \"asset\", {\"id\": \"test_asset\", \"name\": \"Great Asset\"})"
   ]
  },
  {
   "cell_type": "code",
   "execution_count": null,
   "id": "7976bd83",
   "metadata": {},
   "outputs": [],
   "source": [
    "# Add waterbody nodes and create edges from asset \n",
    "\n",
    "# wb1\n",
    "graph.add_node_to_graph(g, \"waterbody\", coords_dict_1)\n",
    "g.V(\"test_asset\").addE(\"has\").to(g.V(coords_dict_1[\"id\"]).next()).next()\n",
    "\n",
    "# wb2\n",
    "graph.add_node_to_graph(g, \"waterbody\", coords_dict_2)\n",
    "g.V(\"test_asset\").addE(\"has\").to(g.V(coords_dict_2[\"id\"]).next()).next()"
   ]
  },
  {
   "cell_type": "code",
   "execution_count": null,
   "id": "0fecf829",
   "metadata": {},
   "outputs": [],
   "source": [
    "# Add revisit nodes to waterbodies\n",
    "for i, ts in enumerate(aoi_1.time.values):\n",
    "    parent_id = coords_dict_1[\"id\"]\n",
    "    graph.add_revisit(g, \n",
    "        parent_node=parent_id, \n",
    "        v_properties={\"id\":f\"{parent_id}_revisit_{i}\", \"res_level\": int(np.sum(pred_1[i]==1))},\n",
    "        timestamp=str(ts))\n",
    "        \n",
    "for i, ts in enumerate(aoi_2.time.values):\n",
    "    parent_id = coords_dict_2[\"id\"]\n",
    "    graph.add_revisit(g, \n",
    "        parent_node=parent_id, \n",
    "        v_properties={\"id\":f\"{parent_id}_revisit_{i}\", \"res_level\": int(np.sum(pred_2[i]==1))},\n",
    "        timestamp=str(ts))"
   ]
  },
  {
   "cell_type": "markdown",
   "id": "24325df6",
   "metadata": {},
   "source": [
    "### Visualize graph"
   ]
  },
  {
   "cell_type": "code",
   "execution_count": null,
   "id": "b1933830",
   "metadata": {},
   "outputs": [],
   "source": [
    "%%gremlin -p v,outE,inV\n",
    "g.V().outE().inV().path()"
   ]
  },
  {
   "cell_type": "markdown",
   "id": "c73c592f",
   "metadata": {},
   "source": [
    "## Queries"
   ]
  },
  {
   "cell_type": "code",
   "execution_count": null,
   "id": "45320768",
   "metadata": {},
   "outputs": [],
   "source": [
    "from gremlin_python.process.traversal import Operator\n",
    "from gremlin_python.process.traversal import P\n",
    "from gremlin_python.process.traversal import Order\n",
    "\n",
    "\n",
    "# Get the mean res_level for the asset:\n",
    "print(g.V(\"test_asset\").out(\"has\").out(\"has\").values(\"res_level\").mean().next())\n",
    "\n",
    "# Get the mean res_level without 0:\n",
    "print(g.V(\"test_asset\").out(\"has\"). \\\n",
    "                        out(\"has\"). \\\n",
    "                        has(\"res_level\", P.gt(0)). \\\n",
    "                        values(\"res_level\").mean().next())"
   ]
  },
  {
   "cell_type": "code",
   "execution_count": null,
   "id": "7ab31db9",
   "metadata": {},
   "outputs": [],
   "source": [
    "# Plot res_level timeseries for a given waterbody\n",
    "ts = g.V(coords_dict_1[\"id\"]).outE(\"has\").order().by('timestamp',Order.asc).values(\"timestamp\").to_list()\n",
    "ts = [t[:10] for t in ts]\n",
    "ts_res_level = g.V(coords_dict_1[\"id\"]). \\\n",
    "                        outE(\"has\").order(). \\\n",
    "                        by('timestamp',Order.asc). \\\n",
    "                        inV(). \\\n",
    "                        values(\"res_level\"). \\\n",
    "                        to_list()\n",
    "                        \n",
    "plt.figure(figsize=(15,5))\n",
    "plt.plot(ts_res_level, label='Res Level', \n",
    "         linewidth=1)\n",
    "# Auto space\n",
    "plt.tick_params(axis='x',labelsize=15,rotation=45)\n",
    "\n",
    "plt.tight_layout()"
   ]
  }
 ],
 "metadata": {
  "kernelspec": {
   "display_name": "Python 3",
   "language": "python",
   "name": "python3"
  },
  "language_info": {
   "codemirror_mode": {
    "name": "ipython",
    "version": 3
   },
   "file_extension": ".py",
   "mimetype": "text/x-python",
   "name": "python",
   "nbconvert_exporter": "python",
   "pygments_lexer": "ipython3",
   "version": "3.9.12"
  }
 },
 "nbformat": 4,
 "nbformat_minor": 5
}
