{
 "cells": [
  {
   "cell_type": "code",
   "execution_count": null,
   "id": "cca13dac",
   "metadata": {},
   "outputs": [],
   "source": [
    "import gcsfs\n",
    "import xarray as xr\n",
    "import zarr\n",
    "from datetime import datetime\n",
    "import matplotlib.pyplot as plt\n",
    "import numpy as np\n",
    "import rasterio as rio\n",
    "from rasterio.features import rasterize\n",
    "from skimage.measure import block_reduce\n",
    "import time\n",
    "import pandas as pd\n",
    "from tqdm import tqdm\n",
    "from joblib import Parallel, delayed\n",
    "from satextractor.utils import tqdm_joblib\n",
    "import pandas as pd\n",
    "import geopandas as gpd\n",
    "from oxeo.water.models.utils import merge_masks\n",
    "from oxeo.water.metrics import metrics\n",
    "import gcsfs\n",
    "fs = gcsfs.GCSFileSystem(project='oxeo-main')"
   ]
  },
  {
   "cell_type": "code",
   "execution_count": null,
   "id": "086744b0",
   "metadata": {},
   "outputs": [],
   "source": [
    "import seaborn as sns"
   ]
  },
  {
   "cell_type": "code",
   "execution_count": null,
   "id": "eb41ee99",
   "metadata": {},
   "outputs": [],
   "source": [
    "\n",
    "shapefile = gpd.read_file(\"../../ReservoirWatchHack/Data/Contextual_Shapefiles/reservoirs.shp\")\n",
    "\n"
   ]
  },
  {
   "cell_type": "code",
   "execution_count": null,
   "id": "7561ec37",
   "metadata": {},
   "outputs": [],
   "source": [
    "shapefile.geometry.to_file('india_reservoirs.geojson', driver='GeoJSON')  "
   ]
  },
  {
   "cell_type": "code",
   "execution_count": null,
   "id": "d94d8dee",
   "metadata": {},
   "outputs": [],
   "source": [
    "shapefile"
   ]
  },
  {
   "cell_type": "code",
   "execution_count": null,
   "id": "05a6997c",
   "metadata": {},
   "outputs": [],
   "source": [
    "patches_paths = fs.ls('oxeo-water/eo')\n",
    "patches_paths\n",
    "\n"
   ]
  },
  {
   "cell_type": "code",
   "execution_count": null,
   "id": "cbe99d43",
   "metadata": {},
   "outputs": [],
   "source": [
    "\n",
    "ls \"../../ReservoirWatchHack/Data/CWC_WaterLevels/\""
   ]
  },
  {
   "cell_type": "code",
   "execution_count": null,
   "id": "eec626d0",
   "metadata": {},
   "outputs": [],
   "source": [
    "dam = \"Harangi\"\n",
    "\n",
    "patches_paths = fs.ls('oxeo-water/eo/harangi')\n",
    "print(patches_paths)\n",
    "\n",
    "print(\"Merging masks\")\n",
    "full_mask,dates= merge_masks(patches_paths, 1000,datetime(2011,2,9),datetime(2021,10,25))\n",
    "full_mask = full_mask.astype(np.uint8)\n",
    "print(\"Masks merged\")\n",
    "dates_str = [d.strftime(\"%Y-%m-%d\") for d in dates]\n",
    "dam_df = pd.read_csv(f\"../../ReservoirWatchHack/Data/CWC_WaterLevels/{dam}.csv\")\n",
    "dam_df = dam_df[dam_df.FLOW_DATE.isin(dates_str)].sort_values(by=\"FLOW_DATE\")\n",
    "dates_mask = pd.Series(dates_str).isin(dam_df.FLOW_DATE).values\n",
    "\n",
    "full_mask = full_mask[np.where(dates_mask)[0], ...]"
   ]
  },
  {
   "cell_type": "code",
   "execution_count": null,
   "id": "f5c9328f",
   "metadata": {},
   "outputs": [],
   "source": [
    "full_mask.shape"
   ]
  },
  {
   "cell_type": "code",
   "execution_count": null,
   "id": "10cf675b",
   "metadata": {},
   "outputs": [],
   "source": [
    "print(\"Getting areas\")\n",
    "areas = metrics.segmentation_area(full_mask)\n",
    "data = pd.DataFrame({\"res_level\": dam_df.RES_LEVEL_FT.astype(float), \"areas\": areas})\n",
    "from scipy import stats\n",
    "val, p = stats.pearsonr(data['res_level'], data['areas'])\n",
    "print(\"Plotting\")\n",
    "sns.lmplot(x=\"res_level\", y=\"areas\", data=data)\n",
    "plt.legend(labels=[f'{dam} pearson {val:.2f} with p-value {p:.5f}'])\n",
    "plt.show()"
   ]
  }
 ],
 "metadata": {
  "kernelspec": {
   "display_name": "Python 3",
   "language": "python",
   "name": "python3"
  },
  "language_info": {
   "codemirror_mode": {
    "name": "ipython",
    "version": 3
   },
   "file_extension": ".py",
   "mimetype": "text/x-python",
   "name": "python",
   "nbconvert_exporter": "python",
   "pygments_lexer": "ipython3",
   "version": "3.9.7"
  }
 },
 "nbformat": 4,
 "nbformat_minor": 5
}
