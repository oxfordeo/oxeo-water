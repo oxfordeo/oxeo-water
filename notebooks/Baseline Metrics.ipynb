{
 "cells": [
  {
   "cell_type": "code",
   "execution_count": null,
   "id": "cca13dac",
   "metadata": {},
   "outputs": [],
   "source": [
    "import gcsfs\n",
    "import xarray as xr\n",
    "import zarr\n",
    "from datetime import datetime\n",
    "import matplotlib.pyplot as plt\n",
    "import numpy as np\n",
    "import rasterio as rio\n",
    "from rasterio.features import rasterize\n",
    "from skimage.measure import block_reduce\n",
    "import time\n",
    "import pandas as pd\n",
    "from tqdm import tqdm\n",
    "from joblib import Parallel, delayed\n",
    "from satextractor.utils import tqdm_joblib\n",
    "\n",
    "from oxeo.water.models.utils import merge_masks\n",
    "import gcsfs\n",
    "fs = gcsfs.GCSFileSystem(project='oxeo-main')"
   ]
  },
  {
   "cell_type": "code",
   "execution_count": null,
   "id": "eb41ee99",
   "metadata": {},
   "outputs": [],
   "source": [
    "import geopandas as gpd\n",
    "shapefile = gpd.read_file(\"../../ReservoirWatchHack/Data/Contextual_Shapefiles/reservoirs.shp\")\n",
    "\n"
   ]
  },
  {
   "cell_type": "code",
   "execution_count": null,
   "id": "7561ec37",
   "metadata": {},
   "outputs": [],
   "source": [
    "shapefile.geometry.to_file('india_reservoirs.geojson', driver='GeoJSON')  "
   ]
  },
  {
   "cell_type": "code",
   "execution_count": null,
   "id": "05a6997c",
   "metadata": {},
   "outputs": [],
   "source": [
    "patches_paths = fs.ls('oxeo-water/eo/harangi')\n",
    "patches_paths\n",
    "\n"
   ]
  },
  {
   "cell_type": "code",
   "execution_count": null,
   "id": "eec626d0",
   "metadata": {},
   "outputs": [],
   "source": [
    "full_mask,dates= merge_masks(patches_paths, 1000,datetime(2018,2,9),datetime(2019,2,9))\n",
    "plt.imshow(full_mask[40])\n",
    "plt.show()"
   ]
  },
  {
   "cell_type": "code",
   "execution_count": null,
   "id": "1fd5e04f",
   "metadata": {},
   "outputs": [],
   "source": [
    "shapefile.iloc[3].geometry"
   ]
  }
 ],
 "metadata": {
  "kernelspec": {
   "display_name": "Python 3",
   "language": "python",
   "name": "python3"
  },
  "language_info": {
   "codemirror_mode": {
    "name": "ipython",
    "version": 3
   },
   "file_extension": ".py",
   "mimetype": "text/x-python",
   "name": "python",
   "nbconvert_exporter": "python",
   "pygments_lexer": "ipython3",
   "version": "3.9.7"
  }
 },
 "nbformat": 4,
 "nbformat_minor": 5
}
