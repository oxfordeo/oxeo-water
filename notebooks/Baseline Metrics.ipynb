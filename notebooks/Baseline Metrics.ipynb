{
 "cells": [
  {
   "cell_type": "code",
   "execution_count": null,
   "id": "6978c277",
   "metadata": {},
   "outputs": [],
   "source": [
    "from google.cloud import bigquery\n",
    "import matplotlib.pyplot as plt\n",
    "import numpy as np\n",
    "# Construct a BigQuery client object.\n",
    "client = bigquery.Client()\n",
    "\n",
    "def get_areas(area_id, model, constellation):\n",
    "    if constellation:\n",
    "      query = f\"\"\"SELECT * FROM `oxeo-main.water.water_ts` \n",
    "                WHERE area_id = {area_id}  \n",
    "                AND run_id LIKE \"%-{model}-%\"\n",
    "                AND constellation = \"{constellation}\" \n",
    "                \n",
    "              \"\"\"\n",
    "    else:\n",
    "      query = f\"\"\"SELECT * FROM `oxeo-main.water.water_ts` \n",
    "                WHERE area_id = {area_id}  \n",
    "                AND run_id LIKE \"%-{model}-%\"\n",
    "                \n",
    "              \"\"\"\n",
    "    print(query)\n",
    "    query_job = client.query(query)  # Make an API request.\n",
    "    return query_job.to_dataframe()\n",
    "\n",
    "def norm(data):\n",
    "    return (data - np.min(data)) / (np.max(data) - np.min(data))"
   ]
  },
  {
   "cell_type": "code",
   "execution_count": null,
   "id": "c25b86bb",
   "metadata": {},
   "outputs": [],
   "source": [
    "job = get_areas(51318547, \"cnn\", None)\n",
    "job = job[job.run_id==\"51318547-cnn-985d72fe\"]\n",
    "# job[\"area\"] = norm(job.area)\n",
    "job = job.sort_values(by=\"date\").drop_duplicates(subset=[\"date\"], keep=\"last\", ignore_index=True)\n",
    "pekel_job = get_areas(51318547, \"pekel-la-alumbrera\", None)\n",
    "# pekel_job[\"area\"] = norm(pekel_job.area)\n",
    "pekel_job = pekel_job.sort_values(by=\"date\").drop_duplicates(subset=[\"date\"],keep=\"first\")"
   ]
  },
  {
   "cell_type": "code",
   "execution_count": null,
   "id": "0d19f757",
   "metadata": {},
   "outputs": [],
   "source": [
    "import pandas as pd\n",
    "import seaborn as sns\n",
    "plt.figure(figsize = (25,8))\n",
    "df = pd.merge(job,pekel_job,on=\"date\")\n",
    "df[\"cnn_ma\"] = df.area_x.rolling(100).mean()\n",
    "df[\"pekel_ma\"] = df.area_y.rolling(100).mean()\n",
    "sns.lineplot(x=\"date\", y=\"pekel_ma\", data=df,alpha=1.0, label=\"Pekel\", color=\"green\", linestyle='--')\n",
    "# plt.ylim(0, 1e7)\n",
    "sns.lineplot(x=\"date\", y=\"cnn_ma\", data=df,alpha=1.0,  label=\"CNN\", color=\"purple\")\n",
    "sns.lineplot(x=\"date\", y=\"area_x\", data=df,alpha=0.2, hue=\"constellation_x\")\n",
    "# sns.lineplot(x=\"date\", y=\"area_y\", data=df,alpha=0.3, color=\"red\")"
   ]
  }
 ],
 "metadata": {
  "kernelspec": {
   "display_name": "Python 3 (ipykernel)",
   "language": "python",
   "name": "python3"
  },
  "language_info": {
   "codemirror_mode": {
    "name": "ipython",
    "version": 3
   },
   "file_extension": ".py",
   "mimetype": "text/x-python",
   "name": "python",
   "nbconvert_exporter": "python",
   "pygments_lexer": "ipython3",
   "version": "3.9.7"
  }
 },
 "nbformat": 4,
 "nbformat_minor": 5
}
