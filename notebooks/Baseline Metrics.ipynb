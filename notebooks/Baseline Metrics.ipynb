{
 "cells": [
  {
   "cell_type": "code",
   "execution_count": 1,
   "id": "cca13dac",
   "metadata": {},
   "outputs": [],
   "source": [
    "import gcsfs\n",
    "import zarr\n",
    "from datetime import datetime\n",
    "import matplotlib.pyplot as plt\n",
    "import numpy as np\n",
    "import rasterio as rio\n",
    "from rasterio.features import rasterize\n",
    "from skimage.measure import block_reduce\n",
    "import time\n",
    "import pandas as pd\n",
    "from tqdm import tqdm\n",
    "from joblib import Parallel, delayed\n",
    "from satextractor.utils import tqdm_joblib\n",
    "import pandas as pd\n",
    "import geopandas as gpd\n",
    "from oxeo.water.models.utils import merge_masks, predict_lake\n",
    "from oxeo.water.metrics import metrics\n",
    "from skimage.util.shape import view_as_blocks\n",
    "from oxeo.water.models.segmentation.segmentation_2d import Segmentation2DPredictor\n",
    "\n",
    "import gcsfs\n",
    "fs = gcsfs.GCSFileSystem(project='oxeo-main')"
   ]
  },
  {
   "cell_type": "code",
   "execution_count": 2,
   "id": "086744b0",
   "metadata": {},
   "outputs": [],
   "source": [
    "import seaborn as sns"
   ]
  },
  {
   "cell_type": "code",
   "execution_count": 3,
   "id": "eb41ee99",
   "metadata": {},
   "outputs": [],
   "source": [
    "\n",
    "shapefile = gpd.read_file(\"../../ReservoirWatchHack/Data/Contextual_Shapefiles/reservoirs.shp\")\n",
    "\n"
   ]
  },
  {
   "cell_type": "code",
   "execution_count": 4,
   "id": "7561ec37",
   "metadata": {},
   "outputs": [],
   "source": [
    "shapefile.geometry.to_file('india_reservoirs.geojson', driver='GeoJSON')  "
   ]
  },
  {
   "cell_type": "code",
   "execution_count": 5,
   "id": "d94d8dee",
   "metadata": {},
   "outputs": [
    {
     "data": {
      "text/html": [
       "<div>\n",
       "<style scoped>\n",
       "    .dataframe tbody tr th:only-of-type {\n",
       "        vertical-align: middle;\n",
       "    }\n",
       "\n",
       "    .dataframe tbody tr th {\n",
       "        vertical-align: top;\n",
       "    }\n",
       "\n",
       "    .dataframe thead th {\n",
       "        text-align: right;\n",
       "    }\n",
       "</style>\n",
       "<table border=\"1\" class=\"dataframe\">\n",
       "  <thead>\n",
       "    <tr style=\"text-align: right;\">\n",
       "      <th></th>\n",
       "      <th>GRAND_ID</th>\n",
       "      <th>RES_NAME</th>\n",
       "      <th>DAM_NAME</th>\n",
       "      <th>ALT_NAME</th>\n",
       "      <th>RIVER</th>\n",
       "      <th>ALT_RIVER</th>\n",
       "      <th>MAIN_BASIN</th>\n",
       "      <th>SUB_BASIN</th>\n",
       "      <th>NEAR_CITY</th>\n",
       "      <th>ALT_CITY</th>\n",
       "      <th>...</th>\n",
       "      <th>MULTI_DAMS</th>\n",
       "      <th>TIMELINE</th>\n",
       "      <th>COMMENTS</th>\n",
       "      <th>URL</th>\n",
       "      <th>QUALITY</th>\n",
       "      <th>EDITOR</th>\n",
       "      <th>LONG_DD</th>\n",
       "      <th>LAT_DD</th>\n",
       "      <th>POLY_SRC</th>\n",
       "      <th>geometry</th>\n",
       "    </tr>\n",
       "  </thead>\n",
       "  <tbody>\n",
       "    <tr>\n",
       "      <th>0</th>\n",
       "      <td>5006</td>\n",
       "      <td>None</td>\n",
       "      <td>Hemavathy</td>\n",
       "      <td>None</td>\n",
       "      <td>Hemavathy</td>\n",
       "      <td>None</td>\n",
       "      <td>Cauvery</td>\n",
       "      <td>None</td>\n",
       "      <td>Hassan</td>\n",
       "      <td>None</td>\n",
       "      <td>...</td>\n",
       "      <td>None</td>\n",
       "      <td>None</td>\n",
       "      <td>None</td>\n",
       "      <td>None</td>\n",
       "      <td>2: Good</td>\n",
       "      <td>McGill-BL</td>\n",
       "      <td>76.054284</td>\n",
       "      <td>12.824532</td>\n",
       "      <td>SWBD</td>\n",
       "      <td>POLYGON ((76.00163 12.89112, 76.00228 12.89084...</td>\n",
       "    </tr>\n",
       "    <tr>\n",
       "      <th>1</th>\n",
       "      <td>5009</td>\n",
       "      <td>Khrishnaraja</td>\n",
       "      <td>Krisharaja Sagar</td>\n",
       "      <td>None</td>\n",
       "      <td>Cauvery</td>\n",
       "      <td>None</td>\n",
       "      <td>Cauvery</td>\n",
       "      <td>None</td>\n",
       "      <td>Mysore</td>\n",
       "      <td>None</td>\n",
       "      <td>...</td>\n",
       "      <td>None</td>\n",
       "      <td>None</td>\n",
       "      <td>None</td>\n",
       "      <td>None</td>\n",
       "      <td>3: Fair</td>\n",
       "      <td>McGill-BL</td>\n",
       "      <td>76.571091</td>\n",
       "      <td>12.422930</td>\n",
       "      <td>SWBD</td>\n",
       "      <td>POLYGON ((76.45833 12.55605, 76.45477 12.55256...</td>\n",
       "    </tr>\n",
       "    <tr>\n",
       "      <th>2</th>\n",
       "      <td>5013</td>\n",
       "      <td>None</td>\n",
       "      <td>Kabini</td>\n",
       "      <td>None</td>\n",
       "      <td>Kabini</td>\n",
       "      <td>None</td>\n",
       "      <td>Cauvery</td>\n",
       "      <td>None</td>\n",
       "      <td>H.D. Kote</td>\n",
       "      <td>None</td>\n",
       "      <td>...</td>\n",
       "      <td>None</td>\n",
       "      <td>None</td>\n",
       "      <td>None</td>\n",
       "      <td>None</td>\n",
       "      <td>3: Fair</td>\n",
       "      <td>McGill-BL</td>\n",
       "      <td>76.350878</td>\n",
       "      <td>11.969304</td>\n",
       "      <td>SWBD</td>\n",
       "      <td>POLYGON ((76.34139 12.00334, 76.34096 12.00070...</td>\n",
       "    </tr>\n",
       "    <tr>\n",
       "      <th>3</th>\n",
       "      <td>0</td>\n",
       "      <td>Harangi</td>\n",
       "      <td>Harangi</td>\n",
       "      <td>None</td>\n",
       "      <td>None</td>\n",
       "      <td>None</td>\n",
       "      <td>Cauvery</td>\n",
       "      <td>None</td>\n",
       "      <td>None</td>\n",
       "      <td>None</td>\n",
       "      <td>...</td>\n",
       "      <td>None</td>\n",
       "      <td>None</td>\n",
       "      <td>None</td>\n",
       "      <td>None</td>\n",
       "      <td>None</td>\n",
       "      <td>None</td>\n",
       "      <td>0.000000</td>\n",
       "      <td>0.000000</td>\n",
       "      <td>None</td>\n",
       "      <td>MULTIPOLYGON (((75.84781 12.49959, 75.84780 12...</td>\n",
       "    </tr>\n",
       "  </tbody>\n",
       "</table>\n",
       "<p>4 rows × 59 columns</p>\n",
       "</div>"
      ],
      "text/plain": [
       "   GRAND_ID      RES_NAME          DAM_NAME ALT_NAME      RIVER ALT_RIVER  \\\n",
       "0      5006          None         Hemavathy     None  Hemavathy      None   \n",
       "1      5009  Khrishnaraja  Krisharaja Sagar     None    Cauvery      None   \n",
       "2      5013          None            Kabini     None     Kabini      None   \n",
       "3         0       Harangi           Harangi     None       None      None   \n",
       "\n",
       "  MAIN_BASIN SUB_BASIN  NEAR_CITY ALT_CITY  ... MULTI_DAMS TIMELINE COMMENTS  \\\n",
       "0    Cauvery      None     Hassan     None  ...       None     None     None   \n",
       "1    Cauvery      None     Mysore     None  ...       None     None     None   \n",
       "2    Cauvery      None  H.D. Kote     None  ...       None     None     None   \n",
       "3    Cauvery      None       None     None  ...       None     None     None   \n",
       "\n",
       "    URL  QUALITY     EDITOR    LONG_DD     LAT_DD  POLY_SRC  \\\n",
       "0  None  2: Good  McGill-BL  76.054284  12.824532      SWBD   \n",
       "1  None  3: Fair  McGill-BL  76.571091  12.422930      SWBD   \n",
       "2  None  3: Fair  McGill-BL  76.350878  11.969304      SWBD   \n",
       "3  None     None       None   0.000000   0.000000      None   \n",
       "\n",
       "                                            geometry  \n",
       "0  POLYGON ((76.00163 12.89112, 76.00228 12.89084...  \n",
       "1  POLYGON ((76.45833 12.55605, 76.45477 12.55256...  \n",
       "2  POLYGON ((76.34139 12.00334, 76.34096 12.00070...  \n",
       "3  MULTIPOLYGON (((75.84781 12.49959, 75.84780 12...  \n",
       "\n",
       "[4 rows x 59 columns]"
      ]
     },
     "execution_count": 5,
     "metadata": {},
     "output_type": "execute_result"
    }
   ],
   "source": [
    "shapefile"
   ]
  },
  {
   "cell_type": "code",
   "execution_count": 6,
   "id": "05a6997c",
   "metadata": {},
   "outputs": [
    {
     "data": {
      "text/plain": [
       "['oxeo-water/eo/',\n",
       " 'oxeo-water/eo/bigbear',\n",
       " 'oxeo-water/eo/cornu',\n",
       " 'oxeo-water/eo/harangi',\n",
       " 'oxeo-water/eo/hemavathy',\n",
       " 'oxeo-water/eo/hoover',\n",
       " 'oxeo-water/eo/kabini',\n",
       " 'oxeo-water/eo/krishnaraja_sagar']"
      ]
     },
     "execution_count": 6,
     "metadata": {},
     "output_type": "execute_result"
    }
   ],
   "source": [
    "patches_paths = fs.ls('oxeo-water/eo')\n",
    "patches_paths\n",
    "\n"
   ]
  },
  {
   "cell_type": "code",
   "execution_count": 7,
   "id": "a9025aa3",
   "metadata": {},
   "outputs": [],
   "source": [
    "predictor = Segmentation2DPredictor(ckpt_path='../checkpoints/epoch=52_val_loss=0.ckpt')"
   ]
  },
  {
   "cell_type": "code",
   "execution_count": null,
   "id": "ae377682",
   "metadata": {},
   "outputs": [],
   "source": []
  },
  {
   "cell_type": "code",
   "execution_count": 13,
   "id": "109950b8",
   "metadata": {
    "scrolled": true
   },
   "outputs": [
    {
     "name": "stderr",
     "output_type": "stream",
     "text": [
      "2021-11-17 03:46:59.234 | INFO     | oxeo.water.models.utils:predict_lake:126 - Getting full lake data for between 2011-02-09 00:00:00 and 2021-10-25 00:00:00\n"
     ]
    },
    {
     "name": "stdout",
     "output_type": "stream",
     "text": [
      "['oxeo-water/eo/kabini/32643_0_0', 'oxeo-water/eo/kabini/32643_0_1', 'oxeo-water/eo/kabini/32643_1_0', 'oxeo-water/eo/kabini/32643_1_1']\n"
     ]
    },
    {
     "name": "stderr",
     "output_type": "stream",
     "text": [
      "2021-11-17 03:47:09.478 | INFO     | oxeo.water.models.segmentation.segmentation_2d:predict:136 - Moving model to GPU.\n",
      "2021-11-17 03:47:28.376 | INFO     | oxeo.water.models.segmentation.segmentation_2d:predict:153 - Moving model to CPU.\n",
      "2021-11-17 03:47:39.153 | INFO     | oxeo.water.models.segmentation.segmentation_2d:predict:136 - Moving model to GPU.\n",
      "2021-11-17 03:47:59.260 | INFO     | oxeo.water.models.segmentation.segmentation_2d:predict:153 - Moving model to CPU.\n",
      "2021-11-17 03:48:10.704 | INFO     | oxeo.water.models.segmentation.segmentation_2d:predict:136 - Moving model to GPU.\n",
      "2021-11-17 03:48:30.728 | INFO     | oxeo.water.models.segmentation.segmentation_2d:predict:153 - Moving model to CPU.\n",
      "2021-11-17 03:48:41.500 | INFO     | oxeo.water.models.segmentation.segmentation_2d:predict:136 - Moving model to GPU.\n",
      "2021-11-17 03:49:01.550 | INFO     | oxeo.water.models.segmentation.segmentation_2d:predict:153 - Moving model to CPU.\n",
      "2021-11-17 03:49:21.192 | INFO     | oxeo.water.models.segmentation.segmentation_2d:predict:136 - Moving model to GPU.\n",
      "2021-11-17 03:49:41.018 | INFO     | oxeo.water.models.segmentation.segmentation_2d:predict:153 - Moving model to CPU.\n",
      "2021-11-17 03:50:00.485 | INFO     | oxeo.water.models.segmentation.segmentation_2d:predict:136 - Moving model to GPU.\n",
      "2021-11-17 03:50:20.294 | INFO     | oxeo.water.models.segmentation.segmentation_2d:predict:153 - Moving model to CPU.\n",
      "2021-11-17 03:50:40.449 | INFO     | oxeo.water.models.segmentation.segmentation_2d:predict:136 - Moving model to GPU.\n",
      "2021-11-17 03:51:00.372 | INFO     | oxeo.water.models.segmentation.segmentation_2d:predict:153 - Moving model to CPU.\n",
      "2021-11-17 03:51:19.610 | INFO     | oxeo.water.models.segmentation.segmentation_2d:predict:136 - Moving model to GPU.\n",
      "2021-11-17 03:51:39.589 | INFO     | oxeo.water.models.segmentation.segmentation_2d:predict:153 - Moving model to CPU.\n"
     ]
    }
   ],
   "source": [
    "dam = \"kabini\"\n",
    "\n",
    "patches_paths = fs.ls('oxeo-water/eo/kabini')\n",
    "print(patches_paths)\n",
    "\n",
    "preds_09, dates = predict_lake(predictor, patches_paths, 1000,datetime(2011,2,9),datetime(2021,10,25), \n",
    "                            threshold=0.99, date_batch=150)\n"
   ]
  },
  {
   "cell_type": "code",
   "execution_count": null,
   "id": "c0a01318",
   "metadata": {},
   "outputs": [],
   "source": []
  },
  {
   "cell_type": "code",
   "execution_count": null,
   "id": "e8fd5404",
   "metadata": {},
   "outputs": [],
   "source": [
    "preds.reshape(-1, 2000, 2000).shape"
   ]
  },
  {
   "cell_type": "code",
   "execution_count": 11,
   "id": "b0ba5a0e",
   "metadata": {},
   "outputs": [
    {
     "data": {
      "text/plain": [
       "<matplotlib.image.AxesImage at 0x7f12e8049700>"
      ]
     },
     "execution_count": 11,
     "metadata": {},
     "output_type": "execute_result"
    },
    {
     "data": {
      "image/png": "[encoded data removed]",
      "text/plain": [
       "<Figure size 432x288 with 1 Axes>"
      ]
     },
     "metadata": {
      "needs_background": "light"
     },
     "output_type": "display_data"
    }
   ],
   "source": [
    "plt.imshow(preds_final[290])"
   ]
  },
  {
   "cell_type": "code",
   "execution_count": 14,
   "id": "bd8c8940",
   "metadata": {},
   "outputs": [],
   "source": [
    "dam = \"kabini\"\n",
    "dates_str = [d.strftime(\"%Y-%m-%d\") for d in dates]\n",
    "dam_df = pd.read_csv(f\"../../ReservoirWatchHack/Data/CWC_WaterLevels/{dam}.csv\")\n",
    "dam_df = dam_df[dam_df.FLOW_DATE.isin(dates_str)].sort_values(by=\"FLOW_DATE\")\n",
    "dates_mask = pd.Series(dates_str).isin(dam_df.FLOW_DATE).values\n",
    "\n",
    "preds_final = preds_09[np.where(dates_mask)[0], ...]"
   ]
  },
  {
   "cell_type": "code",
   "execution_count": null,
   "id": "320a283c",
   "metadata": {},
   "outputs": [],
   "source": [
    "preds_final>0.5"
   ]
  },
  {
   "cell_type": "code",
   "execution_count": null,
   "id": "bc88981b",
   "metadata": {},
   "outputs": [],
   "source": [
    "plt.imshow(preds_final[25]>0.5)"
   ]
  },
  {
   "cell_type": "code",
   "execution_count": null,
   "id": "eec626d0",
   "metadata": {},
   "outputs": [],
   "source": [
    "dam = \"Harangi\"\n",
    "\n",
    "patches_paths = fs.ls('oxeo-water/eo/harangi')\n",
    "print(patches_paths)\n",
    "\n",
    "print(\"Merging masks\")\n",
    "full_mask,dates= merge_masks(patches_paths, 1000,datetime(2011,2,9),datetime(2021,10,25))\n",
    "full_mask = full_mask.astype(np.uint8)\n",
    "print(\"Masks merged\")\n",
    "dates_str = [d.strftime(\"%Y-%m-%d\") for d in dates]\n",
    "dam_df = pd.read_csv(f\"../../ReservoirWatchHack/Data/CWC_WaterLevels/{dam}.csv\")\n",
    "dam_df = dam_df[dam_df.FLOW_DATE.isin(dates_str)].sort_values(by=\"FLOW_DATE\")\n",
    "dates_mask = pd.Series(dates_str).isin(dam_df.FLOW_DATE).values\n",
    "\n",
    "full_mask = full_mask[np.where(dates_mask)[0], ...]"
   ]
  },
  {
   "cell_type": "code",
   "execution_count": 19,
   "id": "10cf675b",
   "metadata": {},
   "outputs": [
    {
     "name": "stdout",
     "output_type": "stream",
     "text": [
      "Getting areas\n",
      "Plotting\n"
     ]
    },
    {
     "data": {
      "image/png": "[encoded data removed]",
      "text/plain": [
       "<Figure size 360x360 with 1 Axes>"
      ]
     },
     "metadata": {
      "needs_background": "light"
     },
     "output_type": "display_data"
    }
   ],
   "source": [
    "print(\"Getting areas\")\n",
    "areas = metrics.segmentation_area(preds_final)\n",
    "data = pd.DataFrame({\"res_level\": dam_df.RES_LEVEL_FT.astype(float), \"areas\": areas})\n",
    "data = data[data.areas > 50000]\n",
    "from scipy import stats\n",
    "val, p = stats.pearsonr(data['res_level'], data['areas'])\n",
    "print(\"Plotting\")\n",
    "sns.lmplot(x=\"res_level\", y=\"areas\", data=data)\n",
    "plt.legend(labels=[f'{dam} pearson {val:.2f} with p-value {p:.5f}'])\n",
    "plt.show()"
   ]
  },
  {
   "cell_type": "code",
   "execution_count": null,
   "id": "177d1890",
   "metadata": {},
   "outputs": [],
   "source": [
    "# Unet Prediction\n",
    "\n",
    "import glob\n",
    "import os\n",
    "from argparse import ArgumentParser\n",
    "\n",
    "import pytorch_lightning as pl\n",
    "from pytorch_lightning.callbacks import ModelCheckpoint\n",
    "from pytorch_lightning.loggers import WandbLogger\n",
    "\n",
    "from oxeo.water.callbacks.wandb_callbacks import LogImagePredictions\n",
    "from oxeo.water.datamodules import SegmentationDataModule\n",
    "from oxeo.water.models.segmentation import Segmentation2D\n",
    "\n",
    "\n",
    "model = Segmentation2D.load_from_checkpoint(\"../checkpoints/epoch=52_val_loss=0.ckpt\", input_channels=13,\n",
    "                                           num_classes=1)\n",
    "\n",
    "\n",
    "model.eval().cuda()\n",
    "transform = None\n",
    "\n",
    "train_dams = [\"harangi\", \"hemavathy\", \"krishnaraja_sagar\"]\n",
    "val_dams = [\"kabini\"]\n",
    "train_paths = []\n",
    "for d in train_dams:\n",
    "    train_paths.extend(\n",
    "        glob.glob(f\"/home/fran/repos/oxeo-water/data/oxeo-water/eo/{d}/*/*\")\n",
    "    )\n",
    "val_paths = glob.glob(\"/home/fran/repos/oxeo-water/data/oxeo-water/eo/kabini/*/*\")\n",
    "# Instantiate it (we are using here the Embeddings data module, without labels)\n",
    "sdm = SegmentationDataModule(\n",
    "    transforms=transform,\n",
    "    batch_size=128,\n",
    "    num_workers=8,\n",
    "    train_paths=train_paths,\n",
    "    val_paths=val_paths,\n",
    ")\n",
    "sdm.setup()\n"
   ]
  },
  {
   "cell_type": "code",
   "execution_count": null,
   "id": "3c9af7c4",
   "metadata": {},
   "outputs": [],
   "source": [
    "val_dl = sdm.val_dataloader()"
   ]
  },
  {
   "cell_type": "code",
   "execution_count": null,
   "id": "24d10a58",
   "metadata": {},
   "outputs": [],
   "source": [
    "max_date = max([eval(v.split('_')[-3]) for v in val_paths])"
   ]
  },
  {
   "cell_type": "code",
   "execution_count": null,
   "id": "061b4ac8",
   "metadata": {},
   "outputs": [],
   "source": [
    "from itertools import compress"
   ]
  },
  {
   "cell_type": "code",
   "execution_count": null,
   "id": "e3b28655",
   "metadata": {},
   "outputs": [],
   "source": [
    "filtered_preds = list(compress(preds, date_indices))"
   ]
  },
  {
   "cell_type": "code",
   "execution_count": null,
   "id": "632da425",
   "metadata": {},
   "outputs": [],
   "source": [
    "(torch.sigmoid(torch.as_tensor(filtered_preds)) >= 0.5).squeeze().numpy().reshape((1,100, -1)).shape"
   ]
  },
  {
   "cell_type": "code",
   "execution_count": null,
   "id": "cd743d78",
   "metadata": {},
   "outputs": [],
   "source": [
    "torch.as_tensor(np.array(preds)[date_indices]).squeeze().shape"
   ]
  },
  {
   "cell_type": "code",
   "execution_count": null,
   "id": "7526e085",
   "metadata": {},
   "outputs": [],
   "source": [
    "np.array(labels)"
   ]
  },
  {
   "cell_type": "code",
   "execution_count": null,
   "id": "b0c735a9",
   "metadata": {},
   "outputs": [],
   "source": [
    "areas = []\n",
    "for d in range(298):\n",
    "    date_indices = [i for i,v_path in enumerate(val_paths) if v_path.split('_')[-3] == str(d)]\n",
    "    filtered_preds = list(compress(preds, date_indices))\n",
    "    sigmoid_preds = torch.sigmoid(torch.as_tensor(filtered_preds))\n",
    "    pred_masks = (sigmoid_preds >= 0.9).squeeze().numpy().reshape((1,-1))\n",
    "    print(np.array(list(compress(labels, date_indices))).shape)\n",
    "    ori_masks = torch.as_tensor(list(compress(labels, date_indices))).squeeze().numpy().reshape((1,-1))\n",
    "    #print(sigmoid_preds.max())\n",
    "    plt.imshow(sigmoid_preds[1,0])\n",
    "    plt.show()\n",
    "    print(metrics.segmentation_area(pred_masks), metrics.segmentation_area(ori_masks))"
   ]
  },
  {
   "cell_type": "code",
   "execution_count": null,
   "id": "1e00d893",
   "metadata": {},
   "outputs": [],
   "source": [
    "val_paths"
   ]
  },
  {
   "cell_type": "code",
   "execution_count": null,
   "id": "f685420d",
   "metadata": {},
   "outputs": [],
   "source": [
    "preds = []\n",
    "for b in tqdm(iter(val_dl)):\n",
    "    preds.extend(model(b['data'].float().cuda()).data.cpu().numpy())"
   ]
  },
  {
   "cell_type": "code",
   "execution_count": null,
   "id": "a6d93464",
   "metadata": {},
   "outputs": [],
   "source": [
    "labels = []\n",
    "for b in tqdm(iter(val_dl)):\n",
    "    labels.extend(b['label'].numpy())"
   ]
  },
  {
   "cell_type": "code",
   "execution_count": null,
   "id": "2ef36a67",
   "metadata": {},
   "outputs": [],
   "source": [
    "import torch"
   ]
  },
  {
   "cell_type": "code",
   "execution_count": null,
   "id": "0d43bc68",
   "metadata": {},
   "outputs": [],
   "source": [
    "torch.sigmoid(torch.as_tensor(preds[0].squeeze()))"
   ]
  },
  {
   "cell_type": "code",
   "execution_count": null,
   "id": "988e75d0",
   "metadata": {},
   "outputs": [],
   "source": [
    "plt.imshow(sdm.val_dataset[207]['data'][2])"
   ]
  },
  {
   "cell_type": "code",
   "execution_count": null,
   "id": "b9eb00e0",
   "metadata": {},
   "outputs": [],
   "source": [
    "plt.imshow(torch.as_tensor(labels[207].squeeze()))"
   ]
  },
  {
   "cell_type": "code",
   "execution_count": null,
   "id": "afc46b2d",
   "metadata": {},
   "outputs": [],
   "source": [
    "plt.imshow(torch.sigmoid(torch.as_tensor(preds[207].squeeze()))>0.59)"
   ]
  },
  {
   "cell_type": "code",
   "execution_count": null,
   "id": "9710c6e5",
   "metadata": {},
   "outputs": [],
   "source": [
    "unet_pred = model.predict_dataloader()"
   ]
  },
  {
   "cell_type": "code",
   "execution_count": null,
   "id": "e7218da4",
   "metadata": {},
   "outputs": [],
   "source": [
    "\n",
    "\n",
    "\n",
    "# Train ##################################################\n",
    "\n",
    "\n",
    "\n",
    "\n",
    "trainer = pl.Trainer.from_argparse_args(\n",
    "    args,\n",
    "    logger=wandb_logger,\n",
    "    callbacks=[\n",
    "        checkpoint_callback,\n",
    "        LogImagePredictions(),\n",
    "        # LearningRateMonitor(logging_interval=\"step\"),\n",
    "    ],\n",
    "    precision=args.precision,\n",
    "    limit_train_batches=args.limit_train_batches,\n",
    "    limit_val_batches=args.limit_val_batches,\n",
    "    max_epochs=args.max_epochs,\n",
    ")\n",
    "\n",
    "trainer.fit(model, datamodule=sdm)\n"
   ]
  }
 ],
 "metadata": {
  "kernelspec": {
   "display_name": "Python 3 (ipykernel)",
   "language": "python",
   "name": "python3"
  },
  "language_info": {
   "codemirror_mode": {
    "name": "ipython",
    "version": 3
   },
   "file_extension": ".py",
   "mimetype": "text/x-python",
   "name": "python",
   "nbconvert_exporter": "python",
   "pygments_lexer": "ipython3",
   "version": "3.9.7"
  }
 },
 "nbformat": 4,
 "nbformat_minor": 5
}
