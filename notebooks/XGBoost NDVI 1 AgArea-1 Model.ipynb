{
 "cells": [
  {
   "cell_type": "markdown",
   "id": "6b90527a",
   "metadata": {},
   "source": [
    "# Timeseries and met data based on paper that uses XGBoost\n",
    "\n",
    "https://www.mdpi.com/2072-4292/13/6/1147/pdf\n",
    "\n",
    "https://www.tandfonline.com/doi/full/10.1080/17538947.2020.1808718"
   ]
  },
  {
   "cell_type": "markdown",
   "id": "e033c56a",
   "metadata": {},
   "source": [
    "The date of this record can be truncated to the month, i.e. this record is for 2015-05. For this month;\n",
    "- **CHIRPS_SPI_actual** is the actual SPI for the month 2015-05 relative to all May months 1984 through 2021. It is available for the month before. So I can use it.\n",
    "- **MIXED_SPI** is the SPI for the month 2015-05 using the first **12 days from CHIRPS and the rest of the month from the mean seasonal forecast**; taking a weighted mean of the respective SPIs. The idea is this is the value we'd be able to use in production if we ran production at the end of each month\n",
    "- **FORECAST_SPI_{ii}** is the SPI based on the ensemble mean for 1 through six months in advance, i.e., in this case, for 2015-06, ..., 2015-11 (e: and this forecast was made on 2015-05-13. So each record has the next 6 months)\n",
    "- the **FORECAST_SPI** values are relative to all May forecasts 1993-2021, so the May forecast for July is relative all May forecasts for July, but not the June forecasts for July\n",
    "- there are sometimes when the SPI is inf  because all forecast data is 0. But inf can't into JSON so **I've filled in with the value 999. - so we'll need to do a data cleaning step before prediction**\n",
    "- **NDVI** is the mean of the whole months. If it says 2015-05-01 it means that it is the mean ndvi for the month 2015-05\n"
   ]
  },
  {
   "cell_type": "markdown",
   "id": "e2a6d51c",
   "metadata": {},
   "source": [
    "To be sure I don't have a data leakeage, let's study each feature:\n",
    "For each date time d (for example d is August) I assume d is truncated by month and ignore the day.\n",
    "Actually a better day would be to put last day of the month:\n",
    "- d is August (xxxx-08-01)\n",
    "- month_ndvi_mean: is the mean of whole August NDVI\n",
    "- mixed_spi: first 12 days of chirps, rest of forecast for all August\n",
    "- forecast_spi: mean for 1..6 months in advance (sept, oct, nov...)\n",
    "- chirps_actual: i cannot use this for training, because I don't have this info in production (or I can use it but it is not the same as mixed_spi)\n",
    "\n",
    "- If we run in production at the end of each month I'm using current month forecasted_spi so I cannot precit 7 months, but only 6 months\n",
    "\n",
    "### Missing values:\n",
    "Gotta take care of missing values, because otherwise the targets are not going to be realistic. If I shift after droping NaNs I can have a target that is for N months ahead but it shouldn't\n",
    "\n",
    "\n",
    "### Test set\n",
    "\n",
    "I'm leaving 21 points for the test set. So I can have 21-7 total predictions for each of the 7 models (one per month)\n",
    "\n",
    "\n",
    "### Model Types\n",
    "- We can train 7 models for the same input row\n",
    "- Or we can train 7 models but based on data predicted by previous model (it's like using one single model)\n",
    "    - The train can be done only for real data (current_ndiv, mixed_spi)\n",
    "    - But the the prediction I can use for current_ndvi the pred for previous month and instead of mixed spi the forecast_spi_1...7\n",
    "    \n",
    "# Baseline vs NDVI vs SM\n",
    "- Baseline model using only current and forecast_spi\n",
    "- NDVI adding ndvi derivatives\n",
    "- SM adding sm derivatives.\n",
    "\n",
    "Each of them trained in the same dataset"
   ]
  },
  {
   "cell_type": "code",
   "execution_count": null,
   "id": "efe77766",
   "metadata": {},
   "outputs": [],
   "source": [
    "import xgboost as xgb"
   ]
  },
  {
   "cell_type": "code",
   "execution_count": null,
   "id": "869418c2-1a03-4808-82b3-b977defc87ba",
   "metadata": {},
   "outputs": [],
   "source": [
    "import json\n",
    "import seaborn as sns\n",
    "import altair as alt\n",
    "import httpx\n",
    "import matplotlib.pyplot as plt\n",
    "import pandas as pd\n",
    "import seaborn as sns\n",
    "from shapely import geometry\n",
    "from shapely.ops import unary_union\n",
    "import os\n",
    "from dotenv import load_dotenv\n",
    "\n",
    "load_dotenv()  # take environment variables from .env."
   ]
  },
  {
   "cell_type": "code",
   "execution_count": null,
   "id": "21562853",
   "metadata": {},
   "outputs": [],
   "source": [
    "tete_aga = 2179"
   ]
  },
  {
   "cell_type": "markdown",
   "id": "2b910999-3ab4-4edc-9d5a-8c24601e38eb",
   "metadata": {},
   "source": [
    "# API Auth"
   ]
  },
  {
   "cell_type": "code",
   "execution_count": null,
   "id": "ac181a62-5d07-46b6-bd8d-f56419f7ff69",
   "metadata": {},
   "outputs": [],
   "source": [
    "base_url = \"http://localhost:8081/\""
   ]
  },
  {
   "cell_type": "code",
   "execution_count": null,
   "id": "9fc3c618-8765-4366-a420-315d4b13b327",
   "metadata": {},
   "outputs": [],
   "source": [
    "client = httpx.Client(base_url=base_url)"
   ]
  },
  {
   "cell_type": "code",
   "execution_count": null,
   "id": "15a4fdee-e8f9-4652-82fa-65cc85ec548b",
   "metadata": {},
   "outputs": [],
   "source": [
    "r = client.post(\n",
    "    \"auth/token\",\n",
    "    data={\"username\": \"fran.dorr@gmail.com\", \"password\": \"fran123\"},\n",
    ")"
   ]
  },
  {
   "cell_type": "code",
   "execution_count": null,
   "id": "86d8579a-1e8f-44ef-9f64-57d97d2b8294",
   "metadata": {},
   "outputs": [],
   "source": [
    "token = json.loads(r.text)[\"access_token\"]\n",
    "headers = {\"Authorization\": f\"Bearer {token}\"}"
   ]
  },
  {
   "cell_type": "markdown",
   "id": "d3989414-2d25-4d8b-aa9f-07426b36bf91",
   "metadata": {},
   "source": [
    "# Get agricultural areas geoms from the API"
   ]
  },
  {
   "cell_type": "code",
   "execution_count": null,
   "id": "298df819-d44f-4b43-a7f2-b9c67c003113",
   "metadata": {},
   "outputs": [],
   "source": [
    "\n",
    "r = client.get(\"aoi/\", params=dict(id=tete_aga), headers=headers)\n",
    "res = json.loads(r.text)\n",
    "polygons = geometry.shape(res[\"features\"][0][\"geometry\"])\n"
   ]
  },
  {
   "cell_type": "code",
   "execution_count": null,
   "id": "80a134e3",
   "metadata": {},
   "outputs": [],
   "source": []
  },
  {
   "cell_type": "code",
   "execution_count": null,
   "id": "4aff7ed3",
   "metadata": {},
   "outputs": [],
   "source": [
    "# get the bbox for all the ag areas\n",
    "box = polygons.bounds\n"
   ]
  },
  {
   "cell_type": "markdown",
   "id": "d5293bd6-f5d3-4758-8735-7e80074335d0",
   "metadata": {},
   "source": [
    "# Get Events from DB \n",
    "- Date range from 2019 to 2022"
   ]
  },
  {
   "cell_type": "code",
   "execution_count": null,
   "id": "b7722d23-d787-42b5-b9fa-34260117ca73",
   "metadata": {},
   "outputs": [],
   "source": [
    "start_datetime = \"1985-01-02\"\n",
    "end_datetime = \"2022-08-31\""
   ]
  },
  {
   "cell_type": "code",
   "execution_count": null,
   "id": "fdf13b5f",
   "metadata": {},
   "outputs": [],
   "source": [
    "r = client.get(\n",
    "        \"events/\",\n",
    "        params=dict(\n",
    "            aoi_id=tete_aga,\n",
    "            start_datetime=start_datetime,\n",
    "            end_datetime=end_datetime,\n",
    "            limit=10000,\n",
    "        ),\n",
    "        headers=headers,\n",
    "        timeout=60,\n",
    "    )\n",
    "    \n",
    "    "
   ]
  },
  {
   "cell_type": "code",
   "execution_count": null,
   "id": "6f6cc6f9",
   "metadata": {},
   "outputs": [],
   "source": [
    "aga_results = json.loads(r.text)[\"events\"]"
   ]
  },
  {
   "cell_type": "code",
   "execution_count": null,
   "id": "4a833948",
   "metadata": {},
   "outputs": [],
   "source": [
    "from dateutil.relativedelta import relativedelta\n",
    "\n",
    "\n",
    "def get_keyed_values(results, label, keyed_value, new_col):\n",
    "    df = pd.DataFrame(results)\n",
    "    df.labels = df.labels.map(lambda x: x[0])\n",
    "    df = df[df.labels == label]\n",
    "    df[new_col] = df.keyed_values.apply(lambda x: x.get(keyed_value))\n",
    "    df = df.drop_duplicates(subset=[\"aoi_id\", \"datetime\"]).dropna()\n",
    "    df.datetime = pd.to_datetime(df.datetime)\n",
    "    \n",
    "    \n",
    "    if keyed_value == \"FORECAST_SPI\":\n",
    "        months_df = df[new_col].apply(pd.Series)\n",
    "        months_df.columns = [f\"{new_col}_1\", f\"{new_col}_2\",\n",
    "                             f\"{new_col}_3\", f\"{new_col}_4\",\n",
    "                             f\"{new_col}_5\", f\"{new_col}_6\"]\n",
    "        df = pd.concat([df.drop([new_col], axis=1), months_df], axis=1)\n",
    "    \n",
    "        df.index = df[\"datetime\"]\n",
    "        \n",
    "    elif keyed_value == \"mean_value\":\n",
    "        df = df.groupby([\"datetime\"]).mean().resample(\"MS\").mean()\n",
    "        #df.index = df.index.map(lambda x: x.replace(day=1))\n",
    "      \n",
    "    else:\n",
    "        df.index = df[\"datetime\"]\n",
    "        \n",
    "        \n",
    "    return df\n",
    "    "
   ]
  },
  {
   "cell_type": "code",
   "execution_count": null,
   "id": "d327f5af",
   "metadata": {},
   "outputs": [],
   "source": [
    "ndvi = get_keyed_values(aga_results, \"ndvi\", \"mean_value\", \"month_ndvi_mean\")\n",
    "sm = get_keyed_values(aga_results, \"soil_moisture\", \"mean_value\", \"month_sm_mean\")\n",
    "chirps_actual = get_keyed_values(aga_results, \"total_precipitation\", \"CHIRPS_SPI_actual\", \"chirps_actual\")\n",
    "forecast_spi = get_keyed_values(aga_results, \"total_precipitation\", \"FORECAST_SPI\", \"forecast_spi\")\n",
    "mixed_spi = get_keyed_values(aga_results, \"total_precipitation\", \"MIXED_SPI\", \"mixed_spi\")"
   ]
  },
  {
   "cell_type": "code",
   "execution_count": null,
   "id": "73224712",
   "metadata": {},
   "outputs": [],
   "source": [
    "pivots = [6]\n",
    "for pivot in pivots:\n",
    "    sm[f\"past_{pivot}_sm\"] = sm[\"month_sm_mean\"].shift(pivot).interpolate() \n",
    "    sm[f\"past_{pivot}_sm_adj_left\"] = sm[\"month_sm_mean\"].shift(pivot+1).interpolate() \n",
    "    sm[f\"past_{pivot}_sm_adj_right\"] = sm[\"month_sm_mean\"].shift(pivot-1).interpolate() \n",
    "\n",
    "    sm[f\"past_{pivot}_sm_diff_left\"] = sm[f\"past_{pivot}_sm\"]-sm[f\"past_{pivot}_sm_adj_left\"]\n",
    "    sm[f\"past_{pivot}_sm_diff_right\"] = sm[f\"past_{pivot}_sm\"]-sm[f\"past_{pivot}_sm_adj_right\"]\n",
    "\n",
    "    sm[f\"past_{pivot}_sm_ratio_left\"] = sm[f\"past_{pivot}_sm_adj_left\"] / sm[f\"past_{pivot}_sm\"]\n",
    "    sm[f\"past_{pivot}_sm_ratio_right\"] = sm[f\"past_{pivot}_sm_adj_right\"] / sm[f\"past_{pivot}_sm\"]\n",
    "\n",
    "    sm[f\"past_{pivot}_sm_adj_sum\"] = sm[f\"past_{pivot}_sm\"] + sm[f\"past_{pivot}_sm_adj_left\"] + sm[f\"past_{pivot}_sm_adj_right\"] \n",
    "\n",
    "    sm[f\"past_{pivot}_sm_adj_mean\"] = sm[f\"past_{pivot}_sm_adj_sum\"]/3 \n",
    "    \n",
    "    \n",
    "    chirps_actual[f\"past_{pivot}_chirps_actual\"] = chirps_actual[\"chirps_actual\"].shift(pivot).interpolate() \n",
    "    chirps_actual[f\"past_{pivot}_chirps_actual_adj_left\"] = chirps_actual[\"chirps_actual\"].shift(pivot+1).interpolate() \n",
    "    chirps_actual[f\"past_{pivot}_chirps_actual_adj_right\"] = chirps_actual[\"chirps_actual\"].shift(pivot-1).interpolate() \n",
    "\n",
    "    chirps_actual[f\"past_{pivot}_chirps_actual_diff_left\"] = chirps_actual[f\"past_{pivot}_chirps_actual\"]-chirps_actual[f\"past_{pivot}_chirps_actual_adj_left\"]\n",
    "    chirps_actual[f\"past_{pivot}_chirps_actual_diff_right\"] = chirps_actual[f\"past_{pivot}_chirps_actual\"]-chirps_actual[f\"past_{pivot}_chirps_actual_adj_right\"]\n",
    "\n",
    "    chirps_actual[f\"past_{pivot}_chirps_actual_ratio_left\"] = chirps_actual[f\"past_{pivot}_chirps_actual_adj_left\"] / chirps_actual[f\"past_{pivot}_chirps_actual\"]\n",
    "    chirps_actual[f\"past_{pivot}_chirps_actual_ratio_right\"] = chirps_actual[f\"past_{pivot}_chirps_actual_adj_right\"] / chirps_actual[f\"past_{pivot}_chirps_actual\"]\n",
    "\n",
    "    chirps_actual[f\"past_{pivot}_chirps_actual_adj_sum\"] = chirps_actual[f\"past_{pivot}_chirps_actual\"] + chirps_actual[f\"past_{pivot}_chirps_actual_adj_left\"] + chirps_actual[f\"past_{pivot}_chirps_actual_adj_right\"] \n",
    "\n",
    "    chirps_actual[f\"past_{pivot}_chirps_actual_adj_mean\"] = chirps_actual[f\"past_{pivot}_chirps_actual_adj_sum\"]/3 \n",
    "\n",
    "sm_cols = []\n",
    "chirps_cols = []\n",
    "for pivot in pivots:\n",
    "    sm_cols = sm_cols+[f'past_{pivot}_sm',f'past_{pivot}_sm_adj_left',\n",
    "                  f'past_{pivot}_sm_adj_right',f'past_{pivot}_sm_diff_left',f'past_{pivot}_sm_diff_right',\n",
    "                  f'past_{pivot}_sm_ratio_left', f'past_{pivot}_sm_ratio_right',f'past_{pivot}_sm_adj_sum',\n",
    "                  f'past_{pivot}_sm_adj_mean']\n",
    "    chirps_cols = chirps_cols + [f'past_{pivot}_chirps_actual', f'past_{pivot}_chirps_actual_adj_left',\n",
    "       f'past_{pivot}_chirps_actual_adj_right', f'past_{pivot}_chirps_actual_diff_left',\n",
    "       f'past_{pivot}_chirps_actual_diff_right', f'past_{pivot}_chirps_actual_ratio_left',\n",
    "       f'past_{pivot}_chirps_actual_ratio_right', f'past_{pivot}_chirps_actual_adj_sum',\n",
    "       f'past_{pivot}_chirps_actual_adj_mean']\n",
    "\n"
   ]
  },
  {
   "cell_type": "code",
   "execution_count": null,
   "id": "e7461d3c",
   "metadata": {},
   "outputs": [],
   "source": [
    "ndvi_cols = []\n",
    "\n",
    "pivots = [11,23,35,47]\n",
    "for pivot in pivots:\n",
    "\n",
    "    \n",
    "    ndvi[f\"past_{pivot}_ndvi\"] = ndvi[f\"month_ndvi_mean\"].shift(pivot).interpolate() \n",
    "    ndvi[f\"past_{pivot}_ndvi_adj_left\"] = ndvi[f\"month_ndvi_mean\"].shift(pivot+1).interpolate() \n",
    "    ndvi[f\"past_{pivot}_ndvi_adj_right\"] = ndvi[f\"month_ndvi_mean\"].shift(pivot-1).interpolate() \n",
    "\n",
    "    ndvi[f\"past_{pivot}_ndvi_diff_left\"] = ndvi[f\"past_{pivot}_ndvi\"]-ndvi[f\"past_{pivot}_ndvi_adj_left\"]\n",
    "    ndvi[f\"past_{pivot}_ndvi_diff_right\"] = ndvi[f\"past_{pivot}_ndvi\"]-ndvi[f\"past_{pivot}_ndvi_adj_right\"]\n",
    "\n",
    "    ndvi[f\"past_{pivot}_ndvi_ratio_left\"] = ndvi[f\"past_{pivot}_ndvi_adj_left\"] / ndvi[f\"past_{pivot}_ndvi\"]\n",
    "    ndvi[f\"past_{pivot}_ndvi_ratio_right\"] = ndvi[f\"past_{pivot}_ndvi_adj_right\"] / ndvi[f\"past_{pivot}_ndvi\"]\n",
    "\n",
    "    ndvi[f\"past_{pivot}_ndvi_adj_sum\"] = ndvi[f\"past_{pivot}_ndvi\"] + ndvi[f\"past_{pivot}_ndvi_adj_left\"] + ndvi[f\"past_{pivot}_ndvi_adj_right\"] \n",
    "\n",
    "    ndvi[f\"past_{pivot}_ndvi_adj_mean\"] = ndvi[f\"past_{pivot}_ndvi_adj_sum\"]/3 \n",
    "\n",
    "for pivot in pivots:\n",
    "    ndvi_cols = ndvi_cols+[f'past_{pivot}_ndvi',f'past_{pivot}_ndvi_adj_left',\n",
    "                  f'past_{pivot}_ndvi_adj_right',f'past_{pivot}_ndvi_diff_left',f'past_{pivot}_ndvi_diff_right',\n",
    "                  f'past_{pivot}_ndvi_ratio_left', f'past_{pivot}_ndvi_ratio_right',f'past_{pivot}_ndvi_adj_sum',\n",
    "                  f'past_{pivot}_ndvi_adj_mean']\n"
   ]
  },
  {
   "cell_type": "code",
   "execution_count": null,
   "id": "f72fb7c0",
   "metadata": {},
   "outputs": [],
   "source": [
    "cols_to_use = ndvi_cols + sm_cols #+ chirps_cols"
   ]
  },
  {
   "cell_type": "code",
   "execution_count": null,
   "id": "2b9e144c",
   "metadata": {},
   "outputs": [],
   "source": [
    "final_df = ndvi.join(sm, lsuffix=\"\", rsuffix=\"_r\")\n",
    "final_df = final_df.join(forecast_spi, lsuffix=\"\", rsuffix=\"_r\")\n",
    "final_df = final_df.join(mixed_spi, lsuffix=\"\", rsuffix=\"_r\")\n",
    "final_df = final_df.join(chirps_actual, lsuffix=\"\", rsuffix=\"_r\")\n",
    "\n"
   ]
  },
  {
   "cell_type": "code",
   "execution_count": null,
   "id": "3bf1c3eb",
   "metadata": {},
   "outputs": [],
   "source": [
    "final_df[f\"target_ndvi\"] = final_df.month_ndvi_mean.shift(-1)\n",
    "#final_df[\"chirps_actual\"] = final_df[\"forecast_spi_1\"]\n",
    "\n",
    "#final_df[\"chirps_actual\"] = final_df[\"chirps_actual\"].shift(1)\n"
   ]
  },
  {
   "cell_type": "code",
   "execution_count": null,
   "id": "9d7f8ef6",
   "metadata": {},
   "outputs": [],
   "source": [
    "import numpy as np\n",
    "\n",
    "final_df.replace([np.inf, -np.inf], np.nan, inplace=True)\n",
    "final_df = final_df.drop(columns=[\"month_ndvi_mean\"]).dropna(subset=cols_to_use+[\"target_ndvi\"])\n",
    "#final_df = final_df.dropna()\n",
    "final_df.shape"
   ]
  },
  {
   "cell_type": "markdown",
   "id": "f4a7633b",
   "metadata": {},
   "source": [
    "# One Month model\n",
    "\n",
    "- Train each model separetely to get the most out of the dataset. If I filter everything many points dissapear because of NaN\n",
    "- \n",
    "\n"
   ]
  },
  {
   "cell_type": "code",
   "execution_count": null,
   "id": "93cd83cf",
   "metadata": {},
   "outputs": [],
   "source": [
    "from sklearn.ensemble import RandomForestRegressor\n",
    "from boruta import boruta_py\n",
    "from sklearn.model_selection import GridSearchCV\n",
    "from sklearn.model_selection import TimeSeriesSplit\n",
    "from tqdm import tqdm\n",
    "from collections import defaultdict\n",
    "from sklearn.model_selection import ShuffleSplit, cross_validate\n",
    "from sklearn.metrics import r2_score, mean_squared_error\n",
    "  \n",
    "from lofo import LOFOImportance, Dataset, plot_importance\n",
    "%matplotlib inline\n"
   ]
  },
  {
   "cell_type": "code",
   "execution_count": null,
   "id": "f765b634",
   "metadata": {},
   "outputs": [],
   "source": [
    "test_size = 20\n",
    "cols_to_drop = [\"target_ndvi\"]\n",
    "X_train = final_df.drop(columns=cols_to_drop)[:-test_size]\n",
    "X_test = final_df.drop(columns=cols_to_drop)[-test_size:]\n",
    "\n",
    "\n",
    "\n",
    "y_train = final_df[\"target_ndvi\"][:-test_size]\n",
    "y_test = final_df[\"target_ndvi\"][-test_size:]\n"
   ]
  },
  {
   "cell_type": "code",
   "execution_count": null,
   "id": "0883003a",
   "metadata": {},
   "outputs": [],
   "source": [
    "def train_models(X_train,y_train, grid_search_params,\n",
    "                 cv_scoring= {'r2': 'r2','neg_mse': 'neg_mean_squared_error'},\n",
    "                 boruta=True):\n",
    "                 \n",
    "    X_train_copy = X_train[cols_to_use].copy()\n",
    "    \n",
    "    features = X_train_copy.columns\n",
    "    cv = ShuffleSplit(n_splits=10, test_size=0.2, random_state=42)\n",
    "    forest = xgb.XGBRegressor(n_jobs=-1)\n",
    "    if boruta:\n",
    "        \n",
    "        # define Boruta feature selection method\n",
    "\n",
    "        feat_selector = boruta_py.BorutaPy(forest, verbose=0, perc=90, n_estimators=200)\n",
    "        # find all relevant features\n",
    "        feat_selector.fit(X_train_copy[features].values, y_train.values)\n",
    "        Z = [x for r,x in sorted(zip(feat_selector.ranking_,X_train[features].columns)) if r ==1 or r ==2]\n",
    "        selected_features = Z\n",
    "    else:\n",
    "        dataset = Dataset(df=pd.concat([X_train_copy, y_train],axis=1), target=\"target_ndvi\", features=[col for col in X_train_copy.columns])\n",
    "        lofo_imp = LOFOImportance(dataset, cv=cv, scoring=\"neg_mean_absolute_error\", n_jobs=-1)\n",
    "        importance_df = lofo_imp.get_importance()\n",
    "        \n",
    "        plot_importance(importance_df, figsize=(12, 20))\n",
    "\n",
    "        selected_features = importance_df[importance_df.importance_mean > 0].feature.values\n",
    "                 \n",
    "    print(\"Features to be use: \", selected_features)\n",
    "    #print(\"Boruta selected: \", selected_features)\n",
    "\n",
    "    xg_reg = xgb.XGBRegressor(n_jobs=-1)\n",
    "\n",
    "    params = grid_search_params\n",
    "\n",
    "    \n",
    "\n",
    "    xgb_grid = GridSearchCV(xg_reg,\n",
    "                            params,\n",
    "                            cv = cv,\n",
    "                            n_jobs = -1,\n",
    "                            verbose=True)\n",
    "\n",
    "    xgb_grid.fit(X_train_copy[selected_features],y_train)\n",
    "    best_params = xgb_grid.best_params_\n",
    "    best_models = xgb_grid.best_estimator_\n",
    "\n",
    "    cv_scores = cross_validate(xgb_grid.best_estimator_,X_train_copy[selected_features],\n",
    "                 y_train,cv=cv, scoring=cv_scoring)\n",
    "\n",
    "    boruta_features = selected_features\n",
    "\n",
    "    return best_models, best_params, cv_scores, boruta_features, importance_df"
   ]
  },
  {
   "cell_type": "code",
   "execution_count": null,
   "id": "74238d35",
   "metadata": {},
   "outputs": [],
   "source": [
    "\n",
    "def train_final_and_eval(cv_train_results, month=1):\n",
    "    X_test_cp = X_test.copy()\n",
    "    X_train_cp = X_train.copy()\n",
    "    models = []\n",
    "    _, model_params, _, features,_ = cv_train_results\n",
    "\n",
    "    \n",
    "    #if month==7:\n",
    "    #    X_test_cp[\"chirps_actual\"] = X_test_cp[f\"forecast_spi_6\"]\n",
    "    #    X_train_cp[\"chirps_actual\"] = X_train_cp[f\"forecast_spi_6\"]\n",
    "    #else:\n",
    "    #    X_test_cp[\"chirps_actual\"] = X_test_cp[f\"forecast_spi_{month}\"]\n",
    "    #    X_train_cp[\"chirps_actual\"] = X_train_cp[f\"forecast_spi_{month}\"]\n",
    "        \n",
    "    \n",
    "    \n",
    "    xgb_reg = xgb.XGBRegressor(**model_params)\n",
    "   \n",
    "    xgb_reg.fit(X_train_cp[features], y_train)\n",
    "    \n",
    "    \n",
    "    \n",
    "    \n",
    "\n",
    "    preds = xgb_reg.predict(X_test_cp[features])\n",
    "    y_true = y_test\n",
    "    \n",
    "    y_true.plot(label=\"y_true\", legend=True)\n",
    "    pd.Series(preds,index=y_true.index).plot(label=\"y_pred\", legend=True)\n",
    "    plt.show()\n",
    "    return y_true, preds, models"
   ]
  },
  {
   "cell_type": "code",
   "execution_count": null,
   "id": "1ffb84cf",
   "metadata": {},
   "outputs": [],
   "source": [
    "gsp = {'objective':['reg:squarederror'],\n",
    "              'max_depth': [1,2,3,5,15,20,30],\n",
    "              'n_estimators': [50,100, 200,500,1000]}\n",
    "train_results = train_models(X_train,y_train,gsp, boruta=False)\n"
   ]
  },
  {
   "cell_type": "code",
   "execution_count": null,
   "id": "42eadffa",
   "metadata": {},
   "outputs": [],
   "source": [
    "pd.DataFrame(wfp_scores)"
   ]
  },
  {
   "cell_type": "code",
   "execution_count": null,
   "id": "cc4cb233",
   "metadata": {},
   "outputs": [],
   "source": [
    "['past_11_ndvi', 'past_11_ndvi_adj_right', 'past_35_ndvi_adj_right',\n",
    "       'past_47_ndvi_diff_right', 'past_35_ndvi_diff_right',\n",
    "       'past_23_ndvi_adj_right', 'past_6_sm_diff_left',\n",
    "       'past_35_ndvi_adj_sum', 'past_47_ndvi', 'past_11_ndvi_diff_right']"
   ]
  },
  {
   "cell_type": "code",
   "execution_count": null,
   "id": "5da56262",
   "metadata": {},
   "outputs": [],
   "source": [
    "train_results[3]"
   ]
  },
  {
   "cell_type": "code",
   "execution_count": null,
   "id": "9322e65a",
   "metadata": {},
   "outputs": [],
   "source": [
    "wfp_models, wfp_params, wfp_scores, _ ,_= train_results\n",
    "\n",
    "\n",
    "y_true, y_pred, models = train_final_and_eval(train_results,month=4)\n",
    "print(\"10-Fold CV R2:\", pd.DataFrame(wfp_scores)[\"test_r2\"].median(),\n",
    "      \"\\n10-Fold CV RMSE\", -pd.DataFrame(wfp_scores)[\"test_neg_mse\"].median())\n",
    "print(\"TEST R2\",r2_score(y_true,y_pred), \n",
    "      \"\\nTEST RMSE\", mean_squared_error(y_true,y_pred))"
   ]
  }
 ],
 "metadata": {
  "kernelspec": {
   "display_name": "Python 3 (ipykernel)",
   "language": "python",
   "name": "python3"
  },
  "language_info": {
   "codemirror_mode": {
    "name": "ipython",
    "version": 3
   },
   "file_extension": ".py",
   "mimetype": "text/x-python",
   "name": "python",
   "nbconvert_exporter": "python",
   "pygments_lexer": "ipython3",
   "version": "3.9.13"
  }
 },
 "nbformat": 4,
 "nbformat_minor": 5
}
