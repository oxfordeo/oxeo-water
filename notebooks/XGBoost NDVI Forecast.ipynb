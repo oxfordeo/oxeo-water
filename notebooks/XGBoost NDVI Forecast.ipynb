{
 "cells": [
  {
   "cell_type": "markdown",
   "id": "6b90527a",
   "metadata": {},
   "source": [
    "# Forecast API endpoint\n"
   ]
  },
  {
   "cell_type": "code",
   "execution_count": null,
   "id": "efe77766",
   "metadata": {},
   "outputs": [],
   "source": [
    "import xgboost as xgb"
   ]
  },
  {
   "cell_type": "code",
   "execution_count": null,
   "id": "869418c2-1a03-4808-82b3-b977defc87ba",
   "metadata": {},
   "outputs": [],
   "source": [
    "import json\n",
    "\n",
    "import altair as alt\n",
    "import httpx\n",
    "import matplotlib.pyplot as plt\n",
    "import pandas as pd\n",
    "import seaborn as sns\n",
    "from shapely import geometry\n",
    "from shapely.ops import unary_union\n",
    "import os\n",
    "from dotenv import load_dotenv\n",
    "\n",
    "load_dotenv()  # take environment variables from .env."
   ]
  },
  {
   "cell_type": "code",
   "execution_count": null,
   "id": "21562853",
   "metadata": {},
   "outputs": [],
   "source": [
    "tete_aga = [\"2363\", \"2189\", \"2190\", \"2191\", \"2202\", \"2192\", \"2193\", \"2194\", \"2203\", \"2195\", \"2196\", \"2197\", \"2198\", \"2199\", \"2200\", \"2201\", \"2204\", \"2205\", \"2206\", \"2208\", \"2209\", \"2207\", \"2210\", \"2211\", \"2212\", \"2213\", \"2214\", \"2215\", \"2216\", \"2359\", \"2360\", \"2361\", \"2362\", \"2364\", \"2365\", \"2366\", \"2367\", \"2368\", \"2369\", \"2370\", \"2371\", \"2372\", \"2409\", \"2410\", \"2411\", \"2412\", \"2413\", \"2414\", \"2415\", \"2454\", \"2416\", \"2452\", \"2453\", \"2455\", \"2456\", \"2459\", \"2457\", \"2458\", \"2460\", \"2461\", \"2462\", \"2463\", \"2464\"]\n",
    "\n",
    "tete_aga = list(map(int, tete_aga))"
   ]
  },
  {
   "cell_type": "markdown",
   "id": "2b910999-3ab4-4edc-9d5a-8c24601e38eb",
   "metadata": {},
   "source": [
    "# API Auth"
   ]
  },
  {
   "cell_type": "code",
   "execution_count": null,
   "id": "ac181a62-5d07-46b6-bd8d-f56419f7ff69",
   "metadata": {},
   "outputs": [],
   "source": [
    "base_url = \"http://localhost:8081/\""
   ]
  },
  {
   "cell_type": "code",
   "execution_count": null,
   "id": "9fc3c618-8765-4366-a420-315d4b13b327",
   "metadata": {},
   "outputs": [],
   "source": [
    "client = httpx.Client(base_url=base_url)"
   ]
  },
  {
   "cell_type": "code",
   "execution_count": null,
   "id": "15a4fdee-e8f9-4652-82fa-65cc85ec548b",
   "metadata": {},
   "outputs": [],
   "source": [
    "r = client.post(\n",
    "    \"auth/token\",\n",
    "    data={\"username\": os.environ[\"USERNAME\"], \"password\": os.environ[\"PASSWORD\"]},\n",
    ")"
   ]
  },
  {
   "cell_type": "code",
   "execution_count": null,
   "id": "86d8579a-1e8f-44ef-9f64-57d97d2b8294",
   "metadata": {},
   "outputs": [],
   "source": [
    "token = json.loads(r.text)[\"access_token\"]\n",
    "headers = {\"Authorization\": f\"Bearer {token}\"}"
   ]
  },
  {
   "cell_type": "markdown",
   "id": "d3989414-2d25-4d8b-aa9f-07426b36bf91",
   "metadata": {},
   "source": [
    "# Get agricultural areas geoms from the API"
   ]
  },
  {
   "cell_type": "code",
   "execution_count": null,
   "id": "298df819-d44f-4b43-a7f2-b9c67c003113",
   "metadata": {},
   "outputs": [],
   "source": [
    "polygons = []\n",
    "for wb_id in tete_aga:\n",
    "    try:\n",
    "        r = client.get(\"aoi/\", params=dict(id=wb_id), headers=headers)\n",
    "        res = json.loads(r.text)\n",
    "        polygons.append(geometry.shape(res[\"features\"][0][\"geometry\"]))\n",
    "    except:\n",
    "        continue"
   ]
  },
  {
   "cell_type": "code",
   "execution_count": null,
   "id": "4aff7ed3",
   "metadata": {},
   "outputs": [],
   "source": [
    "# get the bbox for all the ag areas\n",
    "box = unary_union(polygons).bounds\n"
   ]
  },
  {
   "cell_type": "code",
   "execution_count": null,
   "id": "77206e74",
   "metadata": {},
   "outputs": [],
   "source": [
    "box"
   ]
  },
  {
   "cell_type": "markdown",
   "id": "d5293bd6-f5d3-4758-8735-7e80074335d0",
   "metadata": {},
   "source": [
    "# Get 7 Months Forecast from DB \n",
    "\n",
    "start_datetime should be at least 3 month earlier than endtime because it is using the weather data of last 3 months.\n"
   ]
  },
  {
   "cell_type": "code",
   "execution_count": null,
   "id": "b7722d23-d787-42b5-b9fa-34260117ca73",
   "metadata": {},
   "outputs": [],
   "source": [
    "start_datetime = \"2020-07-01\"\n",
    "end_datetime = \"2020-10-10\""
   ]
  },
  {
   "cell_type": "code",
   "execution_count": null,
   "id": "ca2efadd",
   "metadata": {},
   "outputs": [],
   "source": [
    "r = client.get(\n",
    "        \"forecast/\",\n",
    "        params=dict(\n",
    "            bbox=box,\n",
    "            aoi_id=tete_aga,\n",
    "            start_datetime=start_datetime,\n",
    "            end_datetime=end_datetime,\n",
    "            limit=1000,\n",
    "        ),\n",
    "        headers=headers,\n",
    "        timeout=60,\n",
    "    )\n",
    "    "
   ]
  },
  {
   "cell_type": "code",
   "execution_count": null,
   "id": "8e5107e2",
   "metadata": {},
   "outputs": [],
   "source": [
    "plt.plot(json.loads(r.text)['forecast'])"
   ]
  }
 ],
 "metadata": {
  "kernelspec": {
   "display_name": "Python 3 (ipykernel)",
   "language": "python",
   "name": "python3"
  },
  "language_info": {
   "codemirror_mode": {
    "name": "ipython",
    "version": 3
   },
   "file_extension": ".py",
   "mimetype": "text/x-python",
   "name": "python",
   "nbconvert_exporter": "python",
   "pygments_lexer": "ipython3",
   "version": "3.9.13"
  }
 },
 "nbformat": 4,
 "nbformat_minor": 5
}
