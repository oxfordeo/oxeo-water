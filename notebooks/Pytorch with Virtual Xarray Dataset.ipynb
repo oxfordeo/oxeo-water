{
 "cells": [
  {
   "cell_type": "code",
   "execution_count": null,
   "id": "a39f9210",
   "metadata": {},
   "outputs": [],
   "source": [
    "import matplotlib.pyplot as plt\n",
    "\n",
    "from oxeo.water.datamodules.datasets import VirtualDataset\n",
    "from oxeo.water.datamodules import ConstellationDataModule\n",
    "from oxeo.water.datamodules import transforms as oxtransforms\n",
    "from torchvision.transforms import Compose\n",
    "from satools.io import ConstellationData,constellation_dataarray,create_index_map\n",
    "from satools.io import constellation_dataarray, constellations_dataset, load_virtual_datasets\n",
    "\n",
    "from satextractor.models import constellation_info"
   ]
  },
  {
   "cell_type": "code",
   "execution_count": null,
   "id": "fdf72886",
   "metadata": {},
   "outputs": [],
   "source": [
    "list(constellation_info.SENTINEL2_BAND_INFO.keys())"
   ]
  },
  {
   "cell_type": "code",
   "execution_count": null,
   "id": "0d91a50f",
   "metadata": {},
   "outputs": [],
   "source": [
    "import dask.array as da\n",
    "import numpy as np\n",
    "import xarray as xr"
   ]
  },
  {
   "cell_type": "code",
   "execution_count": null,
   "id": "8aca13fd",
   "metadata": {},
   "outputs": [],
   "source": [
    "paths = [\n",
    "         'oxeo-water/prod/43_P_10000_63_131',\n",
    "         'oxeo-water/prod/43_P_10000_63_132',\n",
    "         'oxeo-water/prod/43_P_10000_64_131',\n",
    "         'oxeo-water/prod/43_P_10000_64_132',\n",
    "        ]\n",
    "\n",
    "constellations = ['sentinel-2']\n",
    "all_paths = {kk:[f\"gs://{path}\" for path in paths] for kk in constellations}\n",
    "\n",
    "\n",
    "\n",
    "data_sen2 = ConstellationData(\"sentinel-2\",bands=list(constellation_info.SENTINEL2_BAND_INFO.keys()),\n",
    "                             paths=all_paths[\"sentinel-2\"],\n",
    "                             height=1000,\n",
    "                             width=1000)\n",
    "\n",
    "\n",
    "data_labels = ConstellationData(\"sentinel-2\",bands=[\"pekel\"],\n",
    "                             paths=all_paths[\"sentinel-2\"],\n",
    "                             height=1000,\n",
    "                             width=1000)"
   ]
  },
  {
   "cell_type": "code",
   "execution_count": null,
   "id": "e75513c2",
   "metadata": {},
   "outputs": [],
   "source": [
    "import pandas as pd\n",
    "\n",
    "\n",
    "#train_index_map = create_index_map(train_constellation_regions, date_range=(\"2015-01-01\",\"2017-01-01\"), \n",
    "#                                   patch_size=patch_size, output=\"train_index_map.csv\")\n",
    "\n",
    "#val_index_map = create_index_map(val_constellation_regions, date_range=(\"2017-01-01\",\"2018-01-01\"), \n",
    "#                                   patch_size=patch_size, output = \"val_index_map.csv\")\n",
    "\n",
    "train_index_map = pd.read_csv('/home/fran/repos/oxeo-water/notebooks/train_index_map.csv', header=None).values\n",
    "val_index_map = pd.read_csv('/home/fran/repos/oxeo-water/notebooks/val_index_map.csv', header=None).values"
   ]
  },
  {
   "cell_type": "code",
   "execution_count": null,
   "id": "9d120f28",
   "metadata": {},
   "outputs": [],
   "source": [
    "patch_size = 512\n",
    "\n",
    "train_constellation_regions={\"data\":[[data_sen2]],\"label\":[[data_labels]]}\n",
    "val_constellation_regions={\"data\":[[data_sen2]],\"label\":[[data_labels]]}\n"
   ]
  },
  {
   "cell_type": "code",
   "execution_count": null,
   "id": "7bcd3ea1",
   "metadata": {},
   "outputs": [],
   "source": [
    "dm = ConstellationDataModule(train_constellation_regions=train_constellation_regions,\n",
    "                             val_constellation_regions=val_constellation_regions, \n",
    "                             patch_size=512, \n",
    "                             train_index_map=train_index_map,\n",
    "                             val_index_map=val_index_map,\n",
    "                             preprocess=Compose([oxtransforms.SelectConstellation(\"sentinel-2\"),\n",
    "                                                 oxtransforms.SelectBands([\"B04\",\"B03\",\"B02\"]),\n",
    "                                                 oxtransforms.Compute()]),\n",
    "                             transforms=None,\n",
    "                             batch_size=16,\n",
    "                             num_workers=8)\n",
    "\n",
    "dm.setup()"
   ]
  },
  {
   "cell_type": "code",
   "execution_count": null,
   "id": "3f283343",
   "metadata": {},
   "outputs": [],
   "source": [
    "dl = iter(dm.train_dataloader())"
   ]
  },
  {
   "cell_type": "code",
   "execution_count": null,
   "id": "d31625fe",
   "metadata": {},
   "outputs": [],
   "source": [
    "from skimage.exposure import rescale_intensity\n",
    "\n",
    "arr = next(dl)\n",
    "\n",
    "img = arr[\"data\"][2].numpy().transpose(1,2,0)\n",
    "img =rescale_intensity(img,out_range=float)\n",
    "\n",
    "plt.figure(figsize=(8,8))\n",
    "\n",
    "plt.imshow(img)\n",
    "plt.show()\n",
    "plt.figure(figsize=(8,8))\n",
    "plt.imshow((arr[\"label\"][2,0]))\n",
    "plt.show()\n",
    "\n"
   ]
  },
  {
   "cell_type": "code",
   "execution_count": null,
   "id": "03449e15",
   "metadata": {},
   "outputs": [],
   "source": []
  }
 ],
 "metadata": {
  "kernelspec": {
   "display_name": "Python 3 (ipykernel)",
   "language": "python",
   "name": "python3"
  },
  "language_info": {
   "codemirror_mode": {
    "name": "ipython",
    "version": 3
   },
   "file_extension": ".py",
   "mimetype": "text/x-python",
   "name": "python",
   "nbconvert_exporter": "python",
   "pygments_lexer": "ipython3",
   "version": "3.9.7"
  }
 },
 "nbformat": 4,
 "nbformat_minor": 5
}
