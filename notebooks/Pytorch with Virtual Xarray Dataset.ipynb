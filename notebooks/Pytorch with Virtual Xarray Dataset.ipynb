{
 "cells": [
  {
   "cell_type": "code",
   "execution_count": null,
   "id": "a39f9210",
   "metadata": {},
   "outputs": [],
   "source": [
    "import matplotlib.pyplot as plt\n",
    "\n",
    "from oxeo.water.datamodules.datasets import VirtualDataset\n",
    "\n",
    "from satools.io import ConstellationData,constellation_dataarray, constellation_dataarray, constellations_dataset"
   ]
  },
  {
   "cell_type": "code",
   "execution_count": null,
   "id": "0d91a50f",
   "metadata": {},
   "outputs": [],
   "source": [
    "import dask.array as da\n",
    "import numpy as np\n",
    "import xarray as xr"
   ]
  },
  {
   "cell_type": "code",
   "execution_count": null,
   "id": "8aca13fd",
   "metadata": {},
   "outputs": [],
   "source": [
    "paths = [\n",
    "        'gs://oxeo-water/prod/43_P_10000_63_131',\n",
    "        'gs://oxeo-water/prod/43_P_10000_63_132',\n",
    "         'gs://oxeo-water/prod/43_P_10000_64_131',\n",
    "         'gs://oxeo-water/prod/43_P_10000_64_132',\n",
    "        ]\n",
    "\n",
    "constellations = ['sentinel-2']\n",
    "all_paths = {kk:[f\"gs://{path}\" for path in paths] for kk in constellations}\n",
    "\n",
    "\n",
    "\n",
    "data_sen2 = ConstellationData(\"sentinel-2\",bands=[\"b1\",\"b2\",\"b3\",\"b4\",\n",
    "                                       \"b5\",\"b6\",\"b7\",\"b8\",\n",
    "                                       \"b8a\",\"b9\",\"b10\",\"b11\",\n",
    "                                       \"b12\"],\n",
    "                             paths=all_paths[\"sentinel-2\"],\n",
    "                             height=1000,\n",
    "                             width=1000)\n",
    "\n",
    "\n",
    "data_labels = ConstellationData(\"sentinel-2\",bands=[\"pekels\"],\n",
    "                             paths=all_paths[\"sentinel-2\"],\n",
    "                             height=1000,\n",
    "                             width=1000)"
   ]
  },
  {
   "cell_type": "code",
   "execution_count": null,
   "id": "d76c4ecd",
   "metadata": {},
   "outputs": [],
   "source": [
    "\n",
    "ds = constellations_dataset([data_sen2])\n",
    "ds_labels = constellations_dataset([data_labels], data_path=\"pekel\")\n"
   ]
  },
  {
   "cell_type": "code",
   "execution_count": null,
   "id": "237a230f",
   "metadata": {},
   "outputs": [],
   "source": [
    "## Create Pytorch Dataset on constellation xarray dataset, creating a virtual map on every timestamp and patch\n",
    "vs = VirtualDataset([ds], [ds_labels])"
   ]
  },
  {
   "cell_type": "code",
   "execution_count": null,
   "id": "d31625fe",
   "metadata": {},
   "outputs": [],
   "source": [
    "from skimage.exposure import rescale_intensity\n",
    "\n",
    "i = 20130\n",
    "\n",
    "arr = vs[i]\n",
    "\n",
    "img = arr[\"data\"][\"sentinel-2\"].sel({\"bands\":[\"b3\",\"b2\",\"b1\"]}).values.transpose(1,2,0)\n",
    "img =rescale_intensity(img,out_range=float)\n",
    "\n",
    "plt.figure(figsize=(8,8))\n",
    "\n",
    "plt.imshow(img)\n",
    "plt.show()\n",
    "plt.figure(figsize=(8,8))\n",
    "plt.imshow((arr[\"label\"][\"sentinel-2\"][0]))\n",
    "plt.show()\n",
    "\n"
   ]
  }
 ],
 "metadata": {
  "kernelspec": {
   "display_name": "Python 3 (ipykernel)",
   "language": "python",
   "name": "python3"
  },
  "language_info": {
   "codemirror_mode": {
    "name": "ipython",
    "version": 3
   },
   "file_extension": ".py",
   "mimetype": "text/x-python",
   "name": "python",
   "nbconvert_exporter": "python",
   "pygments_lexer": "ipython3",
   "version": "3.9.7"
  }
 },
 "nbformat": 4,
 "nbformat_minor": 5
}
