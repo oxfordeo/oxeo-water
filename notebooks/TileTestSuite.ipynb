{
 "cells": [
  {
   "cell_type": "code",
   "execution_count": null,
   "metadata": {},
   "outputs": [],
   "source": [
    "%load_ext autoreload\n",
    "%autoreload 2\n",
    "\n",
    "from dotenv import load_dotenv\n",
    "load_dotenv() \n",
    "import os \n",
    "os.environ[\"LOGURU_LEVEL\"] = \"INFO\"\n",
    "\n",
    "from oxeo.water.models.tile_utils import predict_tile\n",
    "from oxeo.core.models.tile import TilePath, tile_from_id, Tile\n",
    "from oxeo.water.models.segmentation import Segmentation2DPredictor"
   ]
  },
  {
   "cell_type": "code",
   "execution_count": null,
   "metadata": {},
   "outputs": [],
   "source": [
    "# Load hand label json files\n",
    "# Import the Google Cloud client library and JSON library\n",
    "from google.cloud import storage\n",
    "import json\n",
    "\n",
    "# Instantiate a Google Cloud Storage client and specify required bucket and file\n",
    "storage_client = storage.Client()\n",
    "bucket = storage_client.get_bucket('oxeo-handlabelling')\n",
    "blob = bucket.blob('iris/zimmoz-landsat-5_zimmoz.json')\n",
    "\n",
    "# Download the contents of the blob as a string and then parse it using json.loads() method\n",
    "data = json.loads(blob.download_as_string(client=None))"
   ]
  },
  {
   "cell_type": "code",
   "execution_count": null,
   "metadata": {},
   "outputs": [],
   "source": [
    "from typing import List\n",
    "def get_tile_paths(data: dict) -> List[TilePath]:\n",
    "    tile_paths = []\n",
    "    for _, tile_data in data.items():\n",
    "        tile = tile_from_item(tile_data)\n",
    "        tile_paths.append(TilePath(tile=tile, constellation=tile_data[\"spacecraft_id\"], root=\"gs://oxeo-water/prod2\"))\n",
    "    return tile_paths"
   ]
  },
  {
   "cell_type": "code",
   "execution_count": null,
   "metadata": {},
   "outputs": [],
   "source": [
    "def tile_from_item(item: dict) -> Tile:\n",
    "    return tile_from_id(item[\"tile\"])"
   ]
  },
  {
   "cell_type": "code",
   "execution_count": null,
   "metadata": {},
   "outputs": [],
   "source": [
    "tile_paths = get_tile_paths(data)"
   ]
  },
  {
   "cell_type": "code",
   "execution_count": null,
   "metadata": {},
   "outputs": [],
   "source": [
    "\n",
    "\n",
    "import gcsfs\n",
    "fs = gcsfs.GCSFileSystem()\n",
    "predictor = Segmentation2DPredictor(ckpt_path=\"gs://oxeo-models/semseg/last.ckpt\", fs=fs)\n",
    "predict_tile(tile_paths[0], \"cnn\", predictor, \n",
    "            revisit_chunk_size=4, \n",
    "            start_date=\"1993-03-19\", end_date=\"2000-03-19\",\n",
    "             fs=fs)"
   ]
  },
  {
   "cell_type": "code",
   "execution_count": null,
   "metadata": {},
   "outputs": [],
   "source": []
  }
 ],
 "metadata": {
  "interpreter": {
   "hash": "ab01ea4b194ce8e6e97af4420441949dd3a4d832737e254dc128b4494a544218"
  },
  "kernelspec": {
   "display_name": "Python 3.9.7 ('oxeo')",
   "language": "python",
   "name": "python3"
  },
  "language_info": {
   "codemirror_mode": {
    "name": "ipython",
    "version": 3
   },
   "file_extension": ".py",
   "mimetype": "text/x-python",
   "name": "python",
   "nbconvert_exporter": "python",
   "pygments_lexer": "ipython3",
   "version": "3.9.7"
  },
  "orig_nbformat": 4
 },
 "nbformat": 4,
 "nbformat_minor": 2
}
