{
 "cells": [
  {
   "cell_type": "code",
   "execution_count": null,
   "metadata": {},
   "outputs": [],
   "source": [
    "%load_ext autoreload\n",
    "%autoreload 2\n",
    "\n",
    "from dotenv import load_dotenv\n",
    "load_dotenv() \n",
    "import os \n",
    "os.environ[\"LOGURU_LEVEL\"] = \"INFO\"\n",
    "\n",
    "from oxeo.water.models.tile_utils import predict_tile\n",
    "from oxeo.core.models.tile import TilePath, tile_from_id, Tile\n",
    "from oxeo.water.models.segmentation import Segmentation2DPredictor\n",
    "from oxeo.water.models.pekel import PekelPredictor\n",
    "\n",
    "from oxeo.water.utils import plot_imgs_in_row\n",
    "from skimage.exposure import rescale_intensity\n",
    "from zarr.errors import ArrayNotFoundError\n",
    "from tqdm import tqdm\n",
    "import numpy as np\n",
    "\n",
    "import zarr\n",
    "import gcsfs\n",
    "from oxeo.water.metrics import multiclass_metric, dice, iou, accuracy, precision, recall\n",
    "\n",
    "from oxeo.water.utils import plot_imgs_in_row\n",
    "from skimage.exposure import rescale_intensity\n",
    "from zarr.errors import ArrayNotFoundError\n",
    "from tqdm import tqdm\n",
    "import pandas as pd\n",
    "import numpy as np\n",
    "from pprint import pprint\n",
    "fs = gcsfs.GCSFileSystem()\n",
    "from IPython.display import display, HTML\n"
   ]
  },
  {
   "cell_type": "code",
   "execution_count": null,
   "metadata": {},
   "outputs": [],
   "source": [
    "# Load hand label json files\n",
    "# Import the Google Cloud client library and JSON library\n",
    "from google.cloud import storage\n",
    "import json\n",
    "\n"
   ]
  },
  {
   "cell_type": "code",
   "execution_count": null,
   "metadata": {},
   "outputs": [],
   "source": [
    "from typing import List\n",
    "def get_tile_paths(data: dict) -> List[TilePath]:\n",
    "    tile_paths = []\n",
    "    for _, tile_data in data.items():\n",
    "        tile = tile_from_item(tile_data)\n",
    "        tile_paths.append(TilePath(tile=tile, constellation=tile_data[\"spacecraft_id\"], root=\"gs://oxeo-water/prod2\"))\n",
    "    return tile_paths"
   ]
  },
  {
   "cell_type": "code",
   "execution_count": null,
   "metadata": {},
   "outputs": [],
   "source": [
    "def tile_from_item(item: dict) -> Tile:\n",
    "    return tile_from_id(item[\"tile\"])"
   ]
  },
  {
   "cell_type": "code",
   "execution_count": null,
   "metadata": {},
   "outputs": [],
   "source": [
    "import random\n",
    "constellation = \"landsat-7\"\n",
    "# Instantiate a Google Cloud Storage client and specify required bucket and file\n",
    "storage_client = storage.Client()\n",
    "bucket = storage_client.get_bucket('oxeo-handlabelling')\n",
    "blob = bucket.blob(f'iris/zimmoz-{constellation}_zimmoz.json')\n",
    "\n",
    "\n",
    "\n",
    "# Download the contents of the blob as a string and then parse it using json.loads() method\n",
    "data = json.loads(blob.download_as_string(client=None))\n",
    "\n",
    "tile_paths = get_tile_paths(data)\n"
   ]
  },
  {
   "cell_type": "code",
   "execution_count": null,
   "metadata": {},
   "outputs": [],
   "source": [
    "from collections import defaultdict\n",
    "tile_dates = defaultdict(list)"
   ]
  },
  {
   "cell_type": "code",
   "execution_count": null,
   "metadata": {},
   "outputs": [],
   "source": [
    "for item in data.values():\n",
    "    tile_dates[item[\"tile\"]].append(item[\"datetime\"])\n"
   ]
  },
  {
   "cell_type": "code",
   "execution_count": null,
   "metadata": {},
   "outputs": [],
   "source": [
    "import yaml"
   ]
  },
  {
   "cell_type": "code",
   "execution_count": null,
   "metadata": {},
   "outputs": [],
   "source": [
    "print(yaml.dump({constellation: dict(tile_dates)}))"
   ]
  },
  {
   "cell_type": "code",
   "execution_count": null,
   "metadata": {},
   "outputs": [],
   "source": [
    "data_dates += [item[\"datetime\"] for item in data.values()]"
   ]
  },
  {
   "cell_type": "code",
   "execution_count": null,
   "metadata": {},
   "outputs": [],
   "source": [
    "data_dates"
   ]
  },
  {
   "cell_type": "code",
   "execution_count": null,
   "metadata": {},
   "outputs": [],
   "source": [
    "from oxeo.satools.io import strdates_to_datetime\n",
    "for tile_path in tile_paths:\n",
    "    print(tile_path.tile.id)\n",
    "    arr = zarr.open_array(tile_path.timestamps_path, 'r')[:]\n",
    "    print(arr.shape)\n",
    "\n",
    "    "
   ]
  },
  {
   "cell_type": "code",
   "execution_count": null,
   "metadata": {},
   "outputs": [],
   "source": [
    "train_set = ['37_L_10000_54_878',\n",
    " '35_K_10000_56_808',\n",
    " '36_J_10000_42_711',\n",
    " '35_K_10000_34_774',\n",
    " '36_L_10000_52_824']\n",
    "\n",
    "[t.tile.id for t in tile_paths if t.tile.id not in train_set]\n"
   ]
  },
  {
   "cell_type": "code",
   "execution_count": null,
   "metadata": {},
   "outputs": [],
   "source": [
    "with open(\"/home/julien/Documents/oxeo/oxeo-data/data/train.json\") as f:\n",
    "        data = json.load(f)\n",
    "\n",
    "    random_items = random.sample(data, 5)"
   ]
  },
  {
   "cell_type": "code",
   "execution_count": null,
   "metadata": {},
   "outputs": [],
   "source": []
  },
  {
   "cell_type": "code",
   "execution_count": null,
   "metadata": {},
   "outputs": [],
   "source": [
    "metrics.values()"
   ]
  },
  {
   "cell_type": "code",
   "execution_count": null,
   "metadata": {},
   "outputs": [],
   "source": [
    "\n",
    "metrics = {\n",
    "    \"dice\": dice,\n",
    "    \"iou\": iou,\n",
    "    \"accuracy\": accuracy,\n",
    "    \"precision\": precision,\n",
    "    \"recall\": recall\n",
    "}\n",
    "\n",
    "\n",
    "\n",
    "pred_model = \"pekel\"\n",
    "only_water = True\n",
    "cols = [f\"water_{m}\" for m in metrics.keys()]\n",
    "for constellation in [\"landsat-5\", \"landsat-7\", \"landsat-8\", \"sentinel-2\"]:\n",
    "    df = pd.DataFrame(columns=cols) # one df per constellation\n",
    "    \n",
    "    \n",
    "    # Instantiate a Google Cloud Storage client and specify required bucket and file\n",
    "    storage_client = storage.Client()\n",
    "    bucket = storage_client.get_bucket('oxeo-handlabelling')\n",
    "    blob = bucket.blob(f'iris/zimmoz-{constellation}_zimmoz.json')\n",
    "\n",
    "\n",
    "\n",
    "    # Download the contents of the blob as a string and then parse it using json.loads() method\n",
    "    data = json.loads(blob.download_as_string(client=None))\n",
    "\n",
    "    tile_paths = get_tile_paths(data)\n",
    "    \n",
    "    \n",
    "    for _, item in data.items():\n",
    "        try:\n",
    "            series = pd.Series()\n",
    "            # get all tiles ids in data items\n",
    "\n",
    "\n",
    "            tile = item[\"tile\"]\n",
    "            gt_mask = zarr.open_array(f\"gs://oxeo-water/prod2/{tile}/{constellation}/mask/zimmoz\", mode=\"r\")\n",
    "            timestamps = zarr.open_array(f\"gs://oxeo-water/prod2/{tile}/{constellation}/timestamps\", mode=\"r\")\n",
    "            pred_mask = zarr.open_array(f\"gs://oxeo-water/prod2/{tile}/{constellation}/mask/{pred_model}\", mode=\"r\")\n",
    "\n",
    "            ts = timestamps[:]\n",
    "            ts = [t[:10] for t in ts]\n",
    "\n",
    "            ts_index = ts.index(item['datetime'])\n",
    "\n",
    "            y_true = gt_mask[ts_index]\n",
    "            y_pred = pred_mask[ts_index]\n",
    "\n",
    "            for k, v in metrics.items():\n",
    "                metric = multiclass_metric(v, y_true, y_pred)\n",
    "                if only_water:\n",
    "                    metric = { key:value for (key,value) in metric.items() if key == 1}\n",
    "                metric = pd.Series(metric)\n",
    "\n",
    "                #print(tile, constellation, pred_model, k, metric)\n",
    "                series = pd.concat([series, metric], axis=0, ignore_index=True)\n",
    "                #df = df.append(metric, ignore_index=True)\n",
    "\n",
    "            series.index = cols\n",
    "            \n",
    "            df = df.append(series, ignore_index=True)\n",
    "            \n",
    "        except:\n",
    "            continue\n",
    "    display(df.describe())\n",
    "            #df.columns = [\"bg\", f\"water_{k}\", f\"clouds_{k}\", \"other\"]\n",
    "        #df.drop(df.columns[[0,3]], axis=1, inplace=True)\n",
    "    #    concat_df = pd.concat([concat_df, df], axis=0, ignore_index=True)\n",
    "     #   print(f\"\\n{constellation}\")\n",
    "   # display(concat_df.describe())"
   ]
  },
  {
   "cell_type": "code",
   "execution_count": null,
   "metadata": {},
   "outputs": [],
   "source": []
  },
  {
   "cell_type": "code",
   "execution_count": null,
   "metadata": {},
   "outputs": [],
   "source": []
  },
  {
   "cell_type": "code",
   "execution_count": null,
   "metadata": {},
   "outputs": [],
   "source": [
    "from matplotlib.backends.backend_pdf import PdfPages\n",
    "def save_multi_image(filename, figures):\n",
    "    pp = PdfPages(filename)\n",
    "\n",
    "    for fig in figures:\n",
    "        fig.savefig(pp, format='pdf')\n",
    "    pp.close()\n",
    "    \n",
    "    \n",
    "    \n",
    "for constellation in [\"landsat-7\", \"landsat-8\", \"sentinel-2\"]:\n",
    "\n",
    "    # Instantiate a Google Cloud Storage client and specify required bucket and file\n",
    "    storage_client = storage.Client()\n",
    "    bucket = storage_client.get_bucket('oxeo-handlabelling')\n",
    "    blob = bucket.blob(f'iris/zimmoz-{constellation}_zimmoz.json')\n",
    "\n",
    "\n",
    "\n",
    "    # Download the contents of the blob as a string and then parse it using json.loads() method\n",
    "    data = json.loads(blob.download_as_string(client=None))\n",
    "\n",
    "    tile_paths = get_tile_paths(data)    \n",
    "    # Load the timestamps per tile and compare with gt\n",
    "    figures = []\n",
    "\n",
    "    pred_model = \"pekel\"\n",
    "    label = 1\n",
    "    # get all tiles ids in data items\n",
    "    for _, item in tqdm(data.items()):\n",
    "        tile = item[\"tile\"]\n",
    "        try:\n",
    "            img_zarr = zarr.open_array(f\"gs://oxeo-water/prod2/{tile}/{constellation}/data\", mode=\"r\")\n",
    "            gt_mask = zarr.open_array(f\"gs://oxeo-water/prod2/{tile}/{constellation}/mask/zimmoz\", mode=\"r\")\n",
    "            timestamps = zarr.open_array(f\"gs://oxeo-water/prod2/{tile}/{constellation}/timestamps\", mode=\"r\")\n",
    "            pred_mask = zarr.open_array(f\"gs://oxeo-water/prod2/{tile}/{constellation}/mask/{pred_model}\", mode=\"r\")\n",
    "\n",
    "        except ArrayNotFoundError:\n",
    "            print(\"Array not found doing prediction.\")\n",
    "            if pred_mask == \"cnn\":\n",
    "                predictor = Segmentation2DPredictor(ckpt_path=\"gs://oxeo-models/semseg/epoch_012.ckpt\", fs=fs)\n",
    "            else:\n",
    "                predictor = PekelPredictor(fs=fs)\n",
    "            t = tile_from_id(tile)\n",
    "            tile_path  = TilePath(tile=t, constellation=item[\"spacecraft_id\"], root=\"gs://oxeo-water/prod2\")\n",
    "            try:\n",
    "                predict_tile(tile_path, pred_model, predictor, \n",
    "                    revisit_chunk_size=128,\n",
    "                    start_date=\"1980-03-19\", end_date=\"2100-03-19\",\n",
    "                     fs=fs, overwrite=True)\n",
    "            except:\n",
    "                continue\n",
    "            pred_mask = zarr.open_array(f\"gs://oxeo-water/prod2/{tile}/{constellation}/mask/{pred_model}\", mode=\"r\")\n",
    "        ts = timestamps[:]\n",
    "        ts = [t[:10] for t in ts]\n",
    "\n",
    "        ts_index = ts.index(item['datetime'])\n",
    "\n",
    "        img = img_zarr[ts_index][[3,2,1]].transpose(1,2,0)\n",
    "        vmin, vmax = np.percentile(img, q=(2, 98))\n",
    "        img = rescale_intensity(img, in_range=(vmin, vmax), out_range=(0, 1))\n",
    "        fig = plot_imgs_in_row([img,  gt_mask[ts_index]==label, pred_mask[ts_index]==label], labels=(\"img\", \"gt\", \"pred\"), figsize=(15,8))\n",
    "        figures.append(fig)"
   ]
  },
  {
   "cell_type": "code",
   "execution_count": null,
   "metadata": {},
   "outputs": [],
   "source": [
    "df"
   ]
  },
  {
   "cell_type": "code",
   "execution_count": null,
   "metadata": {},
   "outputs": [],
   "source": [
    "df.describe()"
   ]
  },
  {
   "cell_type": "code",
   "execution_count": null,
   "metadata": {},
   "outputs": [],
   "source": [
    "np.intersect1d(data_dates, ts)\n"
   ]
  },
  {
   "cell_type": "code",
   "execution_count": null,
   "metadata": {},
   "outputs": [],
   "source": []
  },
  {
   "cell_type": "code",
   "execution_count": null,
   "metadata": {},
   "outputs": [],
   "source": [
    "ts[ts_index[1]]"
   ]
  },
  {
   "cell_type": "code",
   "execution_count": null,
   "metadata": {},
   "outputs": [],
   "source": []
  },
  {
   "cell_type": "code",
   "execution_count": null,
   "metadata": {},
   "outputs": [],
   "source": [
    "i = ts_index[0]\n",
    "plot_imgs_in_row([img[i][[3,2,1]].transpose(1,2,0), cnn_mask[i], gt_mask[i]])"
   ]
  },
  {
   "cell_type": "code",
   "execution_count": null,
   "metadata": {},
   "outputs": [],
   "source": [
    "import matplotlib.pyplot as plt\n",
    "for i in ts_index:\n",
    "    print(iou(gt_mask[i]==2, cnn_mask[i]==2))\n",
    "    plt.imshow(img[i][[3,2,1]].transpose(1,2,0)//10000)\n",
    "    plt.show()\n",
    "    plt.imshow(cnn_mask[i])\n",
    "    plt.show()\n",
    "    plt.imshow(gt_mask[i])\n",
    "    plt.show()"
   ]
  },
  {
   "cell_type": "code",
   "execution_count": null,
   "metadata": {},
   "outputs": [],
   "source": []
  }
 ],
 "metadata": {
  "interpreter": {
   "hash": "ab01ea4b194ce8e6e97af4420441949dd3a4d832737e254dc128b4494a544218"
  },
  "kernelspec": {
   "display_name": "Python 3 (ipykernel)",
   "language": "python",
   "name": "python3"
  },
  "language_info": {
   "codemirror_mode": {
    "name": "ipython",
    "version": 3
   },
   "file_extension": ".py",
   "mimetype": "text/x-python",
   "name": "python",
   "nbconvert_exporter": "python",
   "pygments_lexer": "ipython3",
   "version": "3.9.7"
  }
 },
 "nbformat": 4,
 "nbformat_minor": 2
}
