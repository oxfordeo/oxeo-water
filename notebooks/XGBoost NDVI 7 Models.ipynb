{
 "cells": [
  {
   "cell_type": "markdown",
   "id": "6b90527a",
   "metadata": {},
   "source": [
    "# Timeseries and met data based on paper that uses XGBoost\n",
    "\n",
    "https://www.mdpi.com/2072-4292/13/6/1147/pdf"
   ]
  },
  {
   "cell_type": "code",
   "execution_count": 1,
   "id": "efe77766",
   "metadata": {},
   "outputs": [],
   "source": [
    "import xgboost as xgb"
   ]
  },
  {
   "cell_type": "code",
   "execution_count": 2,
   "id": "869418c2-1a03-4808-82b3-b977defc87ba",
   "metadata": {},
   "outputs": [
    {
     "data": {
      "text/plain": [
       "True"
      ]
     },
     "execution_count": 2,
     "metadata": {},
     "output_type": "execute_result"
    }
   ],
   "source": [
    "import json\n",
    "\n",
    "import altair as alt\n",
    "import httpx\n",
    "import matplotlib.pyplot as plt\n",
    "import pandas as pd\n",
    "import seaborn as sns\n",
    "from shapely import geometry\n",
    "from shapely.ops import unary_union\n",
    "import os\n",
    "from dotenv import load_dotenv\n",
    "\n",
    "load_dotenv()  # take environment variables from .env."
   ]
  },
  {
   "cell_type": "code",
   "execution_count": 3,
   "id": "281cbd7b",
   "metadata": {},
   "outputs": [],
   "source": [
    "from statsmodels.tsa.stattools import adfuller\n",
    "\n",
    "# This is a stationary test for timeseries\n",
    "def adf_test(timeseries):\n",
    "    #Perform Dickey-Fuller test:\n",
    "    print ('Results of Dickey-Fuller Test:')\n",
    "    dftest = adfuller(timeseries, autolag='AIC')\n",
    "    dfoutput = pd.Series(dftest[0:4], index=['Test Statistic','p-value','#Lags Used','Number of Observations Used'])\n",
    "    for key,value in dftest[4].items():\n",
    "        dfoutput['Critical Value (%s)'%key] = value\n",
    "    print (dfoutput)"
   ]
  },
  {
   "cell_type": "code",
   "execution_count": 4,
   "id": "21562853",
   "metadata": {},
   "outputs": [],
   "source": [
    "tete_wb = [\"1953\", \"1954\", \"1955\", \"1956\", \"1975\", \"1966\", \"1967\", \"1968\", \"1981\", \"1969\", \"1970\", \"1971\", \"1972\", \"1973\", \"1974\", \"1988\"]\n",
    "tete_aga = [\"2363\", \"2189\", \"2190\", \"2191\", \"2202\", \"2192\", \"2193\", \"2194\", \"2203\", \"2195\", \"2196\", \"2197\", \"2198\", \"2199\", \"2200\", \"2201\", \"2204\", \"2205\", \"2206\", \"2208\", \"2209\", \"2207\", \"2210\", \"2211\", \"2212\", \"2213\", \"2214\", \"2215\", \"2216\", \"2359\", \"2360\", \"2361\", \"2362\", \"2364\", \"2365\", \"2366\", \"2367\", \"2368\", \"2369\", \"2370\", \"2371\", \"2372\", \"2409\", \"2410\", \"2411\", \"2412\", \"2413\", \"2414\", \"2415\", \"2454\", \"2416\", \"2452\", \"2453\", \"2455\", \"2456\", \"2459\", \"2457\", \"2458\", \"2460\", \"2461\", \"2462\", \"2463\", \"2464\"]\n",
    "\n",
    "\n",
    "tete_wb = list(map(int, tete_wb))\n",
    "tete_aga = list(map(int, tete_aga))"
   ]
  },
  {
   "cell_type": "markdown",
   "id": "2b910999-3ab4-4edc-9d5a-8c24601e38eb",
   "metadata": {},
   "source": [
    "# API Auth"
   ]
  },
  {
   "cell_type": "code",
   "execution_count": 5,
   "id": "ac181a62-5d07-46b6-bd8d-f56419f7ff69",
   "metadata": {},
   "outputs": [],
   "source": [
    "base_url = \"https://api.oxfordeo.com/\""
   ]
  },
  {
   "cell_type": "code",
   "execution_count": 6,
   "id": "9fc3c618-8765-4366-a420-315d4b13b327",
   "metadata": {},
   "outputs": [],
   "source": [
    "client = httpx.Client(base_url=base_url)"
   ]
  },
  {
   "cell_type": "code",
   "execution_count": 7,
   "id": "15a4fdee-e8f9-4652-82fa-65cc85ec548b",
   "metadata": {},
   "outputs": [],
   "source": [
    "r = client.post(\n",
    "    \"auth/token\",\n",
    "    data={\"username\": os.environ[\"API_USER\"], \"password\": os.environ[\"API_PASS\"]},\n",
    ")"
   ]
  },
  {
   "cell_type": "code",
   "execution_count": 8,
   "id": "86d8579a-1e8f-44ef-9f64-57d97d2b8294",
   "metadata": {},
   "outputs": [],
   "source": [
    "token = json.loads(r.text)[\"access_token\"]\n",
    "headers = {\"Authorization\": f\"Bearer {token}\"}"
   ]
  },
  {
   "cell_type": "markdown",
   "id": "d3989414-2d25-4d8b-aa9f-07426b36bf91",
   "metadata": {},
   "source": [
    "# Get agricultural areas geoms from the API"
   ]
  },
  {
   "cell_type": "code",
   "execution_count": 9,
   "id": "298df819-d44f-4b43-a7f2-b9c67c003113",
   "metadata": {},
   "outputs": [],
   "source": [
    "polygons = []\n",
    "for wb_id in tete_aga:\n",
    "    try:\n",
    "        r = client.get(\"aoi/\", params=dict(id=wb_id), headers=headers)\n",
    "        res = json.loads(r.text)\n",
    "        polygons.append(geometry.shape(res[\"features\"][0][\"geometry\"]))\n",
    "    except:\n",
    "        continue"
   ]
  },
  {
   "cell_type": "code",
   "execution_count": 11,
   "id": "4aff7ed3",
   "metadata": {},
   "outputs": [],
   "source": [
    "# get the bbox for all the ag areas\n",
    "box = unary_union(polygons).bounds\n"
   ]
  },
  {
   "cell_type": "markdown",
   "id": "d5293bd6-f5d3-4758-8735-7e80074335d0",
   "metadata": {},
   "source": [
    "# Get Events from DB \n",
    "- Date range from 2019 to 2022"
   ]
  },
  {
   "cell_type": "code",
   "execution_count": 12,
   "id": "b7722d23-d787-42b5-b9fa-34260117ca73",
   "metadata": {},
   "outputs": [],
   "source": [
    "start_datetime = \"2017-01-02\"\n",
    "end_datetime = \"2021-12-31\""
   ]
  },
  {
   "cell_type": "code",
   "execution_count": 13,
   "id": "e97660cf-7bae-4b45-9146-6e55ae3c259b",
   "metadata": {},
   "outputs": [],
   "source": [
    "aga_results = []\n",
    "for aoi in tete_aga:\n",
    "    r = client.get(\n",
    "        \"events/\",\n",
    "        params=dict(\n",
    "            aoi_id=aoi,\n",
    "            start_datetime=start_datetime,\n",
    "            end_datetime=end_datetime,\n",
    "            limit=10000,\n",
    "        ),\n",
    "        headers=headers,\n",
    "        timeout=60,\n",
    "    )\n",
    "    aga_results.extend(json.loads(r.text)[\"events\"])\n",
    "    \n",
    "wb_results = []\n",
    "for aoi in tete_wb:\n",
    "    r = client.get(\n",
    "        \"events/\",\n",
    "        params=dict(\n",
    "            aoi_id=aoi,\n",
    "            start_datetime=start_datetime,\n",
    "            end_datetime=end_datetime,\n",
    "            limit=10000,\n",
    "        ),\n",
    "        headers=headers,\n",
    "        timeout=60,\n",
    "    )\n",
    "    wb_results.extend(json.loads(r.text)[\"events\"])"
   ]
  },
  {
   "cell_type": "code",
   "execution_count": 14,
   "id": "4a833948",
   "metadata": {},
   "outputs": [],
   "source": [
    "def get_keyed_values(results, keyed_value, new_col):\n",
    "    df = pd.DataFrame(results)\n",
    "    df.labels = df.labels.map(lambda x: x[0])\n",
    "    df[new_col] = df.keyed_values.apply(lambda x: x.get(keyed_value))\n",
    "    df = df.drop_duplicates(subset=[\"aoi_id\", \"datetime\"]).dropna()\n",
    "    df.datetime = pd.to_datetime(df.datetime)\n",
    "    return df\n",
    "    "
   ]
  },
  {
   "cell_type": "code",
   "execution_count": 15,
   "id": "f3ae5e97-70c4-4b27-aedc-5ee4394cb74d",
   "metadata": {},
   "outputs": [],
   "source": [
    "aga_df = get_keyed_values(aga_results, \"mean_value\", \"ndvi_mean\")\n",
    "wb_df = get_keyed_values(wb_results, \"water_pixels\", \"water_pixels\")"
   ]
  },
  {
   "cell_type": "code",
   "execution_count": 16,
   "id": "62cba9e0",
   "metadata": {
    "scrolled": true
   },
   "outputs": [
    {
     "data": {
      "text/plain": [
       "(Timestamp('2017-01-02 00:00:00'),\n",
       " Timestamp('2021-12-31 00:00:00'),\n",
       " Timestamp('2020-12-10 00:00:00'),\n",
       " Timestamp('2021-01-31 00:00:00'))"
      ]
     },
     "execution_count": 16,
     "metadata": {},
     "output_type": "execute_result"
    }
   ],
   "source": [
    "# TODO: We don't have water pixels for all the dates, we should run the predictions. \n",
    "# I'm not using water pixels predictions from now on to avoid problems.\n",
    "aga_df.datetime.min(), aga_df.datetime.max(), wb_df.datetime.min(), wb_df.datetime.max()"
   ]
  },
  {
   "cell_type": "markdown",
   "id": "16eb27f1",
   "metadata": {},
   "source": [
    "# Get NDVI for given daterange\n",
    "- Filter results by date\n",
    "- Fill na values using forward fill (we don't an image for every single day)\n",
    "- We need monthly data so we are using a monthly mean"
   ]
  },
  {
   "cell_type": "code",
   "execution_count": 17,
   "id": "9edc4b79",
   "metadata": {},
   "outputs": [],
   "source": [
    "ndvi=aga_df[(aga_df.datetime >= start_datetime) & (aga_df.datetime <= end_datetime)].groupby([\"datetime\"]).mean()[\"ndvi_mean\"]"
   ]
  },
  {
   "cell_type": "code",
   "execution_count": 18,
   "id": "e7b96fb6",
   "metadata": {},
   "outputs": [],
   "source": [
    "ndvi_monthly = ndvi.resample(\"M\").mean()"
   ]
  },
  {
   "cell_type": "code",
   "execution_count": 19,
   "id": "cd29ce28",
   "metadata": {},
   "outputs": [
    {
     "data": {
      "text/plain": [
       "<AxesSubplot:xlabel='datetime'>"
      ]
     },
     "execution_count": 19,
     "metadata": {},
     "output_type": "execute_result"
    },
    {
     "data": {
      "image/png": "[encoded data removed]",
      "text/plain": [
       "<Figure size 432x288 with 1 Axes>"
      ]
     },
     "metadata": {
      "needs_background": "light"
     },
     "output_type": "display_data"
    }
   ],
   "source": [
    "ndvi_monthly.plot()"
   ]
  },
  {
   "cell_type": "markdown",
   "id": "b4cc57c7",
   "metadata": {},
   "source": [
    "# Get precipitation data from bucket\n",
    "- Data is stored in zarr with dimensions: latitude, longitude, step, member and time\n",
    "- step is synonym of \"days forecast\" (up to 215 days = 7 months). Shows acum TP (if we don't want acum, we can use df.diff)\n",
    "- members are different forecast models (up to 50). We can average them\n",
    "- time has a measure everymonth\n",
    "\n"
   ]
  },
  {
   "cell_type": "code",
   "execution_count": 21,
   "id": "ca37670e",
   "metadata": {},
   "outputs": [],
   "source": [
    "import gcsfs\n",
    "import xarray as xr\n",
    "import matplotlib.pyplot as plt\n",
    "url = 'gs://oxeo-seasonal/tp'\n",
    "zx = xr.open_zarr(gcsfs.GCSMap(url)) "
   ]
  },
  {
   "cell_type": "code",
   "execution_count": 22,
   "id": "2ea39c3f",
   "metadata": {},
   "outputs": [],
   "source": [
    "min_x, min_y, max_x, max_y = box\n",
    "min_x += 180\n",
    "max_x += 180"
   ]
  },
  {
   "cell_type": "code",
   "execution_count": 23,
   "id": "b6649335",
   "metadata": {},
   "outputs": [],
   "source": [
    "from datetime import datetime\n",
    "data = zx['tp'].sel({'time':slice(datetime.strptime(start_datetime, \"%Y-%m-%d\"),\n",
    "                                  datetime.strptime(end_datetime, \"%Y-%m-%d\")),\n",
    "                'latitude':slice(round(max_y),round(min_y)),\n",
    "                'longitude':slice(round(min_x),round(max_x))})"
   ]
  },
  {
   "cell_type": "code",
   "execution_count": 24,
   "id": "205e72a5",
   "metadata": {},
   "outputs": [
    {
     "data": {
      "text/html": [
       "<div><svg style=\"position: absolute; width: 0; height: 0; overflow: hidden\">\n",
       "<defs>\n",
       "<symbol id=\"icon-database\" viewBox=\"0 0 32 32\">\n",
       "<path d=\"M16 0c-8.837 0-16 2.239-16 5v4c0 2.761 7.163 5 16 5s16-2.239 16-5v-4c0-2.761-7.163-5-16-5z\"></path>\n",
       "<path d=\"M16 17c-8.837 0-16-2.239-16-5v6c0 2.761 7.163 5 16 5s16-2.239 16-5v-6c0 2.761-7.163 5-16 5z\"></path>\n",
       "<path d=\"M16 26c-8.837 0-16-2.239-16-5v6c0 2.761 7.163 5 16 5s16-2.239 16-5v-6c0 2.761-7.163 5-16 5z\"></path>\n",
       "</symbol>\n",
       "<symbol id=\"icon-file-text2\" viewBox=\"0 0 32 32\">\n",
       "<path d=\"M28.681 7.159c-0.694-0.947-1.662-2.053-2.724-3.116s-2.169-2.030-3.116-2.724c-1.612-1.182-2.393-1.319-2.841-1.319h-15.5c-1.378 0-2.5 1.121-2.5 2.5v27c0 1.378 1.122 2.5 2.5 2.5h23c1.378 0 2.5-1.122 2.5-2.5v-19.5c0-0.448-0.137-1.23-1.319-2.841zM24.543 5.457c0.959 0.959 1.712 1.825 2.268 2.543h-4.811v-4.811c0.718 0.556 1.584 1.309 2.543 2.268zM28 29.5c0 0.271-0.229 0.5-0.5 0.5h-23c-0.271 0-0.5-0.229-0.5-0.5v-27c0-0.271 0.229-0.5 0.5-0.5 0 0 15.499-0 15.5 0v7c0 0.552 0.448 1 1 1h7v19.5z\"></path>\n",
       "<path d=\"M23 26h-14c-0.552 0-1-0.448-1-1s0.448-1 1-1h14c0.552 0 1 0.448 1 1s-0.448 1-1 1z\"></path>\n",
       "<path d=\"M23 22h-14c-0.552 0-1-0.448-1-1s0.448-1 1-1h14c0.552 0 1 0.448 1 1s-0.448 1-1 1z\"></path>\n",
       "<path d=\"M23 18h-14c-0.552 0-1-0.448-1-1s0.448-1 1-1h14c0.552 0 1 0.448 1 1s-0.448 1-1 1z\"></path>\n",
       "</symbol>\n",
       "</defs>\n",
       "</svg>\n",
       "<style>/* CSS stylesheet for displaying xarray objects in jupyterlab.\n",
       " *\n",
       " */\n",
       "\n",
       ":root {\n",
       "  --xr-font-color0: var(--jp-content-font-color0, rgba(0, 0, 0, 1));\n",
       "  --xr-font-color2: var(--jp-content-font-color2, rgba(0, 0, 0, 0.54));\n",
       "  --xr-font-color3: var(--jp-content-font-color3, rgba(0, 0, 0, 0.38));\n",
       "  --xr-border-color: var(--jp-border-color2, #e0e0e0);\n",
       "  --xr-disabled-color: var(--jp-layout-color3, #bdbdbd);\n",
       "  --xr-background-color: var(--jp-layout-color0, white);\n",
       "  --xr-background-color-row-even: var(--jp-layout-color1, white);\n",
       "  --xr-background-color-row-odd: var(--jp-layout-color2, #eeeeee);\n",
       "}\n",
       "\n",
       "html[theme=dark],\n",
       "body.vscode-dark {\n",
       "  --xr-font-color0: rgba(255, 255, 255, 1);\n",
       "  --xr-font-color2: rgba(255, 255, 255, 0.54);\n",
       "  --xr-font-color3: rgba(255, 255, 255, 0.38);\n",
       "  --xr-border-color: #1F1F1F;\n",
       "  --xr-disabled-color: #515151;\n",
       "  --xr-background-color: #111111;\n",
       "  --xr-background-color-row-even: #111111;\n",
       "  --xr-background-color-row-odd: #313131;\n",
       "}\n",
       "\n",
       ".xr-wrap {\n",
       "  display: block !important;\n",
       "  min-width: 300px;\n",
       "  max-width: 700px;\n",
       "}\n",
       "\n",
       ".xr-text-repr-fallback {\n",
       "  /* fallback to plain text repr when CSS is not injected (untrusted notebook) */\n",
       "  display: none;\n",
       "}\n",
       "\n",
       ".xr-header {\n",
       "  padding-top: 6px;\n",
       "  padding-bottom: 6px;\n",
       "  margin-bottom: 4px;\n",
       "  border-bottom: solid 1px var(--xr-border-color);\n",
       "}\n",
       "\n",
       ".xr-header > div,\n",
       ".xr-header > ul {\n",
       "  display: inline;\n",
       "  margin-top: 0;\n",
       "  margin-bottom: 0;\n",
       "}\n",
       "\n",
       ".xr-obj-type,\n",
       ".xr-array-name {\n",
       "  margin-left: 2px;\n",
       "  margin-right: 10px;\n",
       "}\n",
       "\n",
       ".xr-obj-type {\n",
       "  color: var(--xr-font-color2);\n",
       "}\n",
       "\n",
       ".xr-sections {\n",
       "  padding-left: 0 !important;\n",
       "  display: grid;\n",
       "  grid-template-columns: 150px auto auto 1fr 20px 20px;\n",
       "}\n",
       "\n",
       ".xr-section-item {\n",
       "  display: contents;\n",
       "}\n",
       "\n",
       ".xr-section-item input {\n",
       "  display: none;\n",
       "}\n",
       "\n",
       ".xr-section-item input + label {\n",
       "  color: var(--xr-disabled-color);\n",
       "}\n",
       "\n",
       ".xr-section-item input:enabled + label {\n",
       "  cursor: pointer;\n",
       "  color: var(--xr-font-color2);\n",
       "}\n",
       "\n",
       ".xr-section-item input:enabled + label:hover {\n",
       "  color: var(--xr-font-color0);\n",
       "}\n",
       "\n",
       ".xr-section-summary {\n",
       "  grid-column: 1;\n",
       "  color: var(--xr-font-color2);\n",
       "  font-weight: 500;\n",
       "}\n",
       "\n",
       ".xr-section-summary > span {\n",
       "  display: inline-block;\n",
       "  padding-left: 0.5em;\n",
       "}\n",
       "\n",
       ".xr-section-summary-in:disabled + label {\n",
       "  color: var(--xr-font-color2);\n",
       "}\n",
       "\n",
       ".xr-section-summary-in + label:before {\n",
       "  display: inline-block;\n",
       "  content: '►';\n",
       "  font-size: 11px;\n",
       "  width: 15px;\n",
       "  text-align: center;\n",
       "}\n",
       "\n",
       ".xr-section-summary-in:disabled + label:before {\n",
       "  color: var(--xr-disabled-color);\n",
       "}\n",
       "\n",
       ".xr-section-summary-in:checked + label:before {\n",
       "  content: '▼';\n",
       "}\n",
       "\n",
       ".xr-section-summary-in:checked + label > span {\n",
       "  display: none;\n",
       "}\n",
       "\n",
       ".xr-section-summary,\n",
       ".xr-section-inline-details {\n",
       "  padding-top: 4px;\n",
       "  padding-bottom: 4px;\n",
       "}\n",
       "\n",
       ".xr-section-inline-details {\n",
       "  grid-column: 2 / -1;\n",
       "}\n",
       "\n",
       ".xr-section-details {\n",
       "  display: none;\n",
       "  grid-column: 1 / -1;\n",
       "  margin-bottom: 5px;\n",
       "}\n",
       "\n",
       ".xr-section-summary-in:checked ~ .xr-section-details {\n",
       "  display: contents;\n",
       "}\n",
       "\n",
       ".xr-array-wrap {\n",
       "  grid-column: 1 / -1;\n",
       "  display: grid;\n",
       "  grid-template-columns: 20px auto;\n",
       "}\n",
       "\n",
       ".xr-array-wrap > label {\n",
       "  grid-column: 1;\n",
       "  vertical-align: top;\n",
       "}\n",
       "\n",
       ".xr-preview {\n",
       "  color: var(--xr-font-color3);\n",
       "}\n",
       "\n",
       ".xr-array-preview,\n",
       ".xr-array-data {\n",
       "  padding: 0 5px !important;\n",
       "  grid-column: 2;\n",
       "}\n",
       "\n",
       ".xr-array-data,\n",
       ".xr-array-in:checked ~ .xr-array-preview {\n",
       "  display: none;\n",
       "}\n",
       "\n",
       ".xr-array-in:checked ~ .xr-array-data,\n",
       ".xr-array-preview {\n",
       "  display: inline-block;\n",
       "}\n",
       "\n",
       ".xr-dim-list {\n",
       "  display: inline-block !important;\n",
       "  list-style: none;\n",
       "  padding: 0 !important;\n",
       "  margin: 0;\n",
       "}\n",
       "\n",
       ".xr-dim-list li {\n",
       "  display: inline-block;\n",
       "  padding: 0;\n",
       "  margin: 0;\n",
       "}\n",
       "\n",
       ".xr-dim-list:before {\n",
       "  content: '(';\n",
       "}\n",
       "\n",
       ".xr-dim-list:after {\n",
       "  content: ')';\n",
       "}\n",
       "\n",
       ".xr-dim-list li:not(:last-child):after {\n",
       "  content: ',';\n",
       "  padding-right: 5px;\n",
       "}\n",
       "\n",
       ".xr-has-index {\n",
       "  font-weight: bold;\n",
       "}\n",
       "\n",
       ".xr-var-list,\n",
       ".xr-var-item {\n",
       "  display: contents;\n",
       "}\n",
       "\n",
       ".xr-var-item > div,\n",
       ".xr-var-item label,\n",
       ".xr-var-item > .xr-var-name span {\n",
       "  background-color: var(--xr-background-color-row-even);\n",
       "  margin-bottom: 0;\n",
       "}\n",
       "\n",
       ".xr-var-item > .xr-var-name:hover span {\n",
       "  padding-right: 5px;\n",
       "}\n",
       "\n",
       ".xr-var-list > li:nth-child(odd) > div,\n",
       ".xr-var-list > li:nth-child(odd) > label,\n",
       ".xr-var-list > li:nth-child(odd) > .xr-var-name span {\n",
       "  background-color: var(--xr-background-color-row-odd);\n",
       "}\n",
       "\n",
       ".xr-var-name {\n",
       "  grid-column: 1;\n",
       "}\n",
       "\n",
       ".xr-var-dims {\n",
       "  grid-column: 2;\n",
       "}\n",
       "\n",
       ".xr-var-dtype {\n",
       "  grid-column: 3;\n",
       "  text-align: right;\n",
       "  color: var(--xr-font-color2);\n",
       "}\n",
       "\n",
       ".xr-var-preview {\n",
       "  grid-column: 4;\n",
       "}\n",
       "\n",
       ".xr-var-name,\n",
       ".xr-var-dims,\n",
       ".xr-var-dtype,\n",
       ".xr-preview,\n",
       ".xr-attrs dt {\n",
       "  white-space: nowrap;\n",
       "  overflow: hidden;\n",
       "  text-overflow: ellipsis;\n",
       "  padding-right: 10px;\n",
       "}\n",
       "\n",
       ".xr-var-name:hover,\n",
       ".xr-var-dims:hover,\n",
       ".xr-var-dtype:hover,\n",
       ".xr-attrs dt:hover {\n",
       "  overflow: visible;\n",
       "  width: auto;\n",
       "  z-index: 1;\n",
       "}\n",
       "\n",
       ".xr-var-attrs,\n",
       ".xr-var-data {\n",
       "  display: none;\n",
       "  background-color: var(--xr-background-color) !important;\n",
       "  padding-bottom: 5px !important;\n",
       "}\n",
       "\n",
       ".xr-var-attrs-in:checked ~ .xr-var-attrs,\n",
       ".xr-var-data-in:checked ~ .xr-var-data {\n",
       "  display: block;\n",
       "}\n",
       "\n",
       ".xr-var-data > table {\n",
       "  float: right;\n",
       "}\n",
       "\n",
       ".xr-var-name span,\n",
       ".xr-var-data,\n",
       ".xr-attrs {\n",
       "  padding-left: 25px !important;\n",
       "}\n",
       "\n",
       ".xr-attrs,\n",
       ".xr-var-attrs,\n",
       ".xr-var-data {\n",
       "  grid-column: 1 / -1;\n",
       "}\n",
       "\n",
       "dl.xr-attrs {\n",
       "  padding: 0;\n",
       "  margin: 0;\n",
       "  display: grid;\n",
       "  grid-template-columns: 125px auto;\n",
       "}\n",
       "\n",
       ".xr-attrs dt,\n",
       ".xr-attrs dd {\n",
       "  padding: 0;\n",
       "  margin: 0;\n",
       "  float: left;\n",
       "  padding-right: 10px;\n",
       "  width: auto;\n",
       "}\n",
       "\n",
       ".xr-attrs dt {\n",
       "  font-weight: normal;\n",
       "  grid-column: 1;\n",
       "}\n",
       "\n",
       ".xr-attrs dt:hover span {\n",
       "  display: inline-block;\n",
       "  background: var(--xr-background-color);\n",
       "  padding-right: 10px;\n",
       "}\n",
       "\n",
       ".xr-attrs dd {\n",
       "  grid-column: 2;\n",
       "  white-space: pre-wrap;\n",
       "  word-break: break-all;\n",
       "}\n",
       "\n",
       ".xr-icon-database,\n",
       ".xr-icon-file-text2 {\n",
       "  display: inline-block;\n",
       "  vertical-align: middle;\n",
       "  width: 1em;\n",
       "  height: 1.5em !important;\n",
       "  stroke-width: 0;\n",
       "  stroke: currentColor;\n",
       "  fill: currentColor;\n",
       "}\n",
       "</style><pre class='xr-text-repr-fallback'>&lt;xarray.DataArray &#x27;tp&#x27; (latitude: 3, longitude: 6, step: 215, member: 51,\n",
       "                        time: 59)&gt;\n",
       "dask.array&lt;getitem, shape=(3, 6, 215, 51, 59), dtype=float32, chunksize=(2, 4, 215, 51, 12), chunktype=numpy.ndarray&gt;\n",
       "Coordinates:\n",
       "  * latitude   (latitude) int64 -16 -17 -18\n",
       "  * longitude  (longitude) int64 210 211 212 213 214 215\n",
       "  * member     (member) int64 0 1 2 3 4 5 6 7 8 9 ... 42 43 44 45 46 47 48 49 50\n",
       "  * step       (step) timedelta64[ns] 1 days 2 days 3 days ... 214 days 215 days\n",
       "  * time       (time) datetime64[ns] 2017-02-01 2017-03-01 ... 2021-12-01</pre><div class='xr-wrap' style='display:none'><div class='xr-header'><div class='xr-obj-type'>xarray.DataArray</div><div class='xr-array-name'>'tp'</div><ul class='xr-dim-list'><li><span class='xr-has-index'>latitude</span>: 3</li><li><span class='xr-has-index'>longitude</span>: 6</li><li><span class='xr-has-index'>step</span>: 215</li><li><span class='xr-has-index'>member</span>: 51</li><li><span class='xr-has-index'>time</span>: 59</li></ul></div><ul class='xr-sections'><li class='xr-section-item'><div class='xr-array-wrap'><input id='section-7884772d-d6c1-4a11-8f06-32b21c6c2d6f' class='xr-array-in' type='checkbox' checked><label for='section-7884772d-d6c1-4a11-8f06-32b21c6c2d6f' title='Show/hide data repr'><svg class='icon xr-icon-database'><use xlink:href='#icon-database'></use></svg></label><div class='xr-array-preview xr-preview'><span>dask.array&lt;chunksize=(2, 2, 215, 51, 11), meta=np.ndarray&gt;</span></div><div class='xr-array-data'><table>\n",
       "    <tr>\n",
       "        <td>\n",
       "            <table>\n",
       "                <thead>\n",
       "                    <tr>\n",
       "                        <td> </td>\n",
       "                        <th> Array </th>\n",
       "                        <th> Chunk </th>\n",
       "                    </tr>\n",
       "                </thead>\n",
       "                <tbody>\n",
       "                    \n",
       "                    <tr>\n",
       "                        <th> Bytes </th>\n",
       "                        <td> 44.42 MiB </td>\n",
       "                        <td> 4.02 MiB </td>\n",
       "                    </tr>\n",
       "                    \n",
       "                    <tr>\n",
       "                        <th> Shape </th>\n",
       "                        <td> (3, 6, 215, 51, 59) </td>\n",
       "                        <td> (2, 4, 215, 51, 12) </td>\n",
       "                    </tr>\n",
       "                    <tr>\n",
       "                        <th> Count </th>\n",
       "                        <td> 133671 Tasks </td>\n",
       "                        <td> 20 Chunks </td>\n",
       "                    </tr>\n",
       "                    <tr>\n",
       "                    <th> Type </th>\n",
       "                    <td> float32 </td>\n",
       "                    <td> numpy.ndarray </td>\n",
       "                    </tr>\n",
       "                </tbody>\n",
       "            </table>\n",
       "        </td>\n",
       "        <td>\n",
       "        <svg width=\"363\" height=\"163\" style=\"stroke:rgb(0,0,0);stroke-width:1\" >\n",
       "\n",
       "  <!-- Horizontal lines -->\n",
       "  <line x1=\"0\" y1=\"0\" x2=\"30\" y2=\"0\" style=\"stroke-width:2\" />\n",
       "  <line x1=\"0\" y1=\"18\" x2=\"30\" y2=\"18\" />\n",
       "  <line x1=\"0\" y1=\"27\" x2=\"30\" y2=\"27\" style=\"stroke-width:2\" />\n",
       "\n",
       "  <!-- Vertical lines -->\n",
       "  <line x1=\"0\" y1=\"0\" x2=\"0\" y2=\"27\" style=\"stroke-width:2\" />\n",
       "  <line x1=\"10\" y1=\"0\" x2=\"10\" y2=\"27\" />\n",
       "  <line x1=\"30\" y1=\"0\" x2=\"30\" y2=\"27\" style=\"stroke-width:2\" />\n",
       "\n",
       "  <!-- Colored Rectangle -->\n",
       "  <polygon points=\"0.0,0.0 30.95935019413417,0.0 30.95935019413417,27.078194233734774 0.0,27.078194233734774\" style=\"fill:#ECB172A0;stroke-width:0\"/>\n",
       "\n",
       "  <!-- Text -->\n",
       "  <text x=\"15.479675\" y=\"47.078194\" font-size=\"1.0rem\" font-weight=\"100\" text-anchor=\"middle\" >6</text>\n",
       "  <text x=\"50.959350\" y=\"13.539097\" font-size=\"1.0rem\" font-weight=\"100\" text-anchor=\"middle\" transform=\"rotate(0,50.959350,13.539097)\">3</text>\n",
       "\n",
       "\n",
       "  <!-- Horizontal lines -->\n",
       "  <line x1=\"100\" y1=\"0\" x2=\"170\" y2=\"70\" style=\"stroke-width:2\" />\n",
       "  <line x1=\"100\" y1=\"42\" x2=\"170\" y2=\"113\" style=\"stroke-width:2\" />\n",
       "\n",
       "  <!-- Vertical lines -->\n",
       "  <line x1=\"100\" y1=\"0\" x2=\"100\" y2=\"42\" style=\"stroke-width:2\" />\n",
       "  <line x1=\"170\" y1=\"70\" x2=\"170\" y2=\"113\" style=\"stroke-width:2\" />\n",
       "\n",
       "  <!-- Colored Rectangle -->\n",
       "  <polygon points=\"100.0,0.0 170.58823529411765,70.58823529411765 170.58823529411765,113.28758566851775 100.0,42.69935037440009\" style=\"fill:#ECB172A0;stroke-width:0\"/>\n",
       "\n",
       "  <!-- Horizontal lines -->\n",
       "  <line x1=\"100\" y1=\"0\" x2=\"143\" y2=\"0\" style=\"stroke-width:2\" />\n",
       "  <line x1=\"170\" y1=\"70\" x2=\"213\" y2=\"70\" style=\"stroke-width:2\" />\n",
       "\n",
       "  <!-- Vertical lines -->\n",
       "  <line x1=\"100\" y1=\"0\" x2=\"170\" y2=\"70\" style=\"stroke-width:2\" />\n",
       "  <line x1=\"108\" y1=\"0\" x2=\"178\" y2=\"70\" />\n",
       "  <line x1=\"116\" y1=\"0\" x2=\"187\" y2=\"70\" />\n",
       "  <line x1=\"125\" y1=\"0\" x2=\"196\" y2=\"70\" />\n",
       "  <line x1=\"134\" y1=\"0\" x2=\"205\" y2=\"70\" />\n",
       "  <line x1=\"143\" y1=\"0\" x2=\"213\" y2=\"70\" style=\"stroke-width:2\" />\n",
       "\n",
       "  <!-- Colored Rectangle -->\n",
       "  <polygon points=\"100.0,0.0 143.23795849636457,0.0 213.82619379048222,70.58823529411765 170.58823529411765,70.58823529411765\" style=\"fill:#ECB172A0;stroke-width:0\"/>\n",
       "\n",
       "  <!-- Horizontal lines -->\n",
       "  <line x1=\"170\" y1=\"70\" x2=\"213\" y2=\"70\" style=\"stroke-width:2\" />\n",
       "  <line x1=\"170\" y1=\"113\" x2=\"213\" y2=\"113\" style=\"stroke-width:2\" />\n",
       "\n",
       "  <!-- Vertical lines -->\n",
       "  <line x1=\"170\" y1=\"70\" x2=\"170\" y2=\"113\" style=\"stroke-width:2\" />\n",
       "  <line x1=\"178\" y1=\"70\" x2=\"178\" y2=\"113\" />\n",
       "  <line x1=\"187\" y1=\"70\" x2=\"187\" y2=\"113\" />\n",
       "  <line x1=\"196\" y1=\"70\" x2=\"196\" y2=\"113\" />\n",
       "  <line x1=\"205\" y1=\"70\" x2=\"205\" y2=\"113\" />\n",
       "  <line x1=\"213\" y1=\"70\" x2=\"213\" y2=\"113\" style=\"stroke-width:2\" />\n",
       "\n",
       "  <!-- Colored Rectangle -->\n",
       "  <polygon points=\"170.58823529411765,70.58823529411765 213.82619379048222,70.58823529411765 213.82619379048222,113.28758566851775 170.58823529411765,113.28758566851775\" style=\"fill:#ECB172A0;stroke-width:0\"/>\n",
       "\n",
       "  <!-- Text -->\n",
       "  <text x=\"192.207215\" y=\"133.287586\" font-size=\"1.0rem\" font-weight=\"100\" text-anchor=\"middle\" >59</text>\n",
       "  <text x=\"233.826194\" y=\"91.937910\" font-size=\"1.0rem\" font-weight=\"100\" text-anchor=\"middle\" transform=\"rotate(0,233.826194,91.937910)\">51</text>\n",
       "  <text x=\"125.294118\" y=\"97.993468\" font-size=\"1.0rem\" font-weight=\"100\" text-anchor=\"middle\" transform=\"rotate(45,125.294118,97.993468)\">215</text>\n",
       "</svg>\n",
       "        </td>\n",
       "    </tr>\n",
       "</table></div></div></li><li class='xr-section-item'><input id='section-b5b18fb6-6425-4e68-a956-c11e7b809157' class='xr-section-summary-in' type='checkbox'  checked><label for='section-b5b18fb6-6425-4e68-a956-c11e7b809157' class='xr-section-summary' >Coordinates: <span>(5)</span></label><div class='xr-section-inline-details'></div><div class='xr-section-details'><ul class='xr-var-list'><li class='xr-var-item'><div class='xr-var-name'><span class='xr-has-index'>latitude</span></div><div class='xr-var-dims'>(latitude)</div><div class='xr-var-dtype'>int64</div><div class='xr-var-preview xr-preview'>-16 -17 -18</div><input id='attrs-89e783b4-cea5-4f90-9122-367057dbfef0' class='xr-var-attrs-in' type='checkbox' disabled><label for='attrs-89e783b4-cea5-4f90-9122-367057dbfef0' title='Show/Hide attributes'><svg class='icon xr-icon-file-text2'><use xlink:href='#icon-file-text2'></use></svg></label><input id='data-d97c69bc-6d46-4e29-9a3c-abc8453efbd3' class='xr-var-data-in' type='checkbox'><label for='data-d97c69bc-6d46-4e29-9a3c-abc8453efbd3' title='Show/Hide data repr'><svg class='icon xr-icon-database'><use xlink:href='#icon-database'></use></svg></label><div class='xr-var-attrs'><dl class='xr-attrs'></dl></div><div class='xr-var-data'><pre>array([-16, -17, -18])</pre></div></li><li class='xr-var-item'><div class='xr-var-name'><span class='xr-has-index'>longitude</span></div><div class='xr-var-dims'>(longitude)</div><div class='xr-var-dtype'>int64</div><div class='xr-var-preview xr-preview'>210 211 212 213 214 215</div><input id='attrs-fe28893f-de90-40ed-830b-fa577ab4b1e2' class='xr-var-attrs-in' type='checkbox' disabled><label for='attrs-fe28893f-de90-40ed-830b-fa577ab4b1e2' title='Show/Hide attributes'><svg class='icon xr-icon-file-text2'><use xlink:href='#icon-file-text2'></use></svg></label><input id='data-33725b86-4efe-4974-9a5a-209e03b12968' class='xr-var-data-in' type='checkbox'><label for='data-33725b86-4efe-4974-9a5a-209e03b12968' title='Show/Hide data repr'><svg class='icon xr-icon-database'><use xlink:href='#icon-database'></use></svg></label><div class='xr-var-attrs'><dl class='xr-attrs'></dl></div><div class='xr-var-data'><pre>array([210, 211, 212, 213, 214, 215])</pre></div></li><li class='xr-var-item'><div class='xr-var-name'><span class='xr-has-index'>member</span></div><div class='xr-var-dims'>(member)</div><div class='xr-var-dtype'>int64</div><div class='xr-var-preview xr-preview'>0 1 2 3 4 5 6 ... 45 46 47 48 49 50</div><input id='attrs-2f6be25e-f16b-40b6-8956-65079669c41f' class='xr-var-attrs-in' type='checkbox' disabled><label for='attrs-2f6be25e-f16b-40b6-8956-65079669c41f' title='Show/Hide attributes'><svg class='icon xr-icon-file-text2'><use xlink:href='#icon-file-text2'></use></svg></label><input id='data-bc7396a7-b3d1-445a-a01a-62e617c86ac3' class='xr-var-data-in' type='checkbox'><label for='data-bc7396a7-b3d1-445a-a01a-62e617c86ac3' title='Show/Hide data repr'><svg class='icon xr-icon-database'><use xlink:href='#icon-database'></use></svg></label><div class='xr-var-attrs'><dl class='xr-attrs'></dl></div><div class='xr-var-data'><pre>array([ 0,  1,  2,  3,  4,  5,  6,  7,  8,  9, 10, 11, 12, 13, 14, 15, 16, 17,\n",
       "       18, 19, 20, 21, 22, 23, 24, 25, 26, 27, 28, 29, 30, 31, 32, 33, 34, 35,\n",
       "       36, 37, 38, 39, 40, 41, 42, 43, 44, 45, 46, 47, 48, 49, 50])</pre></div></li><li class='xr-var-item'><div class='xr-var-name'><span class='xr-has-index'>step</span></div><div class='xr-var-dims'>(step)</div><div class='xr-var-dtype'>timedelta64[ns]</div><div class='xr-var-preview xr-preview'>1 days 2 days ... 214 days 215 days</div><input id='attrs-3cc8a2d4-c3d4-4d74-96e8-496977068c08' class='xr-var-attrs-in' type='checkbox' disabled><label for='attrs-3cc8a2d4-c3d4-4d74-96e8-496977068c08' title='Show/Hide attributes'><svg class='icon xr-icon-file-text2'><use xlink:href='#icon-file-text2'></use></svg></label><input id='data-aa95bb7e-6a30-4742-a8bf-0ab2230b0fb9' class='xr-var-data-in' type='checkbox'><label for='data-aa95bb7e-6a30-4742-a8bf-0ab2230b0fb9' title='Show/Hide data repr'><svg class='icon xr-icon-database'><use xlink:href='#icon-database'></use></svg></label><div class='xr-var-attrs'><dl class='xr-attrs'></dl></div><div class='xr-var-data'><pre>array([   86400000000000,   172800000000000,   259200000000000, ...,\n",
       "       18403200000000000, 18489600000000000, 18576000000000000],\n",
       "      dtype=&#x27;timedelta64[ns]&#x27;)</pre></div></li><li class='xr-var-item'><div class='xr-var-name'><span class='xr-has-index'>time</span></div><div class='xr-var-dims'>(time)</div><div class='xr-var-dtype'>datetime64[ns]</div><div class='xr-var-preview xr-preview'>2017-02-01 ... 2021-12-01</div><input id='attrs-86d5de7f-0be6-42b1-abce-012544f673b8' class='xr-var-attrs-in' type='checkbox' disabled><label for='attrs-86d5de7f-0be6-42b1-abce-012544f673b8' title='Show/Hide attributes'><svg class='icon xr-icon-file-text2'><use xlink:href='#icon-file-text2'></use></svg></label><input id='data-0a479527-6d11-4805-87ba-8e903ac535d3' class='xr-var-data-in' type='checkbox'><label for='data-0a479527-6d11-4805-87ba-8e903ac535d3' title='Show/Hide data repr'><svg class='icon xr-icon-database'><use xlink:href='#icon-database'></use></svg></label><div class='xr-var-attrs'><dl class='xr-attrs'></dl></div><div class='xr-var-data'><pre>array([&#x27;2017-02-01T00:00:00.000000000&#x27;, &#x27;2017-03-01T00:00:00.000000000&#x27;,\n",
       "       &#x27;2017-04-01T00:00:00.000000000&#x27;, &#x27;2017-05-01T00:00:00.000000000&#x27;,\n",
       "       &#x27;2017-06-01T00:00:00.000000000&#x27;, &#x27;2017-07-01T00:00:00.000000000&#x27;,\n",
       "       &#x27;2017-08-01T00:00:00.000000000&#x27;, &#x27;2017-09-01T00:00:00.000000000&#x27;,\n",
       "       &#x27;2017-10-01T00:00:00.000000000&#x27;, &#x27;2017-11-01T00:00:00.000000000&#x27;,\n",
       "       &#x27;2017-12-01T00:00:00.000000000&#x27;, &#x27;2018-01-01T00:00:00.000000000&#x27;,\n",
       "       &#x27;2018-02-01T00:00:00.000000000&#x27;, &#x27;2018-03-01T00:00:00.000000000&#x27;,\n",
       "       &#x27;2018-04-01T00:00:00.000000000&#x27;, &#x27;2018-05-01T00:00:00.000000000&#x27;,\n",
       "       &#x27;2018-06-01T00:00:00.000000000&#x27;, &#x27;2018-07-01T00:00:00.000000000&#x27;,\n",
       "       &#x27;2018-08-01T00:00:00.000000000&#x27;, &#x27;2018-09-01T00:00:00.000000000&#x27;,\n",
       "       &#x27;2018-10-01T00:00:00.000000000&#x27;, &#x27;2018-11-01T00:00:00.000000000&#x27;,\n",
       "       &#x27;2018-12-01T00:00:00.000000000&#x27;, &#x27;2019-01-01T00:00:00.000000000&#x27;,\n",
       "       &#x27;2019-02-01T00:00:00.000000000&#x27;, &#x27;2019-03-01T00:00:00.000000000&#x27;,\n",
       "       &#x27;2019-04-01T00:00:00.000000000&#x27;, &#x27;2019-05-01T00:00:00.000000000&#x27;,\n",
       "       &#x27;2019-06-01T00:00:00.000000000&#x27;, &#x27;2019-07-01T00:00:00.000000000&#x27;,\n",
       "       &#x27;2019-08-01T00:00:00.000000000&#x27;, &#x27;2019-09-01T00:00:00.000000000&#x27;,\n",
       "       &#x27;2019-10-01T00:00:00.000000000&#x27;, &#x27;2019-11-01T00:00:00.000000000&#x27;,\n",
       "       &#x27;2019-12-01T00:00:00.000000000&#x27;, &#x27;2020-01-01T00:00:00.000000000&#x27;,\n",
       "       &#x27;2020-02-01T00:00:00.000000000&#x27;, &#x27;2020-03-01T00:00:00.000000000&#x27;,\n",
       "       &#x27;2020-04-01T00:00:00.000000000&#x27;, &#x27;2020-05-01T00:00:00.000000000&#x27;,\n",
       "       &#x27;2020-06-01T00:00:00.000000000&#x27;, &#x27;2020-07-01T00:00:00.000000000&#x27;,\n",
       "       &#x27;2020-08-01T00:00:00.000000000&#x27;, &#x27;2020-09-01T00:00:00.000000000&#x27;,\n",
       "       &#x27;2020-10-01T00:00:00.000000000&#x27;, &#x27;2020-11-01T00:00:00.000000000&#x27;,\n",
       "       &#x27;2020-12-01T00:00:00.000000000&#x27;, &#x27;2021-01-01T00:00:00.000000000&#x27;,\n",
       "       &#x27;2021-02-01T00:00:00.000000000&#x27;, &#x27;2021-03-01T00:00:00.000000000&#x27;,\n",
       "       &#x27;2021-04-01T00:00:00.000000000&#x27;, &#x27;2021-05-01T00:00:00.000000000&#x27;,\n",
       "       &#x27;2021-06-01T00:00:00.000000000&#x27;, &#x27;2021-07-01T00:00:00.000000000&#x27;,\n",
       "       &#x27;2021-08-01T00:00:00.000000000&#x27;, &#x27;2021-09-01T00:00:00.000000000&#x27;,\n",
       "       &#x27;2021-10-01T00:00:00.000000000&#x27;, &#x27;2021-11-01T00:00:00.000000000&#x27;,\n",
       "       &#x27;2021-12-01T00:00:00.000000000&#x27;], dtype=&#x27;datetime64[ns]&#x27;)</pre></div></li></ul></div></li><li class='xr-section-item'><input id='section-8661b2f1-5058-4f6b-bc2b-86ce967c1c3c' class='xr-section-summary-in' type='checkbox' disabled ><label for='section-8661b2f1-5058-4f6b-bc2b-86ce967c1c3c' class='xr-section-summary'  title='Expand/collapse section'>Attributes: <span>(0)</span></label><div class='xr-section-inline-details'></div><div class='xr-section-details'><dl class='xr-attrs'></dl></div></li></ul></div></div>"
      ],
      "text/plain": [
       "<xarray.DataArray 'tp' (latitude: 3, longitude: 6, step: 215, member: 51,\n",
       "                        time: 59)>\n",
       "dask.array<getitem, shape=(3, 6, 215, 51, 59), dtype=float32, chunksize=(2, 4, 215, 51, 12), chunktype=numpy.ndarray>\n",
       "Coordinates:\n",
       "  * latitude   (latitude) int64 -16 -17 -18\n",
       "  * longitude  (longitude) int64 210 211 212 213 214 215\n",
       "  * member     (member) int64 0 1 2 3 4 5 6 7 8 9 ... 42 43 44 45 46 47 48 49 50\n",
       "  * step       (step) timedelta64[ns] 1 days 2 days 3 days ... 214 days 215 days\n",
       "  * time       (time) datetime64[ns] 2017-02-01 2017-03-01 ... 2021-12-01"
      ]
     },
     "execution_count": 24,
     "metadata": {},
     "output_type": "execute_result"
    }
   ],
   "source": [
    "data"
   ]
  },
  {
   "cell_type": "markdown",
   "id": "7ecbd9e5",
   "metadata": {},
   "source": [
    "## Getting monthly tp data\n",
    "We have monthly measures and for each month we have 215 days of forecast data. \n",
    "We need current month prediction, and the cumulative of 2 and 3 months.\n"
   ]
  },
  {
   "cell_type": "code",
   "execution_count": 25,
   "id": "5de84d9e",
   "metadata": {},
   "outputs": [],
   "source": [
    "def get_tp_cumsum(data, window=1):\n",
    "    cum_tp = data.mean(dim=[\"latitude\", \"longitude\"]).isel(step=30).mean(dim=\"member\").values\n",
    "    return pd.Series(cum_tp, index=data.time.values).rolling(min_periods=1, window=window).sum()\n"
   ]
  },
  {
   "cell_type": "code",
   "execution_count": 26,
   "id": "84cd79e7",
   "metadata": {},
   "outputs": [],
   "source": [
    "tp_monthly = get_tp_cumsum(data, window=1)\n",
    "tp_monthly_2_cumsum = get_tp_cumsum(data, window=2)\n",
    "tp_monthly_3_cumsum = get_tp_cumsum(data, window=3)"
   ]
  },
  {
   "cell_type": "code",
   "execution_count": 27,
   "id": "02c51c55",
   "metadata": {},
   "outputs": [
    {
     "data": {
      "text/plain": [
       "2017-02-01    0.248888\n",
       "2017-03-01    0.152981\n",
       "2017-04-01    0.144664\n",
       "2017-05-01    0.106611\n",
       "2017-06-01    0.070889\n",
       "dtype: float64"
      ]
     },
     "execution_count": 27,
     "metadata": {},
     "output_type": "execute_result"
    }
   ],
   "source": [
    "# 2017-02-01 means cumsum in february. So, that's the predicted\n",
    "# cumsum at the beginning of march. So I'm gonna shift the values\n",
    "tp_monthly.head()"
   ]
  },
  {
   "cell_type": "markdown",
   "id": "72ddbe96",
   "metadata": {},
   "source": [
    "tp_monthly = tp_monthly.shift(1).dropna()\n",
    "tp_monthly_2_cumsum = tp_monthly_2_cumsum.shift(1).dropna()\n",
    "tp_monthly_3_cumsum = tp_monthly_3_cumsum.shift(1).dropna()"
   ]
  },
  {
   "cell_type": "code",
   "execution_count": 28,
   "id": "1147043c",
   "metadata": {},
   "outputs": [
    {
     "data": {
      "text/plain": [
       "<AxesSubplot:>"
      ]
     },
     "execution_count": 28,
     "metadata": {},
     "output_type": "execute_result"
    },
    {
     "data": {
      "image/png": "[encoded data removed]",
      "text/plain": [
       "<Figure size 432x288 with 1 Axes>"
      ]
     },
     "metadata": {
      "needs_background": "light"
     },
     "output_type": "display_data"
    }
   ],
   "source": [
    "tp_monthly.plot()\n",
    "tp_monthly_2_cumsum.plot()\n",
    "tp_monthly_3_cumsum.plot()"
   ]
  },
  {
   "cell_type": "markdown",
   "id": "d26ffed3",
   "metadata": {},
   "source": [
    "# XGBoost model\n",
    "We have now 4 explanatory variables:\n",
    "- Last month NDVI\n",
    "- Last month TP\n",
    "- Last 2 months cum TP\n",
    "- Last 3 months cum TP\n",
    "\n",
    "and we want to predict next month NDVI\n"
   ]
  },
  {
   "cell_type": "code",
   "execution_count": 29,
   "id": "a4ee5d25",
   "metadata": {},
   "outputs": [
    {
     "data": {
      "text/plain": [
       "(datetime\n",
       " 2021-12-31    0.274586\n",
       " Freq: M, Name: ndvi_mean, dtype: float64,\n",
       " 2021-12-01    0.10908\n",
       " dtype: float64)"
      ]
     },
     "execution_count": 29,
     "metadata": {},
     "output_type": "execute_result"
    }
   ],
   "source": [
    "ndvi_monthly.tail(1), tp_monthly.tail(1)"
   ]
  },
  {
   "cell_type": "code",
   "execution_count": 30,
   "id": "10dfac35",
   "metadata": {},
   "outputs": [
    {
     "data": {
      "text/plain": [
       "((60,), (59,))"
      ]
     },
     "execution_count": 30,
     "metadata": {},
     "output_type": "execute_result"
    }
   ],
   "source": [
    "ndvi_monthly.shape, tp_monthly.shape"
   ]
  },
  {
   "cell_type": "code",
   "execution_count": 31,
   "id": "ffcd21aa",
   "metadata": {},
   "outputs": [],
   "source": [
    "# Shift ndvi. I'm using last mont ndvi mean, and tp_monthly forecast \n",
    "ndvi_monthly = ndvi_monthly[:-1]"
   ]
  },
  {
   "cell_type": "code",
   "execution_count": 32,
   "id": "80f22e0b",
   "metadata": {},
   "outputs": [],
   "source": [
    "# tp_monthly dates are like 2019-01-01, and ndvi_monthly are 2019-01-31. \n",
    "# that's why I take the index from 1: and not 0\n",
    "\n",
    "ndvi_monthly.index = tp_monthly.index\n"
   ]
  },
  {
   "cell_type": "code",
   "execution_count": 33,
   "id": "33aab7a1",
   "metadata": {},
   "outputs": [],
   "source": [
    "# Gotta remove first 2 values because I'm using last 3 months cumsum, and the first entries \n",
    "# don't have this cumsum\n",
    "tp_monthly = tp_monthly[2:]\n",
    "tp_monthly_2_cumsum = tp_monthly_2_cumsum[2:]\n",
    "tp_monthly_3_cumsum = tp_monthly_3_cumsum[2:]\n",
    "ndvi_monthly = ndvi_monthly[2:]\n"
   ]
  },
  {
   "cell_type": "markdown",
   "id": "0c0747ea",
   "metadata": {},
   "source": [
    "# Train 7 different models (one per forecasted month)"
   ]
  },
  {
   "cell_type": "code",
   "execution_count": 70,
   "id": "a7ad0148",
   "metadata": {},
   "outputs": [
    {
     "name": "stdout",
     "output_type": "stream",
     "text": [
      "(43, 5) (7, 5)\n",
      "Fitting 3 folds for each of 24 candidates, totalling 72 fits\n",
      "(43, 5) (7, 5)\n",
      "Fitting 3 folds for each of 24 candidates, totalling 72 fits\n",
      "(43, 5) (7, 5)\n",
      "Fitting 3 folds for each of 24 candidates, totalling 72 fits\n",
      "(43, 5) (7, 5)\n",
      "Fitting 3 folds for each of 24 candidates, totalling 72 fits\n",
      "(43, 5) (7, 5)\n",
      "Fitting 3 folds for each of 24 candidates, totalling 72 fits\n",
      "(43, 5) (7, 5)\n",
      "Fitting 3 folds for each of 24 candidates, totalling 72 fits\n",
      "(43, 5) (7, 5)\n",
      "Fitting 3 folds for each of 24 candidates, totalling 72 fits\n"
     ]
    }
   ],
   "source": [
    "from sklearn.model_selection import GridSearchCV\n",
    "from sklearn.model_selection import TimeSeriesSplit\n",
    "\n",
    "\n",
    "\n",
    "\n",
    "cols = [\"last_month_mean_ndvi\", \"tp_forecast_1_month_cumsum\", \"tp_last_2_month_cumsum\", \"tp_last_3_month_cumsum\"]\n",
    "\n",
    "# set target to one month in advance\n",
    "models = []\n",
    "for i in range(1,8):\n",
    "    # gotta shift because ndvi is the average of the month and tp is the firt day of the month\n",
    "    df = pd.concat([ndvi_monthly, tp_monthly, tp_monthly_2_cumsum, tp_monthly_3_cumsum], axis=1)\n",
    "    df.columns = cols\n",
    "    df[\"target\"] = df[\"last_month_mean_ndvi\"].shift(-i)\n",
    "\n",
    "    #df.dropna(inplace=True)\n",
    "\n",
    "    train = df[:-14]\n",
    "    test = df[-14:-7]\n",
    "\n",
    "    X_train =train[cols]\n",
    "    X_test = test[cols]\n",
    "\n",
    "    y_train = train.target\n",
    "    y_test = test.target\n",
    "\n",
    "    print(train.shape, test.shape)\n",
    "    xg_reg = xgb.XGBRegressor()\n",
    "    \n",
    "    params = {'objective':['reg:squarederror'],\n",
    "              'learning_rate': [.005, .008], #so called `eta` value\n",
    "              'max_depth': [1,2,3,4],\n",
    "              'n_estimators': [1000, 1500,2000]}\n",
    "              \n",
    "\n",
    "    xgb_grid = GridSearchCV(xg_reg,\n",
    "                            params,\n",
    "                            cv = TimeSeriesSplit(n_splits=3),\n",
    "                            n_jobs = -1,\n",
    "                            verbose=True)\n",
    "\n",
    "    xgb_grid.fit(X_train,\n",
    "             y_train)\n",
    "    \n",
    "    #xg_reg.fit(X_train.values,y_train)\n",
    "    models.append(xgb_grid.best_estimator_)\n"
   ]
  },
  {
   "cell_type": "code",
   "execution_count": 71,
   "id": "efbea004",
   "metadata": {},
   "outputs": [
    {
     "data": {
      "text/html": [
       "<div>\n",
       "<style scoped>\n",
       "    .dataframe tbody tr th:only-of-type {\n",
       "        vertical-align: middle;\n",
       "    }\n",
       "\n",
       "    .dataframe tbody tr th {\n",
       "        vertical-align: top;\n",
       "    }\n",
       "\n",
       "    .dataframe thead th {\n",
       "        text-align: right;\n",
       "    }\n",
       "</style>\n",
       "<table border=\"1\" class=\"dataframe\">\n",
       "  <thead>\n",
       "    <tr style=\"text-align: right;\">\n",
       "      <th></th>\n",
       "      <th>last_month_mean_ndvi</th>\n",
       "      <th>tp_forecast_1_month_cumsum</th>\n",
       "      <th>tp_last_2_month_cumsum</th>\n",
       "      <th>tp_last_3_month_cumsum</th>\n",
       "    </tr>\n",
       "  </thead>\n",
       "  <tbody>\n",
       "    <tr>\n",
       "      <th>2020-11-01</th>\n",
       "      <td>0.164349</td>\n",
       "      <td>0.107995</td>\n",
       "      <td>0.187269</td>\n",
       "      <td>0.240725</td>\n",
       "    </tr>\n",
       "    <tr>\n",
       "      <th>2020-12-01</th>\n",
       "      <td>0.173868</td>\n",
       "      <td>0.108342</td>\n",
       "      <td>0.216337</td>\n",
       "      <td>0.295611</td>\n",
       "    </tr>\n",
       "    <tr>\n",
       "      <th>2021-01-01</th>\n",
       "      <td>0.218360</td>\n",
       "      <td>0.117621</td>\n",
       "      <td>0.225963</td>\n",
       "      <td>0.333957</td>\n",
       "    </tr>\n",
       "    <tr>\n",
       "      <th>2021-02-01</th>\n",
       "      <td>0.294321</td>\n",
       "      <td>0.138243</td>\n",
       "      <td>0.255864</td>\n",
       "      <td>0.364206</td>\n",
       "    </tr>\n",
       "    <tr>\n",
       "      <th>2021-03-01</th>\n",
       "      <td>0.310769</td>\n",
       "      <td>0.146778</td>\n",
       "      <td>0.285021</td>\n",
       "      <td>0.402642</td>\n",
       "    </tr>\n",
       "    <tr>\n",
       "      <th>2021-04-01</th>\n",
       "      <td>0.409111</td>\n",
       "      <td>0.124220</td>\n",
       "      <td>0.270998</td>\n",
       "      <td>0.409241</td>\n",
       "    </tr>\n",
       "    <tr>\n",
       "      <th>2021-05-01</th>\n",
       "      <td>0.381401</td>\n",
       "      <td>0.085730</td>\n",
       "      <td>0.209950</td>\n",
       "      <td>0.356729</td>\n",
       "    </tr>\n",
       "  </tbody>\n",
       "</table>\n",
       "</div>"
      ],
      "text/plain": [
       "            last_month_mean_ndvi  tp_forecast_1_month_cumsum  \\\n",
       "2020-11-01              0.164349                    0.107995   \n",
       "2020-12-01              0.173868                    0.108342   \n",
       "2021-01-01              0.218360                    0.117621   \n",
       "2021-02-01              0.294321                    0.138243   \n",
       "2021-03-01              0.310769                    0.146778   \n",
       "2021-04-01              0.409111                    0.124220   \n",
       "2021-05-01              0.381401                    0.085730   \n",
       "\n",
       "            tp_last_2_month_cumsum  tp_last_3_month_cumsum  \n",
       "2020-11-01                0.187269                0.240725  \n",
       "2020-12-01                0.216337                0.295611  \n",
       "2021-01-01                0.225963                0.333957  \n",
       "2021-02-01                0.255864                0.364206  \n",
       "2021-03-01                0.285021                0.402642  \n",
       "2021-04-01                0.270998                0.409241  \n",
       "2021-05-01                0.209950                0.356729  "
      ]
     },
     "execution_count": 71,
     "metadata": {},
     "output_type": "execute_result"
    }
   ],
   "source": [
    "X_test"
   ]
  },
  {
   "cell_type": "code",
   "execution_count": 86,
   "id": "f4586b36",
   "metadata": {},
   "outputs": [],
   "source": [
    "# Predict using 7 models, always use as entry X_test[0]\n",
    "preds = []\n",
    "for i in range(7):\n",
    "    preds.append(models[i].predict(X_test.values[0].reshape(1,-1))[0])"
   ]
  },
  {
   "cell_type": "code",
   "execution_count": 90,
   "id": "e2a1355b",
   "metadata": {},
   "outputs": [
    {
     "data": {
      "text/plain": [
       "<AxesSubplot:>"
      ]
     },
     "execution_count": 90,
     "metadata": {},
     "output_type": "execute_result"
    },
    {
     "data": {
      "image/png": "[encoded data removed]",
      "text/plain": [
       "<Figure size 864x504 with 1 Axes>"
      ]
     },
     "metadata": {
      "needs_background": "light"
     },
     "output_type": "display_data"
    }
   ],
   "source": [
    "plt.figure(figsize=(12,7))\n",
    "X_train.last_month_mean_ndvi.plot()\n",
    "X_test.last_month_mean_ndvi.plot(label=\"y_true NDVI\", legend=True)\n",
    "pd.Series(preds, index=X_test.index[:7]).plot(label=\"Predicted NDVI 7 Months\", legend=True)"
   ]
  }
 ],
 "metadata": {
  "kernelspec": {
   "display_name": "Python 3 (ipykernel)",
   "language": "python",
   "name": "python3"
  },
  "language_info": {
   "codemirror_mode": {
    "name": "ipython",
    "version": 3
   },
   "file_extension": ".py",
   "mimetype": "text/x-python",
   "name": "python",
   "nbconvert_exporter": "python",
   "pygments_lexer": "ipython3",
   "version": "3.9.13"
  }
 },
 "nbformat": 4,
 "nbformat_minor": 5
}
