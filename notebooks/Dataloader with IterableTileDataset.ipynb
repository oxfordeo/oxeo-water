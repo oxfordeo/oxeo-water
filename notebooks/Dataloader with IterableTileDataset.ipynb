{
 "cells": [
  {
   "cell_type": "code",
   "execution_count": null,
   "id": "a5cf6908",
   "metadata": {},
   "outputs": [],
   "source": [
    "%load_ext autoreload\n",
    "%autoreload 2\n",
    "from oxeo.water.datamodules.datasets import IterableTileDataset\n",
    "import oxeo.water.datamodules.transforms as oxeotransforms \n",
    "from torch.utils.data import Dataset\n",
    "from torch.utils.data import DataLoader\n",
    "import torch\n",
    "import matplotlib.pyplot as plt\n",
    "from skimage import img_as_float\n",
    "from skimage.exposure import equalize_adapthist, rescale_intensity\n",
    "import numpy as np\n",
    "from oxeo.water.models.utils import load_tile, TilePath, tile_from_id"
   ]
  },
  {
   "cell_type": "code",
   "execution_count": null,
   "id": "db2eebd7",
   "metadata": {},
   "outputs": [],
   "source": [
    "def plot_imgs_in_row(imgs, labels=[\"img\", \"water\", \"clouds\"], figsize=(8,5)):\n",
    "    rows = 1\n",
    "    cols = len(imgs)\n",
    "    fig, ax = plt.subplots(rows, cols, figsize=figsize)\n",
    "    # axes are in a two-dimensional array, indexed by [row, col]\n",
    "   # fig.tight_layout(pad=0.4, w_pad=0.5, h_pad=1.0)\n",
    "\n",
    "    for i in range(cols):\n",
    "        ax[i].set_title(labels[i])\n",
    "        img = imgs[i]\n",
    "        ax[i].imshow(img, vmin=0.0, vmax=1.0, interpolation=None)  \n",
    "        ax[i].axis('off')\n",
    "    fig"
   ]
  },
  {
   "cell_type": "code",
   "execution_count": null,
   "id": "0d49f454",
   "metadata": {},
   "outputs": [],
   "source": [
    "tiles = []\n",
    "for t in [\"43_P_10000_65_137\",\"43_P_10000_65_138\"]:\n",
    "    for c in [\"landsat-5\", \"landsat-7\", \"landsat-8\", \"sentinel-2\"]:\n",
    "\n",
    "        tiles.append(TilePath(tile_from_id(t), c))\n",
    "ds = IterableTileDataset(tiles,\n",
    "                         transform=oxeotransforms.FilterZeros([\"pekel\"],0.99),\n",
    "                         masks=(\"pekel\",\"cloud_mask\"),\n",
    "                         target_size=1000, chip_size=256, \n",
    "                         bands=[\"nir\", \"red\", \"green\", \"blue\", \"swir1\", \"swir2\"], \n",
    "                         revisits_per_epoch=500,\n",
    "                         samples_per_revisit=10020)\n",
    "\n",
    "\n",
    "    "
   ]
  },
  {
   "cell_type": "code",
   "execution_count": null,
   "id": "f591b6cc",
   "metadata": {},
   "outputs": [],
   "source": [
    "def worker_init_fn(worker_id):\n",
    "    \"\"\"Configures each dataset worker process.\n",
    "\n",
    "    Just has one job!  To call SatelliteDataset.per_worker_init().\n",
    "    \"\"\"\n",
    "    # get_worker_info() returns information specific to each worker process.\n",
    "    worker_info = torch.utils.data.get_worker_info()\n",
    "    if worker_info is None:\n",
    "        print(\"worker_info is None!\")\n",
    "    else:\n",
    "        dataset_obj = worker_info.dataset  # The Dataset copy in this worker process.\n",
    "        dataset_obj.per_worker_init()\n",
    "\n",
    "        \n",
    "\n",
    "def notnone_collate_fn(batch):\n",
    "    len_batch = len(batch)  # original batch length\n",
    "    batch = list(filter(lambda x: x is not None, batch))  # filter out all the Nones\n",
    "    if len_batch > len(\n",
    "        batch\n",
    "    ):  # if there are samples missing just use existing members, doesn't work if you reject every sample in a batch\n",
    "        diff = len_batch - len(batch)\n",
    "        for _ in range(diff):\n",
    "            batch = batch + batch[:diff]\n",
    "    return torch.utils.data.dataloader.default_collate(batch)\n",
    "\n",
    "dataloader = DataLoader(ds, batch_size=32,  \n",
    "                        num_workers=4, \n",
    "                        worker_init_fn=worker_init_fn, collate_fn=notnone_collate_fn)"
   ]
  },
  {
   "cell_type": "code",
   "execution_count": null,
   "id": "8018a8a9",
   "metadata": {},
   "outputs": [],
   "source": [
    "def plot_bands(arr, band_names=[\"nir\", \"red\", \"green\", \"blue\", \"swir1\", \"swir2\"]):\n",
    "    cols = arr.shape[0]\n",
    "    \n",
    "    rows = 1\n",
    "    fig, ax = plt.subplots(rows, cols, figsize=(15,8))\n",
    "    # axes are in a two-dimensional array, indexed by [row, col]\n",
    "   # fig.tight_layout(pad=0.4, w_pad=0.5, h_pad=1.0)\n",
    "    for i in range(cols):\n",
    "        ax[i].set_title('Band ' + band_names[i])\n",
    "        img = arr[i]\n",
    "        vmin, vmax = np.percentile(img, q=(0, 99))\n",
    "        img = rescale_intensity(img,in_range=(vmin,vmax))\n",
    "\n",
    "        ax[i].imshow(img)  \n",
    "        ax[i].axis('off')\n",
    "    fig"
   ]
  },
  {
   "cell_type": "code",
   "execution_count": null,
   "id": "18a94b46",
   "metadata": {},
   "outputs": [],
   "source": [
    "for sample in dataloader:\n",
    "    img = sample[\"image\"].numpy()\n",
    "    img = img[0]\n",
    "    plot_bands(img)\n",
    "    plt.show()"
   ]
  },
  {
   "cell_type": "code",
   "execution_count": null,
   "id": "dd0c5794",
   "metadata": {},
   "outputs": [],
   "source": [
    "\n",
    "for sample in dataloader:\n",
    "    img = sample[\"image\"][0][[1,2,3]].numpy().transpose(1,2,0)\n",
    "    pekel = sample[\"pekel\"].numpy()[0].squeeze()\n",
    "    \n",
    "    mask = sample[\"cloud_mask\"].numpy()[0].squeeze()\n",
    "    #mask[0,0] = 1.0\n",
    "    #pekel[0,0]=1.0\n",
    "    print(\"pekel min\", pekel.min(), \"coud_min\", mask.min())\n",
    "    vmin, vmax = np.percentile(img, q=(2, 98))\n",
    "    img = rescale_intensity(img,in_range=(vmin,vmax), out_range=(0,1))\n",
    "    plot_imgs_in_row([img, pekel, mask], labels=[f\"{sample['constellation'][0]}_img\", \n",
    "                                                 f\"{sample['constellation'][0]}_water\", \n",
    "                                                 f\"{sample['constellation'][0]}_cloud\"])\n",
    "    plt.show()"
   ]
  }
 ],
 "metadata": {
  "kernelspec": {
   "display_name": "Python 3 (ipykernel)",
   "language": "python",
   "name": "python3"
  },
  "language_info": {
   "codemirror_mode": {
    "name": "ipython",
    "version": 3
   },
   "file_extension": ".py",
   "mimetype": "text/x-python",
   "name": "python",
   "nbconvert_exporter": "python",
   "pygments_lexer": "ipython3",
   "version": "3.9.7"
  }
 },
 "nbformat": 4,
 "nbformat_minor": 5
}
