{
 "cells": [
  {
   "cell_type": "code",
   "execution_count": null,
   "id": "a5cf6908",
   "metadata": {},
   "outputs": [],
   "source": [
    "%load_ext autoreload\n",
    "%autoreload 2\n",
    "from oxeo.water.datamodules.samplers import RandomSampler, GridSampler\n",
    "from oxeo.water.datamodules.datasets import TileDataset, UnionDataset\n",
    "from torch.utils.data import Dataset\n",
    "from torch.utils.data import DataLoader\n",
    "import torch\n",
    "import matplotlib.pyplot as plt\n",
    "from skimage import img_as_float\n",
    "from skimage.exposure import equalize_adapthist, rescale_intensity\n",
    "import numpy as np\n",
    "from oxeo.water.models.utils import load_tile, TilePath, tile_from_id"
   ]
  },
  {
   "cell_type": "code",
   "execution_count": null,
   "id": "396bcddf",
   "metadata": {},
   "outputs": [],
   "source": [
    "from torchvision.transforms.functional import resized_crop\n",
    "\n",
    "class SelectBands:\n",
    "    \"\"\"Computes sample virtual arrays to numpy array\"\"\"\n",
    "\n",
    "    def __init__(self, bands):\n",
    "        self.bands = bands\n",
    "\n",
    "    def __call__(self, sample):\n",
    "        sample[\"image\"] = sample[\"image\"][self.bands]\n",
    "        return sample\n",
    "    "
   ]
  },
  {
   "cell_type": "code",
   "execution_count": null,
   "id": "8a16ca13",
   "metadata": {},
   "outputs": [],
   "source": [
    "from torchvision.transforms import Resize, Compose"
   ]
  },
  {
   "cell_type": "code",
   "execution_count": null,
   "id": "79b1a81b",
   "metadata": {},
   "outputs": [],
   "source": [
    "TilePath(tile_from_id(\"43_P_10000_65_137\"), \"landsat-5\").tile.id"
   ]
  },
  {
   "cell_type": "code",
   "execution_count": null,
   "id": "0d49f454",
   "metadata": {},
   "outputs": [],
   "source": [
    "datasets = []\n",
    "tiles = []\n",
    "for t in [\"43_P_10000_65_137\",\"43_P_10000_65_138\"\n",
    "          ]:\n",
    "    \n",
    "    tiles.append(TilePath(tile_from_id(t), \"landsat-5\"))\n",
    "ds = TileDataset(tiles, transform=SelectBands(bands=[3,2,1]), masks=(\"pekel\",), target_size=1000)\n",
    "\n",
    "\n",
    "    "
   ]
  },
  {
   "cell_type": "code",
   "execution_count": null,
   "id": "2185ea53",
   "metadata": {},
   "outputs": [],
   "source": [
    "for c in [\"landsat-7\", \"landsat-8\"]:\n",
    "    tiles = []\n",
    "    for t in [ \"43_P_10000_65_138\", \"43_P_10000_66_137\",\"43_P_10000_66_138\",\"43_P_10000_67_137\"]:\n",
    "        tiles.append(TilePath(tile_from_id(t), c))\n",
    "\n",
    "    ds2 = TileDataset(tiles, transform=SelectBands(bands=[3,2,1]), masks=(\"pekel\",), target_size=1000)\n",
    "\n",
    "    ds = UnionDataset(ds, ds2)\n",
    "          "
   ]
  },
  {
   "cell_type": "code",
   "execution_count": null,
   "id": "5edab12d",
   "metadata": {},
   "outputs": [],
   "source": [
    "len(ds)"
   ]
  },
  {
   "cell_type": "code",
   "execution_count": null,
   "id": "748d6372",
   "metadata": {},
   "outputs": [],
   "source": [
    "\n",
    "sampler = RandomSampler(ds, 1000, 1000, 200)\n",
    "sampler = GridSampler(ds, 1000, 1000)#\n"
   ]
  },
  {
   "cell_type": "code",
   "execution_count": null,
   "id": "f591b6cc",
   "metadata": {},
   "outputs": [],
   "source": [
    "def worker_init_fn(worker_id):\n",
    "    \"\"\"Configures each dataset worker process.\n",
    "\n",
    "    Just has one job!  To call SatelliteDataset.per_worker_init().\n",
    "    \"\"\"\n",
    "    # get_worker_info() returns information specific to each worker process.\n",
    "    worker_info = torch.utils.data.get_worker_info()\n",
    "    if worker_info is None:\n",
    "        print(\"worker_info is None!\")\n",
    "    else:\n",
    "        dataset_obj = worker_info.dataset  # The Dataset copy in this worker process.\n",
    "        dataset_obj.per_worker_init()\n",
    "\n",
    "\n",
    "dataloader = DataLoader(ds, batch_size=1, \n",
    "                        sampler=sampler, \n",
    "                        num_workers=3, \n",
    "                        worker_init_fn=worker_init_fn)\n",
    "\n",
    "len(dataloader)"
   ]
  },
  {
   "cell_type": "code",
   "execution_count": null,
   "id": "dd0c5794",
   "metadata": {},
   "outputs": [],
   "source": [
    "for sample in dataloader:\n",
    "    img = img_as_float(sample[\"image\"][0].numpy().transpose(1,2,0))\n",
    "    mask = sample[\"pekel\"].numpy()[0].squeeze()\n",
    "    vmin, vmax = np.percentile(img, q=(0, 98))\n",
    "    img = rescale_intensity(img,in_range=(vmin,vmax))\n",
    "    plt.imshow(img)\n",
    "    plt.show()\n",
    "    plt.imshow(mask)\n",
    "    plt.show()"
   ]
  },
  {
   "cell_type": "code",
   "execution_count": null,
   "id": "4cd0b951",
   "metadata": {},
   "outputs": [],
   "source": []
  }
 ],
 "metadata": {
  "kernelspec": {
   "display_name": "Python 3 (ipykernel)",
   "language": "python",
   "name": "python3"
  },
  "language_info": {
   "codemirror_mode": {
    "name": "ipython",
    "version": 3
   },
   "file_extension": ".py",
   "mimetype": "text/x-python",
   "name": "python",
   "nbconvert_exporter": "python",
   "pygments_lexer": "ipython3",
   "version": "3.9.7"
  }
 },
 "nbformat": 4,
 "nbformat_minor": 5
}
