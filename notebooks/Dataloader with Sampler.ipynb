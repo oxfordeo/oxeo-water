{
 "cells": [
  {
   "cell_type": "code",
   "execution_count": null,
   "id": "a5cf6908",
   "metadata": {},
   "outputs": [],
   "source": [
    "%load_ext autoreload\n",
    "%autoreload 2\n",
    "from oxeo.water.datamodules.samplers import RandomSampler, GridSampler\n",
    "from oxeo.water.datamodules.datasets import TileDataset\n",
    "from torch.utils.data import Dataset\n",
    "from torch.utils.data import DataLoader\n",
    "import torch\n",
    "import matplotlib.pyplot as plt\n",
    "from skimage import img_as_float\n",
    "from skimage.exposure import equalize_adapthist, rescale_intensity\n",
    "import numpy as np\n",
    "from oxeo.water.models.utils import load_tile, TilePath, tile_from_id"
   ]
  },
  {
   "cell_type": "code",
   "execution_count": null,
   "id": "3a3c5ec6",
   "metadata": {},
   "outputs": [],
   "source": [
    "tile_from_id(\"54_K_10000_34_771\")"
   ]
  },
  {
   "cell_type": "code",
   "execution_count": null,
   "id": "455b5752",
   "metadata": {},
   "outputs": [],
   "source": [
    "tile_path_1 = TilePath(tile_from_id(\"54_K_10000_34_771\"), \"landsat-8\")\n",
    "tile_path_2 = TilePath(tile_from_id(\"54_K_10000_34_772\"), \"landsat-8\") "
   ]
  },
  {
   "cell_type": "code",
   "execution_count": null,
   "id": "7b059064",
   "metadata": {},
   "outputs": [],
   "source": [
    "ds = TileDataset([tile_path_1,tile_path_2])\n",
    "sampler = RandomSampler(ds, 666, 32, 100)#GridSampler(ds, 1000, 100)#"
   ]
  },
  {
   "cell_type": "code",
   "execution_count": null,
   "id": "748d6372",
   "metadata": {},
   "outputs": [],
   "source": [
    "\n",
    "\n"
   ]
  },
  {
   "cell_type": "code",
   "execution_count": null,
   "id": "f591b6cc",
   "metadata": {},
   "outputs": [],
   "source": [
    "def worker_init_fn(worker_id):\n",
    "    \"\"\"Configures each dataset worker process.\n",
    "\n",
    "    Just has one job!  To call SatelliteDataset.per_worker_init().\n",
    "    \"\"\"\n",
    "    # get_worker_info() returns information specific to each worker process.\n",
    "    worker_info = torch.utils.data.get_worker_info()\n",
    "    if worker_info is None:\n",
    "        print(\"worker_info is None!\")\n",
    "    else:\n",
    "        dataset_obj = worker_info.dataset  # The Dataset copy in this worker process.\n",
    "        dataset_obj.per_worker_init()\n",
    "\n",
    "\n",
    "dataloader = DataLoader(ds, batch_size=8, \n",
    "                        sampler=sampler, \n",
    "                        num_workers=3, \n",
    "                        worker_init_fn=worker_init_fn)"
   ]
  },
  {
   "cell_type": "code",
   "execution_count": null,
   "id": "8777e2e6",
   "metadata": {},
   "outputs": [],
   "source": [
    "len(dataloader)"
   ]
  },
  {
   "cell_type": "code",
   "execution_count": null,
   "id": "373464f1",
   "metadata": {
    "scrolled": true
   },
   "outputs": [],
   "source": [
    "for sample in dataloader:\n",
    "    print(sample['image'].shape)"
   ]
  },
  {
   "cell_type": "code",
   "execution_count": null,
   "id": "dd0c5794",
   "metadata": {},
   "outputs": [],
   "source": [
    "for sample in dataloader:\n",
    "    img = img_as_float(sample[\"image\"][0,[3,2,1]].numpy().transpose(1,2,0))\n",
    "    vmin, vmax = np.percentile(img, q=(0, 98))\n",
    "    img = rescale_intensity(img,in_range=(vmin,vmax))\n",
    "    plt.imshow(img)\n",
    "    plt.show()"
   ]
  },
  {
   "cell_type": "code",
   "execution_count": null,
   "id": "fe0586fa",
   "metadata": {},
   "outputs": [],
   "source": []
  }
 ],
 "metadata": {
  "kernelspec": {
   "display_name": "Python 3 (ipykernel)",
   "language": "python",
   "name": "python3"
  },
  "language_info": {
   "codemirror_mode": {
    "name": "ipython",
    "version": 3
   },
   "file_extension": ".py",
   "mimetype": "text/x-python",
   "name": "python",
   "nbconvert_exporter": "python",
   "pygments_lexer": "ipython3",
   "version": "3.9.7"
  }
 },
 "nbformat": 4,
 "nbformat_minor": 5
}
