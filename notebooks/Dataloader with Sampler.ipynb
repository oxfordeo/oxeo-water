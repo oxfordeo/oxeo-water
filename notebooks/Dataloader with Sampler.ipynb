{
 "cells": [
  {
   "cell_type": "code",
   "execution_count": null,
   "id": "a5cf6908",
   "metadata": {},
   "outputs": [],
   "source": [
    "%load_ext autoreload\n",
    "%autoreload 2\n",
    "from oxeo.water.datamodules.samplers import RandomSampler\n",
    "from oxeo.water.datamodules.datasets import TileDataset\n",
    "from torch.utils.data import DataLoader\n",
    "import torch\n",
    "import matplotlib.pyplot as plt\n",
    "from skimage.exposure import rescale_intensity\n",
    "import numpy as np\n",
    "from oxeo.core.models.tile import TilePath, tile_from_id"
   ]
  },
  {
   "cell_type": "code",
   "execution_count": null,
   "id": "79b1a81b",
   "metadata": {},
   "outputs": [],
   "source": [
    "TilePath(tile_from_id(\"43_P_10000_65_137\"), \"landsat-5\").tile.id"
   ]
  },
  {
   "cell_type": "code",
   "execution_count": null,
   "id": "0d49f454",
   "metadata": {},
   "outputs": [],
   "source": [
    "tiles = []\n",
    "for t in [\"43_P_10000_65_137\",\"43_P_10000_65_138\"]:\n",
    "    for c in [\"landsat-5\", \"landsat-7\", \"landsat-8\", \"sentinel-2\"]:\n",
    "\n",
    "        tiles.append(TilePath(tile_from_id(t), c))\n",
    "ds_train = TileDataset(tiles,\n",
    "                         masks=(\"pekel\",\"cloud_mask\"),\n",
    "                         target_size=1000, \n",
    "                         bands=[\"nir\", \"red\", \"green\", \"blue\", \"swir1\", \"swir2\"], \n",
    "                         cache_dir=\"cache\",\n",
    "                         cache_bytes=1e8)"
   ]
  },
  {
   "cell_type": "code",
   "execution_count": null,
   "id": "748d6372",
   "metadata": {},
   "outputs": [],
   "source": [
    "\n",
    "sampler = RandomSampler(ds_train, 250, 1000, revisits_per_epoch=500, samples_per_revisit=200)\n",
    "#sampler = GridSampler(ds, 1000, 1000)#\n"
   ]
  },
  {
   "cell_type": "code",
   "execution_count": null,
   "id": "f591b6cc",
   "metadata": {},
   "outputs": [],
   "source": [
    "def worker_init_fn(worker_id):\n",
    "    \"\"\"Configures each dataset worker process.\n",
    "\n",
    "    Just has one job!  To call SatelliteDataset.per_worker_init().\n",
    "    \"\"\"\n",
    "    # get_worker_info() returns information specific to each worker process.\n",
    "    worker_info = torch.utils.data.get_worker_info()\n",
    "    if worker_info is None:\n",
    "        print(\"worker_info is None!\")\n",
    "    else:\n",
    "        dataset_obj = worker_info.dataset  # The Dataset copy in this worker process.\n",
    "        dataset_obj.per_worker_init()\n",
    "\n",
    "\n",
    "dataloader = DataLoader(ds_train, batch_size=1, \n",
    "                        sampler=sampler, \n",
    "                        num_workers=3, \n",
    "                        worker_init_fn=worker_init_fn)\n",
    "\n",
    "len(dataloader)"
   ]
  },
  {
   "cell_type": "code",
   "execution_count": null,
   "id": "03792fb0",
   "metadata": {},
   "outputs": [],
   "source": [
    "def plot_imgs_in_row(imgs, labels=[\"img\", \"water\", \"clouds\"], figsize=(8,5)):\n",
    "    rows = 1\n",
    "    cols = len(imgs)\n",
    "    fig, ax = plt.subplots(rows, cols, figsize=figsize)\n",
    "    # axes are in a two-dimensional array, indexed by [row, col]\n",
    "   # fig.tight_layout(pad=0.4, w_pad=0.5, h_pad=1.0)\n",
    "\n",
    "    for i in range(cols):\n",
    "        ax[i].set_title(labels[i])\n",
    "        img = imgs[i]\n",
    "        ax[i].imshow(img, vmin=0.0, vmax=1.0, interpolation=None)  \n",
    "        ax[i].axis('off')\n",
    "    fig"
   ]
  },
  {
   "cell_type": "code",
   "execution_count": null,
   "id": "dd0c5794",
   "metadata": {},
   "outputs": [],
   "source": [
    "\n",
    "for sample in dataloader:\n",
    "    img = sample[\"image\"][0][[1,2,3]].numpy().transpose(1,2,0)\n",
    "    pekel = sample[\"pekel\"].numpy()[0].squeeze()\n",
    "    \n",
    "    mask = sample[\"cloud_mask\"].numpy()[0].squeeze()\n",
    "    #mask[0,0] = 1.0\n",
    "    #pekel[0,0]=1.0\n",
    "    print(\"pekel min\", pekel.min(), \"coud_min\", mask.min())\n",
    "    vmin, vmax = np.percentile(img, q=(2, 98))\n",
    "    img = rescale_intensity(img,in_range=(vmin,vmax), out_range=(0,1))\n",
    "    plot_imgs_in_row([img, pekel, mask], labels=[f\"{sample['constellation'][0]}_img\", \n",
    "                                                 f\"{sample['constellation'][0]}_water\", \n",
    "                                                 f\"{sample['constellation'][0]}_cloud\"])\n",
    "    plt.show()"
   ]
  },
  {
   "cell_type": "code",
   "execution_count": null,
   "id": "4cd0b951",
   "metadata": {},
   "outputs": [],
   "source": []
  }
 ],
 "metadata": {
  "kernelspec": {
   "display_name": "Python 3 (ipykernel)",
   "language": "python",
   "name": "python3"
  },
  "language_info": {
   "codemirror_mode": {
    "name": "ipython",
    "version": 3
   },
   "file_extension": ".py",
   "mimetype": "text/x-python",
   "name": "python",
   "nbconvert_exporter": "python",
   "pygments_lexer": "ipython3",
   "version": "3.9.7"
  }
 },
 "nbformat": 4,
 "nbformat_minor": 5
}
